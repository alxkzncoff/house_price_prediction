{
 "cells": [
  {
   "cell_type": "code",
   "execution_count": 1,
   "id": "arbitrary-invasion",
   "metadata": {
    "ExecuteTime": {
     "end_time": "2021-04-23T13:48:45.919494Z",
     "start_time": "2021-04-23T13:48:45.080607Z"
    }
   },
   "outputs": [],
   "source": [
    "import pandas as pd\n",
    "import numpy as np"
   ]
  },
  {
   "cell_type": "code",
   "execution_count": 2,
   "id": "mounted-lodge",
   "metadata": {
    "ExecuteTime": {
     "end_time": "2021-04-23T13:49:08.564760Z",
     "start_time": "2021-04-23T13:49:04.128670Z"
    }
   },
   "outputs": [],
   "source": [
    "# train\n",
    "train = pd.read_csv('../data/train_clean.csv',\n",
    "                    dtype={'floors': str,\n",
    "                           'total_floors': str})\n",
    "# test\n",
    "test = pd.read_csv('../data/test_clean.csv',\n",
    "                    dtype={'floors': str,\n",
    "                           'total_floors': str})"
   ]
  },
  {
   "cell_type": "code",
   "execution_count": 15,
   "id": "systematic-gravity",
   "metadata": {
    "ExecuteTime": {
     "end_time": "2021-04-23T14:28:42.088729Z",
     "start_time": "2021-04-23T14:28:42.066790Z"
    }
   },
   "outputs": [],
   "source": [
    "# Кол-во станций, Кол-во детских садов, Кол-во школ, Кол-во поликлиник,\n",
    "# Кол-во больниц, Кол-во стоматологий, Кол-во женских консультаций\n",
    "\n",
    "new_features = {\n",
    "        'Адмиралтейский':     ['9', '73', '46', '12', '6', '5', '4'],\n",
    "        'Ваcилеостровский':   ['3', '64', '42', '9', '6', '4', '1'],\n",
    "        'Выборгский':         ['6', '136', '73', '27', '7', '4', '5'],\n",
    "        'Калининский':        ['5', '113', '61', '24', '3', '3', '4'],\n",
    "        'Кировский':          ['5', '97', '58', '16', '1', '6', '3'],\n",
    "        'Колпинский':         ['0', '56', '30', '16', '2', '2', '2'],\n",
    "        'Красногвардейский':  ['2', '88', '54', '16', '2', '2', '4'],\n",
    "        'Красносельский':     ['0', '61', '45', '19', '2', '4', '4'],\n",
    "        'Московский':         ['6', '13', '47', '15', '2', '5', '3'],\n",
    "        'Невский':            ['7', '132', '58', '23', '1', '3', '6'],\n",
    "        'Петроградский':      ['6', '65', '31', '9', '2', '4', '3'],\n",
    "        'Петродворцовый':     ['0', '26', '18', '8', '6', '1', '2'],\n",
    "        'Приморский':         ['5', '130', '68', '24', '1', '2', '8'],\n",
    "        'Пушкинский':         ['1', '48', '27', '16', '2', '3', '2'],\n",
    "        'Фрунзенский':        ['7', '92', '51', '19', '1', '2', '2'],\n",
    "        'Центральный':        ['11', '105', '52', '11', '7', '4', '3'],\n",
    "        'Всеволожский':       ['0', '61', '44', '25', '5', '1', '0']\n",
    "    }"
   ]
  },
  {
   "cell_type": "code",
   "execution_count": 12,
   "id": "automotive-underwear",
   "metadata": {
    "ExecuteTime": {
     "end_time": "2021-04-23T13:59:21.575750Z",
     "start_time": "2021-04-23T13:59:21.550653Z"
    }
   },
   "outputs": [
    {
     "data": {
      "text/plain": [
       "array(['Невский', 'Адмиралтейский', 'Приморский', 'Петроградский',\n",
       "       'Калининский', 'Пушкинский', 'Московский', 'Выборгский',\n",
       "       'Центральный', 'Красногвардейский', 'Красносельский',\n",
       "       'Ваcилеостровский', 'Кировский', 'Санкт-Петербург', 'Фрунзенский',\n",
       "       'Колпинский', 'Всеволожский', 'Петродворцовый'], dtype=object)"
      ]
     },
     "execution_count": 12,
     "metadata": {},
     "output_type": "execute_result"
    }
   ],
   "source": [
    "train['district'].unique()"
   ]
  },
  {
   "cell_type": "code",
   "execution_count": 14,
   "id": "fitted-evans",
   "metadata": {
    "ExecuteTime": {
     "end_time": "2021-04-23T13:59:26.519181Z",
     "start_time": "2021-04-23T13:59:26.496141Z"
    }
   },
   "outputs": [
    {
     "data": {
      "text/plain": [
       "array(['Приморский', 'Московский', 'Калининский', 'Выборгский',\n",
       "       'Петроградский', 'Ваcилеостровский', 'Невский', 'Красносельский',\n",
       "       'Санкт-Петербург', 'Адмиралтейский', 'Красногвардейский',\n",
       "       'Центральный', 'Кировский', 'Пушкинский', 'Петродворцовый',\n",
       "       'Фрунзенский', 'Всеволожский', 'Колпинский'], dtype=object)"
      ]
     },
     "execution_count": 14,
     "metadata": {},
     "output_type": "execute_result"
    }
   ],
   "source": [
    "test['district'].unique()"
   ]
  },
  {
   "cell_type": "code",
   "execution_count": 19,
   "id": "extensive-physics",
   "metadata": {
    "ExecuteTime": {
     "end_time": "2021-04-23T14:44:10.483528Z",
     "start_time": "2021-04-23T14:44:10.468571Z"
    }
   },
   "outputs": [],
   "source": [
    "new_features_data = [['9', '73', '46', '12', '6', '5', '4'],\n",
    "                     ['3', '64', '42', '9', '6', '4', '1'],\n",
    "                     ['6', '136', '73', '27', '7', '4', '5'],\n",
    "                     ['5', '113', '61', '24', '3', '3', '4'],\n",
    "                     ['5', '97', '58', '16', '1', '6', '3'],\n",
    "                     ['0', '56', '30', '16', '2', '2', '2'],\n",
    "                     ['2', '88', '54', '16', '2', '2', '4'],\n",
    "                     ['0', '61', '45', '19', '2', '4', '4'],\n",
    "                     ['6', '13', '47', '15', '2', '5', '3'],\n",
    "                     ['7', '132', '58', '23', '1', '3', '6'],\n",
    "                     ['6', '65', '31', '9', '2', '4', '3'],\n",
    "                     ['0', '26', '18', '8', '6', '1', '2'],\n",
    "                     ['5', '130', '68', '24', '1', '2', '8'],\n",
    "                     ['1', '48', '27', '16', '2', '3', '2'],\n",
    "                     ['7', '92', '51', '19', '1', '2', '2'],\n",
    "                     ['11', '105', '52', '11', '7', '4', '3'],\n",
    "                     ['0', '61', '44', '25', '5', '1', '0']]"
   ]
  },
  {
   "cell_type": "code",
   "execution_count": 20,
   "id": "finite-robinson",
   "metadata": {
    "ExecuteTime": {
     "end_time": "2021-04-23T14:44:11.032847Z",
     "start_time": "2021-04-23T14:44:11.011903Z"
    }
   },
   "outputs": [],
   "source": [
    "df_new_features = pd.DataFrame(new_features_data,\n",
    "                               index=['Адмиралтейский', 'Ваcилеостровский', 'Выборгский', 'Калининский', 'Кировский',\n",
    "                                      'Колпинский', 'Красногвардейский', 'Красносельский', 'Московский', 'Невский',\n",
    "                                      'Петроградский', 'Петродворцовый', 'Приморский', 'Пушкинский', 'Фрунзенский',\n",
    "                                      'Центральный', 'Всеволожский'],\n",
    "                               columns = ['num_of_metro_stations', 'num_of_kindg', 'num_of_schools', 'num_of_poly',\n",
    "                                          'num_of_hospitals', 'num_of_dentists', 'num_of_women_cons'])"
   ]
  },
  {
   "cell_type": "code",
   "execution_count": 21,
   "id": "selective-fountain",
   "metadata": {
    "ExecuteTime": {
     "end_time": "2021-04-23T14:44:12.268507Z",
     "start_time": "2021-04-23T14:44:12.255540Z"
    },
    "scrolled": false
   },
   "outputs": [
    {
     "data": {
      "text/html": [
       "<div>\n",
       "<style scoped>\n",
       "    .dataframe tbody tr th:only-of-type {\n",
       "        vertical-align: middle;\n",
       "    }\n",
       "\n",
       "    .dataframe tbody tr th {\n",
       "        vertical-align: top;\n",
       "    }\n",
       "\n",
       "    .dataframe thead th {\n",
       "        text-align: right;\n",
       "    }\n",
       "</style>\n",
       "<table border=\"1\" class=\"dataframe\">\n",
       "  <thead>\n",
       "    <tr style=\"text-align: right;\">\n",
       "      <th></th>\n",
       "      <th>num_of_metro_stations</th>\n",
       "      <th>num_of_kindg</th>\n",
       "      <th>num_of_schools</th>\n",
       "      <th>num_of_poly</th>\n",
       "      <th>num_of_hospitals</th>\n",
       "      <th>num_of_dentists</th>\n",
       "      <th>num_of_women_cons</th>\n",
       "    </tr>\n",
       "  </thead>\n",
       "  <tbody>\n",
       "    <tr>\n",
       "      <th>Адмиралтейский</th>\n",
       "      <td>9</td>\n",
       "      <td>73</td>\n",
       "      <td>46</td>\n",
       "      <td>12</td>\n",
       "      <td>6</td>\n",
       "      <td>5</td>\n",
       "      <td>4</td>\n",
       "    </tr>\n",
       "    <tr>\n",
       "      <th>Ваcилеостровский</th>\n",
       "      <td>3</td>\n",
       "      <td>64</td>\n",
       "      <td>42</td>\n",
       "      <td>9</td>\n",
       "      <td>6</td>\n",
       "      <td>4</td>\n",
       "      <td>1</td>\n",
       "    </tr>\n",
       "    <tr>\n",
       "      <th>Выборгский</th>\n",
       "      <td>6</td>\n",
       "      <td>136</td>\n",
       "      <td>73</td>\n",
       "      <td>27</td>\n",
       "      <td>7</td>\n",
       "      <td>4</td>\n",
       "      <td>5</td>\n",
       "    </tr>\n",
       "    <tr>\n",
       "      <th>Калининский</th>\n",
       "      <td>5</td>\n",
       "      <td>113</td>\n",
       "      <td>61</td>\n",
       "      <td>24</td>\n",
       "      <td>3</td>\n",
       "      <td>3</td>\n",
       "      <td>4</td>\n",
       "    </tr>\n",
       "    <tr>\n",
       "      <th>Кировский</th>\n",
       "      <td>5</td>\n",
       "      <td>97</td>\n",
       "      <td>58</td>\n",
       "      <td>16</td>\n",
       "      <td>1</td>\n",
       "      <td>6</td>\n",
       "      <td>3</td>\n",
       "    </tr>\n",
       "    <tr>\n",
       "      <th>Колпинский</th>\n",
       "      <td>0</td>\n",
       "      <td>56</td>\n",
       "      <td>30</td>\n",
       "      <td>16</td>\n",
       "      <td>2</td>\n",
       "      <td>2</td>\n",
       "      <td>2</td>\n",
       "    </tr>\n",
       "    <tr>\n",
       "      <th>Красногвардейский</th>\n",
       "      <td>2</td>\n",
       "      <td>88</td>\n",
       "      <td>54</td>\n",
       "      <td>16</td>\n",
       "      <td>2</td>\n",
       "      <td>2</td>\n",
       "      <td>4</td>\n",
       "    </tr>\n",
       "    <tr>\n",
       "      <th>Красносельский</th>\n",
       "      <td>0</td>\n",
       "      <td>61</td>\n",
       "      <td>45</td>\n",
       "      <td>19</td>\n",
       "      <td>2</td>\n",
       "      <td>4</td>\n",
       "      <td>4</td>\n",
       "    </tr>\n",
       "    <tr>\n",
       "      <th>Московский</th>\n",
       "      <td>6</td>\n",
       "      <td>13</td>\n",
       "      <td>47</td>\n",
       "      <td>15</td>\n",
       "      <td>2</td>\n",
       "      <td>5</td>\n",
       "      <td>3</td>\n",
       "    </tr>\n",
       "    <tr>\n",
       "      <th>Невский</th>\n",
       "      <td>7</td>\n",
       "      <td>132</td>\n",
       "      <td>58</td>\n",
       "      <td>23</td>\n",
       "      <td>1</td>\n",
       "      <td>3</td>\n",
       "      <td>6</td>\n",
       "    </tr>\n",
       "    <tr>\n",
       "      <th>Петроградский</th>\n",
       "      <td>6</td>\n",
       "      <td>65</td>\n",
       "      <td>31</td>\n",
       "      <td>9</td>\n",
       "      <td>2</td>\n",
       "      <td>4</td>\n",
       "      <td>3</td>\n",
       "    </tr>\n",
       "    <tr>\n",
       "      <th>Петродворцовый</th>\n",
       "      <td>0</td>\n",
       "      <td>26</td>\n",
       "      <td>18</td>\n",
       "      <td>8</td>\n",
       "      <td>6</td>\n",
       "      <td>1</td>\n",
       "      <td>2</td>\n",
       "    </tr>\n",
       "    <tr>\n",
       "      <th>Приморский</th>\n",
       "      <td>5</td>\n",
       "      <td>130</td>\n",
       "      <td>68</td>\n",
       "      <td>24</td>\n",
       "      <td>1</td>\n",
       "      <td>2</td>\n",
       "      <td>8</td>\n",
       "    </tr>\n",
       "    <tr>\n",
       "      <th>Пушкинский</th>\n",
       "      <td>1</td>\n",
       "      <td>48</td>\n",
       "      <td>27</td>\n",
       "      <td>16</td>\n",
       "      <td>2</td>\n",
       "      <td>3</td>\n",
       "      <td>2</td>\n",
       "    </tr>\n",
       "    <tr>\n",
       "      <th>Фрунзенский</th>\n",
       "      <td>7</td>\n",
       "      <td>92</td>\n",
       "      <td>51</td>\n",
       "      <td>19</td>\n",
       "      <td>1</td>\n",
       "      <td>2</td>\n",
       "      <td>2</td>\n",
       "    </tr>\n",
       "    <tr>\n",
       "      <th>Центральный</th>\n",
       "      <td>11</td>\n",
       "      <td>105</td>\n",
       "      <td>52</td>\n",
       "      <td>11</td>\n",
       "      <td>7</td>\n",
       "      <td>4</td>\n",
       "      <td>3</td>\n",
       "    </tr>\n",
       "    <tr>\n",
       "      <th>Всеволожский</th>\n",
       "      <td>0</td>\n",
       "      <td>61</td>\n",
       "      <td>44</td>\n",
       "      <td>25</td>\n",
       "      <td>5</td>\n",
       "      <td>1</td>\n",
       "      <td>0</td>\n",
       "    </tr>\n",
       "  </tbody>\n",
       "</table>\n",
       "</div>"
      ],
      "text/plain": [
       "                  num_of_metro_stations num_of_kindg num_of_schools  \\\n",
       "Адмиралтейский                        9           73             46   \n",
       "Ваcилеостровский                      3           64             42   \n",
       "Выборгский                            6          136             73   \n",
       "Калининский                           5          113             61   \n",
       "Кировский                             5           97             58   \n",
       "Колпинский                            0           56             30   \n",
       "Красногвардейский                     2           88             54   \n",
       "Красносельский                        0           61             45   \n",
       "Московский                            6           13             47   \n",
       "Невский                               7          132             58   \n",
       "Петроградский                         6           65             31   \n",
       "Петродворцовый                        0           26             18   \n",
       "Приморский                            5          130             68   \n",
       "Пушкинский                            1           48             27   \n",
       "Фрунзенский                           7           92             51   \n",
       "Центральный                          11          105             52   \n",
       "Всеволожский                          0           61             44   \n",
       "\n",
       "                  num_of_poly num_of_hospitals num_of_dentists  \\\n",
       "Адмиралтейский             12                6               5   \n",
       "Ваcилеостровский            9                6               4   \n",
       "Выборгский                 27                7               4   \n",
       "Калининский                24                3               3   \n",
       "Кировский                  16                1               6   \n",
       "Колпинский                 16                2               2   \n",
       "Красногвардейский          16                2               2   \n",
       "Красносельский             19                2               4   \n",
       "Московский                 15                2               5   \n",
       "Невский                    23                1               3   \n",
       "Петроградский               9                2               4   \n",
       "Петродворцовый              8                6               1   \n",
       "Приморский                 24                1               2   \n",
       "Пушкинский                 16                2               3   \n",
       "Фрунзенский                19                1               2   \n",
       "Центральный                11                7               4   \n",
       "Всеволожский               25                5               1   \n",
       "\n",
       "                  num_of_women_cons  \n",
       "Адмиралтейский                    4  \n",
       "Ваcилеостровский                  1  \n",
       "Выборгский                        5  \n",
       "Калининский                       4  \n",
       "Кировский                         3  \n",
       "Колпинский                        2  \n",
       "Красногвардейский                 4  \n",
       "Красносельский                    4  \n",
       "Московский                        3  \n",
       "Невский                           6  \n",
       "Петроградский                     3  \n",
       "Петродворцовый                    2  \n",
       "Приморский                        8  \n",
       "Пушкинский                        2  \n",
       "Фрунзенский                       2  \n",
       "Центральный                       3  \n",
       "Всеволожский                      0  "
      ]
     },
     "execution_count": 21,
     "metadata": {},
     "output_type": "execute_result"
    }
   ],
   "source": [
    "df_new_features"
   ]
  },
  {
   "cell_type": "code",
   "execution_count": 32,
   "id": "following-lemon",
   "metadata": {
    "ExecuteTime": {
     "end_time": "2021-04-23T16:01:27.809988Z",
     "start_time": "2021-04-23T16:01:27.799094Z"
    }
   },
   "outputs": [],
   "source": [
    "df_new_features.to_csv('../data/districts_info.csv')"
   ]
  }
 ],
 "metadata": {
  "kernelspec": {
   "display_name": "Python 3",
   "language": "python",
   "name": "python3"
  },
  "language_info": {
   "codemirror_mode": {
    "name": "ipython",
    "version": 3
   },
   "file_extension": ".py",
   "mimetype": "text/x-python",
   "name": "python",
   "nbconvert_exporter": "python",
   "pygments_lexer": "ipython3",
   "version": "3.7.7"
  },
  "toc": {
   "base_numbering": 1,
   "nav_menu": {},
   "number_sections": true,
   "sideBar": true,
   "skip_h1_title": false,
   "title_cell": "Table of Contents",
   "title_sidebar": "Contents",
   "toc_cell": false,
   "toc_position": {},
   "toc_section_display": true,
   "toc_window_display": false
  },
  "varInspector": {
   "cols": {
    "lenName": 16,
    "lenType": 16,
    "lenVar": 40
   },
   "kernels_config": {
    "python": {
     "delete_cmd_postfix": "",
     "delete_cmd_prefix": "del ",
     "library": "var_list.py",
     "varRefreshCmd": "print(var_dic_list())"
    },
    "r": {
     "delete_cmd_postfix": ") ",
     "delete_cmd_prefix": "rm(",
     "library": "var_list.r",
     "varRefreshCmd": "cat(var_dic_list()) "
    }
   },
   "types_to_exclude": [
    "module",
    "function",
    "builtin_function_or_method",
    "instance",
    "_Feature"
   ],
   "window_display": false
  }
 },
 "nbformat": 4,
 "nbformat_minor": 5
}
