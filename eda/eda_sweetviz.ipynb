{
 "cells": [
  {
   "cell_type": "markdown",
   "id": "limited-seven",
   "metadata": {},
   "source": [
    "# INSTALL"
   ]
  },
  {
   "cell_type": "code",
   "execution_count": 1,
   "id": "incorporate-favor",
   "metadata": {
    "ExecuteTime": {
     "end_time": "2021-04-04T12:05:05.615946Z",
     "start_time": "2021-04-04T12:04:58.643773Z"
    }
   },
   "outputs": [
    {
     "name": "stdout",
     "output_type": "stream",
     "text": [
      "Collecting sweetviz\n",
      "  Downloading sweetviz-2.1.0-py3-none-any.whl (15.1 MB)\n",
      "Requirement already satisfied: scipy>=1.3.2 in c:\\users\\mi\\anaconda3\\lib\\site-packages (from sweetviz) (1.6.0)\n",
      "Requirement already satisfied: pandas!=1.0.0,!=1.0.1,!=1.0.2,>=0.25.3 in c:\\users\\mi\\anaconda3\\lib\\site-packages (from sweetviz) (1.2.1)\n",
      "Requirement already satisfied: tqdm>=4.43.0 in c:\\users\\mi\\anaconda3\\lib\\site-packages (from sweetviz) (4.56.0)\n",
      "Requirement already satisfied: matplotlib>=3.1.3 in c:\\users\\mi\\anaconda3\\lib\\site-packages (from sweetviz) (3.3.4)\n",
      "Collecting importlib-resources>=1.2.0\n",
      "  Downloading importlib_resources-5.1.2-py3-none-any.whl (25 kB)\n",
      "Requirement already satisfied: jinja2>=2.11.1 in c:\\users\\mi\\anaconda3\\lib\\site-packages (from sweetviz) (2.11.2)\n",
      "Requirement already satisfied: numpy>=1.16.0 in c:\\users\\mi\\anaconda3\\lib\\site-packages (from sweetviz) (1.19.5)\n",
      "Requirement already satisfied: zipp>=0.4 in c:\\users\\mi\\anaconda3\\lib\\site-packages (from importlib-resources>=1.2.0->sweetviz) (3.4.0)\n",
      "Requirement already satisfied: MarkupSafe>=0.23 in c:\\users\\mi\\anaconda3\\lib\\site-packages (from jinja2>=2.11.1->sweetviz) (1.1.1)\n",
      "Requirement already satisfied: pyparsing!=2.0.4,!=2.1.2,!=2.1.6,>=2.0.3 in c:\\users\\mi\\anaconda3\\lib\\site-packages (from matplotlib>=3.1.3->sweetviz) (2.4.7)\n",
      "Requirement already satisfied: kiwisolver>=1.0.1 in c:\\users\\mi\\anaconda3\\lib\\site-packages (from matplotlib>=3.1.3->sweetviz) (1.3.1)\n",
      "Requirement already satisfied: pillow>=6.2.0 in c:\\users\\mi\\anaconda3\\lib\\site-packages (from matplotlib>=3.1.3->sweetviz) (8.1.0)\n",
      "Requirement already satisfied: python-dateutil>=2.1 in c:\\users\\mi\\anaconda3\\lib\\site-packages (from matplotlib>=3.1.3->sweetviz) (2.8.1)\n",
      "Requirement already satisfied: cycler>=0.10 in c:\\users\\mi\\anaconda3\\lib\\site-packages (from matplotlib>=3.1.3->sweetviz) (0.10.0)\n",
      "Requirement already satisfied: six in c:\\users\\mi\\anaconda3\\lib\\site-packages (from cycler>=0.10->matplotlib>=3.1.3->sweetviz) (1.15.0)\n",
      "Requirement already satisfied: pytz>=2017.3 in c:\\users\\mi\\anaconda3\\lib\\site-packages (from pandas!=1.0.0,!=1.0.1,!=1.0.2,>=0.25.3->sweetviz) (2020.5)\n",
      "Installing collected packages: importlib-resources, sweetviz\n",
      "Successfully installed importlib-resources-5.1.2 sweetviz-2.1.0\n"
     ]
    }
   ],
   "source": [
    "# !pip install sweetviz"
   ]
  },
  {
   "cell_type": "markdown",
   "id": "closing-turkish",
   "metadata": {},
   "source": [
    "# IMPORT"
   ]
  },
  {
   "cell_type": "code",
   "execution_count": 3,
   "id": "stylish-february",
   "metadata": {
    "ExecuteTime": {
     "end_time": "2021-04-22T09:08:05.890233Z",
     "start_time": "2021-04-22T09:08:03.704990Z"
    }
   },
   "outputs": [],
   "source": [
    "import sweetviz as sv\n",
    "import pandas as pd"
   ]
  },
  {
   "cell_type": "markdown",
   "id": "pretty-quest",
   "metadata": {},
   "source": [
    "# PREPARETION"
   ]
  },
  {
   "cell_type": "code",
   "execution_count": 5,
   "id": "exciting-defeat",
   "metadata": {
    "ExecuteTime": {
     "end_time": "2021-04-22T09:08:21.597618Z",
     "start_time": "2021-04-22T09:08:17.466779Z"
    }
   },
   "outputs": [],
   "source": [
    "# train\n",
    "train = pd.read_csv('../data/train_clean.csv',\n",
    "                    dtype={'floors': str,\n",
    "                           'total_floors': str})\n",
    "# test\n",
    "test = pd.read_csv('../data/test_clean.csv',\n",
    "                    dtype={'floors': str,\n",
    "                           'total_floors': str})"
   ]
  },
  {
   "cell_type": "markdown",
   "id": "adverse-sunset",
   "metadata": {},
   "source": [
    "# all data"
   ]
  },
  {
   "cell_type": "code",
   "execution_count": 4,
   "id": "pretty-overview",
   "metadata": {
    "ExecuteTime": {
     "end_time": "2021-04-04T12:07:59.227967Z",
     "start_time": "2021-04-04T12:07:01.033547Z"
    }
   },
   "outputs": [
    {
     "data": {
      "application/vnd.jupyter.widget-view+json": {
       "model_id": "f1f5a3bb47c240bd83db5379d1283f52",
       "version_major": 2,
       "version_minor": 0
      },
      "text/plain": [
       "                                             |          | [  0%]   00:00 -> (? left)"
      ]
     },
     "metadata": {},
     "output_type": "display_data"
    }
   ],
   "source": [
    "comparison_report = sv.compare([train,'Train'], [test,'Test'], target_feat='price')"
   ]
  },
  {
   "cell_type": "code",
   "execution_count": null,
   "id": "binding-producer",
   "metadata": {},
   "outputs": [],
   "source": [
    "# Выводим результат в notebook.\n",
    "# comparison_report.show_notebook()"
   ]
  },
  {
   "cell_type": "code",
   "execution_count": 6,
   "id": "incomplete-eligibility",
   "metadata": {
    "ExecuteTime": {
     "end_time": "2021-04-04T12:11:11.925964Z",
     "start_time": "2021-04-04T12:11:10.940078Z"
    }
   },
   "outputs": [
    {
     "name": "stdout",
     "output_type": "stream",
     "text": [
      "Report EDA_FLATS_SWEETVIZ_REPORT.html was generated! NOTEBOOK/COLAB USERS: the web browser MAY not pop up, regardless, the report IS saved in your notebook/colab files.\n"
     ]
    }
   ],
   "source": [
    "# Сохраняем результат в виде HTML.\n",
    "comparison_report.show_html(filepath='EDA_FLATS_SWEETVIZ_REPORT.html')"
   ]
  },
  {
   "cell_type": "markdown",
   "id": "western-xerox",
   "metadata": {},
   "source": [
    "# < 400 m2"
   ]
  },
  {
   "cell_type": "code",
   "execution_count": 10,
   "id": "stretch-sandwich",
   "metadata": {
    "ExecuteTime": {
     "end_time": "2021-04-04T12:21:56.727009Z",
     "start_time": "2021-04-04T12:20:56.110909Z"
    }
   },
   "outputs": [
    {
     "data": {
      "application/vnd.jupyter.widget-view+json": {
       "model_id": "b878d1d0c9f944f0b3a243a918ccb722",
       "version_major": 2,
       "version_minor": 0
      },
      "text/plain": [
       "                                             |          | [  0%]   00:00 -> (? left)"
      ]
     },
     "metadata": {},
     "output_type": "display_data"
    }
   ],
   "source": [
    "comparison_report_400m2 = sv.compare([train[(train['square']<401) & (train['price']<100000000)],'Train'], \\\n",
    "                                     [test[(test['square']<401) & (test['price']<100000000)],'Test'], \\\n",
    "                                     target_feat='price')"
   ]
  },
  {
   "cell_type": "code",
   "execution_count": 11,
   "id": "vocational-fluid",
   "metadata": {
    "ExecuteTime": {
     "end_time": "2021-04-04T12:21:56.747710Z",
     "start_time": "2021-04-04T12:21:56.727009Z"
    }
   },
   "outputs": [],
   "source": [
    "# Выводим результат в notebook.\n",
    "# comparison_report_400m2.show_notebook()"
   ]
  },
  {
   "cell_type": "code",
   "execution_count": 12,
   "id": "olive-charm",
   "metadata": {
    "ExecuteTime": {
     "end_time": "2021-04-04T12:21:57.340831Z",
     "start_time": "2021-04-04T12:21:56.747710Z"
    }
   },
   "outputs": [
    {
     "name": "stdout",
     "output_type": "stream",
     "text": [
      "Report EDA_FLATS_400M2_SWEETVIZ_REPORT.html was generated! NOTEBOOK/COLAB USERS: the web browser MAY not pop up, regardless, the report IS saved in your notebook/colab files.\n"
     ]
    }
   ],
   "source": [
    "# Сохраняем результат в виде HTML.\n",
    "comparison_report_400m2.show_html(filepath='EDA_FLATS_400M2_SWEETVIZ_REPORT.html')"
   ]
  },
  {
   "cell_type": "markdown",
   "id": "celtic-documentary",
   "metadata": {},
   "source": [
    "# < 130 m2"
   ]
  },
  {
   "cell_type": "code",
   "execution_count": 13,
   "id": "fitted-mason",
   "metadata": {
    "ExecuteTime": {
     "end_time": "2021-04-04T12:22:56.087228Z",
     "start_time": "2021-04-04T12:21:57.340831Z"
    }
   },
   "outputs": [
    {
     "data": {
      "application/vnd.jupyter.widget-view+json": {
       "model_id": "89f84906dd3842b19fd7e4f7fc0442f6",
       "version_major": 2,
       "version_minor": 0
      },
      "text/plain": [
       "                                             |          | [  0%]   00:00 -> (? left)"
      ]
     },
     "metadata": {},
     "output_type": "display_data"
    }
   ],
   "source": [
    "comparison_report_130m2 = sv.compare([train[(train['square']<131) & (train['price']<100000000)],'Train'], \\\n",
    "                                     [test[(test['square']<131) & (test['price']<100000000)],'Test'], \\\n",
    "                                     target_feat='price')"
   ]
  },
  {
   "cell_type": "code",
   "execution_count": 14,
   "id": "increased-uzbekistan",
   "metadata": {
    "ExecuteTime": {
     "end_time": "2021-04-04T12:22:56.095154Z",
     "start_time": "2021-04-04T12:22:56.087228Z"
    }
   },
   "outputs": [],
   "source": [
    "# Выводим результат в notebook.\n",
    "# comparison_report_130m2.show_notebook()"
   ]
  },
  {
   "cell_type": "code",
   "execution_count": 15,
   "id": "provincial-campaign",
   "metadata": {
    "ExecuteTime": {
     "end_time": "2021-04-04T12:22:56.545412Z",
     "start_time": "2021-04-04T12:22:56.095154Z"
    }
   },
   "outputs": [
    {
     "name": "stdout",
     "output_type": "stream",
     "text": [
      "Report EDA_FLATS_130M2_SWEETVIZ_REPORT.html was generated! NOTEBOOK/COLAB USERS: the web browser MAY not pop up, regardless, the report IS saved in your notebook/colab files.\n"
     ]
    }
   ],
   "source": [
    "# Сохраняем результат в виде HTML.\n",
    "comparison_report_130m2.show_html(filepath='EDA_FLATS_130M2_SWEETVIZ_REPORT.html')"
   ]
  },
  {
   "cell_type": "markdown",
   "id": "existing-destiny",
   "metadata": {},
   "source": [
    "# Optimized categorical features"
   ]
  },
  {
   "cell_type": "code",
   "execution_count": 1,
   "id": "empty-blame",
   "metadata": {
    "ExecuteTime": {
     "end_time": "2021-04-22T09:07:58.640502Z",
     "start_time": "2021-04-22T09:07:58.616518Z"
    }
   },
   "outputs": [],
   "source": [
    "cat_features = ['flat_type', 'object_type', 'rooms', 'floors',\n",
    "                'build_matireal', 'district', 'total_floors', \n",
    "                'metro_station', 'underground'] "
   ]
  },
  {
   "cell_type": "code",
   "execution_count": 8,
   "id": "driving-wayne",
   "metadata": {
    "ExecuteTime": {
     "end_time": "2021-04-22T09:10:29.476311Z",
     "start_time": "2021-04-22T09:10:29.093030Z"
    }
   },
   "outputs": [],
   "source": [
    "# Удаляем все выше перечисленные категории.\n",
    "# flat_type - Своб. планировка.\n",
    "train_correct = train.drop(train[train['flat_type'] == 'Своб. планировка'].index)\n",
    "# rooms - Своб. планировка, 7, 8, 9.\n",
    "train_correct.drop(train_correct[(train_correct['rooms'] == 'Своб. планировка') | (train_correct['rooms'] == '7') | \\\n",
    "                   (train_correct['rooms'] == '8') | (train_correct['rooms'] == '9')].index, inplace=True)\n",
    "# floors - 26 - 35.\n",
    "train_correct.drop(train_correct[(train_correct['floors'] == '26') | (train_correct['floors'] == '27') | \\\n",
    "                   (train_correct['floors'] == '28') | (train_correct['floors'] == '29') | \\\n",
    "                   (train_correct['floors'] == '30') | (train_correct['floors'] == '31') | \\\n",
    "                   (train_correct['floors'] == '32') | (train_correct['floors'] == '33') | \\\n",
    "                   (train_correct['floors'] == '34') | (train_correct['floors'] == '35')].index, inplace=True)\n",
    "# build_matireal - блоки, дерево.\n",
    "train_correct.drop(train_correct[(train_correct['build_matireal'] == 'Блоки') | \\\n",
    "                           (train_correct['build_matireal'] == 'Дерево')].index, inplace=True)\n",
    "# total_floors - 1, 30 - 36.\n",
    "train_correct.drop(train_correct[(train_correct['total_floors'] == '1') | (train_correct['total_floors'] == '30') | \\\n",
    "                   (train_correct['total_floors'] == '31') | (train_correct['total_floors'] == '32') | \\\n",
    "                   (train_correct['total_floors'] == '33') | (train_correct['total_floors'] == '34') | \\\n",
    "                   (train_correct['total_floors'] == '35') | (train_correct['total_floors'] == '36')].index, inplace=True)\n",
    "# metro_station - 5км, Пискаревка.\n",
    "train_correct.drop(train_correct[(train_correct['metro_station'] == '5 км') | \\\n",
    "                           (train_correct['metro_station'] == 'Пискарёвка')].index, inplace=True)"
   ]
  },
  {
   "cell_type": "code",
   "execution_count": 9,
   "id": "compressed-homeless",
   "metadata": {
    "ExecuteTime": {
     "end_time": "2021-04-22T09:11:36.600689Z",
     "start_time": "2021-04-22T09:11:36.429828Z"
    }
   },
   "outputs": [],
   "source": [
    "# Удаляем все выше перечисленные категории.\n",
    "# flat_type - Своб. планировка.\n",
    "test_correct = test.drop(test[test['flat_type'] == 'Своб. планировка'].index)\n",
    "# rooms - Своб. планировка, 7, 8, 9.\n",
    "test_correct.drop(test_correct[(test_correct['rooms'] == 'Своб. планировка') | (test_correct['rooms'] == '7') | \\\n",
    "                   (test_correct['rooms'] == '8') | (test_correct['rooms'] == '9')].index, inplace=True)\n",
    "# floors - 26 - 35.\n",
    "test_correct.drop(test_correct[(test_correct['floors'] == '26') | (test_correct['floors'] == '27') | \\\n",
    "                   (test_correct['floors'] == '28') | (test_correct['floors'] == '29') | \\\n",
    "                   (test_correct['floors'] == '30') | (test_correct['floors'] == '31') | \\\n",
    "                   (test_correct['floors'] == '32') | (test_correct['floors'] == '33') | \\\n",
    "                   (test_correct['floors'] == '34') | (test_correct['floors'] == '35')].index, inplace=True)\n",
    "# build_matireal - блоки, дерево.\n",
    "test_correct.drop(test_correct[(test_correct['build_matireal'] == 'Блоки') | \\\n",
    "                           (test_correct['build_matireal'] == 'Дерево')].index, inplace=True)\n",
    "# total_floors - 1, 30 - 36.\n",
    "test_correct.drop(test_correct[(test_correct['total_floors'] == '1') | (test_correct['total_floors'] == '30') | \\\n",
    "                   (test_correct['total_floors'] == '31') | (test_correct['total_floors'] == '32') | \\\n",
    "                   (test_correct['total_floors'] == '33') | (test_correct['total_floors'] == '34') | \\\n",
    "                   (test_correct['total_floors'] == '35') | (test_correct['total_floors'] == '36')].index, inplace=True)\n",
    "# metro_station - 5км, Пискаревка.\n",
    "test_correct.drop(test_correct[(test_correct['metro_station'] == '5 км') | \\\n",
    "                           (test_correct['metro_station'] == 'Пискарёвка')].index, inplace=True)"
   ]
  },
  {
   "cell_type": "markdown",
   "id": "existing-administrator",
   "metadata": {},
   "source": [
    "## < 400 m2"
   ]
  },
  {
   "cell_type": "code",
   "execution_count": 10,
   "id": "vital-determination",
   "metadata": {
    "ExecuteTime": {
     "end_time": "2021-04-22T09:13:46.422553Z",
     "start_time": "2021-04-22T09:12:45.947948Z"
    }
   },
   "outputs": [
    {
     "data": {
      "application/vnd.jupyter.widget-view+json": {
       "model_id": "2bad525c088a4f129de25a484a55a1b2",
       "version_major": 2,
       "version_minor": 0
      },
      "text/plain": [
       "                                             |          | [  0%]   00:00 -> (? left)"
      ]
     },
     "metadata": {},
     "output_type": "display_data"
    }
   ],
   "source": [
    "comparison_report_cat_cor_400m2 = sv.compare([train_correct[(train_correct['square']<401) & (train_correct['price']<100000000)],'Train'], \\\n",
    "                                             [test_correct[(test_correct['square']<401) & (test_correct['price']<100000000)],'Test'], \\\n",
    "                                             target_feat='price')"
   ]
  },
  {
   "cell_type": "code",
   "execution_count": 11,
   "id": "upset-warehouse",
   "metadata": {
    "ExecuteTime": {
     "end_time": "2021-04-22T09:13:47.573914Z",
     "start_time": "2021-04-22T09:13:46.728725Z"
    }
   },
   "outputs": [
    {
     "name": "stdout",
     "output_type": "stream",
     "text": [
      "Report EDA_CAT_COR_FLATS_400M2_SWEETVIZ_REPORT.html was generated! NOTEBOOK/COLAB USERS: the web browser MAY not pop up, regardless, the report IS saved in your notebook/colab files.\n"
     ]
    }
   ],
   "source": [
    "# Сохраняем результат в виде HTML.\n",
    "comparison_report_cat_cor_400m2.show_html(filepath='EDA_CAT_COR_FLATS_400M2_SWEETVIZ_REPORT.html')"
   ]
  },
  {
   "cell_type": "markdown",
   "id": "blond-dance",
   "metadata": {},
   "source": [
    "## < 130 m2"
   ]
  },
  {
   "cell_type": "code",
   "execution_count": 12,
   "id": "synthetic-shoot",
   "metadata": {
    "ExecuteTime": {
     "end_time": "2021-04-22T09:17:18.904131Z",
     "start_time": "2021-04-22T09:16:05.038489Z"
    }
   },
   "outputs": [
    {
     "data": {
      "application/vnd.jupyter.widget-view+json": {
       "model_id": "4521256edddf4a62bced18846fcca374",
       "version_major": 2,
       "version_minor": 0
      },
      "text/plain": [
       "                                             |          | [  0%]   00:00 -> (? left)"
      ]
     },
     "metadata": {},
     "output_type": "display_data"
    }
   ],
   "source": [
    "comparison_report_cat_cor_130m2 = sv.compare([train_correct[(train_correct['square']<131) & (train_correct['price']<100000000)],'Train'], \\\n",
    "                                             [test_correct[(test_correct['square']<131) & (test_correct['price']<100000000)],'Test'], \\\n",
    "                                             target_feat='price')"
   ]
  },
  {
   "cell_type": "code",
   "execution_count": 13,
   "id": "facial-skirt",
   "metadata": {
    "ExecuteTime": {
     "end_time": "2021-04-22T09:17:19.985570Z",
     "start_time": "2021-04-22T09:17:19.292654Z"
    }
   },
   "outputs": [
    {
     "name": "stdout",
     "output_type": "stream",
     "text": [
      "Report EDA_CAT_COR_FLATS_130M2_SWEETVIZ_REPORT.html was generated! NOTEBOOK/COLAB USERS: the web browser MAY not pop up, regardless, the report IS saved in your notebook/colab files.\n"
     ]
    }
   ],
   "source": [
    "# Сохраняем результат в виде HTML.\n",
    "comparison_report_cat_cor_130m2.show_html(filepath='EDA_CAT_COR_FLATS_130M2_SWEETVIZ_REPORT.html')"
   ]
  },
  {
   "cell_type": "code",
   "execution_count": null,
   "id": "legal-determination",
   "metadata": {},
   "outputs": [],
   "source": []
  }
 ],
 "metadata": {
  "kernelspec": {
   "display_name": "Python 3",
   "language": "python",
   "name": "python3"
  },
  "language_info": {
   "codemirror_mode": {
    "name": "ipython",
    "version": 3
   },
   "file_extension": ".py",
   "mimetype": "text/x-python",
   "name": "python",
   "nbconvert_exporter": "python",
   "pygments_lexer": "ipython3",
   "version": "3.7.7"
  },
  "toc": {
   "base_numbering": 1,
   "nav_menu": {},
   "number_sections": true,
   "sideBar": true,
   "skip_h1_title": false,
   "title_cell": "Table of Contents",
   "title_sidebar": "Contents",
   "toc_cell": false,
   "toc_position": {},
   "toc_section_display": true,
   "toc_window_display": false
  },
  "varInspector": {
   "cols": {
    "lenName": 16,
    "lenType": 16,
    "lenVar": 40
   },
   "kernels_config": {
    "python": {
     "delete_cmd_postfix": "",
     "delete_cmd_prefix": "del ",
     "library": "var_list.py",
     "varRefreshCmd": "print(var_dic_list())"
    },
    "r": {
     "delete_cmd_postfix": ") ",
     "delete_cmd_prefix": "rm(",
     "library": "var_list.r",
     "varRefreshCmd": "cat(var_dic_list()) "
    }
   },
   "types_to_exclude": [
    "module",
    "function",
    "builtin_function_or_method",
    "instance",
    "_Feature"
   ],
   "window_display": false
  }
 },
 "nbformat": 4,
 "nbformat_minor": 5
}
