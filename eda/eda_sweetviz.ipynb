{
 "cells": [
  {
   "cell_type": "markdown",
   "id": "limited-seven",
   "metadata": {},
   "source": [
    "# INSTALL"
   ]
  },
  {
   "cell_type": "code",
   "execution_count": 1,
   "id": "incorporate-favor",
   "metadata": {
    "ExecuteTime": {
     "end_time": "2021-07-24T13:02:36.782234Z",
     "start_time": "2021-07-24T13:02:36.766572Z"
    }
   },
   "outputs": [],
   "source": [
    "# !pip install sweetviz"
   ]
  },
  {
   "cell_type": "markdown",
   "id": "closing-turkish",
   "metadata": {},
   "source": [
    "# IMPORT"
   ]
  },
  {
   "cell_type": "code",
   "execution_count": 2,
   "id": "stylish-february",
   "metadata": {
    "ExecuteTime": {
     "end_time": "2021-07-24T13:02:39.852125Z",
     "start_time": "2021-07-24T13:02:37.763081Z"
    }
   },
   "outputs": [],
   "source": [
    "import sweetviz as sv\n",
    "import pandas as pd"
   ]
  },
  {
   "cell_type": "markdown",
   "id": "pretty-quest",
   "metadata": {},
   "source": [
    "# PREPARETION"
   ]
  },
  {
   "cell_type": "code",
   "execution_count": 3,
   "id": "exciting-defeat",
   "metadata": {
    "ExecuteTime": {
     "end_time": "2021-07-24T13:02:45.337438Z",
     "start_time": "2021-07-24T13:02:39.869080Z"
    }
   },
   "outputs": [],
   "source": [
    "# train\n",
    "train = pd.read_csv('../data/train_clean.csv',\n",
    "                    dtype={'floors': str,\n",
    "                           'total_floors': str})\n",
    "# test\n",
    "test = pd.read_csv('../data/test_clean.csv',\n",
    "                    dtype={'floors': str,\n",
    "                           'total_floors': str})"
   ]
  },
  {
   "cell_type": "markdown",
   "id": "adverse-sunset",
   "metadata": {},
   "source": [
    "# all data"
   ]
  },
  {
   "cell_type": "code",
   "execution_count": 4,
   "id": "pretty-overview",
   "metadata": {
    "ExecuteTime": {
     "end_time": "2021-07-24T13:03:58.237394Z",
     "start_time": "2021-07-24T13:02:45.433182Z"
    }
   },
   "outputs": [
    {
     "data": {
      "application/vnd.jupyter.widget-view+json": {
       "model_id": "2f297cafd9cd4b9594f4f9d97a70b5e6",
       "version_major": 2,
       "version_minor": 0
      },
      "text/plain": [
       "                                             |          | [  0%]   00:00 -> (? left)"
      ]
     },
     "metadata": {},
     "output_type": "display_data"
    }
   ],
   "source": [
    "comparison_report = sv.compare([train,'Train'], [test,'Test'], target_feat='price')"
   ]
  },
  {
   "cell_type": "code",
   "execution_count": 5,
   "id": "binding-producer",
   "metadata": {
    "ExecuteTime": {
     "end_time": "2021-07-24T13:03:58.331469Z",
     "start_time": "2021-07-24T13:03:58.317620Z"
    }
   },
   "outputs": [],
   "source": [
    "# Выводим результат в notebook.\n",
    "# comparison_report.show_notebook()"
   ]
  },
  {
   "cell_type": "code",
   "execution_count": 6,
   "id": "incomplete-eligibility",
   "metadata": {
    "ExecuteTime": {
     "end_time": "2021-07-24T13:03:59.294318Z",
     "start_time": "2021-07-24T13:03:58.413232Z"
    }
   },
   "outputs": [
    {
     "name": "stdout",
     "output_type": "stream",
     "text": [
      "Report EDA_FLATS_SWEETVIZ_REPORT.html was generated! NOTEBOOK/COLAB USERS: the web browser MAY not pop up, regardless, the report IS saved in your notebook/colab files.\n"
     ]
    }
   ],
   "source": [
    "# Сохраняем результат в виде HTML.\n",
    "comparison_report.show_html(filepath='EDA_FLATS_SWEETVIZ_REPORT.html')"
   ]
  },
  {
   "cell_type": "markdown",
   "id": "western-xerox",
   "metadata": {},
   "source": [
    "# < 400 m2"
   ]
  },
  {
   "cell_type": "code",
   "execution_count": 7,
   "id": "stretch-sandwich",
   "metadata": {
    "ExecuteTime": {
     "end_time": "2021-07-24T13:05:09.991728Z",
     "start_time": "2021-07-24T13:03:59.406761Z"
    }
   },
   "outputs": [
    {
     "data": {
      "application/vnd.jupyter.widget-view+json": {
       "model_id": "39ce67000b444816a1ef1caded00cced",
       "version_major": 2,
       "version_minor": 0
      },
      "text/plain": [
       "                                             |          | [  0%]   00:00 -> (? left)"
      ]
     },
     "metadata": {},
     "output_type": "display_data"
    }
   ],
   "source": [
    "comparison_report_400m2 = sv.compare([train[(train['square']<401) & (train['price']<100000000)],'Train'], \\\n",
    "                                     [test[(test['square']<401) & (test['price']<100000000)],'Test'], \\\n",
    "                                     target_feat='price')"
   ]
  },
  {
   "cell_type": "code",
   "execution_count": 8,
   "id": "vocational-fluid",
   "metadata": {
    "ExecuteTime": {
     "end_time": "2021-07-24T13:05:10.069717Z",
     "start_time": "2021-07-24T13:05:10.067270Z"
    }
   },
   "outputs": [],
   "source": [
    "# Выводим результат в notebook.\n",
    "# comparison_report_400m2.show_notebook()"
   ]
  },
  {
   "cell_type": "code",
   "execution_count": 9,
   "id": "olive-charm",
   "metadata": {
    "ExecuteTime": {
     "end_time": "2021-07-24T13:05:10.580372Z",
     "start_time": "2021-07-24T13:05:10.158685Z"
    }
   },
   "outputs": [
    {
     "name": "stdout",
     "output_type": "stream",
     "text": [
      "Report EDA_FLATS_400M2_SWEETVIZ_REPORT.html was generated! NOTEBOOK/COLAB USERS: the web browser MAY not pop up, regardless, the report IS saved in your notebook/colab files.\n"
     ]
    }
   ],
   "source": [
    "# Сохраняем результат в виде HTML.\n",
    "comparison_report_400m2.show_html(filepath='EDA_FLATS_400M2_SWEETVIZ_REPORT.html')"
   ]
  },
  {
   "cell_type": "markdown",
   "id": "celtic-documentary",
   "metadata": {},
   "source": [
    "# < 130 m2"
   ]
  },
  {
   "cell_type": "code",
   "execution_count": 10,
   "id": "fitted-mason",
   "metadata": {
    "ExecuteTime": {
     "end_time": "2021-07-24T13:06:20.364163Z",
     "start_time": "2021-07-24T13:05:10.676981Z"
    }
   },
   "outputs": [
    {
     "data": {
      "application/vnd.jupyter.widget-view+json": {
       "model_id": "4e21ee3006e543298aa1465b1ac2b378",
       "version_major": 2,
       "version_minor": 0
      },
      "text/plain": [
       "                                             |          | [  0%]   00:00 -> (? left)"
      ]
     },
     "metadata": {},
     "output_type": "display_data"
    }
   ],
   "source": [
    "comparison_report_130m2 = sv.compare([train[(train['square']<131) & (train['price']<100000000)],'Train'], \\\n",
    "                                     [test[(test['square']<131) & (test['price']<100000000)],'Test'], \\\n",
    "                                     target_feat='price')"
   ]
  },
  {
   "cell_type": "code",
   "execution_count": 11,
   "id": "increased-uzbekistan",
   "metadata": {
    "ExecuteTime": {
     "end_time": "2021-07-24T13:06:20.473354Z",
     "start_time": "2021-07-24T13:06:20.459272Z"
    }
   },
   "outputs": [],
   "source": [
    "# Выводим результат в notebook.\n",
    "# comparison_report_130m2.show_notebook()"
   ]
  },
  {
   "cell_type": "code",
   "execution_count": 12,
   "id": "provincial-campaign",
   "metadata": {
    "ExecuteTime": {
     "end_time": "2021-07-24T13:06:21.034311Z",
     "start_time": "2021-07-24T13:06:20.568661Z"
    }
   },
   "outputs": [
    {
     "name": "stdout",
     "output_type": "stream",
     "text": [
      "Report EDA_FLATS_130M2_SWEETVIZ_REPORT.html was generated! NOTEBOOK/COLAB USERS: the web browser MAY not pop up, regardless, the report IS saved in your notebook/colab files.\n"
     ]
    }
   ],
   "source": [
    "# Сохраняем результат в виде HTML.\n",
    "comparison_report_130m2.show_html(filepath='EDA_FLATS_130M2_SWEETVIZ_REPORT.html')"
   ]
  },
  {
   "cell_type": "markdown",
   "id": "existing-destiny",
   "metadata": {},
   "source": [
    "# Optimized categorical features"
   ]
  },
  {
   "cell_type": "code",
   "execution_count": 13,
   "id": "empty-blame",
   "metadata": {
    "ExecuteTime": {
     "end_time": "2021-07-24T13:06:21.208957Z",
     "start_time": "2021-07-24T13:06:21.197987Z"
    }
   },
   "outputs": [],
   "source": [
    "cat_features = ['flat_type', 'object_type', 'rooms', 'floors',\n",
    "                'build_matireal', 'district', 'total_floors', \n",
    "                'metro_station', 'underground'] "
   ]
  },
  {
   "cell_type": "code",
   "execution_count": 14,
   "id": "driving-wayne",
   "metadata": {
    "ExecuteTime": {
     "end_time": "2021-07-24T13:06:21.695399Z",
     "start_time": "2021-07-24T13:06:21.306475Z"
    }
   },
   "outputs": [],
   "source": [
    "# Удаляем все выше перечисленные категории.\n",
    "# flat_type - Своб. планировка.\n",
    "train_correct = train.drop(train[train['flat_type'] == 'Своб. планировка'].index)\n",
    "# rooms - Своб. планировка, 7, 8, 9.\n",
    "train_correct.drop(train_correct[(train_correct['rooms'] == 'Своб. планировка') | (train_correct['rooms'] == '7') | \\\n",
    "                   (train_correct['rooms'] == '8') | (train_correct['rooms'] == '9')].index, inplace=True)\n",
    "# floors - 26 - 35.\n",
    "train_correct.drop(train_correct[(train_correct['floors'] == '26') | (train_correct['floors'] == '27') | \\\n",
    "                   (train_correct['floors'] == '28') | (train_correct['floors'] == '29') | \\\n",
    "                   (train_correct['floors'] == '30') | (train_correct['floors'] == '31') | \\\n",
    "                   (train_correct['floors'] == '32') | (train_correct['floors'] == '33') | \\\n",
    "                   (train_correct['floors'] == '34') | (train_correct['floors'] == '35')].index, inplace=True)\n",
    "# build_matireal - блоки, дерево.\n",
    "train_correct.drop(train_correct[(train_correct['build_matireal'] == 'Блоки') | \\\n",
    "                           (train_correct['build_matireal'] == 'Дерево')].index, inplace=True)\n",
    "# total_floors - 1, 30 - 36.\n",
    "train_correct.drop(train_correct[(train_correct['total_floors'] == '1') | (train_correct['total_floors'] == '30') | \\\n",
    "                   (train_correct['total_floors'] == '31') | (train_correct['total_floors'] == '32') | \\\n",
    "                   (train_correct['total_floors'] == '33') | (train_correct['total_floors'] == '34') | \\\n",
    "                   (train_correct['total_floors'] == '35') | (train_correct['total_floors'] == '36')].index, inplace=True)\n",
    "# metro_station - 5км, Пискаревка.\n",
    "train_correct.drop(train_correct[(train_correct['metro_station'] == '5 км') | \\\n",
    "                           (train_correct['metro_station'] == 'Пискарёвка')].index, inplace=True)"
   ]
  },
  {
   "cell_type": "code",
   "execution_count": 15,
   "id": "compressed-homeless",
   "metadata": {
    "ExecuteTime": {
     "end_time": "2021-07-24T13:06:21.975373Z",
     "start_time": "2021-07-24T13:06:21.817629Z"
    }
   },
   "outputs": [],
   "source": [
    "# Удаляем все выше перечисленные категории.\n",
    "# flat_type - Своб. планировка.\n",
    "test_correct = test.drop(test[test['flat_type'] == 'Своб. планировка'].index)\n",
    "# rooms - Своб. планировка, 7, 8, 9.\n",
    "test_correct.drop(test_correct[(test_correct['rooms'] == 'Своб. планировка') | (test_correct['rooms'] == '7') | \\\n",
    "                   (test_correct['rooms'] == '8') | (test_correct['rooms'] == '9')].index, inplace=True)\n",
    "# floors - 26 - 35.\n",
    "test_correct.drop(test_correct[(test_correct['floors'] == '26') | (test_correct['floors'] == '27') | \\\n",
    "                   (test_correct['floors'] == '28') | (test_correct['floors'] == '29') | \\\n",
    "                   (test_correct['floors'] == '30') | (test_correct['floors'] == '31') | \\\n",
    "                   (test_correct['floors'] == '32') | (test_correct['floors'] == '33') | \\\n",
    "                   (test_correct['floors'] == '34') | (test_correct['floors'] == '35')].index, inplace=True)\n",
    "# build_matireal - блоки, дерево.\n",
    "test_correct.drop(test_correct[(test_correct['build_matireal'] == 'Блоки') | \\\n",
    "                           (test_correct['build_matireal'] == 'Дерево')].index, inplace=True)\n",
    "# total_floors - 1, 30 - 36.\n",
    "test_correct.drop(test_correct[(test_correct['total_floors'] == '1') | (test_correct['total_floors'] == '30') | \\\n",
    "                   (test_correct['total_floors'] == '31') | (test_correct['total_floors'] == '32') | \\\n",
    "                   (test_correct['total_floors'] == '33') | (test_correct['total_floors'] == '34') | \\\n",
    "                   (test_correct['total_floors'] == '35') | (test_correct['total_floors'] == '36')].index, inplace=True)\n",
    "# metro_station - 5км, Пискаревка.\n",
    "test_correct.drop(test_correct[(test_correct['metro_station'] == '5 км') | \\\n",
    "                           (test_correct['metro_station'] == 'Пискарёвка')].index, inplace=True)"
   ]
  },
  {
   "cell_type": "markdown",
   "id": "existing-administrator",
   "metadata": {},
   "source": [
    "## < 400 m2"
   ]
  },
  {
   "cell_type": "code",
   "execution_count": 16,
   "id": "vital-determination",
   "metadata": {
    "ExecuteTime": {
     "end_time": "2021-07-24T13:07:32.157772Z",
     "start_time": "2021-07-24T13:06:22.136248Z"
    }
   },
   "outputs": [
    {
     "data": {
      "application/vnd.jupyter.widget-view+json": {
       "model_id": "ab1af5eae9c34a45ba59aabec60a2331",
       "version_major": 2,
       "version_minor": 0
      },
      "text/plain": [
       "                                             |          | [  0%]   00:00 -> (? left)"
      ]
     },
     "metadata": {},
     "output_type": "display_data"
    }
   ],
   "source": [
    "comparison_report_cat_cor_400m2 = sv.compare([train_correct[(train_correct['square']<401) & (train_correct['price']<100000000)],'Train'], \\\n",
    "                                             [test_correct[(test_correct['square']<401) & (test_correct['price']<100000000)],'Test'], \\\n",
    "                                             target_feat='price')"
   ]
  },
  {
   "cell_type": "code",
   "execution_count": 17,
   "id": "upset-warehouse",
   "metadata": {
    "ExecuteTime": {
     "end_time": "2021-07-24T13:07:32.719648Z",
     "start_time": "2021-07-24T13:07:32.299695Z"
    }
   },
   "outputs": [
    {
     "name": "stdout",
     "output_type": "stream",
     "text": [
      "Report EDA_CAT_COR_FLATS_400M2_SWEETVIZ_REPORT.html was generated! NOTEBOOK/COLAB USERS: the web browser MAY not pop up, regardless, the report IS saved in your notebook/colab files.\n"
     ]
    }
   ],
   "source": [
    "# Сохраняем результат в виде HTML.\n",
    "comparison_report_cat_cor_400m2.show_html(filepath='EDA_CAT_COR_FLATS_400M2_SWEETVIZ_REPORT.html')"
   ]
  },
  {
   "cell_type": "markdown",
   "id": "blond-dance",
   "metadata": {},
   "source": [
    "## < 130 m2"
   ]
  },
  {
   "cell_type": "code",
   "execution_count": 18,
   "id": "synthetic-shoot",
   "metadata": {
    "ExecuteTime": {
     "end_time": "2021-07-24T13:08:43.546200Z",
     "start_time": "2021-07-24T13:07:32.941716Z"
    }
   },
   "outputs": [
    {
     "data": {
      "application/vnd.jupyter.widget-view+json": {
       "model_id": "15c76eeaaa074d61838a5bcd6ae02201",
       "version_major": 2,
       "version_minor": 0
      },
      "text/plain": [
       "                                             |          | [  0%]   00:00 -> (? left)"
      ]
     },
     "metadata": {},
     "output_type": "display_data"
    }
   ],
   "source": [
    "comparison_report_cat_cor_130m2 = sv.compare([train_correct[(train_correct['square']<131) & (train_correct['price']<100000000)],'Train'], \\\n",
    "                                             [test_correct[(test_correct['square']<131) & (test_correct['price']<100000000)],'Test'], \\\n",
    "                                             target_feat='price')"
   ]
  },
  {
   "cell_type": "code",
   "execution_count": 19,
   "id": "facial-skirt",
   "metadata": {
    "ExecuteTime": {
     "end_time": "2021-07-24T13:08:44.096051Z",
     "start_time": "2021-07-24T13:08:43.691281Z"
    }
   },
   "outputs": [
    {
     "name": "stdout",
     "output_type": "stream",
     "text": [
      "Report EDA_CAT_COR_FLATS_130M2_SWEETVIZ_REPORT.html was generated! NOTEBOOK/COLAB USERS: the web browser MAY not pop up, regardless, the report IS saved in your notebook/colab files.\n"
     ]
    }
   ],
   "source": [
    "# Сохраняем результат в виде HTML.\n",
    "comparison_report_cat_cor_130m2.show_html(filepath='EDA_CAT_COR_FLATS_130M2_SWEETVIZ_REPORT.html')"
   ]
  }
 ],
 "metadata": {
  "kernelspec": {
   "display_name": "Python 3",
   "language": "python",
   "name": "python3"
  },
  "language_info": {
   "codemirror_mode": {
    "name": "ipython",
    "version": 3
   },
   "file_extension": ".py",
   "mimetype": "text/x-python",
   "name": "python",
   "nbconvert_exporter": "python",
   "pygments_lexer": "ipython3",
   "version": "3.7.7"
  },
  "toc": {
   "base_numbering": 1,
   "nav_menu": {},
   "number_sections": true,
   "sideBar": true,
   "skip_h1_title": false,
   "title_cell": "Table of Contents",
   "title_sidebar": "Contents",
   "toc_cell": false,
   "toc_position": {},
   "toc_section_display": true,
   "toc_window_display": true
  },
  "varInspector": {
   "cols": {
    "lenName": 16,
    "lenType": 16,
    "lenVar": 40
   },
   "kernels_config": {
    "python": {
     "delete_cmd_postfix": "",
     "delete_cmd_prefix": "del ",
     "library": "var_list.py",
     "varRefreshCmd": "print(var_dic_list())"
    },
    "r": {
     "delete_cmd_postfix": ") ",
     "delete_cmd_prefix": "rm(",
     "library": "var_list.r",
     "varRefreshCmd": "cat(var_dic_list()) "
    }
   },
   "types_to_exclude": [
    "module",
    "function",
    "builtin_function_or_method",
    "instance",
    "_Feature"
   ],
   "window_display": false
  }
 },
 "nbformat": 4,
 "nbformat_minor": 5
}
