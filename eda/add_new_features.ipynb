{
 "cells": [
  {
   "cell_type": "markdown",
   "id": "capable-planning",
   "metadata": {},
   "source": [
    "# IMPORT"
   ]
  },
  {
   "cell_type": "code",
   "execution_count": 70,
   "id": "sublime-specific",
   "metadata": {
    "ExecuteTime": {
     "end_time": "2021-04-25T09:29:06.229292Z",
     "start_time": "2021-04-25T09:29:06.159149Z"
    }
   },
   "outputs": [],
   "source": [
    "import pandas as pd\n",
    "import numpy as np\n",
    "\n",
    "from ipywidgets import widgets\n",
    "\n",
    "from pandas_profiling import ProfileReport\n",
    "\n",
    "import sweetviz as sv"
   ]
  },
  {
   "cell_type": "markdown",
   "id": "abroad-exception",
   "metadata": {},
   "source": [
    "# PREPARATION"
   ]
  },
  {
   "cell_type": "code",
   "execution_count": 46,
   "id": "circular-timer",
   "metadata": {
    "ExecuteTime": {
     "end_time": "2021-04-25T09:08:38.803833Z",
     "start_time": "2021-04-25T09:08:34.610544Z"
    }
   },
   "outputs": [],
   "source": [
    "# train\n",
    "train = pd.read_csv('../data/train_clean.csv',\n",
    "                    dtype={'floors': str,\n",
    "                           'total_floors': str})\n",
    "# test\n",
    "test = pd.read_csv('../data/test_clean.csv',\n",
    "                    dtype={'floors': str,\n",
    "                           'total_floors': str})"
   ]
  },
  {
   "cell_type": "code",
   "execution_count": 47,
   "id": "tropical-junior",
   "metadata": {
    "ExecuteTime": {
     "end_time": "2021-04-25T09:08:38.827803Z",
     "start_time": "2021-04-25T09:08:38.803833Z"
    }
   },
   "outputs": [],
   "source": [
    "new_features = pd.read_csv('../data/districts_info.csv',\n",
    "                           dtype={'num_of_metro_stations': str,\n",
    "                                  'num_of_kindg': str,\n",
    "                                  'num_of_schools': str,\n",
    "                                  'num_of_poly': str,\n",
    "                                  'num_of_hospitals': str,\n",
    "                                  'num_of_dentists': str,\n",
    "                                  'num_of_women_cons': str,})"
   ]
  },
  {
   "cell_type": "code",
   "execution_count": 48,
   "id": "chubby-increase",
   "metadata": {
    "ExecuteTime": {
     "end_time": "2021-04-25T09:08:38.843622Z",
     "start_time": "2021-04-25T09:08:38.827803Z"
    }
   },
   "outputs": [],
   "source": [
    "new_features.rename(columns={'Unnamed: 0':'district'}, inplace=True)"
   ]
  },
  {
   "cell_type": "code",
   "execution_count": 49,
   "id": "sticky-diary",
   "metadata": {
    "ExecuteTime": {
     "end_time": "2021-04-25T09:08:38.875600Z",
     "start_time": "2021-04-25T09:08:38.843622Z"
    }
   },
   "outputs": [
    {
     "data": {
      "text/html": [
       "<div>\n",
       "<style scoped>\n",
       "    .dataframe tbody tr th:only-of-type {\n",
       "        vertical-align: middle;\n",
       "    }\n",
       "\n",
       "    .dataframe tbody tr th {\n",
       "        vertical-align: top;\n",
       "    }\n",
       "\n",
       "    .dataframe thead th {\n",
       "        text-align: right;\n",
       "    }\n",
       "</style>\n",
       "<table border=\"1\" class=\"dataframe\">\n",
       "  <thead>\n",
       "    <tr style=\"text-align: right;\">\n",
       "      <th></th>\n",
       "      <th>district</th>\n",
       "      <th>num_of_metro_stations</th>\n",
       "      <th>num_of_kindg</th>\n",
       "      <th>num_of_schools</th>\n",
       "      <th>num_of_poly</th>\n",
       "      <th>num_of_hospitals</th>\n",
       "      <th>num_of_dentists</th>\n",
       "      <th>num_of_women_cons</th>\n",
       "    </tr>\n",
       "  </thead>\n",
       "  <tbody>\n",
       "    <tr>\n",
       "      <th>0</th>\n",
       "      <td>Адмиралтейский</td>\n",
       "      <td>9</td>\n",
       "      <td>73</td>\n",
       "      <td>46</td>\n",
       "      <td>12</td>\n",
       "      <td>6</td>\n",
       "      <td>5</td>\n",
       "      <td>4</td>\n",
       "    </tr>\n",
       "    <tr>\n",
       "      <th>1</th>\n",
       "      <td>Ваcилеостровский</td>\n",
       "      <td>3</td>\n",
       "      <td>64</td>\n",
       "      <td>42</td>\n",
       "      <td>9</td>\n",
       "      <td>6</td>\n",
       "      <td>4</td>\n",
       "      <td>1</td>\n",
       "    </tr>\n",
       "    <tr>\n",
       "      <th>2</th>\n",
       "      <td>Выборгский</td>\n",
       "      <td>6</td>\n",
       "      <td>136</td>\n",
       "      <td>73</td>\n",
       "      <td>27</td>\n",
       "      <td>7</td>\n",
       "      <td>4</td>\n",
       "      <td>5</td>\n",
       "    </tr>\n",
       "    <tr>\n",
       "      <th>3</th>\n",
       "      <td>Калининский</td>\n",
       "      <td>5</td>\n",
       "      <td>113</td>\n",
       "      <td>61</td>\n",
       "      <td>24</td>\n",
       "      <td>3</td>\n",
       "      <td>3</td>\n",
       "      <td>4</td>\n",
       "    </tr>\n",
       "    <tr>\n",
       "      <th>4</th>\n",
       "      <td>Кировский</td>\n",
       "      <td>5</td>\n",
       "      <td>97</td>\n",
       "      <td>58</td>\n",
       "      <td>16</td>\n",
       "      <td>1</td>\n",
       "      <td>6</td>\n",
       "      <td>3</td>\n",
       "    </tr>\n",
       "    <tr>\n",
       "      <th>5</th>\n",
       "      <td>Колпинский</td>\n",
       "      <td>0</td>\n",
       "      <td>56</td>\n",
       "      <td>30</td>\n",
       "      <td>16</td>\n",
       "      <td>2</td>\n",
       "      <td>2</td>\n",
       "      <td>2</td>\n",
       "    </tr>\n",
       "    <tr>\n",
       "      <th>6</th>\n",
       "      <td>Красногвардейский</td>\n",
       "      <td>2</td>\n",
       "      <td>88</td>\n",
       "      <td>54</td>\n",
       "      <td>16</td>\n",
       "      <td>2</td>\n",
       "      <td>2</td>\n",
       "      <td>4</td>\n",
       "    </tr>\n",
       "    <tr>\n",
       "      <th>7</th>\n",
       "      <td>Красносельский</td>\n",
       "      <td>0</td>\n",
       "      <td>61</td>\n",
       "      <td>45</td>\n",
       "      <td>19</td>\n",
       "      <td>2</td>\n",
       "      <td>4</td>\n",
       "      <td>4</td>\n",
       "    </tr>\n",
       "    <tr>\n",
       "      <th>8</th>\n",
       "      <td>Московский</td>\n",
       "      <td>6</td>\n",
       "      <td>13</td>\n",
       "      <td>47</td>\n",
       "      <td>15</td>\n",
       "      <td>2</td>\n",
       "      <td>5</td>\n",
       "      <td>3</td>\n",
       "    </tr>\n",
       "    <tr>\n",
       "      <th>9</th>\n",
       "      <td>Невский</td>\n",
       "      <td>7</td>\n",
       "      <td>132</td>\n",
       "      <td>58</td>\n",
       "      <td>23</td>\n",
       "      <td>1</td>\n",
       "      <td>3</td>\n",
       "      <td>6</td>\n",
       "    </tr>\n",
       "    <tr>\n",
       "      <th>10</th>\n",
       "      <td>Петроградский</td>\n",
       "      <td>6</td>\n",
       "      <td>65</td>\n",
       "      <td>31</td>\n",
       "      <td>9</td>\n",
       "      <td>2</td>\n",
       "      <td>4</td>\n",
       "      <td>3</td>\n",
       "    </tr>\n",
       "    <tr>\n",
       "      <th>11</th>\n",
       "      <td>Петродворцовый</td>\n",
       "      <td>0</td>\n",
       "      <td>26</td>\n",
       "      <td>18</td>\n",
       "      <td>8</td>\n",
       "      <td>6</td>\n",
       "      <td>1</td>\n",
       "      <td>2</td>\n",
       "    </tr>\n",
       "    <tr>\n",
       "      <th>12</th>\n",
       "      <td>Приморский</td>\n",
       "      <td>5</td>\n",
       "      <td>130</td>\n",
       "      <td>68</td>\n",
       "      <td>24</td>\n",
       "      <td>1</td>\n",
       "      <td>2</td>\n",
       "      <td>8</td>\n",
       "    </tr>\n",
       "    <tr>\n",
       "      <th>13</th>\n",
       "      <td>Пушкинский</td>\n",
       "      <td>1</td>\n",
       "      <td>48</td>\n",
       "      <td>27</td>\n",
       "      <td>16</td>\n",
       "      <td>2</td>\n",
       "      <td>3</td>\n",
       "      <td>2</td>\n",
       "    </tr>\n",
       "    <tr>\n",
       "      <th>14</th>\n",
       "      <td>Фрунзенский</td>\n",
       "      <td>7</td>\n",
       "      <td>92</td>\n",
       "      <td>51</td>\n",
       "      <td>19</td>\n",
       "      <td>1</td>\n",
       "      <td>2</td>\n",
       "      <td>2</td>\n",
       "    </tr>\n",
       "    <tr>\n",
       "      <th>15</th>\n",
       "      <td>Центральный</td>\n",
       "      <td>11</td>\n",
       "      <td>105</td>\n",
       "      <td>52</td>\n",
       "      <td>11</td>\n",
       "      <td>7</td>\n",
       "      <td>4</td>\n",
       "      <td>3</td>\n",
       "    </tr>\n",
       "    <tr>\n",
       "      <th>16</th>\n",
       "      <td>Всеволожский</td>\n",
       "      <td>0</td>\n",
       "      <td>61</td>\n",
       "      <td>44</td>\n",
       "      <td>25</td>\n",
       "      <td>5</td>\n",
       "      <td>1</td>\n",
       "      <td>0</td>\n",
       "    </tr>\n",
       "  </tbody>\n",
       "</table>\n",
       "</div>"
      ],
      "text/plain": [
       "             district num_of_metro_stations num_of_kindg num_of_schools  \\\n",
       "0      Адмиралтейский                     9           73             46   \n",
       "1    Ваcилеостровский                     3           64             42   \n",
       "2          Выборгский                     6          136             73   \n",
       "3         Калининский                     5          113             61   \n",
       "4           Кировский                     5           97             58   \n",
       "5          Колпинский                     0           56             30   \n",
       "6   Красногвардейский                     2           88             54   \n",
       "7      Красносельский                     0           61             45   \n",
       "8          Московский                     6           13             47   \n",
       "9             Невский                     7          132             58   \n",
       "10      Петроградский                     6           65             31   \n",
       "11     Петродворцовый                     0           26             18   \n",
       "12         Приморский                     5          130             68   \n",
       "13         Пушкинский                     1           48             27   \n",
       "14        Фрунзенский                     7           92             51   \n",
       "15        Центральный                    11          105             52   \n",
       "16       Всеволожский                     0           61             44   \n",
       "\n",
       "   num_of_poly num_of_hospitals num_of_dentists num_of_women_cons  \n",
       "0           12                6               5                 4  \n",
       "1            9                6               4                 1  \n",
       "2           27                7               4                 5  \n",
       "3           24                3               3                 4  \n",
       "4           16                1               6                 3  \n",
       "5           16                2               2                 2  \n",
       "6           16                2               2                 4  \n",
       "7           19                2               4                 4  \n",
       "8           15                2               5                 3  \n",
       "9           23                1               3                 6  \n",
       "10           9                2               4                 3  \n",
       "11           8                6               1                 2  \n",
       "12          24                1               2                 8  \n",
       "13          16                2               3                 2  \n",
       "14          19                1               2                 2  \n",
       "15          11                7               4                 3  \n",
       "16          25                5               1                 0  "
      ]
     },
     "execution_count": 49,
     "metadata": {},
     "output_type": "execute_result"
    }
   ],
   "source": [
    "new_features"
   ]
  },
  {
   "cell_type": "code",
   "execution_count": 50,
   "id": "attended-madonna",
   "metadata": {
    "ExecuteTime": {
     "end_time": "2021-04-25T09:08:38.891590Z",
     "start_time": "2021-04-25T09:08:38.875600Z"
    }
   },
   "outputs": [
    {
     "name": "stdout",
     "output_type": "stream",
     "text": [
      "<class 'pandas.core.frame.DataFrame'>\n",
      "RangeIndex: 17 entries, 0 to 16\n",
      "Data columns (total 8 columns):\n",
      " #   Column                 Non-Null Count  Dtype \n",
      "---  ------                 --------------  ----- \n",
      " 0   district               17 non-null     object\n",
      " 1   num_of_metro_stations  17 non-null     object\n",
      " 2   num_of_kindg           17 non-null     object\n",
      " 3   num_of_schools         17 non-null     object\n",
      " 4   num_of_poly            17 non-null     object\n",
      " 5   num_of_hospitals       17 non-null     object\n",
      " 6   num_of_dentists        17 non-null     object\n",
      " 7   num_of_women_cons      17 non-null     object\n",
      "dtypes: object(8)\n",
      "memory usage: 1.2+ KB\n"
     ]
    }
   ],
   "source": [
    "new_features.info()"
   ]
  },
  {
   "cell_type": "markdown",
   "id": "searching-smell",
   "metadata": {},
   "source": [
    "# ADD NEW FEATURES"
   ]
  },
  {
   "cell_type": "code",
   "execution_count": 51,
   "id": "informational-america",
   "metadata": {
    "ExecuteTime": {
     "end_time": "2021-04-25T09:08:39.019782Z",
     "start_time": "2021-04-25T09:08:38.891590Z"
    }
   },
   "outputs": [],
   "source": [
    "train = train.merge(new_features, how='left')"
   ]
  },
  {
   "cell_type": "code",
   "execution_count": 52,
   "id": "seven-raising",
   "metadata": {
    "ExecuteTime": {
     "end_time": "2021-04-25T09:08:39.087627Z",
     "start_time": "2021-04-25T09:08:39.020791Z"
    }
   },
   "outputs": [],
   "source": [
    "test = test.merge(new_features, how='left')"
   ]
  },
  {
   "cell_type": "code",
   "execution_count": 53,
   "id": "alert-titanium",
   "metadata": {
    "ExecuteTime": {
     "end_time": "2021-04-25T09:08:39.215137Z",
     "start_time": "2021-04-25T09:08:39.087627Z"
    }
   },
   "outputs": [
    {
     "name": "stdout",
     "output_type": "stream",
     "text": [
      "<class 'pandas.core.frame.DataFrame'>\n",
      "Int64Index: 76393 entries, 0 to 76392\n",
      "Data columns (total 35 columns):\n",
      " #   Column                 Non-Null Count  Dtype  \n",
      "---  ------                 --------------  -----  \n",
      " 0   page                   76393 non-null  object \n",
      " 1   description            76393 non-null  object \n",
      " 2   flat_type              76393 non-null  object \n",
      " 3   object_type            76393 non-null  object \n",
      " 4   rooms                  76393 non-null  object \n",
      " 5   floors                 76393 non-null  object \n",
      " 6   square                 76393 non-null  float64\n",
      " 7   kitchen_square         40537 non-null  float64\n",
      " 8   live_square            44509 non-null  float64\n",
      " 9   price                  76393 non-null  float64\n",
      " 10  build_matireal         76393 non-null  object \n",
      " 11  public_date            76393 non-null  object \n",
      " 12  update_date            76393 non-null  object \n",
      " 13  district_rating        76393 non-null  object \n",
      " 14  district               76393 non-null  object \n",
      " 15  underground            76393 non-null  object \n",
      " 16  eco_rating             76393 non-null  object \n",
      " 17  clear_rating           76393 non-null  object \n",
      " 18  gkh_rating             76393 non-null  object \n",
      " 19  neighbor_rating        76393 non-null  object \n",
      " 20  kids_rating            76393 non-null  object \n",
      " 21  sport_rest_rating      76393 non-null  object \n",
      " 22  shop_rating            76393 non-null  object \n",
      " 23  traffic_rating         76393 non-null  object \n",
      " 24  secure_rating          76393 non-null  object \n",
      " 25  life_price_rating      76393 non-null  object \n",
      " 26  total_floors           76393 non-null  object \n",
      " 27  metro_station          76393 non-null  object \n",
      " 28  num_of_metro_stations  75427 non-null  object \n",
      " 29  num_of_kindg           75427 non-null  object \n",
      " 30  num_of_schools         75427 non-null  object \n",
      " 31  num_of_poly            75427 non-null  object \n",
      " 32  num_of_hospitals       75427 non-null  object \n",
      " 33  num_of_dentists        75427 non-null  object \n",
      " 34  num_of_women_cons      75427 non-null  object \n",
      "dtypes: float64(4), object(31)\n",
      "memory usage: 21.0+ MB\n"
     ]
    }
   ],
   "source": [
    "train.info()"
   ]
  },
  {
   "cell_type": "code",
   "execution_count": 54,
   "id": "continued-tuning",
   "metadata": {
    "ExecuteTime": {
     "end_time": "2021-04-25T09:08:39.279320Z",
     "start_time": "2021-04-25T09:08:39.215137Z"
    }
   },
   "outputs": [
    {
     "name": "stdout",
     "output_type": "stream",
     "text": [
      "<class 'pandas.core.frame.DataFrame'>\n",
      "Int64Index: 32738 entries, 0 to 32737\n",
      "Data columns (total 35 columns):\n",
      " #   Column                 Non-Null Count  Dtype  \n",
      "---  ------                 --------------  -----  \n",
      " 0   page                   32738 non-null  object \n",
      " 1   description            32738 non-null  object \n",
      " 2   flat_type              32738 non-null  object \n",
      " 3   object_type            32738 non-null  object \n",
      " 4   rooms                  32738 non-null  object \n",
      " 5   floors                 32738 non-null  object \n",
      " 6   square                 32738 non-null  float64\n",
      " 7   kitchen_square         17338 non-null  float64\n",
      " 8   live_square            18980 non-null  float64\n",
      " 9   price                  32738 non-null  float64\n",
      " 10  build_matireal         32738 non-null  object \n",
      " 11  public_date            32738 non-null  object \n",
      " 12  update_date            32738 non-null  object \n",
      " 13  district_rating        32738 non-null  object \n",
      " 14  district               32738 non-null  object \n",
      " 15  underground            32738 non-null  object \n",
      " 16  eco_rating             32738 non-null  object \n",
      " 17  clear_rating           32738 non-null  object \n",
      " 18  gkh_rating             32738 non-null  object \n",
      " 19  neighbor_rating        32738 non-null  object \n",
      " 20  kids_rating            32738 non-null  object \n",
      " 21  sport_rest_rating      32738 non-null  object \n",
      " 22  shop_rating            32738 non-null  object \n",
      " 23  traffic_rating         32738 non-null  object \n",
      " 24  secure_rating          32738 non-null  object \n",
      " 25  life_price_rating      32738 non-null  object \n",
      " 26  total_floors           32738 non-null  object \n",
      " 27  metro_station          32738 non-null  object \n",
      " 28  num_of_metro_stations  32353 non-null  object \n",
      " 29  num_of_kindg           32353 non-null  object \n",
      " 30  num_of_schools         32353 non-null  object \n",
      " 31  num_of_poly            32353 non-null  object \n",
      " 32  num_of_hospitals       32353 non-null  object \n",
      " 33  num_of_dentists        32353 non-null  object \n",
      " 34  num_of_women_cons      32353 non-null  object \n",
      "dtypes: float64(4), object(31)\n",
      "memory usage: 9.0+ MB\n"
     ]
    }
   ],
   "source": [
    "test.info()"
   ]
  },
  {
   "cell_type": "markdown",
   "id": "recent-playback",
   "metadata": {},
   "source": [
    "# Fill NaN"
   ]
  },
  {
   "cell_type": "markdown",
   "id": "comprehensive-honolulu",
   "metadata": {},
   "source": [
    "**В новых признаках есть пропуски, так как есть объявления в которых район указан как \"Санкт-Петербург\". Это объявления, которые находятся в лен. области. Узнать к какой конкретно району лен. области они относятся нет возможности, пока просто добавлю категорию \"лен. обл.\". При оценке модели нужно будет внимательней посмотреть на эти объявления, возможно в них модель будет ошибться чаще.**"
   ]
  },
  {
   "cell_type": "code",
   "execution_count": 56,
   "id": "numerous-logistics",
   "metadata": {
    "ExecuteTime": {
     "end_time": "2021-04-25T09:08:39.311076Z",
     "start_time": "2021-04-25T09:08:39.295084Z"
    }
   },
   "outputs": [],
   "source": [
    "def fill_new_feat_nan(df):\n",
    "\n",
    "    temp_df = df.copy()\n",
    "\n",
    "    for col in ['num_of_metro_stations', 'num_of_kindg', 'num_of_schools',\n",
    "                'num_of_poly', 'num_of_hospitals', 'num_of_dentists', 'num_of_women_cons']:\n",
    "        \n",
    "        temp_df[col].fillna('Лен. область', inplace=True)\n",
    "    \n",
    "    return temp_df\n",
    "    "
   ]
  },
  {
   "cell_type": "code",
   "execution_count": 57,
   "id": "wrapped-journal",
   "metadata": {
    "ExecuteTime": {
     "end_time": "2021-04-25T09:08:39.375031Z",
     "start_time": "2021-04-25T09:08:39.311076Z"
    }
   },
   "outputs": [],
   "source": [
    "train = fill_new_feat_nan(train)"
   ]
  },
  {
   "cell_type": "code",
   "execution_count": 58,
   "id": "municipal-marine",
   "metadata": {
    "ExecuteTime": {
     "end_time": "2021-04-25T09:08:39.407009Z",
     "start_time": "2021-04-25T09:08:39.375031Z"
    }
   },
   "outputs": [],
   "source": [
    "test = fill_new_feat_nan(test)"
   ]
  },
  {
   "cell_type": "markdown",
   "id": "yellow-definition",
   "metadata": {},
   "source": [
    "# PANDAS PROFILING"
   ]
  },
  {
   "cell_type": "code",
   "execution_count": 60,
   "id": "angry-financing",
   "metadata": {
    "ExecuteTime": {
     "end_time": "2021-04-25T09:22:06.237897Z",
     "start_time": "2021-04-25T09:22:05.992139Z"
    }
   },
   "outputs": [],
   "source": [
    "df = train.append(test, sort=False).reset_index(drop=True)\n",
    "df.drop(columns=['page'], inplace=True)"
   ]
  },
  {
   "cell_type": "code",
   "execution_count": 62,
   "id": "practical-interstate",
   "metadata": {
    "ExecuteTime": {
     "end_time": "2021-04-25T09:22:29.098574Z",
     "start_time": "2021-04-25T09:22:28.612046Z"
    }
   },
   "outputs": [],
   "source": [
    "# Удаляем все выше перечисленные категории.\n",
    "# flat_type - Своб. планировка.\n",
    "df_correct = df.drop(df[df['flat_type'] == 'Своб. планировка'].index)\n",
    "# rooms - Своб. планировка, 7, 8, 9.\n",
    "df_correct.drop(df_correct[(df_correct['rooms'] == 'Своб. планировка') | (df_correct['rooms'] == '7') | \\\n",
    "                   (df_correct['rooms'] == '8') | (df_correct['rooms'] == '9')].index, inplace=True)\n",
    "# floors - 26 - 35.\n",
    "df_correct.drop(df_correct[(df_correct['floors'] == '26') | (df_correct['floors'] == '27') | \\\n",
    "                   (df_correct['floors'] == '28') | (df_correct['floors'] == '29') | \\\n",
    "                   (df_correct['floors'] == '30') | (df_correct['floors'] == '31') | \\\n",
    "                   (df_correct['floors'] == '32') | (df_correct['floors'] == '33') | \\\n",
    "                   (df_correct['floors'] == '34') | (df_correct['floors'] == '35')].index, inplace=True)\n",
    "# build_matireal - блоки, дерево.\n",
    "df_correct.drop(df_correct[(df_correct['build_matireal'] == 'Блоки') | \\\n",
    "                           (df_correct['build_matireal'] == 'Дерево')].index, inplace=True)\n",
    "# total_floors - 1, 30 - 36.\n",
    "df_correct.drop(df_correct[(df_correct['total_floors'] == '1') | (df_correct['total_floors'] == '30') | \\\n",
    "                   (df_correct['total_floors'] == '31') | (df_correct['total_floors'] == '32') | \\\n",
    "                   (df_correct['total_floors'] == '33') | (df_correct['total_floors'] == '34') | \\\n",
    "                   (df_correct['total_floors'] == '35') | (df_correct['total_floors'] == '36')].index, inplace=True)\n",
    "# metro_station - 5км, Пискаревка.\n",
    "df_correct.drop(df_correct[(df_correct['metro_station'] == '5 км') | \\\n",
    "                           (df_correct['metro_station'] == 'Пискарёвка')].index, inplace=True)"
   ]
  },
  {
   "cell_type": "markdown",
   "id": "italic-hunter",
   "metadata": {},
   "source": [
    "## < 400 m2"
   ]
  },
  {
   "cell_type": "code",
   "execution_count": 63,
   "id": "separated-flooring",
   "metadata": {
    "ExecuteTime": {
     "end_time": "2021-04-25T09:22:52.780571Z",
     "start_time": "2021-04-25T09:22:52.654956Z"
    }
   },
   "outputs": [],
   "source": [
    "df_correct_400m2 = df_correct[(df_correct['square']<401) & (df_correct['price']<100000000)].reset_index(drop=True)"
   ]
  },
  {
   "cell_type": "code",
   "execution_count": 65,
   "id": "computational-drink",
   "metadata": {
    "ExecuteTime": {
     "end_time": "2021-04-25T09:23:40.392561Z",
     "start_time": "2021-04-25T09:23:40.326306Z"
    }
   },
   "outputs": [],
   "source": [
    "profile_cat_correct_400m2 = ProfileReport(df_correct_400m2, title=\"Correct categorical flats < 400m2\")"
   ]
  },
  {
   "cell_type": "code",
   "execution_count": 66,
   "id": "concerned-doctrine",
   "metadata": {
    "ExecuteTime": {
     "end_time": "2021-04-25T09:25:39.371561Z",
     "start_time": "2021-04-25T09:24:03.124571Z"
    }
   },
   "outputs": [
    {
     "data": {
      "application/vnd.jupyter.widget-view+json": {
       "model_id": "03f061f230da4f6da0ba2239923765a5",
       "version_major": 2,
       "version_minor": 0
      },
      "text/plain": [
       "Summarize dataset:   0%|          | 0/47 [00:00<?, ?it/s]"
      ]
     },
     "metadata": {},
     "output_type": "display_data"
    },
    {
     "data": {
      "application/vnd.jupyter.widget-view+json": {
       "model_id": "fb75b7d9099b4fa881a7f39d40f87d38",
       "version_major": 2,
       "version_minor": 0
      },
      "text/plain": [
       "Generate report structure:   0%|          | 0/1 [00:00<?, ?it/s]"
      ]
     },
     "metadata": {},
     "output_type": "display_data"
    },
    {
     "data": {
      "application/vnd.jupyter.widget-view+json": {
       "model_id": "47d9781df16b414796ab7284efb75f96",
       "version_major": 2,
       "version_minor": 0
      },
      "text/plain": [
       "Render HTML:   0%|          | 0/1 [00:00<?, ?it/s]"
      ]
     },
     "metadata": {},
     "output_type": "display_data"
    },
    {
     "data": {
      "application/vnd.jupyter.widget-view+json": {
       "model_id": "ed5d1a3e84b847a89f90126dfa3fe3db",
       "version_major": 2,
       "version_minor": 0
      },
      "text/plain": [
       "Export report to file:   0%|          | 0/1 [00:00<?, ?it/s]"
      ]
     },
     "metadata": {},
     "output_type": "display_data"
    }
   ],
   "source": [
    "# Сохраняем рузльтат в HTML.\n",
    "profile_cat_correct_400m2.to_file(\"NEW_FEATURES_400M2_PANDAS_PROFILING_REPORT.html\")"
   ]
  },
  {
   "cell_type": "markdown",
   "id": "public-forge",
   "metadata": {},
   "source": [
    "## < 130 m2"
   ]
  },
  {
   "cell_type": "code",
   "execution_count": 67,
   "id": "material-attempt",
   "metadata": {
    "ExecuteTime": {
     "end_time": "2021-04-25T09:25:44.595347Z",
     "start_time": "2021-04-25T09:25:44.515246Z"
    }
   },
   "outputs": [],
   "source": [
    "df_correct_130m2 = df_correct[(df_correct['square']<131) & (df_correct['price']<100000000)].reset_index(drop=True)"
   ]
  },
  {
   "cell_type": "code",
   "execution_count": 68,
   "id": "french-statistics",
   "metadata": {
    "ExecuteTime": {
     "end_time": "2021-04-25T09:25:46.114350Z",
     "start_time": "2021-04-25T09:25:46.022509Z"
    }
   },
   "outputs": [],
   "source": [
    "profile_cat_correct_130m2 = ProfileReport(df_correct_130m2, title=\"Correct categorical flats < 130m2\")"
   ]
  },
  {
   "cell_type": "code",
   "execution_count": 69,
   "id": "limiting-format",
   "metadata": {
    "ExecuteTime": {
     "end_time": "2021-04-25T09:27:22.284350Z",
     "start_time": "2021-04-25T09:25:47.551317Z"
    }
   },
   "outputs": [
    {
     "data": {
      "application/vnd.jupyter.widget-view+json": {
       "model_id": "2d2ec07a9a3949298169c1fef292d1e9",
       "version_major": 2,
       "version_minor": 0
      },
      "text/plain": [
       "Summarize dataset:   0%|          | 0/47 [00:00<?, ?it/s]"
      ]
     },
     "metadata": {},
     "output_type": "display_data"
    },
    {
     "data": {
      "application/vnd.jupyter.widget-view+json": {
       "model_id": "4b5b301281ba4122b5cac19ac32afd1d",
       "version_major": 2,
       "version_minor": 0
      },
      "text/plain": [
       "Generate report structure:   0%|          | 0/1 [00:00<?, ?it/s]"
      ]
     },
     "metadata": {},
     "output_type": "display_data"
    },
    {
     "data": {
      "application/vnd.jupyter.widget-view+json": {
       "model_id": "09f45cd6c7bb4b81ab080136aabb7da2",
       "version_major": 2,
       "version_minor": 0
      },
      "text/plain": [
       "Render HTML:   0%|          | 0/1 [00:00<?, ?it/s]"
      ]
     },
     "metadata": {},
     "output_type": "display_data"
    },
    {
     "data": {
      "application/vnd.jupyter.widget-view+json": {
       "model_id": "303457278d99466280b9ec029e2d47a9",
       "version_major": 2,
       "version_minor": 0
      },
      "text/plain": [
       "Export report to file:   0%|          | 0/1 [00:00<?, ?it/s]"
      ]
     },
     "metadata": {},
     "output_type": "display_data"
    }
   ],
   "source": [
    "# Сохраняем рузльтат в HTML.\n",
    "profile_cat_correct_130m2.to_file(\"NEW_FEATURES_130M2_PANDAS_PROFILING_REPORT.html\")"
   ]
  },
  {
   "cell_type": "markdown",
   "id": "hybrid-orange",
   "metadata": {},
   "source": [
    "# SWEETVIZ"
   ]
  },
  {
   "cell_type": "code",
   "execution_count": 73,
   "id": "functional-playing",
   "metadata": {
    "ExecuteTime": {
     "end_time": "2021-04-25T09:30:31.070329Z",
     "start_time": "2021-04-25T09:30:30.695719Z"
    }
   },
   "outputs": [],
   "source": [
    "# Удаляем все выше перечисленные категории.\n",
    "# flat_type - Своб. планировка.\n",
    "train_correct = train.drop(train[train['flat_type'] == 'Своб. планировка'].index)\n",
    "# rooms - Своб. планировка, 7, 8, 9.\n",
    "train_correct.drop(train_correct[(train_correct['rooms'] == 'Своб. планировка') | (train_correct['rooms'] == '7') | \\\n",
    "                   (train_correct['rooms'] == '8') | (train_correct['rooms'] == '9')].index, inplace=True)\n",
    "# floors - 26 - 35.\n",
    "train_correct.drop(train_correct[(train_correct['floors'] == '26') | (train_correct['floors'] == '27') | \\\n",
    "                   (train_correct['floors'] == '28') | (train_correct['floors'] == '29') | \\\n",
    "                   (train_correct['floors'] == '30') | (train_correct['floors'] == '31') | \\\n",
    "                   (train_correct['floors'] == '32') | (train_correct['floors'] == '33') | \\\n",
    "                   (train_correct['floors'] == '34') | (train_correct['floors'] == '35')].index, inplace=True)\n",
    "# build_matireal - блоки, дерево.\n",
    "train_correct.drop(train_correct[(train_correct['build_matireal'] == 'Блоки') | \\\n",
    "                           (train_correct['build_matireal'] == 'Дерево')].index, inplace=True)\n",
    "# total_floors - 1, 30 - 36.\n",
    "train_correct.drop(train_correct[(train_correct['total_floors'] == '1') | (train_correct['total_floors'] == '30') | \\\n",
    "                   (train_correct['total_floors'] == '31') | (train_correct['total_floors'] == '32') | \\\n",
    "                   (train_correct['total_floors'] == '33') | (train_correct['total_floors'] == '34') | \\\n",
    "                   (train_correct['total_floors'] == '35') | (train_correct['total_floors'] == '36')].index, inplace=True)\n",
    "# metro_station - 5км, Пискаревка.\n",
    "train_correct.drop(train_correct[(train_correct['metro_station'] == '5 км') | \\\n",
    "                           (train_correct['metro_station'] == 'Пискарёвка')].index, inplace=True)"
   ]
  },
  {
   "cell_type": "code",
   "execution_count": 74,
   "id": "pursuant-intensity",
   "metadata": {
    "ExecuteTime": {
     "end_time": "2021-04-25T09:30:32.974272Z",
     "start_time": "2021-04-25T09:30:32.799416Z"
    }
   },
   "outputs": [],
   "source": [
    "# Удаляем все выше перечисленные категории.\n",
    "# flat_type - Своб. планировка.\n",
    "test_correct = test.drop(test[test['flat_type'] == 'Своб. планировка'].index)\n",
    "# rooms - Своб. планировка, 7, 8, 9.\n",
    "test_correct.drop(test_correct[(test_correct['rooms'] == 'Своб. планировка') | (test_correct['rooms'] == '7') | \\\n",
    "                   (test_correct['rooms'] == '8') | (test_correct['rooms'] == '9')].index, inplace=True)\n",
    "# floors - 26 - 35.\n",
    "test_correct.drop(test_correct[(test_correct['floors'] == '26') | (test_correct['floors'] == '27') | \\\n",
    "                   (test_correct['floors'] == '28') | (test_correct['floors'] == '29') | \\\n",
    "                   (test_correct['floors'] == '30') | (test_correct['floors'] == '31') | \\\n",
    "                   (test_correct['floors'] == '32') | (test_correct['floors'] == '33') | \\\n",
    "                   (test_correct['floors'] == '34') | (test_correct['floors'] == '35')].index, inplace=True)\n",
    "# build_matireal - блоки, дерево.\n",
    "test_correct.drop(test_correct[(test_correct['build_matireal'] == 'Блоки') | \\\n",
    "                           (test_correct['build_matireal'] == 'Дерево')].index, inplace=True)\n",
    "# total_floors - 1, 30 - 36.\n",
    "test_correct.drop(test_correct[(test_correct['total_floors'] == '1') | (test_correct['total_floors'] == '30') | \\\n",
    "                   (test_correct['total_floors'] == '31') | (test_correct['total_floors'] == '32') | \\\n",
    "                   (test_correct['total_floors'] == '33') | (test_correct['total_floors'] == '34') | \\\n",
    "                   (test_correct['total_floors'] == '35') | (test_correct['total_floors'] == '36')].index, inplace=True)\n",
    "# metro_station - 5км, Пискаревка.\n",
    "test_correct.drop(test_correct[(test_correct['metro_station'] == '5 км') | \\\n",
    "                           (test_correct['metro_station'] == 'Пискарёвка')].index, inplace=True)"
   ]
  },
  {
   "cell_type": "markdown",
   "id": "postal-assessment",
   "metadata": {},
   "source": [
    "## < 400 m2"
   ]
  },
  {
   "cell_type": "code",
   "execution_count": 75,
   "id": "buried-tuning",
   "metadata": {
    "ExecuteTime": {
     "end_time": "2021-04-25T09:32:14.866579Z",
     "start_time": "2021-04-25T09:30:38.346292Z"
    }
   },
   "outputs": [
    {
     "data": {
      "application/vnd.jupyter.widget-view+json": {
       "model_id": "6a0a5e0cf5434723a002d42683649816",
       "version_major": 2,
       "version_minor": 0
      },
      "text/plain": [
       "                                             |          | [  0%]   00:00 -> (? left)"
      ]
     },
     "metadata": {},
     "output_type": "display_data"
    }
   ],
   "source": [
    "comparison_report_cat_cor_400m2 = sv.compare([train_correct[(train_correct['square']<401) & (train_correct['price']<100000000)],'Train'], \\\n",
    "                                             [test_correct[(test_correct['square']<401) & (test_correct['price']<100000000)],'Test'], \\\n",
    "                                             target_feat='price')"
   ]
  },
  {
   "cell_type": "code",
   "execution_count": 76,
   "id": "european-branch",
   "metadata": {
    "ExecuteTime": {
     "end_time": "2021-04-25T09:32:17.732420Z",
     "start_time": "2021-04-25T09:32:16.501830Z"
    }
   },
   "outputs": [
    {
     "name": "stdout",
     "output_type": "stream",
     "text": [
      "Report NEW_FEATURES_400M2_SWEETVIZ_REPORT.html was generated! NOTEBOOK/COLAB USERS: the web browser MAY not pop up, regardless, the report IS saved in your notebook/colab files.\n"
     ]
    }
   ],
   "source": [
    "# Сохраняем результат в виде HTML.\n",
    "comparison_report_cat_cor_400m2.show_html(filepath='NEW_FEATURES_400M2_SWEETVIZ_REPORT.html')"
   ]
  },
  {
   "cell_type": "markdown",
   "id": "mental-dallas",
   "metadata": {},
   "source": [
    "## < 130 m2"
   ]
  },
  {
   "cell_type": "code",
   "execution_count": 77,
   "id": "capital-heading",
   "metadata": {
    "ExecuteTime": {
     "end_time": "2021-04-25T09:33:51.207967Z",
     "start_time": "2021-04-25T09:32:19.504657Z"
    }
   },
   "outputs": [
    {
     "data": {
      "application/vnd.jupyter.widget-view+json": {
       "model_id": "45adc7c4d21a4619890cc181bfa00169",
       "version_major": 2,
       "version_minor": 0
      },
      "text/plain": [
       "                                             |          | [  0%]   00:00 -> (? left)"
      ]
     },
     "metadata": {},
     "output_type": "display_data"
    }
   ],
   "source": [
    "comparison_report_cat_cor_130m2 = sv.compare([train_correct[(train_correct['square']<131) & (train_correct['price']<100000000)],'Train'], \\\n",
    "                                             [test_correct[(test_correct['square']<131) & (test_correct['price']<100000000)],'Test'], \\\n",
    "                                             target_feat='price')"
   ]
  },
  {
   "cell_type": "code",
   "execution_count": 78,
   "id": "innocent-advice",
   "metadata": {
    "ExecuteTime": {
     "end_time": "2021-04-25T09:33:53.605318Z",
     "start_time": "2021-04-25T09:33:52.932536Z"
    }
   },
   "outputs": [
    {
     "name": "stdout",
     "output_type": "stream",
     "text": [
      "Report NEW_FEATURES_130M2_SWEETVIZ_REPORT.html was generated! NOTEBOOK/COLAB USERS: the web browser MAY not pop up, regardless, the report IS saved in your notebook/colab files.\n"
     ]
    }
   ],
   "source": [
    "# Сохраняем результат в виде HTML.\n",
    "comparison_report_cat_cor_130m2.show_html(filepath='NEW_FEATURES_130M2_SWEETVIZ_REPORT.html')"
   ]
  }
 ],
 "metadata": {
  "kernelspec": {
   "display_name": "Python 3",
   "language": "python",
   "name": "python3"
  },
  "language_info": {
   "codemirror_mode": {
    "name": "ipython",
    "version": 3
   },
   "file_extension": ".py",
   "mimetype": "text/x-python",
   "name": "python",
   "nbconvert_exporter": "python",
   "pygments_lexer": "ipython3",
   "version": "3.7.7"
  },
  "toc": {
   "base_numbering": 1,
   "nav_menu": {},
   "number_sections": true,
   "sideBar": true,
   "skip_h1_title": false,
   "title_cell": "Table of Contents",
   "title_sidebar": "Contents",
   "toc_cell": false,
   "toc_position": {},
   "toc_section_display": true,
   "toc_window_display": true
  },
  "varInspector": {
   "cols": {
    "lenName": 16,
    "lenType": 16,
    "lenVar": 40
   },
   "kernels_config": {
    "python": {
     "delete_cmd_postfix": "",
     "delete_cmd_prefix": "del ",
     "library": "var_list.py",
     "varRefreshCmd": "print(var_dic_list())"
    },
    "r": {
     "delete_cmd_postfix": ") ",
     "delete_cmd_prefix": "rm(",
     "library": "var_list.r",
     "varRefreshCmd": "cat(var_dic_list()) "
    }
   },
   "types_to_exclude": [
    "module",
    "function",
    "builtin_function_or_method",
    "instance",
    "_Feature"
   ],
   "window_display": false
  }
 },
 "nbformat": 4,
 "nbformat_minor": 5
}
