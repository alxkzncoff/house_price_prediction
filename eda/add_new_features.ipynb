{
 "cells": [
  {
   "cell_type": "markdown",
   "id": "capable-planning",
   "metadata": {},
   "source": [
    "# IMPORT"
   ]
  },
  {
   "cell_type": "code",
   "execution_count": 1,
   "id": "sublime-specific",
   "metadata": {
    "ExecuteTime": {
     "end_time": "2021-07-24T12:40:41.052631Z",
     "start_time": "2021-07-24T12:40:38.493626Z"
    }
   },
   "outputs": [],
   "source": [
    "import pandas as pd\n",
    "import numpy as np\n",
    "\n",
    "from ipywidgets import widgets\n",
    "\n",
    "from pandas_profiling import ProfileReport\n",
    "\n",
    "import sweetviz as sv"
   ]
  },
  {
   "cell_type": "markdown",
   "id": "prerequisite-reason",
   "metadata": {},
   "source": [
    "# DEFINE"
   ]
  },
  {
   "cell_type": "code",
   "execution_count": 2,
   "id": "fourth-portuguese",
   "metadata": {
    "ExecuteTime": {
     "end_time": "2021-07-24T12:40:54.310042Z",
     "start_time": "2021-07-24T12:40:54.304466Z"
    }
   },
   "outputs": [],
   "source": [
    "DATA_PATH = '../data/'"
   ]
  },
  {
   "cell_type": "markdown",
   "id": "abroad-exception",
   "metadata": {},
   "source": [
    "# PREPARATION"
   ]
  },
  {
   "cell_type": "code",
   "execution_count": 3,
   "id": "circular-timer",
   "metadata": {
    "ExecuteTime": {
     "end_time": "2021-07-24T12:41:12.590415Z",
     "start_time": "2021-07-24T12:41:07.341205Z"
    }
   },
   "outputs": [],
   "source": [
    "# train\n",
    "train = pd.read_csv(DATA_PATH+'/train_clean.csv',\n",
    "                    dtype={'floors': str,\n",
    "                           'total_floors': str})\n",
    "# test\n",
    "test = pd.read_csv(DATA_PATH+'test_clean.csv',\n",
    "                    dtype={'floors': str,\n",
    "                           'total_floors': str})"
   ]
  },
  {
   "cell_type": "code",
   "execution_count": 4,
   "id": "tropical-junior",
   "metadata": {
    "ExecuteTime": {
     "end_time": "2021-07-24T12:41:47.293606Z",
     "start_time": "2021-07-24T12:41:47.269670Z"
    }
   },
   "outputs": [],
   "source": [
    "new_features = pd.read_csv(DATA_PATH+'districts_info.csv',\n",
    "                           dtype={'num_of_metro_stations': str,\n",
    "                                  'num_of_kindg': str,\n",
    "                                  'num_of_schools': str,\n",
    "                                  'num_of_poly': str,\n",
    "                                  'num_of_hospitals': str,\n",
    "                                  'num_of_dentists': str,\n",
    "                                  'num_of_women_cons': str,})"
   ]
  },
  {
   "cell_type": "code",
   "execution_count": 5,
   "id": "chubby-increase",
   "metadata": {
    "ExecuteTime": {
     "end_time": "2021-07-24T12:41:49.784013Z",
     "start_time": "2021-07-24T12:41:49.779024Z"
    }
   },
   "outputs": [],
   "source": [
    "new_features.rename(columns={'Unnamed: 0':'district'}, inplace=True)"
   ]
  },
  {
   "cell_type": "code",
   "execution_count": 6,
   "id": "sticky-diary",
   "metadata": {
    "ExecuteTime": {
     "end_time": "2021-07-24T12:41:50.444782Z",
     "start_time": "2021-07-24T12:41:50.415860Z"
    }
   },
   "outputs": [
    {
     "data": {
      "text/html": [
       "<div>\n",
       "<style scoped>\n",
       "    .dataframe tbody tr th:only-of-type {\n",
       "        vertical-align: middle;\n",
       "    }\n",
       "\n",
       "    .dataframe tbody tr th {\n",
       "        vertical-align: top;\n",
       "    }\n",
       "\n",
       "    .dataframe thead th {\n",
       "        text-align: right;\n",
       "    }\n",
       "</style>\n",
       "<table border=\"1\" class=\"dataframe\">\n",
       "  <thead>\n",
       "    <tr style=\"text-align: right;\">\n",
       "      <th></th>\n",
       "      <th>district</th>\n",
       "      <th>num_of_metro_stations</th>\n",
       "      <th>num_of_kindg</th>\n",
       "      <th>num_of_schools</th>\n",
       "      <th>num_of_poly</th>\n",
       "      <th>num_of_hospitals</th>\n",
       "      <th>num_of_dentists</th>\n",
       "      <th>num_of_women_cons</th>\n",
       "    </tr>\n",
       "  </thead>\n",
       "  <tbody>\n",
       "    <tr>\n",
       "      <th>0</th>\n",
       "      <td>Адмиралтейский</td>\n",
       "      <td>9</td>\n",
       "      <td>73</td>\n",
       "      <td>46</td>\n",
       "      <td>12</td>\n",
       "      <td>6</td>\n",
       "      <td>5</td>\n",
       "      <td>4</td>\n",
       "    </tr>\n",
       "    <tr>\n",
       "      <th>1</th>\n",
       "      <td>Ваcилеостровский</td>\n",
       "      <td>3</td>\n",
       "      <td>64</td>\n",
       "      <td>42</td>\n",
       "      <td>9</td>\n",
       "      <td>6</td>\n",
       "      <td>4</td>\n",
       "      <td>1</td>\n",
       "    </tr>\n",
       "    <tr>\n",
       "      <th>2</th>\n",
       "      <td>Выборгский</td>\n",
       "      <td>6</td>\n",
       "      <td>136</td>\n",
       "      <td>73</td>\n",
       "      <td>27</td>\n",
       "      <td>7</td>\n",
       "      <td>4</td>\n",
       "      <td>5</td>\n",
       "    </tr>\n",
       "    <tr>\n",
       "      <th>3</th>\n",
       "      <td>Калининский</td>\n",
       "      <td>5</td>\n",
       "      <td>113</td>\n",
       "      <td>61</td>\n",
       "      <td>24</td>\n",
       "      <td>3</td>\n",
       "      <td>3</td>\n",
       "      <td>4</td>\n",
       "    </tr>\n",
       "    <tr>\n",
       "      <th>4</th>\n",
       "      <td>Кировский</td>\n",
       "      <td>5</td>\n",
       "      <td>97</td>\n",
       "      <td>58</td>\n",
       "      <td>16</td>\n",
       "      <td>1</td>\n",
       "      <td>6</td>\n",
       "      <td>3</td>\n",
       "    </tr>\n",
       "    <tr>\n",
       "      <th>5</th>\n",
       "      <td>Колпинский</td>\n",
       "      <td>0</td>\n",
       "      <td>56</td>\n",
       "      <td>30</td>\n",
       "      <td>16</td>\n",
       "      <td>2</td>\n",
       "      <td>2</td>\n",
       "      <td>2</td>\n",
       "    </tr>\n",
       "    <tr>\n",
       "      <th>6</th>\n",
       "      <td>Красногвардейский</td>\n",
       "      <td>2</td>\n",
       "      <td>88</td>\n",
       "      <td>54</td>\n",
       "      <td>16</td>\n",
       "      <td>2</td>\n",
       "      <td>2</td>\n",
       "      <td>4</td>\n",
       "    </tr>\n",
       "    <tr>\n",
       "      <th>7</th>\n",
       "      <td>Красносельский</td>\n",
       "      <td>0</td>\n",
       "      <td>61</td>\n",
       "      <td>45</td>\n",
       "      <td>19</td>\n",
       "      <td>2</td>\n",
       "      <td>4</td>\n",
       "      <td>4</td>\n",
       "    </tr>\n",
       "    <tr>\n",
       "      <th>8</th>\n",
       "      <td>Московский</td>\n",
       "      <td>6</td>\n",
       "      <td>13</td>\n",
       "      <td>47</td>\n",
       "      <td>15</td>\n",
       "      <td>2</td>\n",
       "      <td>5</td>\n",
       "      <td>3</td>\n",
       "    </tr>\n",
       "    <tr>\n",
       "      <th>9</th>\n",
       "      <td>Невский</td>\n",
       "      <td>7</td>\n",
       "      <td>132</td>\n",
       "      <td>58</td>\n",
       "      <td>23</td>\n",
       "      <td>1</td>\n",
       "      <td>3</td>\n",
       "      <td>6</td>\n",
       "    </tr>\n",
       "    <tr>\n",
       "      <th>10</th>\n",
       "      <td>Петроградский</td>\n",
       "      <td>6</td>\n",
       "      <td>65</td>\n",
       "      <td>31</td>\n",
       "      <td>9</td>\n",
       "      <td>2</td>\n",
       "      <td>4</td>\n",
       "      <td>3</td>\n",
       "    </tr>\n",
       "    <tr>\n",
       "      <th>11</th>\n",
       "      <td>Петродворцовый</td>\n",
       "      <td>0</td>\n",
       "      <td>26</td>\n",
       "      <td>18</td>\n",
       "      <td>8</td>\n",
       "      <td>6</td>\n",
       "      <td>1</td>\n",
       "      <td>2</td>\n",
       "    </tr>\n",
       "    <tr>\n",
       "      <th>12</th>\n",
       "      <td>Приморский</td>\n",
       "      <td>5</td>\n",
       "      <td>130</td>\n",
       "      <td>68</td>\n",
       "      <td>24</td>\n",
       "      <td>1</td>\n",
       "      <td>2</td>\n",
       "      <td>8</td>\n",
       "    </tr>\n",
       "    <tr>\n",
       "      <th>13</th>\n",
       "      <td>Пушкинский</td>\n",
       "      <td>1</td>\n",
       "      <td>48</td>\n",
       "      <td>27</td>\n",
       "      <td>16</td>\n",
       "      <td>2</td>\n",
       "      <td>3</td>\n",
       "      <td>2</td>\n",
       "    </tr>\n",
       "    <tr>\n",
       "      <th>14</th>\n",
       "      <td>Фрунзенский</td>\n",
       "      <td>7</td>\n",
       "      <td>92</td>\n",
       "      <td>51</td>\n",
       "      <td>19</td>\n",
       "      <td>1</td>\n",
       "      <td>2</td>\n",
       "      <td>2</td>\n",
       "    </tr>\n",
       "    <tr>\n",
       "      <th>15</th>\n",
       "      <td>Центральный</td>\n",
       "      <td>11</td>\n",
       "      <td>105</td>\n",
       "      <td>52</td>\n",
       "      <td>11</td>\n",
       "      <td>7</td>\n",
       "      <td>4</td>\n",
       "      <td>3</td>\n",
       "    </tr>\n",
       "    <tr>\n",
       "      <th>16</th>\n",
       "      <td>Всеволожский</td>\n",
       "      <td>0</td>\n",
       "      <td>61</td>\n",
       "      <td>44</td>\n",
       "      <td>25</td>\n",
       "      <td>5</td>\n",
       "      <td>1</td>\n",
       "      <td>0</td>\n",
       "    </tr>\n",
       "  </tbody>\n",
       "</table>\n",
       "</div>"
      ],
      "text/plain": [
       "             district num_of_metro_stations num_of_kindg num_of_schools  \\\n",
       "0      Адмиралтейский                     9           73             46   \n",
       "1    Ваcилеостровский                     3           64             42   \n",
       "2          Выборгский                     6          136             73   \n",
       "3         Калининский                     5          113             61   \n",
       "4           Кировский                     5           97             58   \n",
       "5          Колпинский                     0           56             30   \n",
       "6   Красногвардейский                     2           88             54   \n",
       "7      Красносельский                     0           61             45   \n",
       "8          Московский                     6           13             47   \n",
       "9             Невский                     7          132             58   \n",
       "10      Петроградский                     6           65             31   \n",
       "11     Петродворцовый                     0           26             18   \n",
       "12         Приморский                     5          130             68   \n",
       "13         Пушкинский                     1           48             27   \n",
       "14        Фрунзенский                     7           92             51   \n",
       "15        Центральный                    11          105             52   \n",
       "16       Всеволожский                     0           61             44   \n",
       "\n",
       "   num_of_poly num_of_hospitals num_of_dentists num_of_women_cons  \n",
       "0           12                6               5                 4  \n",
       "1            9                6               4                 1  \n",
       "2           27                7               4                 5  \n",
       "3           24                3               3                 4  \n",
       "4           16                1               6                 3  \n",
       "5           16                2               2                 2  \n",
       "6           16                2               2                 4  \n",
       "7           19                2               4                 4  \n",
       "8           15                2               5                 3  \n",
       "9           23                1               3                 6  \n",
       "10           9                2               4                 3  \n",
       "11           8                6               1                 2  \n",
       "12          24                1               2                 8  \n",
       "13          16                2               3                 2  \n",
       "14          19                1               2                 2  \n",
       "15          11                7               4                 3  \n",
       "16          25                5               1                 0  "
      ]
     },
     "execution_count": 6,
     "metadata": {},
     "output_type": "execute_result"
    }
   ],
   "source": [
    "new_features"
   ]
  },
  {
   "cell_type": "code",
   "execution_count": 7,
   "id": "attended-madonna",
   "metadata": {
    "ExecuteTime": {
     "end_time": "2021-07-24T12:41:53.256940Z",
     "start_time": "2021-07-24T12:41:53.242979Z"
    }
   },
   "outputs": [
    {
     "name": "stdout",
     "output_type": "stream",
     "text": [
      "<class 'pandas.core.frame.DataFrame'>\n",
      "RangeIndex: 17 entries, 0 to 16\n",
      "Data columns (total 8 columns):\n",
      " #   Column                 Non-Null Count  Dtype \n",
      "---  ------                 --------------  ----- \n",
      " 0   district               17 non-null     object\n",
      " 1   num_of_metro_stations  17 non-null     object\n",
      " 2   num_of_kindg           17 non-null     object\n",
      " 3   num_of_schools         17 non-null     object\n",
      " 4   num_of_poly            17 non-null     object\n",
      " 5   num_of_hospitals       17 non-null     object\n",
      " 6   num_of_dentists        17 non-null     object\n",
      " 7   num_of_women_cons      17 non-null     object\n",
      "dtypes: object(8)\n",
      "memory usage: 1.2+ KB\n"
     ]
    }
   ],
   "source": [
    "new_features.info()"
   ]
  },
  {
   "cell_type": "markdown",
   "id": "searching-smell",
   "metadata": {},
   "source": [
    "# ADD NEW FEATURES"
   ]
  },
  {
   "cell_type": "code",
   "execution_count": 8,
   "id": "informational-america",
   "metadata": {
    "ExecuteTime": {
     "end_time": "2021-07-24T12:41:55.152570Z",
     "start_time": "2021-07-24T12:41:55.029363Z"
    }
   },
   "outputs": [],
   "source": [
    "train = train.merge(new_features, how='left')"
   ]
  },
  {
   "cell_type": "code",
   "execution_count": 9,
   "id": "seven-raising",
   "metadata": {
    "ExecuteTime": {
     "end_time": "2021-07-24T12:41:56.687858Z",
     "start_time": "2021-07-24T12:41:56.619191Z"
    }
   },
   "outputs": [],
   "source": [
    "test = test.merge(new_features, how='left')"
   ]
  },
  {
   "cell_type": "code",
   "execution_count": 10,
   "id": "alert-titanium",
   "metadata": {
    "ExecuteTime": {
     "end_time": "2021-07-24T12:41:59.039641Z",
     "start_time": "2021-07-24T12:41:58.909498Z"
    }
   },
   "outputs": [
    {
     "name": "stdout",
     "output_type": "stream",
     "text": [
      "<class 'pandas.core.frame.DataFrame'>\n",
      "Int64Index: 98459 entries, 0 to 98458\n",
      "Data columns (total 35 columns):\n",
      " #   Column                 Non-Null Count  Dtype  \n",
      "---  ------                 --------------  -----  \n",
      " 0   page                   98459 non-null  object \n",
      " 1   description            98459 non-null  object \n",
      " 2   flat_type              98459 non-null  object \n",
      " 3   object_type            98459 non-null  object \n",
      " 4   rooms                  98459 non-null  object \n",
      " 5   floors                 98459 non-null  object \n",
      " 6   square                 98459 non-null  float64\n",
      " 7   kitchen_square         55863 non-null  float64\n",
      " 8   live_square            61432 non-null  float64\n",
      " 9   price                  98459 non-null  float64\n",
      " 10  build_matireal         98459 non-null  object \n",
      " 11  public_date            98459 non-null  object \n",
      " 12  update_date            98459 non-null  object \n",
      " 13  district_rating        98459 non-null  object \n",
      " 14  district               98459 non-null  object \n",
      " 15  underground            98459 non-null  object \n",
      " 16  eco_rating             98459 non-null  object \n",
      " 17  clear_rating           98459 non-null  object \n",
      " 18  gkh_rating             98459 non-null  object \n",
      " 19  neighbor_rating        98459 non-null  object \n",
      " 20  kids_rating            98459 non-null  object \n",
      " 21  sport_rest_rating      98459 non-null  object \n",
      " 22  shop_rating            98459 non-null  object \n",
      " 23  traffic_rating         98459 non-null  object \n",
      " 24  secure_rating          98459 non-null  object \n",
      " 25  life_price_rating      98459 non-null  object \n",
      " 26  total_floors           98459 non-null  object \n",
      " 27  metro_station          98459 non-null  object \n",
      " 28  num_of_metro_stations  97050 non-null  object \n",
      " 29  num_of_kindg           97050 non-null  object \n",
      " 30  num_of_schools         97050 non-null  object \n",
      " 31  num_of_poly            97050 non-null  object \n",
      " 32  num_of_hospitals       97050 non-null  object \n",
      " 33  num_of_dentists        97050 non-null  object \n",
      " 34  num_of_women_cons      97050 non-null  object \n",
      "dtypes: float64(4), object(31)\n",
      "memory usage: 27.0+ MB\n"
     ]
    }
   ],
   "source": [
    "train.info()"
   ]
  },
  {
   "cell_type": "code",
   "execution_count": 11,
   "id": "continued-tuning",
   "metadata": {
    "ExecuteTime": {
     "end_time": "2021-07-24T12:42:05.888656Z",
     "start_time": "2021-07-24T12:42:05.823842Z"
    }
   },
   "outputs": [
    {
     "name": "stdout",
     "output_type": "stream",
     "text": [
      "<class 'pandas.core.frame.DataFrame'>\n",
      "Int64Index: 42192 entries, 0 to 42191\n",
      "Data columns (total 35 columns):\n",
      " #   Column                 Non-Null Count  Dtype  \n",
      "---  ------                 --------------  -----  \n",
      " 0   page                   42192 non-null  object \n",
      " 1   description            42192 non-null  object \n",
      " 2   flat_type              42192 non-null  object \n",
      " 3   object_type            42192 non-null  object \n",
      " 4   rooms                  42192 non-null  object \n",
      " 5   floors                 42192 non-null  object \n",
      " 6   square                 42192 non-null  float64\n",
      " 7   kitchen_square         23937 non-null  float64\n",
      " 8   live_square            26304 non-null  float64\n",
      " 9   price                  42192 non-null  float64\n",
      " 10  build_matireal         42192 non-null  object \n",
      " 11  public_date            42192 non-null  object \n",
      " 12  update_date            42192 non-null  object \n",
      " 13  district_rating        42192 non-null  object \n",
      " 14  district               42192 non-null  object \n",
      " 15  underground            42192 non-null  object \n",
      " 16  eco_rating             42192 non-null  object \n",
      " 17  clear_rating           42192 non-null  object \n",
      " 18  gkh_rating             42192 non-null  object \n",
      " 19  neighbor_rating        42192 non-null  object \n",
      " 20  kids_rating            42192 non-null  object \n",
      " 21  sport_rest_rating      42192 non-null  object \n",
      " 22  shop_rating            42192 non-null  object \n",
      " 23  traffic_rating         42192 non-null  object \n",
      " 24  secure_rating          42192 non-null  object \n",
      " 25  life_price_rating      42192 non-null  object \n",
      " 26  total_floors           42192 non-null  object \n",
      " 27  metro_station          42192 non-null  object \n",
      " 28  num_of_metro_stations  41559 non-null  object \n",
      " 29  num_of_kindg           41559 non-null  object \n",
      " 30  num_of_schools         41559 non-null  object \n",
      " 31  num_of_poly            41559 non-null  object \n",
      " 32  num_of_hospitals       41559 non-null  object \n",
      " 33  num_of_dentists        41559 non-null  object \n",
      " 34  num_of_women_cons      41559 non-null  object \n",
      "dtypes: float64(4), object(31)\n",
      "memory usage: 11.6+ MB\n"
     ]
    }
   ],
   "source": [
    "test.info()"
   ]
  },
  {
   "cell_type": "markdown",
   "id": "recent-playback",
   "metadata": {},
   "source": [
    "# Fill NaN"
   ]
  },
  {
   "cell_type": "markdown",
   "id": "comprehensive-honolulu",
   "metadata": {},
   "source": [
    "**В новых признаках есть пропуски, так как есть объявления в которых район указан как \"Санкт-Петербург\". Это объявления, которые находятся в лен. области. Узнать к какой конкретно району лен. области они относятся нет возможности, пока просто добавлю категорию \"лен. обл.\". При оценке модели нужно будет внимательней посмотреть на эти объявления, возможно в них модель будет ошибться чаще.**"
   ]
  },
  {
   "cell_type": "code",
   "execution_count": 12,
   "id": "numerous-logistics",
   "metadata": {
    "ExecuteTime": {
     "end_time": "2021-07-24T12:42:16.205089Z",
     "start_time": "2021-07-24T12:42:16.195597Z"
    }
   },
   "outputs": [],
   "source": [
    "def fill_new_feat_nan(df):\n",
    "\n",
    "    temp_df = df.copy()\n",
    "\n",
    "    for col in ['num_of_metro_stations', 'num_of_kindg', 'num_of_schools',\n",
    "                'num_of_poly', 'num_of_hospitals', 'num_of_dentists', 'num_of_women_cons']:\n",
    "        \n",
    "        temp_df[col].fillna('Лен. область', inplace=True)\n",
    "    \n",
    "    return temp_df\n",
    "    "
   ]
  },
  {
   "cell_type": "code",
   "execution_count": 13,
   "id": "wrapped-journal",
   "metadata": {
    "ExecuteTime": {
     "end_time": "2021-07-24T12:42:16.918200Z",
     "start_time": "2021-07-24T12:42:16.846182Z"
    }
   },
   "outputs": [],
   "source": [
    "train = fill_new_feat_nan(train)"
   ]
  },
  {
   "cell_type": "code",
   "execution_count": 14,
   "id": "municipal-marine",
   "metadata": {
    "ExecuteTime": {
     "end_time": "2021-07-24T12:42:17.359150Z",
     "start_time": "2021-07-24T12:42:17.324185Z"
    }
   },
   "outputs": [],
   "source": [
    "test = fill_new_feat_nan(test)"
   ]
  },
  {
   "cell_type": "code",
   "execution_count": 15,
   "id": "bibliographic-liquid",
   "metadata": {
    "ExecuteTime": {
     "end_time": "2021-07-24T12:42:17.858110Z",
     "start_time": "2021-07-24T12:42:17.769664Z"
    }
   },
   "outputs": [],
   "source": [
    "train.drop(columns=['public_date', 'update_date'], inplace=True)"
   ]
  },
  {
   "cell_type": "code",
   "execution_count": 16,
   "id": "careful-platform",
   "metadata": {
    "ExecuteTime": {
     "end_time": "2021-07-24T12:42:18.318349Z",
     "start_time": "2021-07-24T12:42:18.269912Z"
    }
   },
   "outputs": [],
   "source": [
    "test.drop(columns=['public_date', 'update_date'], inplace=True)"
   ]
  },
  {
   "cell_type": "code",
   "execution_count": 17,
   "id": "passing-envelope",
   "metadata": {
    "ExecuteTime": {
     "end_time": "2021-07-24T12:42:22.442728Z",
     "start_time": "2021-07-24T12:42:18.682192Z"
    }
   },
   "outputs": [],
   "source": [
    "train.to_csv('../data/train_new_features.csv', index=False)"
   ]
  },
  {
   "cell_type": "code",
   "execution_count": 18,
   "id": "general-mechanism",
   "metadata": {
    "ExecuteTime": {
     "end_time": "2021-07-24T12:42:24.234612Z",
     "start_time": "2021-07-24T12:42:22.668010Z"
    }
   },
   "outputs": [],
   "source": [
    "test.to_csv('../data/test_new_features.csv', index=False)"
   ]
  },
  {
   "cell_type": "markdown",
   "id": "yellow-definition",
   "metadata": {},
   "source": [
    "# PANDAS PROFILING"
   ]
  },
  {
   "cell_type": "code",
   "execution_count": 19,
   "id": "angry-financing",
   "metadata": {
    "ExecuteTime": {
     "end_time": "2021-07-24T12:54:03.430668Z",
     "start_time": "2021-07-24T12:53:56.557201Z"
    }
   },
   "outputs": [],
   "source": [
    "df = train.append(test, sort=False).reset_index(drop=True)\n",
    "df.drop(columns=['page'], inplace=True)"
   ]
  },
  {
   "cell_type": "code",
   "execution_count": 20,
   "id": "practical-interstate",
   "metadata": {
    "ExecuteTime": {
     "end_time": "2021-07-24T12:54:04.458931Z",
     "start_time": "2021-07-24T12:54:03.812275Z"
    }
   },
   "outputs": [],
   "source": [
    "# Удаляем все выше перечисленные категории.\n",
    "# flat_type - Своб. планировка.\n",
    "df_correct = df.drop(df[df['flat_type'] == 'Своб. планировка'].index)\n",
    "# rooms - Своб. планировка, 7, 8, 9.\n",
    "df_correct.drop(df_correct[(df_correct['rooms'] == 'Своб. планировка') | (df_correct['rooms'] == '7') | \\\n",
    "                   (df_correct['rooms'] == '8') | (df_correct['rooms'] == '9')].index, inplace=True)\n",
    "# floors - 26 - 35.\n",
    "df_correct.drop(df_correct[(df_correct['floors'] == '26') | (df_correct['floors'] == '27') | \\\n",
    "                   (df_correct['floors'] == '28') | (df_correct['floors'] == '29') | \\\n",
    "                   (df_correct['floors'] == '30') | (df_correct['floors'] == '31') | \\\n",
    "                   (df_correct['floors'] == '32') | (df_correct['floors'] == '33') | \\\n",
    "                   (df_correct['floors'] == '34') | (df_correct['floors'] == '35')].index, inplace=True)\n",
    "# build_matireal - блоки, дерево.\n",
    "df_correct.drop(df_correct[(df_correct['build_matireal'] == 'Блоки') | \\\n",
    "                           (df_correct['build_matireal'] == 'Дерево')].index, inplace=True)\n",
    "# total_floors - 1, 30 - 36.\n",
    "df_correct.drop(df_correct[(df_correct['total_floors'] == '1') | (df_correct['total_floors'] == '30') | \\\n",
    "                   (df_correct['total_floors'] == '31') | (df_correct['total_floors'] == '32') | \\\n",
    "                   (df_correct['total_floors'] == '33') | (df_correct['total_floors'] == '34') | \\\n",
    "                   (df_correct['total_floors'] == '35') | (df_correct['total_floors'] == '36')].index, inplace=True)\n",
    "# metro_station - 5км, Пискаревка.\n",
    "df_correct.drop(df_correct[(df_correct['metro_station'] == '5 км') | \\\n",
    "                           (df_correct['metro_station'] == 'Пискарёвка')].index, inplace=True)"
   ]
  },
  {
   "cell_type": "markdown",
   "id": "italic-hunter",
   "metadata": {},
   "source": [
    "## < 400 m2"
   ]
  },
  {
   "cell_type": "code",
   "execution_count": 21,
   "id": "separated-flooring",
   "metadata": {
    "ExecuteTime": {
     "end_time": "2021-07-24T12:54:05.146449Z",
     "start_time": "2021-07-24T12:54:04.956812Z"
    }
   },
   "outputs": [],
   "source": [
    "df_correct_400m2 = df_correct[(df_correct['square']<401) & (df_correct['price']<100000000)].reset_index(drop=True)"
   ]
  },
  {
   "cell_type": "code",
   "execution_count": 22,
   "id": "computational-drink",
   "metadata": {
    "ExecuteTime": {
     "end_time": "2021-07-24T12:54:05.880166Z",
     "start_time": "2021-07-24T12:54:05.713672Z"
    }
   },
   "outputs": [],
   "source": [
    "profile_cat_correct_400m2 = ProfileReport(df_correct_400m2, title=\"Correct categorical flats < 400m2\")"
   ]
  },
  {
   "cell_type": "code",
   "execution_count": 23,
   "id": "concerned-doctrine",
   "metadata": {
    "ExecuteTime": {
     "end_time": "2021-07-24T12:56:07.345857Z",
     "start_time": "2021-07-24T12:54:06.451641Z"
    }
   },
   "outputs": [
    {
     "data": {
      "application/vnd.jupyter.widget-view+json": {
       "model_id": "1713a482c43b4bd7a6b68ff30d333ef7",
       "version_major": 2,
       "version_minor": 0
      },
      "text/plain": [
       "Summarize dataset:   0%|          | 0/45 [00:00<?, ?it/s]"
      ]
     },
     "metadata": {},
     "output_type": "display_data"
    },
    {
     "data": {
      "application/vnd.jupyter.widget-view+json": {
       "model_id": "64914df98c504e47ae967402c37cfb46",
       "version_major": 2,
       "version_minor": 0
      },
      "text/plain": [
       "Generate report structure:   0%|          | 0/1 [00:00<?, ?it/s]"
      ]
     },
     "metadata": {},
     "output_type": "display_data"
    },
    {
     "data": {
      "application/vnd.jupyter.widget-view+json": {
       "model_id": "46ee769c46154d75a805f92cb1991fa3",
       "version_major": 2,
       "version_minor": 0
      },
      "text/plain": [
       "Render HTML:   0%|          | 0/1 [00:00<?, ?it/s]"
      ]
     },
     "metadata": {},
     "output_type": "display_data"
    },
    {
     "data": {
      "application/vnd.jupyter.widget-view+json": {
       "model_id": "4e14440facb04fd986a915e0a5346d9a",
       "version_major": 2,
       "version_minor": 0
      },
      "text/plain": [
       "Export report to file:   0%|          | 0/1 [00:00<?, ?it/s]"
      ]
     },
     "metadata": {},
     "output_type": "display_data"
    }
   ],
   "source": [
    "# Сохраняем рузльтат в HTML.\n",
    "profile_cat_correct_400m2.to_file(\"NEW_FEATURES_400M2_PANDAS_PROFILING_REPORT.html\")"
   ]
  },
  {
   "cell_type": "markdown",
   "id": "public-forge",
   "metadata": {},
   "source": [
    "## < 130 m2"
   ]
  },
  {
   "cell_type": "code",
   "execution_count": 24,
   "id": "material-attempt",
   "metadata": {
    "ExecuteTime": {
     "end_time": "2021-07-24T12:56:08.199301Z",
     "start_time": "2021-07-24T12:56:08.096781Z"
    }
   },
   "outputs": [],
   "source": [
    "df_correct_130m2 = df_correct[(df_correct['square']<131) & (df_correct['price']<100000000)].reset_index(drop=True)"
   ]
  },
  {
   "cell_type": "code",
   "execution_count": 25,
   "id": "french-statistics",
   "metadata": {
    "ExecuteTime": {
     "end_time": "2021-07-24T12:56:08.923252Z",
     "start_time": "2021-07-24T12:56:08.861731Z"
    }
   },
   "outputs": [],
   "source": [
    "profile_cat_correct_130m2 = ProfileReport(df_correct_130m2, title=\"Correct categorical flats < 130m2\")"
   ]
  },
  {
   "cell_type": "code",
   "execution_count": 26,
   "id": "limiting-format",
   "metadata": {
    "ExecuteTime": {
     "end_time": "2021-07-24T12:57:47.856148Z",
     "start_time": "2021-07-24T12:56:09.556818Z"
    }
   },
   "outputs": [
    {
     "data": {
      "application/vnd.jupyter.widget-view+json": {
       "model_id": "a6e246cf3c8542968e5bc420c7d81111",
       "version_major": 2,
       "version_minor": 0
      },
      "text/plain": [
       "Summarize dataset:   0%|          | 0/45 [00:00<?, ?it/s]"
      ]
     },
     "metadata": {},
     "output_type": "display_data"
    },
    {
     "data": {
      "application/vnd.jupyter.widget-view+json": {
       "model_id": "70bf65b51538440089ae812c04b90e3d",
       "version_major": 2,
       "version_minor": 0
      },
      "text/plain": [
       "Generate report structure:   0%|          | 0/1 [00:00<?, ?it/s]"
      ]
     },
     "metadata": {},
     "output_type": "display_data"
    },
    {
     "data": {
      "application/vnd.jupyter.widget-view+json": {
       "model_id": "481d0e7bf8064d16b6a4706edf1273f7",
       "version_major": 2,
       "version_minor": 0
      },
      "text/plain": [
       "Render HTML:   0%|          | 0/1 [00:00<?, ?it/s]"
      ]
     },
     "metadata": {},
     "output_type": "display_data"
    },
    {
     "data": {
      "application/vnd.jupyter.widget-view+json": {
       "model_id": "45ec5cd6fa7a49279766fe959cb6219e",
       "version_major": 2,
       "version_minor": 0
      },
      "text/plain": [
       "Export report to file:   0%|          | 0/1 [00:00<?, ?it/s]"
      ]
     },
     "metadata": {},
     "output_type": "display_data"
    }
   ],
   "source": [
    "# Сохраняем рузльтат в HTML.\n",
    "profile_cat_correct_130m2.to_file(\"NEW_FEATURES_130M2_PANDAS_PROFILING_REPORT.html\")"
   ]
  },
  {
   "cell_type": "markdown",
   "id": "hybrid-orange",
   "metadata": {},
   "source": [
    "# SWEETVIZ"
   ]
  },
  {
   "cell_type": "code",
   "execution_count": 27,
   "id": "functional-playing",
   "metadata": {
    "ExecuteTime": {
     "end_time": "2021-07-24T12:57:48.940800Z",
     "start_time": "2021-07-24T12:57:48.525520Z"
    }
   },
   "outputs": [],
   "source": [
    "# Удаляем все выше перечисленные категории.\n",
    "# flat_type - Своб. планировка.\n",
    "train_correct = train.drop(train[train['flat_type'] == 'Своб. планировка'].index)\n",
    "# rooms - Своб. планировка, 7, 8, 9.\n",
    "train_correct.drop(train_correct[(train_correct['rooms'] == 'Своб. планировка') | (train_correct['rooms'] == '7') | \\\n",
    "                   (train_correct['rooms'] == '8') | (train_correct['rooms'] == '9')].index, inplace=True)\n",
    "# floors - 26 - 35.\n",
    "train_correct.drop(train_correct[(train_correct['floors'] == '26') | (train_correct['floors'] == '27') | \\\n",
    "                   (train_correct['floors'] == '28') | (train_correct['floors'] == '29') | \\\n",
    "                   (train_correct['floors'] == '30') | (train_correct['floors'] == '31') | \\\n",
    "                   (train_correct['floors'] == '32') | (train_correct['floors'] == '33') | \\\n",
    "                   (train_correct['floors'] == '34') | (train_correct['floors'] == '35')].index, inplace=True)\n",
    "# build_matireal - блоки, дерево.\n",
    "train_correct.drop(train_correct[(train_correct['build_matireal'] == 'Блоки') | \\\n",
    "                           (train_correct['build_matireal'] == 'Дерево')].index, inplace=True)\n",
    "# total_floors - 1, 30 - 36.\n",
    "train_correct.drop(train_correct[(train_correct['total_floors'] == '1') | (train_correct['total_floors'] == '30') | \\\n",
    "                   (train_correct['total_floors'] == '31') | (train_correct['total_floors'] == '32') | \\\n",
    "                   (train_correct['total_floors'] == '33') | (train_correct['total_floors'] == '34') | \\\n",
    "                   (train_correct['total_floors'] == '35') | (train_correct['total_floors'] == '36')].index, inplace=True)\n",
    "# metro_station - 5км, Пискаревка.\n",
    "train_correct.drop(train_correct[(train_correct['metro_station'] == '5 км') | \\\n",
    "                           (train_correct['metro_station'] == 'Пискарёвка')].index, inplace=True)"
   ]
  },
  {
   "cell_type": "code",
   "execution_count": 28,
   "id": "pursuant-intensity",
   "metadata": {
    "ExecuteTime": {
     "end_time": "2021-07-24T12:57:49.886890Z",
     "start_time": "2021-07-24T12:57:49.696688Z"
    }
   },
   "outputs": [],
   "source": [
    "# Удаляем все выше перечисленные категории.\n",
    "# flat_type - Своб. планировка.\n",
    "test_correct = test.drop(test[test['flat_type'] == 'Своб. планировка'].index)\n",
    "# rooms - Своб. планировка, 7, 8, 9.\n",
    "test_correct.drop(test_correct[(test_correct['rooms'] == 'Своб. планировка') | (test_correct['rooms'] == '7') | \\\n",
    "                   (test_correct['rooms'] == '8') | (test_correct['rooms'] == '9')].index, inplace=True)\n",
    "# floors - 26 - 35.\n",
    "test_correct.drop(test_correct[(test_correct['floors'] == '26') | (test_correct['floors'] == '27') | \\\n",
    "                   (test_correct['floors'] == '28') | (test_correct['floors'] == '29') | \\\n",
    "                   (test_correct['floors'] == '30') | (test_correct['floors'] == '31') | \\\n",
    "                   (test_correct['floors'] == '32') | (test_correct['floors'] == '33') | \\\n",
    "                   (test_correct['floors'] == '34') | (test_correct['floors'] == '35')].index, inplace=True)\n",
    "# build_matireal - блоки, дерево.\n",
    "test_correct.drop(test_correct[(test_correct['build_matireal'] == 'Блоки') | \\\n",
    "                           (test_correct['build_matireal'] == 'Дерево')].index, inplace=True)\n",
    "# total_floors - 1, 30 - 36.\n",
    "test_correct.drop(test_correct[(test_correct['total_floors'] == '1') | (test_correct['total_floors'] == '30') | \\\n",
    "                   (test_correct['total_floors'] == '31') | (test_correct['total_floors'] == '32') | \\\n",
    "                   (test_correct['total_floors'] == '33') | (test_correct['total_floors'] == '34') | \\\n",
    "                   (test_correct['total_floors'] == '35') | (test_correct['total_floors'] == '36')].index, inplace=True)\n",
    "# metro_station - 5км, Пискаревка.\n",
    "test_correct.drop(test_correct[(test_correct['metro_station'] == '5 км') | \\\n",
    "                           (test_correct['metro_station'] == 'Пискарёвка')].index, inplace=True)"
   ]
  },
  {
   "cell_type": "markdown",
   "id": "postal-assessment",
   "metadata": {},
   "source": [
    "## < 400 m2"
   ]
  },
  {
   "cell_type": "code",
   "execution_count": 29,
   "id": "buried-tuning",
   "metadata": {
    "ExecuteTime": {
     "end_time": "2021-07-24T13:00:00.303527Z",
     "start_time": "2021-07-24T12:57:50.676280Z"
    }
   },
   "outputs": [
    {
     "data": {
      "application/vnd.jupyter.widget-view+json": {
       "model_id": "90055a62d9ce40bf86061890f717db54",
       "version_major": 2,
       "version_minor": 0
      },
      "text/plain": [
       "                                             |          | [  0%]   00:00 -> (? left)"
      ]
     },
     "metadata": {},
     "output_type": "display_data"
    }
   ],
   "source": [
    "comparison_report_cat_cor_400m2 = sv.compare([train_correct[(train_correct['square']<401) & (train_correct['price']<100000000)],'Train'], \\\n",
    "                                             [test_correct[(test_correct['square']<401) & (test_correct['price']<100000000)],'Test'], \\\n",
    "                                             target_feat='price')"
   ]
  },
  {
   "cell_type": "code",
   "execution_count": 30,
   "id": "european-branch",
   "metadata": {
    "ExecuteTime": {
     "end_time": "2021-07-24T13:00:03.350999Z",
     "start_time": "2021-07-24T13:00:02.044707Z"
    }
   },
   "outputs": [
    {
     "name": "stdout",
     "output_type": "stream",
     "text": [
      "Report NEW_FEATURES_400M2_SWEETVIZ_REPORT.html was generated! NOTEBOOK/COLAB USERS: the web browser MAY not pop up, regardless, the report IS saved in your notebook/colab files.\n"
     ]
    }
   ],
   "source": [
    "# Сохраняем результат в виде HTML.\n",
    "comparison_report_cat_cor_400m2.show_html(filepath='NEW_FEATURES_400M2_SWEETVIZ_REPORT.html')"
   ]
  },
  {
   "cell_type": "markdown",
   "id": "mental-dallas",
   "metadata": {},
   "source": [
    "## < 130 m2"
   ]
  },
  {
   "cell_type": "code",
   "execution_count": 31,
   "id": "capital-heading",
   "metadata": {
    "ExecuteTime": {
     "end_time": "2021-07-24T13:01:56.471259Z",
     "start_time": "2021-07-24T13:00:04.820213Z"
    }
   },
   "outputs": [
    {
     "data": {
      "application/vnd.jupyter.widget-view+json": {
       "model_id": "af84af250f8f4c6ba2984ad4fef569f7",
       "version_major": 2,
       "version_minor": 0
      },
      "text/plain": [
       "                                             |          | [  0%]   00:00 -> (? left)"
      ]
     },
     "metadata": {},
     "output_type": "display_data"
    }
   ],
   "source": [
    "comparison_report_cat_cor_130m2 = sv.compare([train_correct[(train_correct['square']<131) & (train_correct['price']<100000000)],'Train'], \\\n",
    "                                             [test_correct[(test_correct['square']<131) & (test_correct['price']<100000000)],'Test'], \\\n",
    "                                             target_feat='price')"
   ]
  },
  {
   "cell_type": "code",
   "execution_count": 32,
   "id": "innocent-advice",
   "metadata": {
    "ExecuteTime": {
     "end_time": "2021-07-24T13:01:57.736505Z",
     "start_time": "2021-07-24T13:01:57.282981Z"
    }
   },
   "outputs": [
    {
     "name": "stdout",
     "output_type": "stream",
     "text": [
      "Report NEW_FEATURES_130M2_SWEETVIZ_REPORT.html was generated! NOTEBOOK/COLAB USERS: the web browser MAY not pop up, regardless, the report IS saved in your notebook/colab files.\n"
     ]
    }
   ],
   "source": [
    "# Сохраняем результат в виде HTML.\n",
    "comparison_report_cat_cor_130m2.show_html(filepath='NEW_FEATURES_130M2_SWEETVIZ_REPORT.html')"
   ]
  },
  {
   "cell_type": "code",
   "execution_count": null,
   "id": "charming-newport",
   "metadata": {},
   "outputs": [],
   "source": []
  }
 ],
 "metadata": {
  "kernelspec": {
   "display_name": "Python 3",
   "language": "python",
   "name": "python3"
  },
  "language_info": {
   "codemirror_mode": {
    "name": "ipython",
    "version": 3
   },
   "file_extension": ".py",
   "mimetype": "text/x-python",
   "name": "python",
   "nbconvert_exporter": "python",
   "pygments_lexer": "ipython3",
   "version": "3.7.7"
  },
  "toc": {
   "base_numbering": 1,
   "nav_menu": {},
   "number_sections": true,
   "sideBar": true,
   "skip_h1_title": false,
   "title_cell": "Table of Contents",
   "title_sidebar": "Contents",
   "toc_cell": false,
   "toc_position": {},
   "toc_section_display": true,
   "toc_window_display": true
  },
  "varInspector": {
   "cols": {
    "lenName": 16,
    "lenType": 16,
    "lenVar": 40
   },
   "kernels_config": {
    "python": {
     "delete_cmd_postfix": "",
     "delete_cmd_prefix": "del ",
     "library": "var_list.py",
     "varRefreshCmd": "print(var_dic_list())"
    },
    "r": {
     "delete_cmd_postfix": ") ",
     "delete_cmd_prefix": "rm(",
     "library": "var_list.r",
     "varRefreshCmd": "cat(var_dic_list()) "
    }
   },
   "types_to_exclude": [
    "module",
    "function",
    "builtin_function_or_method",
    "instance",
    "_Feature"
   ],
   "window_display": false
  }
 },
 "nbformat": 4,
 "nbformat_minor": 5
}
