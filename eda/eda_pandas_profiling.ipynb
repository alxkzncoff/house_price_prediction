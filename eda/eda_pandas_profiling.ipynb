{
 "cells": [
  {
   "cell_type": "markdown",
   "id": "biological-assist",
   "metadata": {},
   "source": [
    "# IMPORT"
   ]
  },
  {
   "cell_type": "code",
   "execution_count": 1,
   "id": "ready-energy",
   "metadata": {
    "ExecuteTime": {
     "end_time": "2021-07-24T12:42:45.616631Z",
     "start_time": "2021-07-24T12:42:43.257122Z"
    }
   },
   "outputs": [],
   "source": [
    "import numpy as np\n",
    "import pandas as pd\n",
    "pd.set_option('display.max_columns', 50)\n",
    "\n",
    "from ipywidgets import widgets\n",
    "\n",
    "from pandas_profiling import ProfileReport"
   ]
  },
  {
   "cell_type": "markdown",
   "id": "bigger-young",
   "metadata": {},
   "source": [
    "# DEFINE"
   ]
  },
  {
   "cell_type": "code",
   "execution_count": 2,
   "id": "valuable-republic",
   "metadata": {
    "ExecuteTime": {
     "end_time": "2021-07-24T12:43:02.290787Z",
     "start_time": "2021-07-24T12:43:02.277801Z"
    }
   },
   "outputs": [],
   "source": [
    "DATA_PATH = '../data/'"
   ]
  },
  {
   "cell_type": "markdown",
   "id": "derived-hybrid",
   "metadata": {},
   "source": [
    "# PREPARETION"
   ]
  },
  {
   "cell_type": "code",
   "execution_count": 4,
   "id": "deluxe-output",
   "metadata": {
    "ExecuteTime": {
     "end_time": "2021-07-24T12:43:28.399519Z",
     "start_time": "2021-07-24T12:43:23.108438Z"
    }
   },
   "outputs": [],
   "source": [
    "# train\n",
    "train = pd.read_csv(DATA_PATH+'train_clean.csv',\n",
    "                    dtype={'floors': str,\n",
    "                           'total_floors': str})\n",
    "# test\n",
    "test = pd.read_csv(DATA_PATH+'test_clean.csv',\n",
    "                    dtype={'floors': str,\n",
    "                           'total_floors': str})"
   ]
  },
  {
   "cell_type": "code",
   "execution_count": 5,
   "id": "monthly-airfare",
   "metadata": {
    "ExecuteTime": {
     "end_time": "2021-07-24T12:43:30.555658Z",
     "start_time": "2021-07-24T12:43:30.457616Z"
    }
   },
   "outputs": [],
   "source": [
    "df = train.append(test, sort=False).reset_index(drop=True)"
   ]
  },
  {
   "cell_type": "markdown",
   "id": "noticed-steel",
   "metadata": {},
   "source": [
    "**Дропаем не интересующие нас признаки.**"
   ]
  },
  {
   "cell_type": "code",
   "execution_count": 6,
   "id": "thermal-killing",
   "metadata": {
    "ExecuteTime": {
     "end_time": "2021-07-24T12:43:32.236709Z",
     "start_time": "2021-07-24T12:43:32.136912Z"
    }
   },
   "outputs": [],
   "source": [
    "df.drop(columns=['page'], inplace=True)"
   ]
  },
  {
   "cell_type": "markdown",
   "id": "communist-cooler",
   "metadata": {},
   "source": [
    "# all data"
   ]
  },
  {
   "cell_type": "markdown",
   "id": "scenic-livestock",
   "metadata": {},
   "source": [
    "Создаем отчет обо всех данных (тренировочные и тестовые), без предворительной фильтрации."
   ]
  },
  {
   "cell_type": "code",
   "execution_count": 7,
   "id": "explicit-student",
   "metadata": {
    "ExecuteTime": {
     "end_time": "2021-07-24T12:43:34.894278Z",
     "start_time": "2021-07-24T12:43:34.782806Z"
    }
   },
   "outputs": [],
   "source": [
    "profile = ProfileReport(df, title=\"Flats without filters\")"
   ]
  },
  {
   "cell_type": "code",
   "execution_count": 8,
   "id": "fewer-rescue",
   "metadata": {
    "ExecuteTime": {
     "end_time": "2021-07-24T12:43:35.549361Z",
     "start_time": "2021-07-24T12:43:35.544376Z"
    }
   },
   "outputs": [],
   "source": [
    "# Выводим результат в notebook.\n",
    "# profile.to_widgets()"
   ]
  },
  {
   "cell_type": "code",
   "execution_count": 9,
   "id": "completed-jefferson",
   "metadata": {
    "ExecuteTime": {
     "end_time": "2021-07-24T12:45:28.138658Z",
     "start_time": "2021-07-24T12:43:36.266770Z"
    }
   },
   "outputs": [
    {
     "data": {
      "application/vnd.jupyter.widget-view+json": {
       "model_id": "a5f75bcb0800468c821ae1ee0e43027e",
       "version_major": 2,
       "version_minor": 0
      },
      "text/plain": [
       "Summarize dataset:   0%|          | 0/40 [00:00<?, ?it/s]"
      ]
     },
     "metadata": {},
     "output_type": "display_data"
    },
    {
     "data": {
      "application/vnd.jupyter.widget-view+json": {
       "model_id": "02b610fed17c44fa8e82f59b6bf43f0b",
       "version_major": 2,
       "version_minor": 0
      },
      "text/plain": [
       "Generate report structure:   0%|          | 0/1 [00:00<?, ?it/s]"
      ]
     },
     "metadata": {},
     "output_type": "display_data"
    },
    {
     "data": {
      "application/vnd.jupyter.widget-view+json": {
       "model_id": "b5c5435a41a842d2b4847a0aa6144513",
       "version_major": 2,
       "version_minor": 0
      },
      "text/plain": [
       "Render HTML:   0%|          | 0/1 [00:00<?, ?it/s]"
      ]
     },
     "metadata": {},
     "output_type": "display_data"
    },
    {
     "data": {
      "application/vnd.jupyter.widget-view+json": {
       "model_id": "c1c6c710c6cd4a2dbea7bbea85dfa0ee",
       "version_major": 2,
       "version_minor": 0
      },
      "text/plain": [
       "Export report to file:   0%|          | 0/1 [00:00<?, ?it/s]"
      ]
     },
     "metadata": {},
     "output_type": "display_data"
    }
   ],
   "source": [
    "# Сохраняем рузльтат в HTML.\n",
    "profile.to_file(\"EDA_FLATS_PANDAS_PROFILING_REPORT.html\")"
   ]
  },
  {
   "cell_type": "markdown",
   "id": "phantom-abuse",
   "metadata": {},
   "source": [
    "# < 400 m2"
   ]
  },
  {
   "cell_type": "code",
   "execution_count": 10,
   "id": "signed-links",
   "metadata": {
    "ExecuteTime": {
     "end_time": "2021-07-24T12:45:28.328441Z",
     "start_time": "2021-07-24T12:45:28.266696Z"
    }
   },
   "outputs": [],
   "source": [
    "df_400m2 = df[(df['square']<401) & (df['price']<100000000)].reset_index(drop=True)"
   ]
  },
  {
   "cell_type": "code",
   "execution_count": 11,
   "id": "received-artwork",
   "metadata": {
    "ExecuteTime": {
     "end_time": "2021-07-24T12:45:28.518737Z",
     "start_time": "2021-07-24T12:45:28.457273Z"
    }
   },
   "outputs": [],
   "source": [
    "profile_400m2 = ProfileReport(df_400m2, title=\"Flats < 400m2\")"
   ]
  },
  {
   "cell_type": "code",
   "execution_count": 12,
   "id": "international-creature",
   "metadata": {
    "ExecuteTime": {
     "end_time": "2021-07-24T12:45:28.662319Z",
     "start_time": "2021-07-24T12:45:28.648358Z"
    }
   },
   "outputs": [],
   "source": [
    "# Выводим результат в notebook.\n",
    "# profile_400m2.to_widgets()"
   ]
  },
  {
   "cell_type": "code",
   "execution_count": 13,
   "id": "billion-anchor",
   "metadata": {
    "ExecuteTime": {
     "end_time": "2021-07-24T12:47:05.286891Z",
     "start_time": "2021-07-24T12:45:28.791920Z"
    }
   },
   "outputs": [
    {
     "data": {
      "application/vnd.jupyter.widget-view+json": {
       "model_id": "3a8081378ac5421fb6cc8e3dfdeb5698",
       "version_major": 2,
       "version_minor": 0
      },
      "text/plain": [
       "Summarize dataset:   0%|          | 0/40 [00:00<?, ?it/s]"
      ]
     },
     "metadata": {},
     "output_type": "display_data"
    },
    {
     "data": {
      "application/vnd.jupyter.widget-view+json": {
       "model_id": "00349fbcba24497aa6b34425cfa7dc40",
       "version_major": 2,
       "version_minor": 0
      },
      "text/plain": [
       "Generate report structure:   0%|          | 0/1 [00:00<?, ?it/s]"
      ]
     },
     "metadata": {},
     "output_type": "display_data"
    },
    {
     "data": {
      "application/vnd.jupyter.widget-view+json": {
       "model_id": "e3f5c656fa0e4cb496277ba5e4b59982",
       "version_major": 2,
       "version_minor": 0
      },
      "text/plain": [
       "Render HTML:   0%|          | 0/1 [00:00<?, ?it/s]"
      ]
     },
     "metadata": {},
     "output_type": "display_data"
    },
    {
     "data": {
      "application/vnd.jupyter.widget-view+json": {
       "model_id": "f5c4eb04fb7d4022bf614856d85bf17e",
       "version_major": 2,
       "version_minor": 0
      },
      "text/plain": [
       "Export report to file:   0%|          | 0/1 [00:00<?, ?it/s]"
      ]
     },
     "metadata": {},
     "output_type": "display_data"
    }
   ],
   "source": [
    "# Сохраняем рузльтат в HTML.\n",
    "profile_400m2.to_file(\"EDA_FLATS_400M2_PANDAS_PROFILING_REPORT.html\")"
   ]
  },
  {
   "cell_type": "markdown",
   "id": "developing-excellence",
   "metadata": {},
   "source": [
    "# < 130 m2"
   ]
  },
  {
   "cell_type": "code",
   "execution_count": 14,
   "id": "greatest-fourth",
   "metadata": {
    "ExecuteTime": {
     "end_time": "2021-07-24T12:47:05.492130Z",
     "start_time": "2021-07-24T12:47:05.431302Z"
    }
   },
   "outputs": [],
   "source": [
    "df_130m2 = df[(df['square']<131) & (df['price']<100000000)].reset_index(drop=True)"
   ]
  },
  {
   "cell_type": "code",
   "execution_count": 15,
   "id": "excessive-residence",
   "metadata": {
    "ExecuteTime": {
     "end_time": "2021-07-24T12:47:05.745131Z",
     "start_time": "2021-07-24T12:47:05.684948Z"
    }
   },
   "outputs": [],
   "source": [
    "profile_130m2 = ProfileReport(df_130m2, title=\"Flats < 130m2\")"
   ]
  },
  {
   "cell_type": "code",
   "execution_count": 16,
   "id": "offshore-output",
   "metadata": {
    "ExecuteTime": {
     "end_time": "2021-07-24T12:47:05.919978Z",
     "start_time": "2021-07-24T12:47:05.906935Z"
    }
   },
   "outputs": [],
   "source": [
    "# Выводим результат в notebook.\n",
    "# profile_130m2.to_widgets()"
   ]
  },
  {
   "cell_type": "code",
   "execution_count": 17,
   "id": "serious-shoulder",
   "metadata": {
    "ExecuteTime": {
     "end_time": "2021-07-24T12:48:47.922960Z",
     "start_time": "2021-07-24T12:47:06.095092Z"
    }
   },
   "outputs": [
    {
     "data": {
      "application/vnd.jupyter.widget-view+json": {
       "model_id": "7bba1193346c450c9b4fcc400bd5d214",
       "version_major": 2,
       "version_minor": 0
      },
      "text/plain": [
       "Summarize dataset:   0%|          | 0/40 [00:00<?, ?it/s]"
      ]
     },
     "metadata": {},
     "output_type": "display_data"
    },
    {
     "data": {
      "application/vnd.jupyter.widget-view+json": {
       "model_id": "d3b9e6baafa3475ca7fa1eca6dd2e0e4",
       "version_major": 2,
       "version_minor": 0
      },
      "text/plain": [
       "Generate report structure:   0%|          | 0/1 [00:00<?, ?it/s]"
      ]
     },
     "metadata": {},
     "output_type": "display_data"
    },
    {
     "data": {
      "application/vnd.jupyter.widget-view+json": {
       "model_id": "2aca2830638b4d19af14d1e62eaec26b",
       "version_major": 2,
       "version_minor": 0
      },
      "text/plain": [
       "Render HTML:   0%|          | 0/1 [00:00<?, ?it/s]"
      ]
     },
     "metadata": {},
     "output_type": "display_data"
    },
    {
     "data": {
      "application/vnd.jupyter.widget-view+json": {
       "model_id": "dcc0ed0defe84fa28bae44031525480f",
       "version_major": 2,
       "version_minor": 0
      },
      "text/plain": [
       "Export report to file:   0%|          | 0/1 [00:00<?, ?it/s]"
      ]
     },
     "metadata": {},
     "output_type": "display_data"
    }
   ],
   "source": [
    "# Сохраняем рузльтат в HTML.\n",
    "profile_130m2.to_file(\"EDA_FLATS_130M2_PANDAS_PROFILING_REPORT.html\")"
   ]
  },
  {
   "cell_type": "markdown",
   "id": "lesser-strain",
   "metadata": {},
   "source": [
    "# Optimized categorical features"
   ]
  },
  {
   "cell_type": "code",
   "execution_count": 18,
   "id": "greater-compensation",
   "metadata": {
    "ExecuteTime": {
     "end_time": "2021-07-24T12:48:48.112229Z",
     "start_time": "2021-07-24T12:48:48.096107Z"
    }
   },
   "outputs": [],
   "source": [
    "cat_features = ['flat_type', 'object_type', 'rooms', 'floors',\n",
    "                'build_matireal', 'district', 'total_floors', \n",
    "                'metro_station', 'underground'] "
   ]
  },
  {
   "cell_type": "code",
   "execution_count": 19,
   "id": "weird-melissa",
   "metadata": {
    "ExecuteTime": {
     "end_time": "2021-07-24T12:48:48.763757Z",
     "start_time": "2021-07-24T12:48:48.275407Z"
    }
   },
   "outputs": [],
   "source": [
    "# Удаляем все выше перечисленные категории.\n",
    "# flat_type - Своб. планировка.\n",
    "df_correct = df.drop(df[df['flat_type'] == 'Своб. планировка'].index)\n",
    "# rooms - Своб. планировка, 7, 8, 9.\n",
    "df_correct.drop(df_correct[(df_correct['rooms'] == 'Своб. планировка') | (df_correct['rooms'] == '7') | \\\n",
    "                   (df_correct['rooms'] == '8') | (df_correct['rooms'] == '9')].index, inplace=True)\n",
    "# floors - 26 - 35.\n",
    "df_correct.drop(df_correct[(df_correct['floors'] == '26') | (df_correct['floors'] == '27') | \\\n",
    "                   (df_correct['floors'] == '28') | (df_correct['floors'] == '29') | \\\n",
    "                   (df_correct['floors'] == '30') | (df_correct['floors'] == '31') | \\\n",
    "                   (df_correct['floors'] == '32') | (df_correct['floors'] == '33') | \\\n",
    "                   (df_correct['floors'] == '34') | (df_correct['floors'] == '35')].index, inplace=True)\n",
    "# build_matireal - блоки, дерево.\n",
    "df_correct.drop(df_correct[(df_correct['build_matireal'] == 'Блоки') | \\\n",
    "                           (df_correct['build_matireal'] == 'Дерево')].index, inplace=True)\n",
    "# total_floors - 1, 30 - 36.\n",
    "df_correct.drop(df_correct[(df_correct['total_floors'] == '1') | (df_correct['total_floors'] == '30') | \\\n",
    "                   (df_correct['total_floors'] == '31') | (df_correct['total_floors'] == '32') | \\\n",
    "                   (df_correct['total_floors'] == '33') | (df_correct['total_floors'] == '34') | \\\n",
    "                   (df_correct['total_floors'] == '35') | (df_correct['total_floors'] == '36')].index, inplace=True)\n",
    "# metro_station - 5км, Пискаревка.\n",
    "df_correct.drop(df_correct[(df_correct['metro_station'] == '5 км') | \\\n",
    "                           (df_correct['metro_station'] == 'Пискарёвка')].index, inplace=True)"
   ]
  },
  {
   "cell_type": "markdown",
   "id": "martial-crossing",
   "metadata": {},
   "source": [
    "## < 400 m2"
   ]
  },
  {
   "cell_type": "code",
   "execution_count": 20,
   "id": "substantial-stockholm",
   "metadata": {
    "ExecuteTime": {
     "end_time": "2021-07-24T12:48:49.020847Z",
     "start_time": "2021-07-24T12:48:48.960406Z"
    }
   },
   "outputs": [],
   "source": [
    "df_correct_400m2 = df_correct[(df_correct['square']<401) & (df_correct['price']<100000000)].reset_index(drop=True)"
   ]
  },
  {
   "cell_type": "code",
   "execution_count": 21,
   "id": "fleet-nickel",
   "metadata": {
    "ExecuteTime": {
     "end_time": "2021-07-24T12:48:49.302072Z",
     "start_time": "2021-07-24T12:48:49.225356Z"
    }
   },
   "outputs": [],
   "source": [
    "profile_cat_correct_400m2 = ProfileReport(df_correct_400m2, title=\"Correct categorical flats < 400m2\")"
   ]
  },
  {
   "cell_type": "code",
   "execution_count": 22,
   "id": "afraid-active",
   "metadata": {
    "ExecuteTime": {
     "end_time": "2021-07-24T12:50:18.878631Z",
     "start_time": "2021-07-24T12:48:49.523071Z"
    }
   },
   "outputs": [
    {
     "data": {
      "application/vnd.jupyter.widget-view+json": {
       "model_id": "345c7ab63e324f4190d98368640b02b5",
       "version_major": 2,
       "version_minor": 0
      },
      "text/plain": [
       "Summarize dataset:   0%|          | 0/40 [00:00<?, ?it/s]"
      ]
     },
     "metadata": {},
     "output_type": "display_data"
    },
    {
     "data": {
      "application/vnd.jupyter.widget-view+json": {
       "model_id": "22fe77960d9445dab724b4dc7c27a360",
       "version_major": 2,
       "version_minor": 0
      },
      "text/plain": [
       "Generate report structure:   0%|          | 0/1 [00:00<?, ?it/s]"
      ]
     },
     "metadata": {},
     "output_type": "display_data"
    },
    {
     "data": {
      "application/vnd.jupyter.widget-view+json": {
       "model_id": "9988b383db3c438686e255b0489c8733",
       "version_major": 2,
       "version_minor": 0
      },
      "text/plain": [
       "Render HTML:   0%|          | 0/1 [00:00<?, ?it/s]"
      ]
     },
     "metadata": {},
     "output_type": "display_data"
    },
    {
     "data": {
      "application/vnd.jupyter.widget-view+json": {
       "model_id": "6a608b2f0a8c4275bbb956c851b817c4",
       "version_major": 2,
       "version_minor": 0
      },
      "text/plain": [
       "Export report to file:   0%|          | 0/1 [00:00<?, ?it/s]"
      ]
     },
     "metadata": {},
     "output_type": "display_data"
    }
   ],
   "source": [
    "# Сохраняем рузльтат в HTML.\n",
    "profile_cat_correct_400m2.to_file(\"EDA_CAT_COR_FLATS_400M2_PANDAS_PROFILING_REPORT.html\")"
   ]
  },
  {
   "cell_type": "markdown",
   "id": "raising-calculator",
   "metadata": {},
   "source": [
    "## < 130 m2"
   ]
  },
  {
   "cell_type": "code",
   "execution_count": 23,
   "id": "decimal-consideration",
   "metadata": {
    "ExecuteTime": {
     "end_time": "2021-07-24T12:50:19.164311Z",
     "start_time": "2021-07-24T12:50:19.102445Z"
    }
   },
   "outputs": [],
   "source": [
    "df_correct_130m2 = df_correct[(df_correct['square']<131) & (df_correct['price']<100000000)].reset_index(drop=True)"
   ]
  },
  {
   "cell_type": "code",
   "execution_count": 24,
   "id": "finite-facility",
   "metadata": {
    "ExecuteTime": {
     "end_time": "2021-07-24T12:50:19.479318Z",
     "start_time": "2021-07-24T12:50:19.418621Z"
    }
   },
   "outputs": [],
   "source": [
    "profile_cat_correct_130m2 = ProfileReport(df_correct_130m2, title=\"Correct categorical flats < 130m2\")"
   ]
  },
  {
   "cell_type": "code",
   "execution_count": 25,
   "id": "lasting-description",
   "metadata": {
    "ExecuteTime": {
     "end_time": "2021-07-24T12:51:46.400039Z",
     "start_time": "2021-07-24T12:50:19.734134Z"
    }
   },
   "outputs": [
    {
     "data": {
      "application/vnd.jupyter.widget-view+json": {
       "model_id": "9aaa2d9fddb14504862dd977cd1d63ab",
       "version_major": 2,
       "version_minor": 0
      },
      "text/plain": [
       "Summarize dataset:   0%|          | 0/40 [00:00<?, ?it/s]"
      ]
     },
     "metadata": {},
     "output_type": "display_data"
    },
    {
     "data": {
      "application/vnd.jupyter.widget-view+json": {
       "model_id": "4c2ce6cf6bbe4beaa02b19c9b9a0757e",
       "version_major": 2,
       "version_minor": 0
      },
      "text/plain": [
       "Generate report structure:   0%|          | 0/1 [00:00<?, ?it/s]"
      ]
     },
     "metadata": {},
     "output_type": "display_data"
    },
    {
     "data": {
      "application/vnd.jupyter.widget-view+json": {
       "model_id": "c73b084b9d464fc08fde9c853381c3c8",
       "version_major": 2,
       "version_minor": 0
      },
      "text/plain": [
       "Render HTML:   0%|          | 0/1 [00:00<?, ?it/s]"
      ]
     },
     "metadata": {},
     "output_type": "display_data"
    },
    {
     "data": {
      "application/vnd.jupyter.widget-view+json": {
       "model_id": "fd0e748f064342e699854da7f07be292",
       "version_major": 2,
       "version_minor": 0
      },
      "text/plain": [
       "Export report to file:   0%|          | 0/1 [00:00<?, ?it/s]"
      ]
     },
     "metadata": {},
     "output_type": "display_data"
    }
   ],
   "source": [
    "# Сохраняем рузльтат в HTML.\n",
    "profile_cat_correct_130m2.to_file(\"EDA_CAT_COR_FLATS_130M2_PANDAS_PROFILING_REPORT.html\")"
   ]
  },
  {
   "cell_type": "code",
   "execution_count": null,
   "id": "enabling-particle",
   "metadata": {},
   "outputs": [],
   "source": []
  }
 ],
 "metadata": {
  "kernelspec": {
   "display_name": "Python 3",
   "language": "python",
   "name": "python3"
  },
  "language_info": {
   "codemirror_mode": {
    "name": "ipython",
    "version": 3
   },
   "file_extension": ".py",
   "mimetype": "text/x-python",
   "name": "python",
   "nbconvert_exporter": "python",
   "pygments_lexer": "ipython3",
   "version": "3.7.7"
  },
  "toc": {
   "base_numbering": 1,
   "nav_menu": {},
   "number_sections": true,
   "sideBar": true,
   "skip_h1_title": false,
   "title_cell": "Table of Contents",
   "title_sidebar": "Contents",
   "toc_cell": false,
   "toc_position": {},
   "toc_section_display": true,
   "toc_window_display": true
  },
  "varInspector": {
   "cols": {
    "lenName": 16,
    "lenType": 16,
    "lenVar": 40
   },
   "kernels_config": {
    "python": {
     "delete_cmd_postfix": "",
     "delete_cmd_prefix": "del ",
     "library": "var_list.py",
     "varRefreshCmd": "print(var_dic_list())"
    },
    "r": {
     "delete_cmd_postfix": ") ",
     "delete_cmd_prefix": "rm(",
     "library": "var_list.r",
     "varRefreshCmd": "cat(var_dic_list()) "
    }
   },
   "types_to_exclude": [
    "module",
    "function",
    "builtin_function_or_method",
    "instance",
    "_Feature"
   ],
   "window_display": false
  }
 },
 "nbformat": 4,
 "nbformat_minor": 5
}
