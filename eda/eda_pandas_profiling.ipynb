{
 "cells": [
  {
   "cell_type": "markdown",
   "id": "biological-assist",
   "metadata": {},
   "source": [
    "# IMPORT"
   ]
  },
  {
   "cell_type": "code",
   "execution_count": 1,
   "id": "ready-energy",
   "metadata": {
    "ExecuteTime": {
     "end_time": "2021-04-04T12:30:40.803287Z",
     "start_time": "2021-04-04T12:30:37.036645Z"
    }
   },
   "outputs": [],
   "source": [
    "import numpy as np\n",
    "import pandas as pd\n",
    "pd.set_option('display.max_columns', 50)\n",
    "\n",
    "from ipywidgets import widgets\n",
    "\n",
    "from pandas_profiling import ProfileReport"
   ]
  },
  {
   "cell_type": "markdown",
   "id": "derived-hybrid",
   "metadata": {},
   "source": [
    "# PREPARETION"
   ]
  },
  {
   "cell_type": "code",
   "execution_count": 2,
   "id": "deluxe-output",
   "metadata": {
    "ExecuteTime": {
     "end_time": "2021-04-04T12:30:45.070391Z",
     "start_time": "2021-04-04T12:30:40.803287Z"
    }
   },
   "outputs": [],
   "source": [
    "# train\n",
    "train = pd.read_csv('data/train_clean.csv',\n",
    "                    dtype={'floors': str,\n",
    "                           'total_floors': str})\n",
    "# test\n",
    "test = pd.read_csv('data/test_clean.csv',\n",
    "                    dtype={'floors': str,\n",
    "                           'total_floors': str})"
   ]
  },
  {
   "cell_type": "code",
   "execution_count": 3,
   "id": "monthly-airfare",
   "metadata": {
    "ExecuteTime": {
     "end_time": "2021-04-04T12:30:45.171945Z",
     "start_time": "2021-04-04T12:30:45.070391Z"
    }
   },
   "outputs": [],
   "source": [
    "train['sample'] = 1 # тренировочные\n",
    "test['sample'] = 0 # тестовые\n",
    "\n",
    "df = train.append(test, sort=False).reset_index(drop=True)"
   ]
  },
  {
   "cell_type": "markdown",
   "id": "communist-cooler",
   "metadata": {},
   "source": [
    "# all data"
   ]
  },
  {
   "cell_type": "code",
   "execution_count": 4,
   "id": "explicit-student",
   "metadata": {
    "ExecuteTime": {
     "end_time": "2021-04-04T12:30:45.244677Z",
     "start_time": "2021-04-04T12:30:45.171945Z"
    }
   },
   "outputs": [],
   "source": [
    "profile = ProfileReport(df, title=\"Flats without filters\")"
   ]
  },
  {
   "cell_type": "code",
   "execution_count": 5,
   "id": "fewer-rescue",
   "metadata": {
    "ExecuteTime": {
     "end_time": "2021-04-04T12:30:45.260279Z",
     "start_time": "2021-04-04T12:30:45.244677Z"
    }
   },
   "outputs": [],
   "source": [
    "# Выводим результат в notebook.\n",
    "# profile.to_widgets()"
   ]
  },
  {
   "cell_type": "code",
   "execution_count": 6,
   "id": "completed-jefferson",
   "metadata": {
    "ExecuteTime": {
     "end_time": "2021-04-04T12:32:08.855746Z",
     "start_time": "2021-04-04T12:30:45.260279Z"
    }
   },
   "outputs": [
    {
     "data": {
      "application/vnd.jupyter.widget-view+json": {
       "model_id": "cdfdcf5c96a04c3b8567f7c096f4de10",
       "version_major": 2,
       "version_minor": 0
      },
      "text/plain": [
       "Summarize dataset:   0%|          | 0/42 [00:00<?, ?it/s]"
      ]
     },
     "metadata": {},
     "output_type": "display_data"
    },
    {
     "data": {
      "application/vnd.jupyter.widget-view+json": {
       "model_id": "516b6e4730ff4f9aa0a99ebd85a478d4",
       "version_major": 2,
       "version_minor": 0
      },
      "text/plain": [
       "Generate report structure:   0%|          | 0/1 [00:00<?, ?it/s]"
      ]
     },
     "metadata": {},
     "output_type": "display_data"
    },
    {
     "data": {
      "application/vnd.jupyter.widget-view+json": {
       "model_id": "f260e024d20d493c85d8910ed5a68666",
       "version_major": 2,
       "version_minor": 0
      },
      "text/plain": [
       "Render HTML:   0%|          | 0/1 [00:00<?, ?it/s]"
      ]
     },
     "metadata": {},
     "output_type": "display_data"
    },
    {
     "data": {
      "application/vnd.jupyter.widget-view+json": {
       "model_id": "24da9c741c8a482f866ffde3c3489fb7",
       "version_major": 2,
       "version_minor": 0
      },
      "text/plain": [
       "Export report to file:   0%|          | 0/1 [00:00<?, ?it/s]"
      ]
     },
     "metadata": {},
     "output_type": "display_data"
    }
   ],
   "source": [
    "# Сохраняем рузльтат в HTML.\n",
    "profile.to_file(\"EDA_FLATS_PANDAS_PROFILING_REPORT.html\")"
   ]
  },
  {
   "cell_type": "markdown",
   "id": "phantom-abuse",
   "metadata": {},
   "source": [
    "# < 400 m2"
   ]
  },
  {
   "cell_type": "code",
   "execution_count": 7,
   "id": "received-artwork",
   "metadata": {
    "ExecuteTime": {
     "end_time": "2021-04-04T12:32:08.975700Z",
     "start_time": "2021-04-04T12:32:08.855746Z"
    }
   },
   "outputs": [],
   "source": [
    "profile_400m2 = ProfileReport(df[(df['square']<401) & (df['price']<100000000)], \\\n",
    "                              title=\"Flats < 400m2\")"
   ]
  },
  {
   "cell_type": "code",
   "execution_count": 8,
   "id": "international-creature",
   "metadata": {
    "ExecuteTime": {
     "end_time": "2021-04-04T12:32:08.983696Z",
     "start_time": "2021-04-04T12:32:08.975700Z"
    }
   },
   "outputs": [],
   "source": [
    "# Выводим результат в notebook.\n",
    "# profile_400m2.to_widgets()"
   ]
  },
  {
   "cell_type": "code",
   "execution_count": 9,
   "id": "billion-anchor",
   "metadata": {
    "ExecuteTime": {
     "end_time": "2021-04-04T12:33:31.466162Z",
     "start_time": "2021-04-04T12:32:08.983696Z"
    }
   },
   "outputs": [
    {
     "data": {
      "application/vnd.jupyter.widget-view+json": {
       "model_id": "cb6d67da9c4941d4a511cc59b068f188",
       "version_major": 2,
       "version_minor": 0
      },
      "text/plain": [
       "Summarize dataset:   0%|          | 0/43 [00:00<?, ?it/s]"
      ]
     },
     "metadata": {},
     "output_type": "display_data"
    },
    {
     "data": {
      "application/vnd.jupyter.widget-view+json": {
       "model_id": "6e6cdc1426db4574989c5a97c69e3506",
       "version_major": 2,
       "version_minor": 0
      },
      "text/plain": [
       "Generate report structure:   0%|          | 0/1 [00:00<?, ?it/s]"
      ]
     },
     "metadata": {},
     "output_type": "display_data"
    },
    {
     "data": {
      "application/vnd.jupyter.widget-view+json": {
       "model_id": "4e113c19a6a84d49bf1e92172707f012",
       "version_major": 2,
       "version_minor": 0
      },
      "text/plain": [
       "Render HTML:   0%|          | 0/1 [00:00<?, ?it/s]"
      ]
     },
     "metadata": {},
     "output_type": "display_data"
    },
    {
     "data": {
      "application/vnd.jupyter.widget-view+json": {
       "model_id": "3fdddb35e92a4a77b366bff9f797cd28",
       "version_major": 2,
       "version_minor": 0
      },
      "text/plain": [
       "Export report to file:   0%|          | 0/1 [00:00<?, ?it/s]"
      ]
     },
     "metadata": {},
     "output_type": "display_data"
    }
   ],
   "source": [
    "# Сохраняем рузльтат в HTML.\n",
    "profile_400m2.to_file(\"EDA_FLATS_400M2_PANDAS_PROFILING_REPORT.html\")"
   ]
  },
  {
   "cell_type": "markdown",
   "id": "developing-excellence",
   "metadata": {},
   "source": [
    "# < 130 m2"
   ]
  },
  {
   "cell_type": "code",
   "execution_count": 10,
   "id": "excessive-residence",
   "metadata": {
    "ExecuteTime": {
     "end_time": "2021-04-04T12:33:31.586129Z",
     "start_time": "2021-04-04T12:33:31.466162Z"
    }
   },
   "outputs": [],
   "source": [
    "profile_130m2 = ProfileReport(df[(df['square']<131) & (df['price']<100000000)], \\\n",
    "                              title=\"Flats < 130m2\")"
   ]
  },
  {
   "cell_type": "code",
   "execution_count": 11,
   "id": "offshore-output",
   "metadata": {
    "ExecuteTime": {
     "end_time": "2021-04-04T12:33:31.602109Z",
     "start_time": "2021-04-04T12:33:31.586129Z"
    }
   },
   "outputs": [],
   "source": [
    "# Выводим результат в notebook.\n",
    "# profile_130m2.to_widgets()"
   ]
  },
  {
   "cell_type": "code",
   "execution_count": 12,
   "id": "serious-shoulder",
   "metadata": {
    "ExecuteTime": {
     "end_time": "2021-04-04T12:34:52.160562Z",
     "start_time": "2021-04-04T12:33:31.602109Z"
    }
   },
   "outputs": [
    {
     "data": {
      "application/vnd.jupyter.widget-view+json": {
       "model_id": "8bb9649bd7ed469793b44252130c419e",
       "version_major": 2,
       "version_minor": 0
      },
      "text/plain": [
       "Summarize dataset:   0%|          | 0/43 [00:00<?, ?it/s]"
      ]
     },
     "metadata": {},
     "output_type": "display_data"
    },
    {
     "data": {
      "application/vnd.jupyter.widget-view+json": {
       "model_id": "126d60ec5ba945e69e8d3956c25fc1c8",
       "version_major": 2,
       "version_minor": 0
      },
      "text/plain": [
       "Generate report structure:   0%|          | 0/1 [00:00<?, ?it/s]"
      ]
     },
     "metadata": {},
     "output_type": "display_data"
    },
    {
     "data": {
      "application/vnd.jupyter.widget-view+json": {
       "model_id": "10023d4153a54c1a8b24fa314f14c523",
       "version_major": 2,
       "version_minor": 0
      },
      "text/plain": [
       "Render HTML:   0%|          | 0/1 [00:00<?, ?it/s]"
      ]
     },
     "metadata": {},
     "output_type": "display_data"
    },
    {
     "data": {
      "application/vnd.jupyter.widget-view+json": {
       "model_id": "f51bfd975425451ba9fcb42b05c6d2ef",
       "version_major": 2,
       "version_minor": 0
      },
      "text/plain": [
       "Export report to file:   0%|          | 0/1 [00:00<?, ?it/s]"
      ]
     },
     "metadata": {},
     "output_type": "display_data"
    }
   ],
   "source": [
    "# Сохраняем рузльтат в HTML.\n",
    "profile_130m2.to_file(\"EDA_FLATS_130M2_PANDAS_PROFILING_REPORT.html\")"
   ]
  }
 ],
 "metadata": {
  "kernelspec": {
   "display_name": "Python 3",
   "language": "python",
   "name": "python3"
  },
  "language_info": {
   "codemirror_mode": {
    "name": "ipython",
    "version": 3
   },
   "file_extension": ".py",
   "mimetype": "text/x-python",
   "name": "python",
   "nbconvert_exporter": "python",
   "pygments_lexer": "ipython3",
   "version": "3.7.7"
  },
  "toc": {
   "base_numbering": 1,
   "nav_menu": {},
   "number_sections": true,
   "sideBar": true,
   "skip_h1_title": false,
   "title_cell": "Table of Contents",
   "title_sidebar": "Contents",
   "toc_cell": false,
   "toc_position": {},
   "toc_section_display": true,
   "toc_window_display": true
  },
  "varInspector": {
   "cols": {
    "lenName": 16,
    "lenType": 16,
    "lenVar": 40
   },
   "kernels_config": {
    "python": {
     "delete_cmd_postfix": "",
     "delete_cmd_prefix": "del ",
     "library": "var_list.py",
     "varRefreshCmd": "print(var_dic_list())"
    },
    "r": {
     "delete_cmd_postfix": ") ",
     "delete_cmd_prefix": "rm(",
     "library": "var_list.r",
     "varRefreshCmd": "cat(var_dic_list()) "
    }
   },
   "types_to_exclude": [
    "module",
    "function",
    "builtin_function_or_method",
    "instance",
    "_Feature"
   ],
   "window_display": false
  }
 },
 "nbformat": 4,
 "nbformat_minor": 5
}
