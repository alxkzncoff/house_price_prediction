{
 "cells": [
  {
   "cell_type": "markdown",
   "id": "biological-assist",
   "metadata": {},
   "source": [
    "# IMPORT"
   ]
  },
  {
   "cell_type": "code",
   "execution_count": 2,
   "id": "ready-energy",
   "metadata": {
    "ExecuteTime": {
     "end_time": "2021-04-22T08:52:25.199762Z",
     "start_time": "2021-04-22T08:52:20.609044Z"
    }
   },
   "outputs": [],
   "source": [
    "import numpy as np\n",
    "import pandas as pd\n",
    "pd.set_option('display.max_columns', 50)\n",
    "\n",
    "from ipywidgets import widgets\n",
    "\n",
    "from pandas_profiling import ProfileReport"
   ]
  },
  {
   "cell_type": "markdown",
   "id": "derived-hybrid",
   "metadata": {},
   "source": [
    "# PREPARETION"
   ]
  },
  {
   "cell_type": "code",
   "execution_count": 4,
   "id": "deluxe-output",
   "metadata": {
    "ExecuteTime": {
     "end_time": "2021-04-22T08:53:01.408864Z",
     "start_time": "2021-04-22T08:52:57.210936Z"
    }
   },
   "outputs": [],
   "source": [
    "# train\n",
    "train = pd.read_csv('../data/train_clean.csv',\n",
    "                    dtype={'floors': str,\n",
    "                           'total_floors': str})\n",
    "# test\n",
    "test = pd.read_csv('../data/test_clean.csv',\n",
    "                    dtype={'floors': str,\n",
    "                           'total_floors': str})"
   ]
  },
  {
   "cell_type": "code",
   "execution_count": 5,
   "id": "monthly-airfare",
   "metadata": {
    "ExecuteTime": {
     "end_time": "2021-04-22T08:53:01.603407Z",
     "start_time": "2021-04-22T08:53:01.507400Z"
    }
   },
   "outputs": [],
   "source": [
    "df = train.append(test, sort=False).reset_index(drop=True)"
   ]
  },
  {
   "cell_type": "markdown",
   "id": "noticed-steel",
   "metadata": {},
   "source": [
    "**Дропаем не интересующие нас признаки.**"
   ]
  },
  {
   "cell_type": "code",
   "execution_count": 6,
   "id": "thermal-killing",
   "metadata": {
    "ExecuteTime": {
     "end_time": "2021-04-22T08:53:01.763547Z",
     "start_time": "2021-04-22T08:53:01.667288Z"
    }
   },
   "outputs": [],
   "source": [
    "df.drop(columns=['page'], inplace=True)"
   ]
  },
  {
   "cell_type": "markdown",
   "id": "communist-cooler",
   "metadata": {},
   "source": [
    "# all data"
   ]
  },
  {
   "cell_type": "markdown",
   "id": "scenic-livestock",
   "metadata": {},
   "source": [
    "Создаем отчет обо всех данных (тренировочные и тестовые), без предворительной фильтрации."
   ]
  },
  {
   "cell_type": "code",
   "execution_count": 8,
   "id": "explicit-student",
   "metadata": {
    "ExecuteTime": {
     "end_time": "2021-04-10T09:13:28.341590Z",
     "start_time": "2021-04-10T09:13:28.260890Z"
    }
   },
   "outputs": [],
   "source": [
    "profile = ProfileReport(df, title=\"Flats without filters\")"
   ]
  },
  {
   "cell_type": "code",
   "execution_count": 9,
   "id": "fewer-rescue",
   "metadata": {
    "ExecuteTime": {
     "end_time": "2021-04-10T09:13:28.357260Z",
     "start_time": "2021-04-10T09:13:28.341590Z"
    }
   },
   "outputs": [],
   "source": [
    "# Выводим результат в notebook.\n",
    "# profile.to_widgets()"
   ]
  },
  {
   "cell_type": "code",
   "execution_count": 10,
   "id": "completed-jefferson",
   "metadata": {
    "ExecuteTime": {
     "end_time": "2021-04-10T09:14:47.285339Z",
     "start_time": "2021-04-10T09:13:28.357260Z"
    }
   },
   "outputs": [
    {
     "data": {
      "application/vnd.jupyter.widget-view+json": {
       "model_id": "6fc65699549f4108a0265a1e23e298af",
       "version_major": 2,
       "version_minor": 0
      },
      "text/plain": [
       "Summarize dataset:   0%|          | 0/40 [00:00<?, ?it/s]"
      ]
     },
     "metadata": {},
     "output_type": "display_data"
    },
    {
     "data": {
      "application/vnd.jupyter.widget-view+json": {
       "model_id": "b4df3122c610487f81e645f93cca679b",
       "version_major": 2,
       "version_minor": 0
      },
      "text/plain": [
       "Generate report structure:   0%|          | 0/1 [00:00<?, ?it/s]"
      ]
     },
     "metadata": {},
     "output_type": "display_data"
    },
    {
     "data": {
      "application/vnd.jupyter.widget-view+json": {
       "model_id": "dd01f74e9a20474c949f6ece23402331",
       "version_major": 2,
       "version_minor": 0
      },
      "text/plain": [
       "Render HTML:   0%|          | 0/1 [00:00<?, ?it/s]"
      ]
     },
     "metadata": {},
     "output_type": "display_data"
    },
    {
     "data": {
      "application/vnd.jupyter.widget-view+json": {
       "model_id": "d0e4fe4df0404fc08025b8c34b77a25b",
       "version_major": 2,
       "version_minor": 0
      },
      "text/plain": [
       "Export report to file:   0%|          | 0/1 [00:00<?, ?it/s]"
      ]
     },
     "metadata": {},
     "output_type": "display_data"
    }
   ],
   "source": [
    "# Сохраняем рузльтат в HTML.\n",
    "profile.to_file(\"EDA_FLATS_PANDAS_PROFILING_REPORT.html\")"
   ]
  },
  {
   "cell_type": "markdown",
   "id": "phantom-abuse",
   "metadata": {},
   "source": [
    "# < 400 m2"
   ]
  },
  {
   "cell_type": "code",
   "execution_count": 28,
   "id": "signed-links",
   "metadata": {
    "ExecuteTime": {
     "end_time": "2021-04-10T09:51:18.954704Z",
     "start_time": "2021-04-10T09:51:18.860605Z"
    }
   },
   "outputs": [],
   "source": [
    "df_400m2 = df[(df['square']<401) & (df['price']<100000000)].reset_index(drop=True)"
   ]
  },
  {
   "cell_type": "code",
   "execution_count": 29,
   "id": "received-artwork",
   "metadata": {
    "ExecuteTime": {
     "end_time": "2021-04-10T09:51:19.042785Z",
     "start_time": "2021-04-10T09:51:18.954704Z"
    }
   },
   "outputs": [],
   "source": [
    "profile_400m2 = ProfileReport(df_400m2, title=\"Flats < 400m2\")"
   ]
  },
  {
   "cell_type": "code",
   "execution_count": 30,
   "id": "international-creature",
   "metadata": {
    "ExecuteTime": {
     "end_time": "2021-04-10T09:51:19.058373Z",
     "start_time": "2021-04-10T09:51:19.042785Z"
    }
   },
   "outputs": [],
   "source": [
    "# Выводим результат в notebook.\n",
    "# profile_400m2.to_widgets()"
   ]
  },
  {
   "cell_type": "code",
   "execution_count": 31,
   "id": "billion-anchor",
   "metadata": {
    "ExecuteTime": {
     "end_time": "2021-04-10T09:52:42.676601Z",
     "start_time": "2021-04-10T09:51:19.058373Z"
    }
   },
   "outputs": [
    {
     "data": {
      "application/vnd.jupyter.widget-view+json": {
       "model_id": "67bc6125b73f4630a0f42755fd16dfed",
       "version_major": 2,
       "version_minor": 0
      },
      "text/plain": [
       "Summarize dataset:   0%|          | 0/40 [00:00<?, ?it/s]"
      ]
     },
     "metadata": {},
     "output_type": "display_data"
    },
    {
     "data": {
      "application/vnd.jupyter.widget-view+json": {
       "model_id": "079c6ef073904744bcfb6b6aeac31ff3",
       "version_major": 2,
       "version_minor": 0
      },
      "text/plain": [
       "Generate report structure:   0%|          | 0/1 [00:00<?, ?it/s]"
      ]
     },
     "metadata": {},
     "output_type": "display_data"
    },
    {
     "data": {
      "application/vnd.jupyter.widget-view+json": {
       "model_id": "1bab4df81d8b4f2e9ba0f89dbc001d2e",
       "version_major": 2,
       "version_minor": 0
      },
      "text/plain": [
       "Render HTML:   0%|          | 0/1 [00:00<?, ?it/s]"
      ]
     },
     "metadata": {},
     "output_type": "display_data"
    },
    {
     "data": {
      "application/vnd.jupyter.widget-view+json": {
       "model_id": "c0aaf930862e423880017c8d655b6a20",
       "version_major": 2,
       "version_minor": 0
      },
      "text/plain": [
       "Export report to file:   0%|          | 0/1 [00:00<?, ?it/s]"
      ]
     },
     "metadata": {},
     "output_type": "display_data"
    }
   ],
   "source": [
    "# Сохраняем рузльтат в HTML.\n",
    "profile_400m2.to_file(\"EDA_FLATS_400M2_PANDAS_PROFILING_REPORT.html\")"
   ]
  },
  {
   "cell_type": "markdown",
   "id": "developing-excellence",
   "metadata": {},
   "source": [
    "# < 130 m2"
   ]
  },
  {
   "cell_type": "code",
   "execution_count": 32,
   "id": "greatest-fourth",
   "metadata": {
    "ExecuteTime": {
     "end_time": "2021-04-10T09:52:42.744789Z",
     "start_time": "2021-04-10T09:52:42.678074Z"
    }
   },
   "outputs": [],
   "source": [
    "df_130m2 = df[(df['square']<131) & (df['price']<100000000)].reset_index(drop=True)"
   ]
  },
  {
   "cell_type": "code",
   "execution_count": 34,
   "id": "excessive-residence",
   "metadata": {
    "ExecuteTime": {
     "end_time": "2021-04-10T09:52:43.001043Z",
     "start_time": "2021-04-10T09:52:42.798716Z"
    }
   },
   "outputs": [],
   "source": [
    "profile_130m2 = ProfileReport(df_130m2, title=\"Flats < 130m2\")"
   ]
  },
  {
   "cell_type": "code",
   "execution_count": 35,
   "id": "offshore-output",
   "metadata": {
    "ExecuteTime": {
     "end_time": "2021-04-10T09:52:43.030260Z",
     "start_time": "2021-04-10T09:52:43.001043Z"
    }
   },
   "outputs": [],
   "source": [
    "# Выводим результат в notebook.\n",
    "# profile_130m2.to_widgets()"
   ]
  },
  {
   "cell_type": "code",
   "execution_count": 36,
   "id": "serious-shoulder",
   "metadata": {
    "ExecuteTime": {
     "end_time": "2021-04-10T09:54:02.802235Z",
     "start_time": "2021-04-10T09:52:43.030260Z"
    }
   },
   "outputs": [
    {
     "data": {
      "application/vnd.jupyter.widget-view+json": {
       "model_id": "29ccf143f0e3419686735cb823c1d600",
       "version_major": 2,
       "version_minor": 0
      },
      "text/plain": [
       "Summarize dataset:   0%|          | 0/40 [00:00<?, ?it/s]"
      ]
     },
     "metadata": {},
     "output_type": "display_data"
    },
    {
     "data": {
      "application/vnd.jupyter.widget-view+json": {
       "model_id": "e4d6315362054d68aec27f863aff35f8",
       "version_major": 2,
       "version_minor": 0
      },
      "text/plain": [
       "Generate report structure:   0%|          | 0/1 [00:00<?, ?it/s]"
      ]
     },
     "metadata": {},
     "output_type": "display_data"
    },
    {
     "data": {
      "application/vnd.jupyter.widget-view+json": {
       "model_id": "fa320ffa82d0473980b4c1e5d57735a1",
       "version_major": 2,
       "version_minor": 0
      },
      "text/plain": [
       "Render HTML:   0%|          | 0/1 [00:00<?, ?it/s]"
      ]
     },
     "metadata": {},
     "output_type": "display_data"
    },
    {
     "data": {
      "application/vnd.jupyter.widget-view+json": {
       "model_id": "5df96c13c5b54d288ebaea0595d34ac6",
       "version_major": 2,
       "version_minor": 0
      },
      "text/plain": [
       "Export report to file:   0%|          | 0/1 [00:00<?, ?it/s]"
      ]
     },
     "metadata": {},
     "output_type": "display_data"
    }
   ],
   "source": [
    "# Сохраняем рузльтат в HTML.\n",
    "profile_130m2.to_file(\"EDA_FLATS_130M2_PANDAS_PROFILING_REPORT.html\")"
   ]
  },
  {
   "cell_type": "markdown",
   "id": "lesser-strain",
   "metadata": {},
   "source": [
    "# Optimized categorical features"
   ]
  },
  {
   "cell_type": "code",
   "execution_count": 1,
   "id": "greater-compensation",
   "metadata": {
    "ExecuteTime": {
     "end_time": "2021-04-22T08:52:15.429623Z",
     "start_time": "2021-04-22T08:52:15.408937Z"
    }
   },
   "outputs": [],
   "source": [
    "cat_features = ['flat_type', 'object_type', 'rooms', 'floors',\n",
    "                'build_matireal', 'district', 'total_floors', \n",
    "                'metro_station', 'underground'] "
   ]
  },
  {
   "cell_type": "code",
   "execution_count": 7,
   "id": "weird-melissa",
   "metadata": {
    "ExecuteTime": {
     "end_time": "2021-04-22T08:53:07.372549Z",
     "start_time": "2021-04-22T08:53:06.919707Z"
    }
   },
   "outputs": [],
   "source": [
    "# Удаляем все выше перечисленные категории.\n",
    "# flat_type - Своб. планировка.\n",
    "df_correct = df.drop(df[df['flat_type'] == 'Своб. планировка'].index)\n",
    "# rooms - Своб. планировка, 7, 8, 9.\n",
    "df_correct.drop(df_correct[(df_correct['rooms'] == 'Своб. планировка') | (df_correct['rooms'] == '7') | \\\n",
    "                   (df_correct['rooms'] == '8') | (df_correct['rooms'] == '9')].index, inplace=True)\n",
    "# floors - 26 - 35.\n",
    "df_correct.drop(df_correct[(df_correct['floors'] == '26') | (df_correct['floors'] == '27') | \\\n",
    "                   (df_correct['floors'] == '28') | (df_correct['floors'] == '29') | \\\n",
    "                   (df_correct['floors'] == '30') | (df_correct['floors'] == '31') | \\\n",
    "                   (df_correct['floors'] == '32') | (df_correct['floors'] == '33') | \\\n",
    "                   (df_correct['floors'] == '34') | (df_correct['floors'] == '35')].index, inplace=True)\n",
    "# build_matireal - блоки, дерево.\n",
    "df_correct.drop(df_correct[(df_correct['build_matireal'] == 'Блоки') | \\\n",
    "                           (df_correct['build_matireal'] == 'Дерево')].index, inplace=True)\n",
    "# total_floors - 1, 30 - 36.\n",
    "df_correct.drop(df_correct[(df_correct['total_floors'] == '1') | (df_correct['total_floors'] == '30') | \\\n",
    "                   (df_correct['total_floors'] == '31') | (df_correct['total_floors'] == '32') | \\\n",
    "                   (df_correct['total_floors'] == '33') | (df_correct['total_floors'] == '34') | \\\n",
    "                   (df_correct['total_floors'] == '35') | (df_correct['total_floors'] == '36')].index, inplace=True)\n",
    "# metro_station - 5км, Пискаревка.\n",
    "df_correct.drop(df_correct[(df_correct['metro_station'] == '5 км') | \\\n",
    "                           (df_correct['metro_station'] == 'Пискарёвка')].index, inplace=True)"
   ]
  },
  {
   "cell_type": "markdown",
   "id": "martial-crossing",
   "metadata": {},
   "source": [
    "## < 400 m2"
   ]
  },
  {
   "cell_type": "code",
   "execution_count": 8,
   "id": "substantial-stockholm",
   "metadata": {
    "ExecuteTime": {
     "end_time": "2021-04-22T08:54:14.884051Z",
     "start_time": "2021-04-22T08:54:14.781913Z"
    }
   },
   "outputs": [],
   "source": [
    "df_correct_400m2 = df_correct[(df_correct['square']<401) & (df_correct['price']<100000000)].reset_index(drop=True)"
   ]
  },
  {
   "cell_type": "code",
   "execution_count": 9,
   "id": "fleet-nickel",
   "metadata": {
    "ExecuteTime": {
     "end_time": "2021-04-22T08:55:49.988853Z",
     "start_time": "2021-04-22T08:55:49.903004Z"
    }
   },
   "outputs": [],
   "source": [
    "profile_cat_correct_400m2 = ProfileReport(df_correct_400m2, title=\"Correct categorical flats < 400m2\")"
   ]
  },
  {
   "cell_type": "code",
   "execution_count": 10,
   "id": "afraid-active",
   "metadata": {
    "ExecuteTime": {
     "end_time": "2021-04-22T08:57:13.525329Z",
     "start_time": "2021-04-22T08:55:52.627369Z"
    }
   },
   "outputs": [
    {
     "data": {
      "application/vnd.jupyter.widget-view+json": {
       "model_id": "e33f2b30eb8045a8807c86f92e46e7ad",
       "version_major": 2,
       "version_minor": 0
      },
      "text/plain": [
       "Summarize dataset:   0%|          | 0/40 [00:00<?, ?it/s]"
      ]
     },
     "metadata": {},
     "output_type": "display_data"
    },
    {
     "data": {
      "application/vnd.jupyter.widget-view+json": {
       "model_id": "9bfa250d4a5e4732bf9c2db6a7fe0aa5",
       "version_major": 2,
       "version_minor": 0
      },
      "text/plain": [
       "Generate report structure:   0%|          | 0/1 [00:00<?, ?it/s]"
      ]
     },
     "metadata": {},
     "output_type": "display_data"
    },
    {
     "data": {
      "application/vnd.jupyter.widget-view+json": {
       "model_id": "57e1f888729f40ff9290fc85af33c3e5",
       "version_major": 2,
       "version_minor": 0
      },
      "text/plain": [
       "Render HTML:   0%|          | 0/1 [00:00<?, ?it/s]"
      ]
     },
     "metadata": {},
     "output_type": "display_data"
    },
    {
     "data": {
      "application/vnd.jupyter.widget-view+json": {
       "model_id": "1601c085af08456eb8e0c5dc0044582a",
       "version_major": 2,
       "version_minor": 0
      },
      "text/plain": [
       "Export report to file:   0%|          | 0/1 [00:00<?, ?it/s]"
      ]
     },
     "metadata": {},
     "output_type": "display_data"
    }
   ],
   "source": [
    "# Сохраняем рузльтат в HTML.\n",
    "profile_cat_correct_400m2.to_file(\"EDA_CAT_COR_FLATS_400M2_PANDAS_PROFILING_REPORT.html\")"
   ]
  },
  {
   "cell_type": "markdown",
   "id": "raising-calculator",
   "metadata": {},
   "source": [
    "## < 130 m2"
   ]
  },
  {
   "cell_type": "code",
   "execution_count": 11,
   "id": "decimal-consideration",
   "metadata": {
    "ExecuteTime": {
     "end_time": "2021-04-22T09:01:35.567975Z",
     "start_time": "2021-04-22T09:01:35.481478Z"
    }
   },
   "outputs": [],
   "source": [
    "df_correct_130m2 = df_correct[(df_correct['square']<131) & (df_correct['price']<100000000)].reset_index(drop=True)"
   ]
  },
  {
   "cell_type": "code",
   "execution_count": 12,
   "id": "finite-facility",
   "metadata": {
    "ExecuteTime": {
     "end_time": "2021-04-22T09:01:35.952353Z",
     "start_time": "2021-04-22T09:01:35.888395Z"
    }
   },
   "outputs": [],
   "source": [
    "profile_cat_correct_130m2 = ProfileReport(df_correct_130m2, title=\"Correct categorical flats < 130m2\")"
   ]
  },
  {
   "cell_type": "code",
   "execution_count": 13,
   "id": "lasting-description",
   "metadata": {
    "ExecuteTime": {
     "end_time": "2021-04-22T09:03:04.326414Z",
     "start_time": "2021-04-22T09:01:36.265865Z"
    }
   },
   "outputs": [
    {
     "data": {
      "application/vnd.jupyter.widget-view+json": {
       "model_id": "d28d284099ba4299ba2df3eb38e4c8e3",
       "version_major": 2,
       "version_minor": 0
      },
      "text/plain": [
       "Summarize dataset:   0%|          | 0/40 [00:00<?, ?it/s]"
      ]
     },
     "metadata": {},
     "output_type": "display_data"
    },
    {
     "data": {
      "application/vnd.jupyter.widget-view+json": {
       "model_id": "5338b5410afa44678256fa7e7bdcc0dc",
       "version_major": 2,
       "version_minor": 0
      },
      "text/plain": [
       "Generate report structure:   0%|          | 0/1 [00:00<?, ?it/s]"
      ]
     },
     "metadata": {},
     "output_type": "display_data"
    },
    {
     "data": {
      "application/vnd.jupyter.widget-view+json": {
       "model_id": "b9b21214970845119bdddea57e331809",
       "version_major": 2,
       "version_minor": 0
      },
      "text/plain": [
       "Render HTML:   0%|          | 0/1 [00:00<?, ?it/s]"
      ]
     },
     "metadata": {},
     "output_type": "display_data"
    },
    {
     "data": {
      "application/vnd.jupyter.widget-view+json": {
       "model_id": "dfd427df27874455848583f9eb406dd4",
       "version_major": 2,
       "version_minor": 0
      },
      "text/plain": [
       "Export report to file:   0%|          | 0/1 [00:00<?, ?it/s]"
      ]
     },
     "metadata": {},
     "output_type": "display_data"
    }
   ],
   "source": [
    "# Сохраняем рузльтат в HTML.\n",
    "profile_cat_correct_130m2.to_file(\"EDA_CAT_COR_FLATS_130M2_PANDAS_PROFILING_REPORT.html\")"
   ]
  },
  {
   "cell_type": "code",
   "execution_count": null,
   "id": "enabling-particle",
   "metadata": {},
   "outputs": [],
   "source": []
  }
 ],
 "metadata": {
  "kernelspec": {
   "display_name": "Python 3",
   "language": "python",
   "name": "python3"
  },
  "language_info": {
   "codemirror_mode": {
    "name": "ipython",
    "version": 3
   },
   "file_extension": ".py",
   "mimetype": "text/x-python",
   "name": "python",
   "nbconvert_exporter": "python",
   "pygments_lexer": "ipython3",
   "version": "3.7.7"
  },
  "toc": {
   "base_numbering": 1,
   "nav_menu": {},
   "number_sections": true,
   "sideBar": true,
   "skip_h1_title": false,
   "title_cell": "Table of Contents",
   "title_sidebar": "Contents",
   "toc_cell": false,
   "toc_position": {},
   "toc_section_display": true,
   "toc_window_display": true
  },
  "varInspector": {
   "cols": {
    "lenName": 16,
    "lenType": 16,
    "lenVar": 40
   },
   "kernels_config": {
    "python": {
     "delete_cmd_postfix": "",
     "delete_cmd_prefix": "del ",
     "library": "var_list.py",
     "varRefreshCmd": "print(var_dic_list())"
    },
    "r": {
     "delete_cmd_postfix": ") ",
     "delete_cmd_prefix": "rm(",
     "library": "var_list.r",
     "varRefreshCmd": "cat(var_dic_list()) "
    }
   },
   "types_to_exclude": [
    "module",
    "function",
    "builtin_function_or_method",
    "instance",
    "_Feature"
   ],
   "window_display": false
  }
 },
 "nbformat": 4,
 "nbformat_minor": 5
}
