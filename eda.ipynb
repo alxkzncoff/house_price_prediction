{
 "cells": [
  {
   "cell_type": "markdown",
   "metadata": {},
   "source": [
    "# IMPORT"
   ]
  },
  {
   "cell_type": "code",
   "execution_count": 616,
   "metadata": {
    "ExecuteTime": {
     "end_time": "2021-02-03T12:04:42.817198Z",
     "start_time": "2021-02-03T12:04:42.812198Z"
    }
   },
   "outputs": [],
   "source": [
    "import pandas as pd\n",
    "import numpy as np\n",
    "import matplotlib.pyplot as plt\n",
    "import seaborn as sns\n",
    "import statsmodels.api as sm"
   ]
  },
  {
   "cell_type": "markdown",
   "metadata": {},
   "source": [
    "# DEFINE"
   ]
  },
  {
   "cell_type": "code",
   "execution_count": 617,
   "metadata": {
    "ExecuteTime": {
     "end_time": "2021-02-03T12:04:42.831198Z",
     "start_time": "2021-02-03T12:04:42.823198Z"
    }
   },
   "outputs": [],
   "source": [
    "NUM_OF_ROWS = 43732"
   ]
  },
  {
   "cell_type": "markdown",
   "metadata": {},
   "source": [
    "# PREPARETION"
   ]
  },
  {
   "cell_type": "code",
   "execution_count": 618,
   "metadata": {
    "ExecuteTime": {
     "end_time": "2021-02-03T12:04:42.973198Z",
     "start_time": "2021-02-03T12:04:42.833198Z"
    }
   },
   "outputs": [],
   "source": [
    "flats = pd.read_csv('data/flats.csv',\n",
    "                    dtype={'floors': str,\n",
    "                           'total_floors': str})"
   ]
  },
  {
   "cell_type": "code",
   "execution_count": 619,
   "metadata": {
    "ExecuteTime": {
     "end_time": "2021-02-03T12:04:42.991198Z",
     "start_time": "2021-02-03T12:04:42.974198Z"
    }
   },
   "outputs": [
    {
     "data": {
      "text/html": [
       "<div>\n",
       "<style scoped>\n",
       "    .dataframe tbody tr th:only-of-type {\n",
       "        vertical-align: middle;\n",
       "    }\n",
       "\n",
       "    .dataframe tbody tr th {\n",
       "        vertical-align: top;\n",
       "    }\n",
       "\n",
       "    .dataframe thead th {\n",
       "        text-align: right;\n",
       "    }\n",
       "</style>\n",
       "<table border=\"1\" class=\"dataframe\">\n",
       "  <thead>\n",
       "    <tr style=\"text-align: right;\">\n",
       "      <th></th>\n",
       "      <th>page</th>\n",
       "      <th>flat_type</th>\n",
       "      <th>object_type</th>\n",
       "      <th>rooms</th>\n",
       "      <th>floors</th>\n",
       "      <th>square</th>\n",
       "      <th>kitchen_square</th>\n",
       "      <th>live_square</th>\n",
       "      <th>price</th>\n",
       "      <th>build_matireal</th>\n",
       "      <th>catalog_id</th>\n",
       "      <th>district_rating</th>\n",
       "      <th>underground</th>\n",
       "      <th>total_floors</th>\n",
       "      <th>days_active</th>\n",
       "      <th>metro_station</th>\n",
       "      <th>district</th>\n",
       "    </tr>\n",
       "  </thead>\n",
       "  <tbody>\n",
       "    <tr>\n",
       "      <th>0</th>\n",
       "      <td>https://www.domofond.ru/4-komnatnaya-kvartira-...</td>\n",
       "      <td>Квартира</td>\n",
       "      <td>Новостройка</td>\n",
       "      <td>4</td>\n",
       "      <td>6</td>\n",
       "      <td>157.0</td>\n",
       "      <td>37.4</td>\n",
       "      <td>73.7</td>\n",
       "      <td>68923000.0</td>\n",
       "      <td>Монолит</td>\n",
       "      <td>1671457770</td>\n",
       "      <td>3,7</td>\n",
       "      <td>605.0</td>\n",
       "      <td>9</td>\n",
       "      <td>527.0</td>\n",
       "      <td>Чернышевская</td>\n",
       "      <td>Центральный</td>\n",
       "    </tr>\n",
       "    <tr>\n",
       "      <th>1</th>\n",
       "      <td>https://www.domofond.ru/2-komnatnaya-kvartira-...</td>\n",
       "      <td>Квартира</td>\n",
       "      <td>Новостройка</td>\n",
       "      <td>2</td>\n",
       "      <td>11</td>\n",
       "      <td>57.6</td>\n",
       "      <td>NaN</td>\n",
       "      <td>40.6</td>\n",
       "      <td>12729600.0</td>\n",
       "      <td>Монолит</td>\n",
       "      <td>2857061520</td>\n",
       "      <td>4,0</td>\n",
       "      <td>1000.0</td>\n",
       "      <td>12</td>\n",
       "      <td>119.0</td>\n",
       "      <td>Звездная</td>\n",
       "      <td>Московский</td>\n",
       "    </tr>\n",
       "    <tr>\n",
       "      <th>2</th>\n",
       "      <td>https://www.domofond.ru/1-komnatnaya-kvartira-...</td>\n",
       "      <td>Квартира</td>\n",
       "      <td>Новостройка</td>\n",
       "      <td>1</td>\n",
       "      <td>18</td>\n",
       "      <td>48.8</td>\n",
       "      <td>NaN</td>\n",
       "      <td>NaN</td>\n",
       "      <td>8600012.0</td>\n",
       "      <td>Монолит</td>\n",
       "      <td>2269289168</td>\n",
       "      <td>3,9</td>\n",
       "      <td>3600.0</td>\n",
       "      <td>20</td>\n",
       "      <td>343.0</td>\n",
       "      <td>Комендантский проспект</td>\n",
       "      <td>Приморский</td>\n",
       "    </tr>\n",
       "    <tr>\n",
       "      <th>3</th>\n",
       "      <td>https://www.domofond.ru/3-komnatnaya-kvartira-...</td>\n",
       "      <td>Квартира</td>\n",
       "      <td>Вторичная</td>\n",
       "      <td>3</td>\n",
       "      <td>1</td>\n",
       "      <td>62.2</td>\n",
       "      <td>8.0</td>\n",
       "      <td>43.5</td>\n",
       "      <td>4700000.0</td>\n",
       "      <td>Панель</td>\n",
       "      <td>2852613956</td>\n",
       "      <td>3,6</td>\n",
       "      <td>1000.0</td>\n",
       "      <td>5</td>\n",
       "      <td>121.0</td>\n",
       "      <td>Обухово</td>\n",
       "      <td>Невский</td>\n",
       "    </tr>\n",
       "    <tr>\n",
       "      <th>4</th>\n",
       "      <td>https://www.domofond.ru/1-komnatnaya-kvartira-...</td>\n",
       "      <td>Квартира</td>\n",
       "      <td>Вторичная</td>\n",
       "      <td>1</td>\n",
       "      <td>10</td>\n",
       "      <td>50.5</td>\n",
       "      <td>15.2</td>\n",
       "      <td>19.1</td>\n",
       "      <td>12500000.0</td>\n",
       "      <td>Монолит</td>\n",
       "      <td>2983774635</td>\n",
       "      <td>3,8</td>\n",
       "      <td>2800.0</td>\n",
       "      <td>14</td>\n",
       "      <td>65.0</td>\n",
       "      <td>Площадь Ленина</td>\n",
       "      <td>Калининский</td>\n",
       "    </tr>\n",
       "    <tr>\n",
       "      <th>5</th>\n",
       "      <td>https://www.domofond.ru/1-komnatnaya-kvartira-...</td>\n",
       "      <td>Квартира</td>\n",
       "      <td>Вторичная</td>\n",
       "      <td>1</td>\n",
       "      <td>6</td>\n",
       "      <td>50.0</td>\n",
       "      <td>23.1</td>\n",
       "      <td>9.6</td>\n",
       "      <td>14100000.0</td>\n",
       "      <td>Монолит</td>\n",
       "      <td>2995697558</td>\n",
       "      <td>3,7</td>\n",
       "      <td>797.0</td>\n",
       "      <td>10</td>\n",
       "      <td>60.0</td>\n",
       "      <td>Площадь А. Невского</td>\n",
       "      <td>Центральный</td>\n",
       "    </tr>\n",
       "    <tr>\n",
       "      <th>6</th>\n",
       "      <td>https://www.domofond.ru/2-komnatnaya-kvartira-...</td>\n",
       "      <td>Квартира</td>\n",
       "      <td>Вторичная</td>\n",
       "      <td>2</td>\n",
       "      <td>4</td>\n",
       "      <td>81.0</td>\n",
       "      <td>14.1</td>\n",
       "      <td>52.3</td>\n",
       "      <td>9900000.0</td>\n",
       "      <td>Кирпич</td>\n",
       "      <td>2995696729</td>\n",
       "      <td>3,6</td>\n",
       "      <td>261.0</td>\n",
       "      <td>5</td>\n",
       "      <td>60.0</td>\n",
       "      <td>Лесная</td>\n",
       "      <td>Выборгский</td>\n",
       "    </tr>\n",
       "    <tr>\n",
       "      <th>7</th>\n",
       "      <td>https://www.domofond.ru/kvartira-na-prodazhu-s...</td>\n",
       "      <td>Студия</td>\n",
       "      <td>Вторичная</td>\n",
       "      <td>1</td>\n",
       "      <td>9</td>\n",
       "      <td>17.8</td>\n",
       "      <td>0.0</td>\n",
       "      <td>0.0</td>\n",
       "      <td>2740000.0</td>\n",
       "      <td>Кирпич</td>\n",
       "      <td>2855474979</td>\n",
       "      <td>3,6</td>\n",
       "      <td>2000.0</td>\n",
       "      <td>16</td>\n",
       "      <td>120.0</td>\n",
       "      <td>Купчино</td>\n",
       "      <td>Московский</td>\n",
       "    </tr>\n",
       "    <tr>\n",
       "      <th>8</th>\n",
       "      <td>https://www.domofond.ru/1-komnatnaya-kvartira-...</td>\n",
       "      <td>Квартира</td>\n",
       "      <td>Вторичная</td>\n",
       "      <td>1</td>\n",
       "      <td>7</td>\n",
       "      <td>40.0</td>\n",
       "      <td>16.0</td>\n",
       "      <td>12.4</td>\n",
       "      <td>9500000.0</td>\n",
       "      <td>Монолит</td>\n",
       "      <td>3138966389</td>\n",
       "      <td>3,7</td>\n",
       "      <td>926.0</td>\n",
       "      <td>12</td>\n",
       "      <td>0.0</td>\n",
       "      <td>Московские ворота</td>\n",
       "      <td>Московский</td>\n",
       "    </tr>\n",
       "    <tr>\n",
       "      <th>9</th>\n",
       "      <td>https://www.domofond.ru/kvartira-na-prodazhu-s...</td>\n",
       "      <td>Студия</td>\n",
       "      <td>Новостройка</td>\n",
       "      <td>1</td>\n",
       "      <td>9</td>\n",
       "      <td>21.6</td>\n",
       "      <td>0.0</td>\n",
       "      <td>0.0</td>\n",
       "      <td>4550000.0</td>\n",
       "      <td>Монолит</td>\n",
       "      <td>3138937331</td>\n",
       "      <td>3,8</td>\n",
       "      <td>575.0</td>\n",
       "      <td>11</td>\n",
       "      <td>0.0</td>\n",
       "      <td>Старая деревня</td>\n",
       "      <td>Приморский</td>\n",
       "    </tr>\n",
       "  </tbody>\n",
       "</table>\n",
       "</div>"
      ],
      "text/plain": [
       "                                                page flat_type  object_type  \\\n",
       "0  https://www.domofond.ru/4-komnatnaya-kvartira-...  Квартира  Новостройка   \n",
       "1  https://www.domofond.ru/2-komnatnaya-kvartira-...  Квартира  Новостройка   \n",
       "2  https://www.domofond.ru/1-komnatnaya-kvartira-...  Квартира  Новостройка   \n",
       "3  https://www.domofond.ru/3-komnatnaya-kvartira-...  Квартира    Вторичная   \n",
       "4  https://www.domofond.ru/1-komnatnaya-kvartira-...  Квартира    Вторичная   \n",
       "5  https://www.domofond.ru/1-komnatnaya-kvartira-...  Квартира    Вторичная   \n",
       "6  https://www.domofond.ru/2-komnatnaya-kvartira-...  Квартира    Вторичная   \n",
       "7  https://www.domofond.ru/kvartira-na-prodazhu-s...    Студия    Вторичная   \n",
       "8  https://www.domofond.ru/1-komnatnaya-kvartira-...  Квартира    Вторичная   \n",
       "9  https://www.domofond.ru/kvartira-na-prodazhu-s...    Студия  Новостройка   \n",
       "\n",
       "  rooms floors  square  kitchen_square  live_square       price  \\\n",
       "0     4      6   157.0            37.4         73.7  68923000.0   \n",
       "1     2     11    57.6             NaN         40.6  12729600.0   \n",
       "2     1     18    48.8             NaN          NaN   8600012.0   \n",
       "3     3      1    62.2             8.0         43.5   4700000.0   \n",
       "4     1     10    50.5            15.2         19.1  12500000.0   \n",
       "5     1      6    50.0            23.1          9.6  14100000.0   \n",
       "6     2      4    81.0            14.1         52.3   9900000.0   \n",
       "7     1      9    17.8             0.0          0.0   2740000.0   \n",
       "8     1      7    40.0            16.0         12.4   9500000.0   \n",
       "9     1      9    21.6             0.0          0.0   4550000.0   \n",
       "\n",
       "  build_matireal  catalog_id district_rating  underground total_floors  \\\n",
       "0        Монолит  1671457770             3,7        605.0            9   \n",
       "1        Монолит  2857061520             4,0       1000.0           12   \n",
       "2        Монолит  2269289168             3,9       3600.0           20   \n",
       "3         Панель  2852613956             3,6       1000.0            5   \n",
       "4        Монолит  2983774635             3,8       2800.0           14   \n",
       "5        Монолит  2995697558             3,7        797.0           10   \n",
       "6         Кирпич  2995696729             3,6        261.0            5   \n",
       "7         Кирпич  2855474979             3,6       2000.0           16   \n",
       "8        Монолит  3138966389             3,7        926.0           12   \n",
       "9        Монолит  3138937331             3,8        575.0           11   \n",
       "\n",
       "   days_active           metro_station     district  \n",
       "0        527.0            Чернышевская  Центральный  \n",
       "1        119.0                Звездная   Московский  \n",
       "2        343.0  Комендантский проспект   Приморский  \n",
       "3        121.0                 Обухово      Невский  \n",
       "4         65.0          Площадь Ленина  Калининский  \n",
       "5         60.0     Площадь А. Невского  Центральный  \n",
       "6         60.0                  Лесная   Выборгский  \n",
       "7        120.0                 Купчино   Московский  \n",
       "8          0.0       Московские ворота   Московский  \n",
       "9          0.0          Старая деревня   Приморский  "
      ]
     },
     "execution_count": 619,
     "metadata": {},
     "output_type": "execute_result"
    }
   ],
   "source": [
    "flats.head(10)"
   ]
  },
  {
   "cell_type": "code",
   "execution_count": 620,
   "metadata": {
    "ExecuteTime": {
     "end_time": "2021-02-03T12:04:42.999198Z",
     "start_time": "2021-02-03T12:04:42.992198Z"
    }
   },
   "outputs": [],
   "source": [
    "flats.drop(columns=['page'], inplace=True)"
   ]
  },
  {
   "cell_type": "code",
   "execution_count": 621,
   "metadata": {
    "ExecuteTime": {
     "end_time": "2021-02-03T12:04:43.019198Z",
     "start_time": "2021-02-03T12:04:43.000198Z"
    }
   },
   "outputs": [
    {
     "name": "stdout",
     "output_type": "stream",
     "text": [
      "<class 'pandas.core.frame.DataFrame'>\n",
      "RangeIndex: 41424 entries, 0 to 41423\n",
      "Data columns (total 16 columns):\n",
      " #   Column           Non-Null Count  Dtype  \n",
      "---  ------           --------------  -----  \n",
      " 0   flat_type        41424 non-null  object \n",
      " 1   object_type      41424 non-null  object \n",
      " 2   rooms            41424 non-null  object \n",
      " 3   floors           41424 non-null  object \n",
      " 4   square           41424 non-null  float64\n",
      " 5   kitchen_square   34778 non-null  float64\n",
      " 6   live_square      35060 non-null  float64\n",
      " 7   price            41424 non-null  float64\n",
      " 8   build_matireal   41424 non-null  object \n",
      " 9   catalog_id       41424 non-null  int64  \n",
      " 10  district_rating  41424 non-null  object \n",
      " 11  underground      41424 non-null  float64\n",
      " 12  total_floors     41424 non-null  object \n",
      " 13  days_active      41424 non-null  float64\n",
      " 14  metro_station    41424 non-null  object \n",
      " 15  district         41424 non-null  object \n",
      "dtypes: float64(6), int64(1), object(9)\n",
      "memory usage: 5.1+ MB\n"
     ]
    }
   ],
   "source": [
    "flats.info()"
   ]
  },
  {
   "cell_type": "code",
   "execution_count": 622,
   "metadata": {
    "ExecuteTime": {
     "end_time": "2021-02-03T12:04:43.070198Z",
     "start_time": "2021-02-03T12:04:43.020198Z"
    }
   },
   "outputs": [
    {
     "data": {
      "text/html": [
       "<div>\n",
       "<style scoped>\n",
       "    .dataframe tbody tr th:only-of-type {\n",
       "        vertical-align: middle;\n",
       "    }\n",
       "\n",
       "    .dataframe tbody tr th {\n",
       "        vertical-align: top;\n",
       "    }\n",
       "\n",
       "    .dataframe thead th {\n",
       "        text-align: right;\n",
       "    }\n",
       "</style>\n",
       "<table border=\"1\" class=\"dataframe\">\n",
       "  <thead>\n",
       "    <tr style=\"text-align: right;\">\n",
       "      <th></th>\n",
       "      <th>square</th>\n",
       "      <th>kitchen_square</th>\n",
       "      <th>live_square</th>\n",
       "      <th>price</th>\n",
       "      <th>catalog_id</th>\n",
       "      <th>underground</th>\n",
       "      <th>days_active</th>\n",
       "    </tr>\n",
       "  </thead>\n",
       "  <tbody>\n",
       "    <tr>\n",
       "      <th>count</th>\n",
       "      <td>41424.000000</td>\n",
       "      <td>34778.000000</td>\n",
       "      <td>35060.000000</td>\n",
       "      <td>4.142400e+04</td>\n",
       "      <td>4.142400e+04</td>\n",
       "      <td>41424.000000</td>\n",
       "      <td>41424.000000</td>\n",
       "    </tr>\n",
       "    <tr>\n",
       "      <th>mean</th>\n",
       "      <td>58.118431</td>\n",
       "      <td>11.590178</td>\n",
       "      <td>28.163460</td>\n",
       "      <td>1.033112e+07</td>\n",
       "      <td>2.715152e+09</td>\n",
       "      <td>1823.102960</td>\n",
       "      <td>154.842000</td>\n",
       "    </tr>\n",
       "    <tr>\n",
       "      <th>std</th>\n",
       "      <td>39.687677</td>\n",
       "      <td>9.415730</td>\n",
       "      <td>26.997551</td>\n",
       "      <td>1.301924e+07</td>\n",
       "      <td>6.056296e+08</td>\n",
       "      <td>1259.536321</td>\n",
       "      <td>234.164118</td>\n",
       "    </tr>\n",
       "    <tr>\n",
       "      <th>min</th>\n",
       "      <td>10.000000</td>\n",
       "      <td>0.000000</td>\n",
       "      <td>0.000000</td>\n",
       "      <td>1.107000e+06</td>\n",
       "      <td>6.261731e+06</td>\n",
       "      <td>0.000000</td>\n",
       "      <td>0.000000</td>\n",
       "    </tr>\n",
       "    <tr>\n",
       "      <th>25%</th>\n",
       "      <td>34.000000</td>\n",
       "      <td>5.700000</td>\n",
       "      <td>10.700000</td>\n",
       "      <td>4.850000e+06</td>\n",
       "      <td>2.688448e+09</td>\n",
       "      <td>826.000000</td>\n",
       "      <td>12.000000</td>\n",
       "    </tr>\n",
       "    <tr>\n",
       "      <th>50%</th>\n",
       "      <td>48.000000</td>\n",
       "      <td>11.500000</td>\n",
       "      <td>24.600000</td>\n",
       "      <td>7.051250e+06</td>\n",
       "      <td>2.964922e+09</td>\n",
       "      <td>1400.000000</td>\n",
       "      <td>62.000000</td>\n",
       "    </tr>\n",
       "    <tr>\n",
       "      <th>75%</th>\n",
       "      <td>70.000000</td>\n",
       "      <td>16.100000</td>\n",
       "      <td>41.100000</td>\n",
       "      <td>1.105656e+07</td>\n",
       "      <td>3.077911e+09</td>\n",
       "      <td>2700.000000</td>\n",
       "      <td>183.000000</td>\n",
       "    </tr>\n",
       "    <tr>\n",
       "      <th>max</th>\n",
       "      <td>1123.700000</td>\n",
       "      <td>100.000000</td>\n",
       "      <td>485.000000</td>\n",
       "      <td>7.500000e+08</td>\n",
       "      <td>3.139228e+09</td>\n",
       "      <td>5000.000000</td>\n",
       "      <td>3006.000000</td>\n",
       "    </tr>\n",
       "  </tbody>\n",
       "</table>\n",
       "</div>"
      ],
      "text/plain": [
       "             square  kitchen_square   live_square         price    catalog_id  \\\n",
       "count  41424.000000    34778.000000  35060.000000  4.142400e+04  4.142400e+04   \n",
       "mean      58.118431       11.590178     28.163460  1.033112e+07  2.715152e+09   \n",
       "std       39.687677        9.415730     26.997551  1.301924e+07  6.056296e+08   \n",
       "min       10.000000        0.000000      0.000000  1.107000e+06  6.261731e+06   \n",
       "25%       34.000000        5.700000     10.700000  4.850000e+06  2.688448e+09   \n",
       "50%       48.000000       11.500000     24.600000  7.051250e+06  2.964922e+09   \n",
       "75%       70.000000       16.100000     41.100000  1.105656e+07  3.077911e+09   \n",
       "max     1123.700000      100.000000    485.000000  7.500000e+08  3.139228e+09   \n",
       "\n",
       "        underground   days_active  \n",
       "count  41424.000000  41424.000000  \n",
       "mean    1823.102960    154.842000  \n",
       "std     1259.536321    234.164118  \n",
       "min        0.000000      0.000000  \n",
       "25%      826.000000     12.000000  \n",
       "50%     1400.000000     62.000000  \n",
       "75%     2700.000000    183.000000  \n",
       "max     5000.000000   3006.000000  "
      ]
     },
     "execution_count": 622,
     "metadata": {},
     "output_type": "execute_result"
    }
   ],
   "source": [
    "flats.describe()"
   ]
  },
  {
   "cell_type": "markdown",
   "metadata": {},
   "source": [
    "Для некоторых признаков есть очень большие значения. например для `square`, `kitchen_square`, `kitchen_square`, `days_active`. После более близкого рассмотрения каждого признака, решу, что с ними делать."
   ]
  },
  {
   "cell_type": "code",
   "execution_count": 623,
   "metadata": {
    "ExecuteTime": {
     "end_time": "2021-02-03T12:04:43.093198Z",
     "start_time": "2021-02-03T12:04:43.071198Z"
    }
   },
   "outputs": [
    {
     "data": {
      "text/plain": [
       "flat_type           3\n",
       "object_type         2\n",
       "rooms               9\n",
       "floors             31\n",
       "build_matireal      5\n",
       "district_rating    10\n",
       "total_floors       37\n",
       "metro_station      77\n",
       "district           14\n",
       "dtype: int64"
      ]
     },
     "execution_count": 623,
     "metadata": {},
     "output_type": "execute_result"
    }
   ],
   "source": [
    "# Количество уникальных значений у категориальных признаков\n",
    "flats.select_dtypes('object').nunique()"
   ]
  },
  {
   "cell_type": "markdown",
   "metadata": {},
   "source": [
    "Сначала пройдусь по каждому признаку по отдельности, чтобы понять, с чем имею дело и сделать первые выводы."
   ]
  },
  {
   "cell_type": "code",
   "execution_count": 624,
   "metadata": {
    "ExecuteTime": {
     "end_time": "2021-02-03T12:04:43.110198Z",
     "start_time": "2021-02-03T12:04:43.095198Z"
    }
   },
   "outputs": [],
   "source": [
    "# column - признак из таблицы flats (передавать Series)\n",
    "\n",
    "def feature_analyse(column):\n",
    "\n",
    "    fig = plt.figure(figsize=(15, 6))\n",
    "    plt.grid(axis='both')\n",
    "    plt.title(column.name)\n",
    "\n",
    "\n",
    "    # Если тип признака object:\n",
    "    if column.dtype == 'object':\n",
    "        \n",
    "        if column.nunique() > 10:\n",
    "            plt.xticks(rotation=90)\n",
    "\n",
    "        # Количество каждого уникального значения\n",
    "        sns.countplot(column, data=flats)\n",
    "\n",
    "        for i in range(column.nunique()):\n",
    "            print('{}: {} / {}%'.format(column.unique()[i],\n",
    "                                        column[column == column.unique()[i]].count(),\n",
    "                                        round((column[column == column.unique()[i]].count()*100)/NUM_OF_ROWS, 2)))\n",
    "    else:\n",
    "        sns.distplot(column)"
   ]
  },
  {
   "cell_type": "markdown",
   "metadata": {},
   "source": [
    "## flat_type"
   ]
  },
  {
   "cell_type": "code",
   "execution_count": 625,
   "metadata": {
    "ExecuteTime": {
     "end_time": "2021-02-03T12:04:43.266198Z",
     "start_time": "2021-02-03T12:04:43.112198Z"
    },
    "scrolled": false
   },
   "outputs": [
    {
     "name": "stdout",
     "output_type": "stream",
     "text": [
      "Квартира: 33384 / 76.34%\n",
      "Студия: 7982 / 18.25%\n",
      "Своб. планировка: 58 / 0.13%\n"
     ]
    },
    {
     "data": {
      "image/png": "[encoded data removed]",
      "text/plain": [
       "<Figure size 1080x432 with 1 Axes>"
      ]
     },
     "metadata": {
      "needs_background": "light"
     },
     "output_type": "display_data"
    }
   ],
   "source": [
    "feature_analyse(flats.flat_type)"
   ]
  },
  {
   "cell_type": "markdown",
   "metadata": {},
   "source": [
    "## object_type"
   ]
  },
  {
   "cell_type": "code",
   "execution_count": 626,
   "metadata": {
    "ExecuteTime": {
     "end_time": "2021-02-03T12:04:43.401198Z",
     "start_time": "2021-02-03T12:04:43.267198Z"
    },
    "scrolled": false
   },
   "outputs": [
    {
     "name": "stdout",
     "output_type": "stream",
     "text": [
      "Новостройка: 28110 / 64.28%\n",
      "Вторичная: 13314 / 30.44%\n"
     ]
    },
    {
     "data": {
      "image/png": "[encoded data removed]",
      "text/plain": [
       "<Figure size 1080x432 with 1 Axes>"
      ]
     },
     "metadata": {
      "needs_background": "light"
     },
     "output_type": "display_data"
    }
   ],
   "source": [
    "feature_analyse(flats.object_type)"
   ]
  },
  {
   "cell_type": "markdown",
   "metadata": {},
   "source": [
    "## rooms"
   ]
  },
  {
   "cell_type": "code",
   "execution_count": 627,
   "metadata": {
    "ExecuteTime": {
     "end_time": "2021-02-03T12:04:43.606198Z",
     "start_time": "2021-02-03T12:04:43.402198Z"
    }
   },
   "outputs": [
    {
     "name": "stdout",
     "output_type": "stream",
     "text": [
      "4: 1653 / 3.78%\n",
      "2: 11086 / 25.35%\n",
      "1: 19943 / 45.6%\n",
      "3: 8016 / 18.33%\n",
      "5: 528 / 1.21%\n",
      "Своб. планировка: 58 / 0.13%\n",
      "7: 71 / 0.16%\n",
      "8: 31 / 0.07%\n",
      "9: 38 / 0.09%\n"
     ]
    },
    {
     "data": {
      "image/png": "[encoded data removed]",
      "text/plain": [
       "<Figure size 1080x432 with 1 Axes>"
      ]
     },
     "metadata": {
      "needs_background": "light"
     },
     "output_type": "display_data"
    }
   ],
   "source": [
    "feature_analyse(flats.rooms)"
   ]
  },
  {
   "cell_type": "markdown",
   "metadata": {},
   "source": [
    "## floors"
   ]
  },
  {
   "cell_type": "code",
   "execution_count": 628,
   "metadata": {
    "ExecuteTime": {
     "end_time": "2021-02-03T12:04:43.610198Z",
     "start_time": "2021-02-03T12:04:43.607198Z"
    }
   },
   "outputs": [],
   "source": [
    "flats.floors = flats.floors.astype('object')"
   ]
  },
  {
   "cell_type": "code",
   "execution_count": 629,
   "metadata": {
    "ExecuteTime": {
     "end_time": "2021-02-03T12:04:44.081198Z",
     "start_time": "2021-02-03T12:04:43.611198Z"
    }
   },
   "outputs": [
    {
     "name": "stdout",
     "output_type": "stream",
     "text": [
      "6: 2522 / 5.77%\n",
      "11: 1685 / 3.85%\n",
      "18: 717 / 1.64%\n",
      "1: 2590 / 5.92%\n",
      "10: 1943 / 4.44%\n",
      "4: 3374 / 7.72%\n",
      "9: 1934 / 4.42%\n",
      "7: 2564 / 5.86%\n",
      "3: 3775 / 8.63%\n",
      "2: 4902 / 11.21%\n",
      "15: 974 / 2.23%\n",
      "8: 2315 / 5.29%\n",
      "16: 857 / 1.96%\n",
      "20: 572 / 1.31%\n",
      "13: 1287 / 2.94%\n",
      "5: 3526 / 8.06%\n",
      "17: 822 / 1.88%\n",
      "19: 604 / 1.38%\n",
      "12: 1576 / 3.6%\n",
      "21: 388 / 0.89%\n",
      "23: 369 / 0.84%\n",
      "22: 412 / 0.94%\n",
      "14: 1157 / 2.65%\n",
      "24: 330 / 0.75%\n",
      "28: 12 / 0.03%\n",
      "25: 147 / 0.34%\n",
      "30: 1 / 0.0%\n",
      "27: 28 / 0.06%\n",
      "26: 34 / 0.08%\n",
      "29: 5 / 0.01%\n",
      "33: 2 / 0.0%\n"
     ]
    },
    {
     "data": {
      "image/png": "[encoded data removed]",
      "text/plain": [
       "<Figure size 1080x432 with 1 Axes>"
      ]
     },
     "metadata": {
      "needs_background": "light"
     },
     "output_type": "display_data"
    }
   ],
   "source": [
    "feature_analyse(flats.floors)"
   ]
  },
  {
   "cell_type": "markdown",
   "metadata": {},
   "source": [
    "Больше всего квартир продают на **втором** этаже."
   ]
  },
  {
   "cell_type": "markdown",
   "metadata": {},
   "source": [
    "## square"
   ]
  },
  {
   "cell_type": "code",
   "execution_count": 630,
   "metadata": {
    "ExecuteTime": {
     "end_time": "2021-02-03T12:04:44.244198Z",
     "start_time": "2021-02-03T12:04:44.082198Z"
    }
   },
   "outputs": [
    {
     "data": {
      "image/png": "[encoded data removed]",
      "text/plain": [
       "<Figure size 1080x432 with 1 Axes>"
      ]
     },
     "metadata": {
      "needs_background": "light"
     },
     "output_type": "display_data"
    }
   ],
   "source": [
    "feature_analyse(flats.square)"
   ]
  },
  {
   "cell_type": "markdown",
   "metadata": {},
   "source": [
    "Попробую посмотреть на студии и квартиры по отдельности."
   ]
  },
  {
   "cell_type": "markdown",
   "metadata": {},
   "source": [
    "### Студия"
   ]
  },
  {
   "cell_type": "code",
   "execution_count": 631,
   "metadata": {
    "ExecuteTime": {
     "end_time": "2021-02-03T12:04:44.408198Z",
     "start_time": "2021-02-03T12:04:44.245198Z"
    },
    "scrolled": false
   },
   "outputs": [
    {
     "data": {
      "image/png": "[encoded data removed]",
      "text/plain": [
       "<Figure size 1080x432 with 1 Axes>"
      ]
     },
     "metadata": {
      "needs_background": "light"
     },
     "output_type": "display_data"
    }
   ],
   "source": [
    "feature_analyse(flats.square[flats.flat_type == 'Студия'])"
   ]
  },
  {
   "cell_type": "code",
   "execution_count": 632,
   "metadata": {
    "ExecuteTime": {
     "end_time": "2021-02-03T12:04:44.427198Z",
     "start_time": "2021-02-03T12:04:44.409198Z"
    }
   },
   "outputs": [
    {
     "data": {
      "text/html": [
       "<div>\n",
       "<style scoped>\n",
       "    .dataframe tbody tr th:only-of-type {\n",
       "        vertical-align: middle;\n",
       "    }\n",
       "\n",
       "    .dataframe tbody tr th {\n",
       "        vertical-align: top;\n",
       "    }\n",
       "\n",
       "    .dataframe thead th {\n",
       "        text-align: right;\n",
       "    }\n",
       "</style>\n",
       "<table border=\"1\" class=\"dataframe\">\n",
       "  <thead>\n",
       "    <tr style=\"text-align: right;\">\n",
       "      <th></th>\n",
       "      <th>flat_type</th>\n",
       "      <th>object_type</th>\n",
       "      <th>rooms</th>\n",
       "      <th>floors</th>\n",
       "      <th>square</th>\n",
       "      <th>kitchen_square</th>\n",
       "      <th>live_square</th>\n",
       "      <th>price</th>\n",
       "      <th>build_matireal</th>\n",
       "      <th>catalog_id</th>\n",
       "      <th>district_rating</th>\n",
       "      <th>underground</th>\n",
       "      <th>total_floors</th>\n",
       "      <th>days_active</th>\n",
       "      <th>metro_station</th>\n",
       "      <th>district</th>\n",
       "    </tr>\n",
       "  </thead>\n",
       "  <tbody>\n",
       "    <tr>\n",
       "      <th>1844</th>\n",
       "      <td>Студия</td>\n",
       "      <td>Вторичная</td>\n",
       "      <td>1</td>\n",
       "      <td>2</td>\n",
       "      <td>65.0</td>\n",
       "      <td>0.0</td>\n",
       "      <td>0.0</td>\n",
       "      <td>9300000.0</td>\n",
       "      <td>Кирпич</td>\n",
       "      <td>2710631629</td>\n",
       "      <td>3,4</td>\n",
       "      <td>670.0</td>\n",
       "      <td>5</td>\n",
       "      <td>183.0</td>\n",
       "      <td>Площадь Восстания</td>\n",
       "      <td>Центральный</td>\n",
       "    </tr>\n",
       "    <tr>\n",
       "      <th>3805</th>\n",
       "      <td>Студия</td>\n",
       "      <td>Новостройка</td>\n",
       "      <td>1</td>\n",
       "      <td>12</td>\n",
       "      <td>79.5</td>\n",
       "      <td>0.0</td>\n",
       "      <td>0.0</td>\n",
       "      <td>5500000.0</td>\n",
       "      <td>Монолит</td>\n",
       "      <td>3057197174</td>\n",
       "      <td>3,7</td>\n",
       "      <td>1600.0</td>\n",
       "      <td>13</td>\n",
       "      <td>31.0</td>\n",
       "      <td>Нарвская</td>\n",
       "      <td>Кировский</td>\n",
       "    </tr>\n",
       "    <tr>\n",
       "      <th>5446</th>\n",
       "      <td>Студия</td>\n",
       "      <td>Вторичная</td>\n",
       "      <td>1</td>\n",
       "      <td>1</td>\n",
       "      <td>117.8</td>\n",
       "      <td>0.0</td>\n",
       "      <td>0.0</td>\n",
       "      <td>17000000.0</td>\n",
       "      <td>Кирпич</td>\n",
       "      <td>3131695038</td>\n",
       "      <td>4,0</td>\n",
       "      <td>597.0</td>\n",
       "      <td>5</td>\n",
       "      <td>0.0</td>\n",
       "      <td>Василеостровская</td>\n",
       "      <td>Ваcилеостровский</td>\n",
       "    </tr>\n",
       "    <tr>\n",
       "      <th>5551</th>\n",
       "      <td>Студия</td>\n",
       "      <td>Вторичная</td>\n",
       "      <td>1</td>\n",
       "      <td>2</td>\n",
       "      <td>63.0</td>\n",
       "      <td>0.0</td>\n",
       "      <td>0.0</td>\n",
       "      <td>9300000.0</td>\n",
       "      <td>Кирпич</td>\n",
       "      <td>2700943700</td>\n",
       "      <td>3,4</td>\n",
       "      <td>647.0</td>\n",
       "      <td>4</td>\n",
       "      <td>184.0</td>\n",
       "      <td>Площадь Восстания</td>\n",
       "      <td>Центральный</td>\n",
       "    </tr>\n",
       "    <tr>\n",
       "      <th>5601</th>\n",
       "      <td>Студия</td>\n",
       "      <td>Вторичная</td>\n",
       "      <td>1</td>\n",
       "      <td>2</td>\n",
       "      <td>63.0</td>\n",
       "      <td>0.0</td>\n",
       "      <td>0.0</td>\n",
       "      <td>9300000.0</td>\n",
       "      <td>Кирпич</td>\n",
       "      <td>2778881268</td>\n",
       "      <td>3,4</td>\n",
       "      <td>670.0</td>\n",
       "      <td>4</td>\n",
       "      <td>177.0</td>\n",
       "      <td>Площадь Восстания</td>\n",
       "      <td>Центральный</td>\n",
       "    </tr>\n",
       "    <tr>\n",
       "      <th>7113</th>\n",
       "      <td>Студия</td>\n",
       "      <td>Вторичная</td>\n",
       "      <td>1</td>\n",
       "      <td>13</td>\n",
       "      <td>61.6</td>\n",
       "      <td>0.0</td>\n",
       "      <td>0.0</td>\n",
       "      <td>8775000.0</td>\n",
       "      <td>Монолит</td>\n",
       "      <td>1987433272</td>\n",
       "      <td>3,7</td>\n",
       "      <td>726.0</td>\n",
       "      <td>24</td>\n",
       "      <td>426.0</td>\n",
       "      <td>Московская</td>\n",
       "      <td>Московский</td>\n",
       "    </tr>\n",
       "    <tr>\n",
       "      <th>18667</th>\n",
       "      <td>Студия</td>\n",
       "      <td>Вторичная</td>\n",
       "      <td>1</td>\n",
       "      <td>2</td>\n",
       "      <td>159.0</td>\n",
       "      <td>0.0</td>\n",
       "      <td>0.0</td>\n",
       "      <td>13500000.0</td>\n",
       "      <td>Кирпич</td>\n",
       "      <td>2997524729</td>\n",
       "      <td>3,7</td>\n",
       "      <td>396.0</td>\n",
       "      <td>6</td>\n",
       "      <td>54.0</td>\n",
       "      <td>Владимирская</td>\n",
       "      <td>Центральный</td>\n",
       "    </tr>\n",
       "    <tr>\n",
       "      <th>31002</th>\n",
       "      <td>Студия</td>\n",
       "      <td>Вторичная</td>\n",
       "      <td>1</td>\n",
       "      <td>1</td>\n",
       "      <td>75.5</td>\n",
       "      <td>0.0</td>\n",
       "      <td>0.0</td>\n",
       "      <td>2250000.0</td>\n",
       "      <td>Кирпич</td>\n",
       "      <td>3086753278</td>\n",
       "      <td>3,7</td>\n",
       "      <td>519.0</td>\n",
       "      <td>6</td>\n",
       "      <td>5.0</td>\n",
       "      <td>Технологический ин-т II</td>\n",
       "      <td>Адмиралтейский</td>\n",
       "    </tr>\n",
       "    <tr>\n",
       "      <th>38728</th>\n",
       "      <td>Студия</td>\n",
       "      <td>Вторичная</td>\n",
       "      <td>1</td>\n",
       "      <td>11</td>\n",
       "      <td>62.0</td>\n",
       "      <td>0.0</td>\n",
       "      <td>0.0</td>\n",
       "      <td>8890000.0</td>\n",
       "      <td>Монолит</td>\n",
       "      <td>1988217943</td>\n",
       "      <td>3,7</td>\n",
       "      <td>742.0</td>\n",
       "      <td>17</td>\n",
       "      <td>404.0</td>\n",
       "      <td>Московская</td>\n",
       "      <td>Московский</td>\n",
       "    </tr>\n",
       "  </tbody>\n",
       "</table>\n",
       "</div>"
      ],
      "text/plain": [
       "      flat_type  object_type rooms floors  square  kitchen_square  \\\n",
       "1844     Студия    Вторичная     1      2    65.0             0.0   \n",
       "3805     Студия  Новостройка     1     12    79.5             0.0   \n",
       "5446     Студия    Вторичная     1      1   117.8             0.0   \n",
       "5551     Студия    Вторичная     1      2    63.0             0.0   \n",
       "5601     Студия    Вторичная     1      2    63.0             0.0   \n",
       "7113     Студия    Вторичная     1     13    61.6             0.0   \n",
       "18667    Студия    Вторичная     1      2   159.0             0.0   \n",
       "31002    Студия    Вторичная     1      1    75.5             0.0   \n",
       "38728    Студия    Вторичная     1     11    62.0             0.0   \n",
       "\n",
       "       live_square       price build_matireal  catalog_id district_rating  \\\n",
       "1844           0.0   9300000.0         Кирпич  2710631629             3,4   \n",
       "3805           0.0   5500000.0        Монолит  3057197174             3,7   \n",
       "5446           0.0  17000000.0         Кирпич  3131695038             4,0   \n",
       "5551           0.0   9300000.0         Кирпич  2700943700             3,4   \n",
       "5601           0.0   9300000.0         Кирпич  2778881268             3,4   \n",
       "7113           0.0   8775000.0        Монолит  1987433272             3,7   \n",
       "18667          0.0  13500000.0         Кирпич  2997524729             3,7   \n",
       "31002          0.0   2250000.0         Кирпич  3086753278             3,7   \n",
       "38728          0.0   8890000.0        Монолит  1988217943             3,7   \n",
       "\n",
       "       underground total_floors  days_active            metro_station  \\\n",
       "1844         670.0            5        183.0        Площадь Восстания   \n",
       "3805        1600.0           13         31.0                 Нарвская   \n",
       "5446         597.0            5          0.0         Василеостровская   \n",
       "5551         647.0            4        184.0        Площадь Восстания   \n",
       "5601         670.0            4        177.0        Площадь Восстания   \n",
       "7113         726.0           24        426.0               Московская   \n",
       "18667        396.0            6         54.0             Владимирская   \n",
       "31002        519.0            6          5.0  Технологический ин-т II   \n",
       "38728        742.0           17        404.0               Московская   \n",
       "\n",
       "               district  \n",
       "1844        Центральный  \n",
       "3805          Кировский  \n",
       "5446   Ваcилеостровский  \n",
       "5551        Центральный  \n",
       "5601        Центральный  \n",
       "7113         Московский  \n",
       "18667       Центральный  \n",
       "31002    Адмиралтейский  \n",
       "38728        Московский  "
      ]
     },
     "execution_count": 632,
     "metadata": {},
     "output_type": "execute_result"
    }
   ],
   "source": [
    "flats[(flats.flat_type == 'Студия') & (flats.square>60)]"
   ]
  },
  {
   "cell_type": "code",
   "execution_count": 633,
   "metadata": {
    "ExecuteTime": {
     "end_time": "2021-02-03T12:04:44.442198Z",
     "start_time": "2021-02-03T12:04:44.428198Z"
    }
   },
   "outputs": [
    {
     "data": {
      "text/plain": [
       "count    7982.000000\n",
       "mean       24.657592\n",
       "std         5.430304\n",
       "min        10.000000\n",
       "25%        22.000000\n",
       "50%        24.600000\n",
       "75%        27.000000\n",
       "max       159.000000\n",
       "Name: square, dtype: float64"
      ]
     },
     "execution_count": 633,
     "metadata": {},
     "output_type": "execute_result"
    }
   ],
   "source": [
    "flats.square[(flats.flat_type == 'Студия')].describe()"
   ]
  },
  {
   "cell_type": "markdown",
   "metadata": {},
   "source": [
    "Студии с площадью 117 м2 и 159 м2 довольно редкое явление, а в отрыве от контекста вообще выглядитят как выброс. Удалю данное значение. Студия с площадью 75.5 м2 и стоимостью 2.250.000р так же выглядит очень старнно. Это можно было бы как то оправдать для строящегося дома, но в данном случае это вторичка. Либо ошибка при сборе или обработке данных, либо очень старрное обьявление. В любом случаи тоже выглядит как выброс."
   ]
  },
  {
   "cell_type": "code",
   "execution_count": 634,
   "metadata": {
    "ExecuteTime": {
     "end_time": "2021-02-03T12:04:44.457198Z",
     "start_time": "2021-02-03T12:04:44.443198Z"
    }
   },
   "outputs": [],
   "source": [
    "flats.drop(labels=[5446, 18667], inplace=True)"
   ]
  },
  {
   "cell_type": "code",
   "execution_count": 635,
   "metadata": {
    "ExecuteTime": {
     "end_time": "2021-02-03T12:04:44.466198Z",
     "start_time": "2021-02-03T12:04:44.458198Z"
    }
   },
   "outputs": [],
   "source": [
    "flats.drop(labels=31002,inplace=True)"
   ]
  },
  {
   "cell_type": "markdown",
   "metadata": {},
   "source": [
    "### Квартира"
   ]
  },
  {
   "cell_type": "code",
   "execution_count": 636,
   "metadata": {
    "ExecuteTime": {
     "end_time": "2021-02-03T12:04:44.638198Z",
     "start_time": "2021-02-03T12:04:44.467198Z"
    },
    "scrolled": false
   },
   "outputs": [
    {
     "data": {
      "image/png": "[encoded data removed]",
      "text/plain": [
       "<Figure size 1080x432 with 1 Axes>"
      ]
     },
     "metadata": {
      "needs_background": "light"
     },
     "output_type": "display_data"
    }
   ],
   "source": [
    "feature_analyse(flats.square[flats.flat_type == 'Квартира'])"
   ]
  },
  {
   "cell_type": "code",
   "execution_count": 637,
   "metadata": {
    "ExecuteTime": {
     "end_time": "2021-02-03T12:04:44.653198Z",
     "start_time": "2021-02-03T12:04:44.639198Z"
    }
   },
   "outputs": [
    {
     "data": {
      "text/html": [
       "<div>\n",
       "<style scoped>\n",
       "    .dataframe tbody tr th:only-of-type {\n",
       "        vertical-align: middle;\n",
       "    }\n",
       "\n",
       "    .dataframe tbody tr th {\n",
       "        vertical-align: top;\n",
       "    }\n",
       "\n",
       "    .dataframe thead th {\n",
       "        text-align: right;\n",
       "    }\n",
       "</style>\n",
       "<table border=\"1\" class=\"dataframe\">\n",
       "  <thead>\n",
       "    <tr style=\"text-align: right;\">\n",
       "      <th></th>\n",
       "      <th>square</th>\n",
       "      <th>price</th>\n",
       "    </tr>\n",
       "  </thead>\n",
       "  <tbody>\n",
       "    <tr>\n",
       "      <th>count</th>\n",
       "      <td>401.000000</td>\n",
       "      <td>4.010000e+02</td>\n",
       "    </tr>\n",
       "    <tr>\n",
       "      <th>mean</th>\n",
       "      <td>276.315212</td>\n",
       "      <td>7.246506e+07</td>\n",
       "    </tr>\n",
       "    <tr>\n",
       "      <th>std</th>\n",
       "      <td>100.209072</td>\n",
       "      <td>6.612373e+07</td>\n",
       "    </tr>\n",
       "    <tr>\n",
       "      <th>min</th>\n",
       "      <td>200.300000</td>\n",
       "      <td>3.800000e+06</td>\n",
       "    </tr>\n",
       "    <tr>\n",
       "      <th>25%</th>\n",
       "      <td>219.000000</td>\n",
       "      <td>3.680000e+07</td>\n",
       "    </tr>\n",
       "    <tr>\n",
       "      <th>50%</th>\n",
       "      <td>242.200000</td>\n",
       "      <td>5.490000e+07</td>\n",
       "    </tr>\n",
       "    <tr>\n",
       "      <th>75%</th>\n",
       "      <td>289.000000</td>\n",
       "      <td>8.700000e+07</td>\n",
       "    </tr>\n",
       "    <tr>\n",
       "      <th>max</th>\n",
       "      <td>1123.700000</td>\n",
       "      <td>7.500000e+08</td>\n",
       "    </tr>\n",
       "  </tbody>\n",
       "</table>\n",
       "</div>"
      ],
      "text/plain": [
       "            square         price\n",
       "count   401.000000  4.010000e+02\n",
       "mean    276.315212  7.246506e+07\n",
       "std     100.209072  6.612373e+07\n",
       "min     200.300000  3.800000e+06\n",
       "25%     219.000000  3.680000e+07\n",
       "50%     242.200000  5.490000e+07\n",
       "75%     289.000000  8.700000e+07\n",
       "max    1123.700000  7.500000e+08"
      ]
     },
     "execution_count": 637,
     "metadata": {},
     "output_type": "execute_result"
    }
   ],
   "source": [
    "flats[['square', 'price']][(flats.flat_type == 'Квартира') & (flats.square>200)].describe()"
   ]
  },
  {
   "cell_type": "code",
   "execution_count": 638,
   "metadata": {
    "ExecuteTime": {
     "end_time": "2021-02-03T12:04:44.673198Z",
     "start_time": "2021-02-03T12:04:44.654198Z"
    }
   },
   "outputs": [
    {
     "data": {
      "text/html": [
       "<div>\n",
       "<style scoped>\n",
       "    .dataframe tbody tr th:only-of-type {\n",
       "        vertical-align: middle;\n",
       "    }\n",
       "\n",
       "    .dataframe tbody tr th {\n",
       "        vertical-align: top;\n",
       "    }\n",
       "\n",
       "    .dataframe thead th {\n",
       "        text-align: right;\n",
       "    }\n",
       "</style>\n",
       "<table border=\"1\" class=\"dataframe\">\n",
       "  <thead>\n",
       "    <tr style=\"text-align: right;\">\n",
       "      <th></th>\n",
       "      <th>flat_type</th>\n",
       "      <th>object_type</th>\n",
       "      <th>rooms</th>\n",
       "      <th>floors</th>\n",
       "      <th>square</th>\n",
       "      <th>kitchen_square</th>\n",
       "      <th>live_square</th>\n",
       "      <th>price</th>\n",
       "      <th>build_matireal</th>\n",
       "      <th>catalog_id</th>\n",
       "      <th>district_rating</th>\n",
       "      <th>underground</th>\n",
       "      <th>total_floors</th>\n",
       "      <th>days_active</th>\n",
       "      <th>metro_station</th>\n",
       "      <th>district</th>\n",
       "    </tr>\n",
       "  </thead>\n",
       "  <tbody>\n",
       "    <tr>\n",
       "      <th>2174</th>\n",
       "      <td>Квартира</td>\n",
       "      <td>Новостройка</td>\n",
       "      <td>1</td>\n",
       "      <td>7</td>\n",
       "      <td>361.3</td>\n",
       "      <td>10.0</td>\n",
       "      <td>NaN</td>\n",
       "      <td>6700000.0</td>\n",
       "      <td>Монолит</td>\n",
       "      <td>3063363204</td>\n",
       "      <td>3,9</td>\n",
       "      <td>1200.0</td>\n",
       "      <td>12</td>\n",
       "      <td>30.0</td>\n",
       "      <td>Московская</td>\n",
       "      <td>Московский</td>\n",
       "    </tr>\n",
       "    <tr>\n",
       "      <th>6748</th>\n",
       "      <td>Квартира</td>\n",
       "      <td>Новостройка</td>\n",
       "      <td>3</td>\n",
       "      <td>16</td>\n",
       "      <td>1123.7</td>\n",
       "      <td>12.2</td>\n",
       "      <td>64.0</td>\n",
       "      <td>13040000.0</td>\n",
       "      <td>Монолит</td>\n",
       "      <td>3049531084</td>\n",
       "      <td>3,6</td>\n",
       "      <td>1800.0</td>\n",
       "      <td>28</td>\n",
       "      <td>34.0</td>\n",
       "      <td>Проспект Просвещения</td>\n",
       "      <td>Выборгский</td>\n",
       "    </tr>\n",
       "    <tr>\n",
       "      <th>9261</th>\n",
       "      <td>Квартира</td>\n",
       "      <td>Вторичная</td>\n",
       "      <td>8</td>\n",
       "      <td>3</td>\n",
       "      <td>253.5</td>\n",
       "      <td>21.0</td>\n",
       "      <td>147.9</td>\n",
       "      <td>15500000.0</td>\n",
       "      <td>Кирпич</td>\n",
       "      <td>3049805869</td>\n",
       "      <td>3,4</td>\n",
       "      <td>822.0</td>\n",
       "      <td>7</td>\n",
       "      <td>32.0</td>\n",
       "      <td>Чернышевская</td>\n",
       "      <td>Центральный</td>\n",
       "    </tr>\n",
       "    <tr>\n",
       "      <th>27726</th>\n",
       "      <td>Квартира</td>\n",
       "      <td>Вторичная</td>\n",
       "      <td>5</td>\n",
       "      <td>2</td>\n",
       "      <td>267.0</td>\n",
       "      <td>20.0</td>\n",
       "      <td>126.0</td>\n",
       "      <td>14720000.0</td>\n",
       "      <td>Монолит</td>\n",
       "      <td>2121102765</td>\n",
       "      <td>3,8</td>\n",
       "      <td>4900.0</td>\n",
       "      <td>5</td>\n",
       "      <td>372.0</td>\n",
       "      <td>Сергиево (Володарская)</td>\n",
       "      <td>Красносельский</td>\n",
       "    </tr>\n",
       "    <tr>\n",
       "      <th>31486</th>\n",
       "      <td>Квартира</td>\n",
       "      <td>Новостройка</td>\n",
       "      <td>1</td>\n",
       "      <td>5</td>\n",
       "      <td>333.0</td>\n",
       "      <td>10.6</td>\n",
       "      <td>14.7</td>\n",
       "      <td>5800000.0</td>\n",
       "      <td>Кирпич</td>\n",
       "      <td>3086494253</td>\n",
       "      <td>3,9</td>\n",
       "      <td>1500.0</td>\n",
       "      <td>12</td>\n",
       "      <td>0.0</td>\n",
       "      <td>Удельная</td>\n",
       "      <td>Выборгский</td>\n",
       "    </tr>\n",
       "    <tr>\n",
       "      <th>39409</th>\n",
       "      <td>Квартира</td>\n",
       "      <td>Новостройка</td>\n",
       "      <td>1</td>\n",
       "      <td>1</td>\n",
       "      <td>328.5</td>\n",
       "      <td>10.6</td>\n",
       "      <td>14.4</td>\n",
       "      <td>3800000.0</td>\n",
       "      <td>Монолит</td>\n",
       "      <td>3073119541</td>\n",
       "      <td>3,7</td>\n",
       "      <td>1100.0</td>\n",
       "      <td>8</td>\n",
       "      <td>0.0</td>\n",
       "      <td>Сергиево (Володарская)</td>\n",
       "      <td>Красносельский</td>\n",
       "    </tr>\n",
       "    <tr>\n",
       "      <th>41357</th>\n",
       "      <td>Квартира</td>\n",
       "      <td>Вторичная</td>\n",
       "      <td>7</td>\n",
       "      <td>4</td>\n",
       "      <td>209.0</td>\n",
       "      <td>17.6</td>\n",
       "      <td>112.8</td>\n",
       "      <td>14500000.0</td>\n",
       "      <td>Кирпич</td>\n",
       "      <td>1824505609</td>\n",
       "      <td>3,4</td>\n",
       "      <td>1600.0</td>\n",
       "      <td>5</td>\n",
       "      <td>450.0</td>\n",
       "      <td>Новочеркасская</td>\n",
       "      <td>Красногвардейский</td>\n",
       "    </tr>\n",
       "  </tbody>\n",
       "</table>\n",
       "</div>"
      ],
      "text/plain": [
       "      flat_type  object_type rooms floors  square  kitchen_square  \\\n",
       "2174   Квартира  Новостройка     1      7   361.3            10.0   \n",
       "6748   Квартира  Новостройка     3     16  1123.7            12.2   \n",
       "9261   Квартира    Вторичная     8      3   253.5            21.0   \n",
       "27726  Квартира    Вторичная     5      2   267.0            20.0   \n",
       "31486  Квартира  Новостройка     1      5   333.0            10.6   \n",
       "39409  Квартира  Новостройка     1      1   328.5            10.6   \n",
       "41357  Квартира    Вторичная     7      4   209.0            17.6   \n",
       "\n",
       "       live_square       price build_matireal  catalog_id district_rating  \\\n",
       "2174           NaN   6700000.0        Монолит  3063363204             3,9   \n",
       "6748          64.0  13040000.0        Монолит  3049531084             3,6   \n",
       "9261         147.9  15500000.0         Кирпич  3049805869             3,4   \n",
       "27726        126.0  14720000.0        Монолит  2121102765             3,8   \n",
       "31486         14.7   5800000.0         Кирпич  3086494253             3,9   \n",
       "39409         14.4   3800000.0        Монолит  3073119541             3,7   \n",
       "41357        112.8  14500000.0         Кирпич  1824505609             3,4   \n",
       "\n",
       "       underground total_floors  days_active           metro_station  \\\n",
       "2174        1200.0           12         30.0              Московская   \n",
       "6748        1800.0           28         34.0    Проспект Просвещения   \n",
       "9261         822.0            7         32.0            Чернышевская   \n",
       "27726       4900.0            5        372.0  Сергиево (Володарская)   \n",
       "31486       1500.0           12          0.0                Удельная   \n",
       "39409       1100.0            8          0.0  Сергиево (Володарская)   \n",
       "41357       1600.0            5        450.0          Новочеркасская   \n",
       "\n",
       "                district  \n",
       "2174          Московский  \n",
       "6748          Выборгский  \n",
       "9261         Центральный  \n",
       "27726     Красносельский  \n",
       "31486         Выборгский  \n",
       "39409     Красносельский  \n",
       "41357  Красногвардейский  "
      ]
     },
     "execution_count": 638,
     "metadata": {},
     "output_type": "execute_result"
    }
   ],
   "source": [
    "flats[(flats.flat_type == 'Квартира') & (flats.square>200) & (flats.price<16000000)]"
   ]
  },
  {
   "cell_type": "markdown",
   "metadata": {},
   "source": [
    "- 328 м2, за 3.800.000р \n",
    "- 1123 м2 за 13.040.000р\n",
    "- 361 м2 за 6.700.000р\n",
    "- 333 м2 за 5.800.000р\n",
    "\n",
    "Эти данные тоже выглядят очень странно. Слишкорм маленькая цена за такую площадь. Слишком не стандартный случай."
   ]
  },
  {
   "cell_type": "code",
   "execution_count": 639,
   "metadata": {
    "ExecuteTime": {
     "end_time": "2021-02-03T12:04:44.685198Z",
     "start_time": "2021-02-03T12:04:44.676198Z"
    }
   },
   "outputs": [],
   "source": [
    "flats.drop(labels=[39409, 2174, 6748, 31486],inplace=True)"
   ]
  },
  {
   "cell_type": "code",
   "execution_count": 640,
   "metadata": {
    "ExecuteTime": {
     "end_time": "2021-02-03T12:04:44.710198Z",
     "start_time": "2021-02-03T12:04:44.686198Z"
    }
   },
   "outputs": [
    {
     "data": {
      "text/html": [
       "<div>\n",
       "<style scoped>\n",
       "    .dataframe tbody tr th:only-of-type {\n",
       "        vertical-align: middle;\n",
       "    }\n",
       "\n",
       "    .dataframe tbody tr th {\n",
       "        vertical-align: top;\n",
       "    }\n",
       "\n",
       "    .dataframe thead th {\n",
       "        text-align: right;\n",
       "    }\n",
       "</style>\n",
       "<table border=\"1\" class=\"dataframe\">\n",
       "  <thead>\n",
       "    <tr style=\"text-align: right;\">\n",
       "      <th></th>\n",
       "      <th>flat_type</th>\n",
       "      <th>object_type</th>\n",
       "      <th>rooms</th>\n",
       "      <th>floors</th>\n",
       "      <th>square</th>\n",
       "      <th>kitchen_square</th>\n",
       "      <th>live_square</th>\n",
       "      <th>price</th>\n",
       "      <th>build_matireal</th>\n",
       "      <th>catalog_id</th>\n",
       "      <th>district_rating</th>\n",
       "      <th>underground</th>\n",
       "      <th>total_floors</th>\n",
       "      <th>days_active</th>\n",
       "      <th>metro_station</th>\n",
       "      <th>district</th>\n",
       "    </tr>\n",
       "  </thead>\n",
       "  <tbody>\n",
       "    <tr>\n",
       "      <th>0</th>\n",
       "      <td>Квартира</td>\n",
       "      <td>Новостройка</td>\n",
       "      <td>4</td>\n",
       "      <td>6</td>\n",
       "      <td>157.0</td>\n",
       "      <td>37.4</td>\n",
       "      <td>73.7</td>\n",
       "      <td>68923000.0</td>\n",
       "      <td>Монолит</td>\n",
       "      <td>1671457770</td>\n",
       "      <td>3,7</td>\n",
       "      <td>605.0</td>\n",
       "      <td>9</td>\n",
       "      <td>527.0</td>\n",
       "      <td>Чернышевская</td>\n",
       "      <td>Центральный</td>\n",
       "    </tr>\n",
       "    <tr>\n",
       "      <th>11</th>\n",
       "      <td>Квартира</td>\n",
       "      <td>Новостройка</td>\n",
       "      <td>3</td>\n",
       "      <td>1</td>\n",
       "      <td>155.6</td>\n",
       "      <td>17.8</td>\n",
       "      <td>57.6</td>\n",
       "      <td>32680200.0</td>\n",
       "      <td>Монолит</td>\n",
       "      <td>1712456860</td>\n",
       "      <td>3,3</td>\n",
       "      <td>1000.0</td>\n",
       "      <td>9</td>\n",
       "      <td>514.0</td>\n",
       "      <td>Крестовский остров</td>\n",
       "      <td>Петроградский</td>\n",
       "    </tr>\n",
       "    <tr>\n",
       "      <th>13</th>\n",
       "      <td>Квартира</td>\n",
       "      <td>Вторичная</td>\n",
       "      <td>3</td>\n",
       "      <td>3</td>\n",
       "      <td>133.0</td>\n",
       "      <td>17.3</td>\n",
       "      <td>82.0</td>\n",
       "      <td>14000000.0</td>\n",
       "      <td>Кирпич</td>\n",
       "      <td>2959692173</td>\n",
       "      <td>3,7</td>\n",
       "      <td>759.0</td>\n",
       "      <td>10</td>\n",
       "      <td>74.0</td>\n",
       "      <td>Купчино</td>\n",
       "      <td>Московский</td>\n",
       "    </tr>\n",
       "    <tr>\n",
       "      <th>19</th>\n",
       "      <td>Квартира</td>\n",
       "      <td>Вторичная</td>\n",
       "      <td>3</td>\n",
       "      <td>15</td>\n",
       "      <td>125.0</td>\n",
       "      <td>20.0</td>\n",
       "      <td>70.5</td>\n",
       "      <td>21400000.0</td>\n",
       "      <td>Монолит</td>\n",
       "      <td>2783147725</td>\n",
       "      <td>3,7</td>\n",
       "      <td>725.0</td>\n",
       "      <td>24</td>\n",
       "      <td>150.0</td>\n",
       "      <td>Московская</td>\n",
       "      <td>Московский</td>\n",
       "    </tr>\n",
       "    <tr>\n",
       "      <th>31</th>\n",
       "      <td>Квартира</td>\n",
       "      <td>Вторичная</td>\n",
       "      <td>3</td>\n",
       "      <td>6</td>\n",
       "      <td>141.4</td>\n",
       "      <td>20.2</td>\n",
       "      <td>79.6</td>\n",
       "      <td>26300000.0</td>\n",
       "      <td>Кирпич</td>\n",
       "      <td>1909499913</td>\n",
       "      <td>3,7</td>\n",
       "      <td>744.0</td>\n",
       "      <td>8</td>\n",
       "      <td>453.0</td>\n",
       "      <td>Московская</td>\n",
       "      <td>Московский</td>\n",
       "    </tr>\n",
       "    <tr>\n",
       "      <th>...</th>\n",
       "      <td>...</td>\n",
       "      <td>...</td>\n",
       "      <td>...</td>\n",
       "      <td>...</td>\n",
       "      <td>...</td>\n",
       "      <td>...</td>\n",
       "      <td>...</td>\n",
       "      <td>...</td>\n",
       "      <td>...</td>\n",
       "      <td>...</td>\n",
       "      <td>...</td>\n",
       "      <td>...</td>\n",
       "      <td>...</td>\n",
       "      <td>...</td>\n",
       "      <td>...</td>\n",
       "      <td>...</td>\n",
       "    </tr>\n",
       "    <tr>\n",
       "      <th>41356</th>\n",
       "      <td>Квартира</td>\n",
       "      <td>Новостройка</td>\n",
       "      <td>4</td>\n",
       "      <td>3</td>\n",
       "      <td>128.0</td>\n",
       "      <td>18.0</td>\n",
       "      <td>75.0</td>\n",
       "      <td>17365050.0</td>\n",
       "      <td>Монолит</td>\n",
       "      <td>1478695267</td>\n",
       "      <td>4,1</td>\n",
       "      <td>2300.0</td>\n",
       "      <td>18</td>\n",
       "      <td>569.0</td>\n",
       "      <td>Приморская</td>\n",
       "      <td>Ваcилеостровский</td>\n",
       "    </tr>\n",
       "    <tr>\n",
       "      <th>41357</th>\n",
       "      <td>Квартира</td>\n",
       "      <td>Вторичная</td>\n",
       "      <td>7</td>\n",
       "      <td>4</td>\n",
       "      <td>209.0</td>\n",
       "      <td>17.6</td>\n",
       "      <td>112.8</td>\n",
       "      <td>14500000.0</td>\n",
       "      <td>Кирпич</td>\n",
       "      <td>1824505609</td>\n",
       "      <td>3,4</td>\n",
       "      <td>1600.0</td>\n",
       "      <td>5</td>\n",
       "      <td>450.0</td>\n",
       "      <td>Новочеркасская</td>\n",
       "      <td>Красногвардейский</td>\n",
       "    </tr>\n",
       "    <tr>\n",
       "      <th>41360</th>\n",
       "      <td>Квартира</td>\n",
       "      <td>Вторичная</td>\n",
       "      <td>3</td>\n",
       "      <td>2</td>\n",
       "      <td>121.3</td>\n",
       "      <td>33.4</td>\n",
       "      <td>53.9</td>\n",
       "      <td>27700000.0</td>\n",
       "      <td>Монолит</td>\n",
       "      <td>2856124804</td>\n",
       "      <td>3,3</td>\n",
       "      <td>1200.0</td>\n",
       "      <td>8</td>\n",
       "      <td>91.0</td>\n",
       "      <td>Крестовский остров</td>\n",
       "      <td>Петроградский</td>\n",
       "    </tr>\n",
       "    <tr>\n",
       "      <th>41381</th>\n",
       "      <td>Квартира</td>\n",
       "      <td>Вторичная</td>\n",
       "      <td>4</td>\n",
       "      <td>7</td>\n",
       "      <td>144.0</td>\n",
       "      <td>NaN</td>\n",
       "      <td>NaN</td>\n",
       "      <td>46000000.0</td>\n",
       "      <td>Монолит</td>\n",
       "      <td>136826036</td>\n",
       "      <td>3,7</td>\n",
       "      <td>1000.0</td>\n",
       "      <td>8</td>\n",
       "      <td>2243.0</td>\n",
       "      <td>Петроградская</td>\n",
       "      <td>Петроградский</td>\n",
       "    </tr>\n",
       "    <tr>\n",
       "      <th>41414</th>\n",
       "      <td>Квартира</td>\n",
       "      <td>Вторичная</td>\n",
       "      <td>3</td>\n",
       "      <td>16</td>\n",
       "      <td>142.3</td>\n",
       "      <td>23.4</td>\n",
       "      <td>73.3</td>\n",
       "      <td>20900000.0</td>\n",
       "      <td>Монолит</td>\n",
       "      <td>3070010554</td>\n",
       "      <td>3,6</td>\n",
       "      <td>2800.0</td>\n",
       "      <td>16</td>\n",
       "      <td>7.0</td>\n",
       "      <td>Площадь Ленина</td>\n",
       "      <td>Калининский</td>\n",
       "    </tr>\n",
       "  </tbody>\n",
       "</table>\n",
       "<p>2553 rows × 16 columns</p>\n",
       "</div>"
      ],
      "text/plain": [
       "      flat_type  object_type rooms floors  square  kitchen_square  \\\n",
       "0      Квартира  Новостройка     4      6   157.0            37.4   \n",
       "11     Квартира  Новостройка     3      1   155.6            17.8   \n",
       "13     Квартира    Вторичная     3      3   133.0            17.3   \n",
       "19     Квартира    Вторичная     3     15   125.0            20.0   \n",
       "31     Квартира    Вторичная     3      6   141.4            20.2   \n",
       "...         ...          ...   ...    ...     ...             ...   \n",
       "41356  Квартира  Новостройка     4      3   128.0            18.0   \n",
       "41357  Квартира    Вторичная     7      4   209.0            17.6   \n",
       "41360  Квартира    Вторичная     3      2   121.3            33.4   \n",
       "41381  Квартира    Вторичная     4      7   144.0             NaN   \n",
       "41414  Квартира    Вторичная     3     16   142.3            23.4   \n",
       "\n",
       "       live_square       price build_matireal  catalog_id district_rating  \\\n",
       "0             73.7  68923000.0        Монолит  1671457770             3,7   \n",
       "11            57.6  32680200.0        Монолит  1712456860             3,3   \n",
       "13            82.0  14000000.0         Кирпич  2959692173             3,7   \n",
       "19            70.5  21400000.0        Монолит  2783147725             3,7   \n",
       "31            79.6  26300000.0         Кирпич  1909499913             3,7   \n",
       "...            ...         ...            ...         ...             ...   \n",
       "41356         75.0  17365050.0        Монолит  1478695267             4,1   \n",
       "41357        112.8  14500000.0         Кирпич  1824505609             3,4   \n",
       "41360         53.9  27700000.0        Монолит  2856124804             3,3   \n",
       "41381          NaN  46000000.0        Монолит   136826036             3,7   \n",
       "41414         73.3  20900000.0        Монолит  3070010554             3,6   \n",
       "\n",
       "       underground total_floors  days_active       metro_station  \\\n",
       "0            605.0            9        527.0        Чернышевская   \n",
       "11          1000.0            9        514.0  Крестовский остров   \n",
       "13           759.0           10         74.0             Купчино   \n",
       "19           725.0           24        150.0          Московская   \n",
       "31           744.0            8        453.0          Московская   \n",
       "...            ...          ...          ...                 ...   \n",
       "41356       2300.0           18        569.0          Приморская   \n",
       "41357       1600.0            5        450.0      Новочеркасская   \n",
       "41360       1200.0            8         91.0  Крестовский остров   \n",
       "41381       1000.0            8       2243.0       Петроградская   \n",
       "41414       2800.0           16          7.0      Площадь Ленина   \n",
       "\n",
       "                district  \n",
       "0            Центральный  \n",
       "11         Петроградский  \n",
       "13            Московский  \n",
       "19            Московский  \n",
       "31            Московский  \n",
       "...                  ...  \n",
       "41356   Ваcилеостровский  \n",
       "41357  Красногвардейский  \n",
       "41360      Петроградский  \n",
       "41381      Петроградский  \n",
       "41414        Калининский  \n",
       "\n",
       "[2553 rows x 16 columns]"
      ]
     },
     "execution_count": 640,
     "metadata": {},
     "output_type": "execute_result"
    }
   ],
   "source": [
    "flats[(flats.flat_type == 'Квартира') & (flats.square>120)]"
   ]
  },
  {
   "cell_type": "code",
   "execution_count": 641,
   "metadata": {
    "ExecuteTime": {
     "end_time": "2021-02-03T12:04:44.744198Z",
     "start_time": "2021-02-03T12:04:44.711198Z"
    }
   },
   "outputs": [
    {
     "data": {
      "text/html": [
       "<div>\n",
       "<style scoped>\n",
       "    .dataframe tbody tr th:only-of-type {\n",
       "        vertical-align: middle;\n",
       "    }\n",
       "\n",
       "    .dataframe tbody tr th {\n",
       "        vertical-align: top;\n",
       "    }\n",
       "\n",
       "    .dataframe thead th {\n",
       "        text-align: right;\n",
       "    }\n",
       "</style>\n",
       "<table border=\"1\" class=\"dataframe\">\n",
       "  <thead>\n",
       "    <tr style=\"text-align: right;\">\n",
       "      <th></th>\n",
       "      <th>square</th>\n",
       "      <th>kitchen_square</th>\n",
       "      <th>live_square</th>\n",
       "      <th>price</th>\n",
       "      <th>catalog_id</th>\n",
       "      <th>underground</th>\n",
       "      <th>days_active</th>\n",
       "    </tr>\n",
       "  </thead>\n",
       "  <tbody>\n",
       "    <tr>\n",
       "      <th>count</th>\n",
       "      <td>33380.000000</td>\n",
       "      <td>26760.000000</td>\n",
       "      <td>27043.000000</td>\n",
       "      <td>3.338000e+04</td>\n",
       "      <td>3.338000e+04</td>\n",
       "      <td>33380.000000</td>\n",
       "      <td>33380.000000</td>\n",
       "    </tr>\n",
       "    <tr>\n",
       "      <th>mean</th>\n",
       "      <td>65.981456</td>\n",
       "      <td>15.030206</td>\n",
       "      <td>36.436194</td>\n",
       "      <td>1.183946e+07</td>\n",
       "      <td>2.699895e+09</td>\n",
       "      <td>1852.705333</td>\n",
       "      <td>160.944038</td>\n",
       "    </tr>\n",
       "    <tr>\n",
       "      <th>std</th>\n",
       "      <td>39.522181</td>\n",
       "      <td>7.902998</td>\n",
       "      <td>25.236905</td>\n",
       "      <td>1.401794e+07</td>\n",
       "      <td>6.270372e+08</td>\n",
       "      <td>1228.341214</td>\n",
       "      <td>243.111124</td>\n",
       "    </tr>\n",
       "    <tr>\n",
       "      <th>min</th>\n",
       "      <td>13.000000</td>\n",
       "      <td>2.000000</td>\n",
       "      <td>5.000000</td>\n",
       "      <td>1.107000e+06</td>\n",
       "      <td>6.261731e+06</td>\n",
       "      <td>0.000000</td>\n",
       "      <td>0.000000</td>\n",
       "    </tr>\n",
       "    <tr>\n",
       "      <th>25%</th>\n",
       "      <td>39.800000</td>\n",
       "      <td>10.200000</td>\n",
       "      <td>18.000000</td>\n",
       "      <td>5.800000e+06</td>\n",
       "      <td>2.661527e+09</td>\n",
       "      <td>924.000000</td>\n",
       "      <td>14.000000</td>\n",
       "    </tr>\n",
       "    <tr>\n",
       "      <th>50%</th>\n",
       "      <td>56.200000</td>\n",
       "      <td>13.700000</td>\n",
       "      <td>31.300000</td>\n",
       "      <td>8.180000e+06</td>\n",
       "      <td>2.952956e+09</td>\n",
       "      <td>1500.000000</td>\n",
       "      <td>66.000000</td>\n",
       "    </tr>\n",
       "    <tr>\n",
       "      <th>75%</th>\n",
       "      <td>77.200000</td>\n",
       "      <td>17.300000</td>\n",
       "      <td>45.700000</td>\n",
       "      <td>1.253071e+07</td>\n",
       "      <td>3.075763e+09</td>\n",
       "      <td>2700.000000</td>\n",
       "      <td>190.000000</td>\n",
       "    </tr>\n",
       "    <tr>\n",
       "      <th>max</th>\n",
       "      <td>994.200000</td>\n",
       "      <td>100.000000</td>\n",
       "      <td>485.000000</td>\n",
       "      <td>7.500000e+08</td>\n",
       "      <td>3.139191e+09</td>\n",
       "      <td>5000.000000</td>\n",
       "      <td>3006.000000</td>\n",
       "    </tr>\n",
       "  </tbody>\n",
       "</table>\n",
       "</div>"
      ],
      "text/plain": [
       "             square  kitchen_square   live_square         price    catalog_id  \\\n",
       "count  33380.000000    26760.000000  27043.000000  3.338000e+04  3.338000e+04   \n",
       "mean      65.981456       15.030206     36.436194  1.183946e+07  2.699895e+09   \n",
       "std       39.522181        7.902998     25.236905  1.401794e+07  6.270372e+08   \n",
       "min       13.000000        2.000000      5.000000  1.107000e+06  6.261731e+06   \n",
       "25%       39.800000       10.200000     18.000000  5.800000e+06  2.661527e+09   \n",
       "50%       56.200000       13.700000     31.300000  8.180000e+06  2.952956e+09   \n",
       "75%       77.200000       17.300000     45.700000  1.253071e+07  3.075763e+09   \n",
       "max      994.200000      100.000000    485.000000  7.500000e+08  3.139191e+09   \n",
       "\n",
       "        underground   days_active  \n",
       "count  33380.000000  33380.000000  \n",
       "mean    1852.705333    160.944038  \n",
       "std     1228.341214    243.111124  \n",
       "min        0.000000      0.000000  \n",
       "25%      924.000000     14.000000  \n",
       "50%     1500.000000     66.000000  \n",
       "75%     2700.000000    190.000000  \n",
       "max     5000.000000   3006.000000  "
      ]
     },
     "execution_count": 641,
     "metadata": {},
     "output_type": "execute_result"
    }
   ],
   "source": [
    "flats[flats.flat_type == 'Квартира'].describe()"
   ]
  },
  {
   "cell_type": "code",
   "execution_count": 642,
   "metadata": {
    "ExecuteTime": {
     "end_time": "2021-02-03T12:04:44.768198Z",
     "start_time": "2021-02-03T12:04:44.745198Z"
    }
   },
   "outputs": [
    {
     "data": {
      "text/html": [
       "<div>\n",
       "<style scoped>\n",
       "    .dataframe tbody tr th:only-of-type {\n",
       "        vertical-align: middle;\n",
       "    }\n",
       "\n",
       "    .dataframe tbody tr th {\n",
       "        vertical-align: top;\n",
       "    }\n",
       "\n",
       "    .dataframe thead th {\n",
       "        text-align: right;\n",
       "    }\n",
       "</style>\n",
       "<table border=\"1\" class=\"dataframe\">\n",
       "  <thead>\n",
       "    <tr style=\"text-align: right;\">\n",
       "      <th></th>\n",
       "      <th>flat_type</th>\n",
       "      <th>object_type</th>\n",
       "      <th>rooms</th>\n",
       "      <th>floors</th>\n",
       "      <th>square</th>\n",
       "      <th>kitchen_square</th>\n",
       "      <th>live_square</th>\n",
       "      <th>price</th>\n",
       "      <th>build_matireal</th>\n",
       "      <th>catalog_id</th>\n",
       "      <th>district_rating</th>\n",
       "      <th>underground</th>\n",
       "      <th>total_floors</th>\n",
       "      <th>days_active</th>\n",
       "      <th>metro_station</th>\n",
       "      <th>district</th>\n",
       "    </tr>\n",
       "  </thead>\n",
       "  <tbody>\n",
       "    <tr>\n",
       "      <th>32</th>\n",
       "      <td>Квартира</td>\n",
       "      <td>Вторичная</td>\n",
       "      <td>1</td>\n",
       "      <td>1</td>\n",
       "      <td>16.7</td>\n",
       "      <td>3.4</td>\n",
       "      <td>8.2</td>\n",
       "      <td>3550000.0</td>\n",
       "      <td>Кирпич</td>\n",
       "      <td>3138715591</td>\n",
       "      <td>3,6</td>\n",
       "      <td>700.0</td>\n",
       "      <td>5</td>\n",
       "      <td>0.0</td>\n",
       "      <td>Лесная</td>\n",
       "      <td>Выборгский</td>\n",
       "    </tr>\n",
       "    <tr>\n",
       "      <th>114</th>\n",
       "      <td>Квартира</td>\n",
       "      <td>Новостройка</td>\n",
       "      <td>1</td>\n",
       "      <td>2</td>\n",
       "      <td>25.0</td>\n",
       "      <td>NaN</td>\n",
       "      <td>17.5</td>\n",
       "      <td>6000000.0</td>\n",
       "      <td>Монолит</td>\n",
       "      <td>3138747136</td>\n",
       "      <td>3,6</td>\n",
       "      <td>813.0</td>\n",
       "      <td>13</td>\n",
       "      <td>0.0</td>\n",
       "      <td>Лесная</td>\n",
       "      <td>Выборгский</td>\n",
       "    </tr>\n",
       "    <tr>\n",
       "      <th>115</th>\n",
       "      <td>Квартира</td>\n",
       "      <td>Новостройка</td>\n",
       "      <td>1</td>\n",
       "      <td>9</td>\n",
       "      <td>25.0</td>\n",
       "      <td>NaN</td>\n",
       "      <td>NaN</td>\n",
       "      <td>3500000.0</td>\n",
       "      <td>Монолит</td>\n",
       "      <td>3066642898</td>\n",
       "      <td>3,7</td>\n",
       "      <td>1300.0</td>\n",
       "      <td>12</td>\n",
       "      <td>30.0</td>\n",
       "      <td>Сергиево (Володарская)</td>\n",
       "      <td>Красносельский</td>\n",
       "    </tr>\n",
       "    <tr>\n",
       "      <th>138</th>\n",
       "      <td>Квартира</td>\n",
       "      <td>Новостройка</td>\n",
       "      <td>1</td>\n",
       "      <td>10</td>\n",
       "      <td>26.0</td>\n",
       "      <td>4.5</td>\n",
       "      <td>18.4</td>\n",
       "      <td>6360925.0</td>\n",
       "      <td>Монолит</td>\n",
       "      <td>2931492663</td>\n",
       "      <td>4,0</td>\n",
       "      <td>1300.0</td>\n",
       "      <td>22</td>\n",
       "      <td>86.0</td>\n",
       "      <td>Звездная</td>\n",
       "      <td>Московский</td>\n",
       "    </tr>\n",
       "    <tr>\n",
       "      <th>159</th>\n",
       "      <td>Квартира</td>\n",
       "      <td>Вторичная</td>\n",
       "      <td>1</td>\n",
       "      <td>18</td>\n",
       "      <td>28.4</td>\n",
       "      <td>8.0</td>\n",
       "      <td>15.0</td>\n",
       "      <td>5700000.0</td>\n",
       "      <td>Монолит</td>\n",
       "      <td>3138850116</td>\n",
       "      <td>3,8</td>\n",
       "      <td>3800.0</td>\n",
       "      <td>24</td>\n",
       "      <td>0.0</td>\n",
       "      <td>Комендантский проспект</td>\n",
       "      <td>Приморский</td>\n",
       "    </tr>\n",
       "    <tr>\n",
       "      <th>...</th>\n",
       "      <td>...</td>\n",
       "      <td>...</td>\n",
       "      <td>...</td>\n",
       "      <td>...</td>\n",
       "      <td>...</td>\n",
       "      <td>...</td>\n",
       "      <td>...</td>\n",
       "      <td>...</td>\n",
       "      <td>...</td>\n",
       "      <td>...</td>\n",
       "      <td>...</td>\n",
       "      <td>...</td>\n",
       "      <td>...</td>\n",
       "      <td>...</td>\n",
       "      <td>...</td>\n",
       "      <td>...</td>\n",
       "    </tr>\n",
       "    <tr>\n",
       "      <th>40556</th>\n",
       "      <td>Квартира</td>\n",
       "      <td>Новостройка</td>\n",
       "      <td>1</td>\n",
       "      <td>5</td>\n",
       "      <td>18.4</td>\n",
       "      <td>NaN</td>\n",
       "      <td>15.5</td>\n",
       "      <td>3200000.0</td>\n",
       "      <td>Монолит</td>\n",
       "      <td>3069041559</td>\n",
       "      <td>3,7</td>\n",
       "      <td>719.0</td>\n",
       "      <td>13</td>\n",
       "      <td>0.0</td>\n",
       "      <td>Черная речка</td>\n",
       "      <td>Приморский</td>\n",
       "    </tr>\n",
       "    <tr>\n",
       "      <th>41014</th>\n",
       "      <td>Квартира</td>\n",
       "      <td>Новостройка</td>\n",
       "      <td>1</td>\n",
       "      <td>10</td>\n",
       "      <td>29.1</td>\n",
       "      <td>8.8</td>\n",
       "      <td>12.0</td>\n",
       "      <td>5078635.0</td>\n",
       "      <td>Монолит</td>\n",
       "      <td>3068752445</td>\n",
       "      <td>3,8</td>\n",
       "      <td>4400.0</td>\n",
       "      <td>13</td>\n",
       "      <td>0.0</td>\n",
       "      <td>Комендантский проспект</td>\n",
       "      <td>Приморский</td>\n",
       "    </tr>\n",
       "    <tr>\n",
       "      <th>41198</th>\n",
       "      <td>Квартира</td>\n",
       "      <td>Новостройка</td>\n",
       "      <td>1</td>\n",
       "      <td>3</td>\n",
       "      <td>26.4</td>\n",
       "      <td>NaN</td>\n",
       "      <td>NaN</td>\n",
       "      <td>4435200.0</td>\n",
       "      <td>Кирпич</td>\n",
       "      <td>2881385933</td>\n",
       "      <td>3,7</td>\n",
       "      <td>358.0</td>\n",
       "      <td>7</td>\n",
       "      <td>104.0</td>\n",
       "      <td>Балтийская</td>\n",
       "      <td>Адмиралтейский</td>\n",
       "    </tr>\n",
       "    <tr>\n",
       "      <th>41204</th>\n",
       "      <td>Квартира</td>\n",
       "      <td>Вторичная</td>\n",
       "      <td>1</td>\n",
       "      <td>3</td>\n",
       "      <td>23.2</td>\n",
       "      <td>NaN</td>\n",
       "      <td>NaN</td>\n",
       "      <td>4252800.0</td>\n",
       "      <td>Кирпич</td>\n",
       "      <td>2878992742</td>\n",
       "      <td>3,7</td>\n",
       "      <td>349.0</td>\n",
       "      <td>7</td>\n",
       "      <td>105.0</td>\n",
       "      <td>Балтийская</td>\n",
       "      <td>Адмиралтейский</td>\n",
       "    </tr>\n",
       "    <tr>\n",
       "      <th>41359</th>\n",
       "      <td>Квартира</td>\n",
       "      <td>Новостройка</td>\n",
       "      <td>1</td>\n",
       "      <td>7</td>\n",
       "      <td>28.7</td>\n",
       "      <td>8.0</td>\n",
       "      <td>13.5</td>\n",
       "      <td>4666643.0</td>\n",
       "      <td>Монолит</td>\n",
       "      <td>1845903641</td>\n",
       "      <td>4,0</td>\n",
       "      <td>2100.0</td>\n",
       "      <td>15</td>\n",
       "      <td>455.0</td>\n",
       "      <td>Звездная</td>\n",
       "      <td>Московский</td>\n",
       "    </tr>\n",
       "  </tbody>\n",
       "</table>\n",
       "<p>309 rows × 16 columns</p>\n",
       "</div>"
      ],
      "text/plain": [
       "      flat_type  object_type rooms floors  square  kitchen_square  \\\n",
       "32     Квартира    Вторичная     1      1    16.7             3.4   \n",
       "114    Квартира  Новостройка     1      2    25.0             NaN   \n",
       "115    Квартира  Новостройка     1      9    25.0             NaN   \n",
       "138    Квартира  Новостройка     1     10    26.0             4.5   \n",
       "159    Квартира    Вторичная     1     18    28.4             8.0   \n",
       "...         ...          ...   ...    ...     ...             ...   \n",
       "40556  Квартира  Новостройка     1      5    18.4             NaN   \n",
       "41014  Квартира  Новостройка     1     10    29.1             8.8   \n",
       "41198  Квартира  Новостройка     1      3    26.4             NaN   \n",
       "41204  Квартира    Вторичная     1      3    23.2             NaN   \n",
       "41359  Квартира  Новостройка     1      7    28.7             8.0   \n",
       "\n",
       "       live_square      price build_matireal  catalog_id district_rating  \\\n",
       "32             8.2  3550000.0         Кирпич  3138715591             3,6   \n",
       "114           17.5  6000000.0        Монолит  3138747136             3,6   \n",
       "115            NaN  3500000.0        Монолит  3066642898             3,7   \n",
       "138           18.4  6360925.0        Монолит  2931492663             4,0   \n",
       "159           15.0  5700000.0        Монолит  3138850116             3,8   \n",
       "...            ...        ...            ...         ...             ...   \n",
       "40556         15.5  3200000.0        Монолит  3069041559             3,7   \n",
       "41014         12.0  5078635.0        Монолит  3068752445             3,8   \n",
       "41198          NaN  4435200.0         Кирпич  2881385933             3,7   \n",
       "41204          NaN  4252800.0         Кирпич  2878992742             3,7   \n",
       "41359         13.5  4666643.0        Монолит  1845903641             4,0   \n",
       "\n",
       "       underground total_floors  days_active           metro_station  \\\n",
       "32           700.0            5          0.0                  Лесная   \n",
       "114          813.0           13          0.0                  Лесная   \n",
       "115         1300.0           12         30.0  Сергиево (Володарская)   \n",
       "138         1300.0           22         86.0                Звездная   \n",
       "159         3800.0           24          0.0  Комендантский проспект   \n",
       "...            ...          ...          ...                     ...   \n",
       "40556        719.0           13          0.0            Черная речка   \n",
       "41014       4400.0           13          0.0  Комендантский проспект   \n",
       "41198        358.0            7        104.0              Балтийская   \n",
       "41204        349.0            7        105.0              Балтийская   \n",
       "41359       2100.0           15        455.0                Звездная   \n",
       "\n",
       "             district  \n",
       "32         Выборгский  \n",
       "114        Выборгский  \n",
       "115    Красносельский  \n",
       "138        Московский  \n",
       "159        Приморский  \n",
       "...               ...  \n",
       "40556      Приморский  \n",
       "41014      Приморский  \n",
       "41198  Адмиралтейский  \n",
       "41204  Адмиралтейский  \n",
       "41359      Московский  \n",
       "\n",
       "[309 rows x 16 columns]"
      ]
     },
     "execution_count": 642,
     "metadata": {},
     "output_type": "execute_result"
    }
   ],
   "source": [
    "flats[(flats.flat_type == 'Квартира') & (flats.square<30)]"
   ]
  },
  {
   "cell_type": "markdown",
   "metadata": {},
   "source": [
    "994 м2 за 28.009.000р аналогично предыдущим."
   ]
  },
  {
   "cell_type": "code",
   "execution_count": 643,
   "metadata": {
    "ExecuteTime": {
     "end_time": "2021-02-03T12:04:44.777198Z",
     "start_time": "2021-02-03T12:04:44.769198Z"
    }
   },
   "outputs": [],
   "source": [
    "flats.drop(labels=[6506],inplace=True)"
   ]
  },
  {
   "cell_type": "markdown",
   "metadata": {},
   "source": [
    "## kitchen_square"
   ]
  },
  {
   "cell_type": "code",
   "execution_count": 644,
   "metadata": {
    "ExecuteTime": {
     "end_time": "2021-02-03T12:04:44.955198Z",
     "start_time": "2021-02-03T12:04:44.778198Z"
    }
   },
   "outputs": [
    {
     "data": {
      "image/png": "[encoded data removed]",
      "text/plain": [
       "<Figure size 1080x432 with 1 Axes>"
      ]
     },
     "metadata": {
      "needs_background": "light"
     },
     "output_type": "display_data"
    }
   ],
   "source": [
    "feature_analyse(flats.kitchen_square)"
   ]
  },
  {
   "cell_type": "markdown",
   "metadata": {},
   "source": [
    "**0** это студии и свободная планировка."
   ]
  },
  {
   "cell_type": "code",
   "execution_count": 645,
   "metadata": {
    "ExecuteTime": {
     "end_time": "2021-02-03T12:04:45.123198Z",
     "start_time": "2021-02-03T12:04:44.956198Z"
    }
   },
   "outputs": [
    {
     "data": {
      "image/png": "[encoded data removed]",
      "text/plain": [
       "<Figure size 1080x432 with 1 Axes>"
      ]
     },
     "metadata": {
      "needs_background": "light"
     },
     "output_type": "display_data"
    }
   ],
   "source": [
    "feature_analyse(flats.kitchen_square[flats.kitchen_square>0])"
   ]
  },
  {
   "cell_type": "markdown",
   "metadata": {},
   "source": [
    "Распределение также смещенно влево."
   ]
  },
  {
   "cell_type": "markdown",
   "metadata": {},
   "source": [
    "## live_square"
   ]
  },
  {
   "cell_type": "code",
   "execution_count": 646,
   "metadata": {
    "ExecuteTime": {
     "end_time": "2021-02-03T12:04:45.300198Z",
     "start_time": "2021-02-03T12:04:45.124198Z"
    }
   },
   "outputs": [
    {
     "data": {
      "image/png": "[encoded data removed]",
      "text/plain": [
       "<Figure size 1080x432 with 1 Axes>"
      ]
     },
     "metadata": {
      "needs_background": "light"
     },
     "output_type": "display_data"
    }
   ],
   "source": [
    "feature_analyse(flats.live_square)"
   ]
  },
  {
   "cell_type": "markdown",
   "metadata": {},
   "source": [
    "Здесь **0** также является студиями."
   ]
  },
  {
   "cell_type": "code",
   "execution_count": 647,
   "metadata": {
    "ExecuteTime": {
     "end_time": "2021-02-03T12:04:45.475198Z",
     "start_time": "2021-02-03T12:04:45.301198Z"
    }
   },
   "outputs": [
    {
     "data": {
      "image/png": "[encoded data removed]",
      "text/plain": [
       "<Figure size 1080x432 with 1 Axes>"
      ]
     },
     "metadata": {
      "needs_background": "light"
     },
     "output_type": "display_data"
    }
   ],
   "source": [
    "feature_analyse(flats.kitchen_square[flats.live_square>0])"
   ]
  },
  {
   "cell_type": "markdown",
   "metadata": {},
   "source": [
    "## price"
   ]
  },
  {
   "cell_type": "code",
   "execution_count": 648,
   "metadata": {
    "ExecuteTime": {
     "end_time": "2021-02-03T12:04:45.653198Z",
     "start_time": "2021-02-03T12:04:45.476198Z"
    }
   },
   "outputs": [
    {
     "data": {
      "image/png": "[encoded data removed]",
      "text/plain": [
       "<Figure size 1080x432 with 1 Axes>"
      ]
     },
     "metadata": {
      "needs_background": "light"
     },
     "output_type": "display_data"
    }
   ],
   "source": [
    "feature_analyse(flats.price)"
   ]
  },
  {
   "cell_type": "code",
   "execution_count": 649,
   "metadata": {
    "ExecuteTime": {
     "end_time": "2021-02-03T12:04:45.675198Z",
     "start_time": "2021-02-03T12:04:45.654198Z"
    }
   },
   "outputs": [
    {
     "data": {
      "text/html": [
       "<div>\n",
       "<style scoped>\n",
       "    .dataframe tbody tr th:only-of-type {\n",
       "        vertical-align: middle;\n",
       "    }\n",
       "\n",
       "    .dataframe tbody tr th {\n",
       "        vertical-align: top;\n",
       "    }\n",
       "\n",
       "    .dataframe thead th {\n",
       "        text-align: right;\n",
       "    }\n",
       "</style>\n",
       "<table border=\"1\" class=\"dataframe\">\n",
       "  <thead>\n",
       "    <tr style=\"text-align: right;\">\n",
       "      <th></th>\n",
       "      <th>flat_type</th>\n",
       "      <th>object_type</th>\n",
       "      <th>rooms</th>\n",
       "      <th>floors</th>\n",
       "      <th>square</th>\n",
       "      <th>kitchen_square</th>\n",
       "      <th>live_square</th>\n",
       "      <th>price</th>\n",
       "      <th>build_matireal</th>\n",
       "      <th>catalog_id</th>\n",
       "      <th>district_rating</th>\n",
       "      <th>underground</th>\n",
       "      <th>total_floors</th>\n",
       "      <th>days_active</th>\n",
       "      <th>metro_station</th>\n",
       "      <th>district</th>\n",
       "    </tr>\n",
       "  </thead>\n",
       "  <tbody>\n",
       "    <tr>\n",
       "      <th>0</th>\n",
       "      <td>Квартира</td>\n",
       "      <td>Новостройка</td>\n",
       "      <td>4</td>\n",
       "      <td>6</td>\n",
       "      <td>157.0</td>\n",
       "      <td>37.4</td>\n",
       "      <td>73.7</td>\n",
       "      <td>68923000.0</td>\n",
       "      <td>Монолит</td>\n",
       "      <td>1671457770</td>\n",
       "      <td>3,7</td>\n",
       "      <td>605.0</td>\n",
       "      <td>9</td>\n",
       "      <td>527.0</td>\n",
       "      <td>Чернышевская</td>\n",
       "      <td>Центральный</td>\n",
       "    </tr>\n",
       "    <tr>\n",
       "      <th>11</th>\n",
       "      <td>Квартира</td>\n",
       "      <td>Новостройка</td>\n",
       "      <td>3</td>\n",
       "      <td>1</td>\n",
       "      <td>155.6</td>\n",
       "      <td>17.8</td>\n",
       "      <td>57.6</td>\n",
       "      <td>32680200.0</td>\n",
       "      <td>Монолит</td>\n",
       "      <td>1712456860</td>\n",
       "      <td>3,3</td>\n",
       "      <td>1000.0</td>\n",
       "      <td>9</td>\n",
       "      <td>514.0</td>\n",
       "      <td>Крестовский остров</td>\n",
       "      <td>Петроградский</td>\n",
       "    </tr>\n",
       "    <tr>\n",
       "      <th>12</th>\n",
       "      <td>Квартира</td>\n",
       "      <td>Новостройка</td>\n",
       "      <td>2</td>\n",
       "      <td>4</td>\n",
       "      <td>78.3</td>\n",
       "      <td>19.4</td>\n",
       "      <td>28.9</td>\n",
       "      <td>20038769.0</td>\n",
       "      <td>Монолит</td>\n",
       "      <td>3014861901</td>\n",
       "      <td>3,7</td>\n",
       "      <td>364.0</td>\n",
       "      <td>8</td>\n",
       "      <td>52.0</td>\n",
       "      <td>Балтийская</td>\n",
       "      <td>Адмиралтейский</td>\n",
       "    </tr>\n",
       "    <tr>\n",
       "      <th>19</th>\n",
       "      <td>Квартира</td>\n",
       "      <td>Вторичная</td>\n",
       "      <td>3</td>\n",
       "      <td>15</td>\n",
       "      <td>125.0</td>\n",
       "      <td>20.0</td>\n",
       "      <td>70.5</td>\n",
       "      <td>21400000.0</td>\n",
       "      <td>Монолит</td>\n",
       "      <td>2783147725</td>\n",
       "      <td>3,7</td>\n",
       "      <td>725.0</td>\n",
       "      <td>24</td>\n",
       "      <td>150.0</td>\n",
       "      <td>Московская</td>\n",
       "      <td>Московский</td>\n",
       "    </tr>\n",
       "    <tr>\n",
       "      <th>20</th>\n",
       "      <td>Квартира</td>\n",
       "      <td>Вторичная</td>\n",
       "      <td>4</td>\n",
       "      <td>8</td>\n",
       "      <td>116.9</td>\n",
       "      <td>28.2</td>\n",
       "      <td>51.4</td>\n",
       "      <td>35800000.0</td>\n",
       "      <td>Монолит</td>\n",
       "      <td>2853170947</td>\n",
       "      <td>3,3</td>\n",
       "      <td>1300.0</td>\n",
       "      <td>8</td>\n",
       "      <td>121.0</td>\n",
       "      <td>Крестовский остров</td>\n",
       "      <td>Петроградский</td>\n",
       "    </tr>\n",
       "    <tr>\n",
       "      <th>...</th>\n",
       "      <td>...</td>\n",
       "      <td>...</td>\n",
       "      <td>...</td>\n",
       "      <td>...</td>\n",
       "      <td>...</td>\n",
       "      <td>...</td>\n",
       "      <td>...</td>\n",
       "      <td>...</td>\n",
       "      <td>...</td>\n",
       "      <td>...</td>\n",
       "      <td>...</td>\n",
       "      <td>...</td>\n",
       "      <td>...</td>\n",
       "      <td>...</td>\n",
       "      <td>...</td>\n",
       "      <td>...</td>\n",
       "    </tr>\n",
       "    <tr>\n",
       "      <th>41381</th>\n",
       "      <td>Квартира</td>\n",
       "      <td>Вторичная</td>\n",
       "      <td>4</td>\n",
       "      <td>7</td>\n",
       "      <td>144.0</td>\n",
       "      <td>NaN</td>\n",
       "      <td>NaN</td>\n",
       "      <td>46000000.0</td>\n",
       "      <td>Монолит</td>\n",
       "      <td>136826036</td>\n",
       "      <td>3,7</td>\n",
       "      <td>1000.0</td>\n",
       "      <td>8</td>\n",
       "      <td>2243.0</td>\n",
       "      <td>Петроградская</td>\n",
       "      <td>Петроградский</td>\n",
       "    </tr>\n",
       "    <tr>\n",
       "      <th>41400</th>\n",
       "      <td>Квартира</td>\n",
       "      <td>Вторичная</td>\n",
       "      <td>3</td>\n",
       "      <td>6</td>\n",
       "      <td>95.0</td>\n",
       "      <td>21.0</td>\n",
       "      <td>50.0</td>\n",
       "      <td>23100000.0</td>\n",
       "      <td>Монолит</td>\n",
       "      <td>2082576377</td>\n",
       "      <td>3,7</td>\n",
       "      <td>1100.0</td>\n",
       "      <td>11</td>\n",
       "      <td>373.0</td>\n",
       "      <td>Приморская</td>\n",
       "      <td>Ваcилеостровский</td>\n",
       "    </tr>\n",
       "    <tr>\n",
       "      <th>41406</th>\n",
       "      <td>Квартира</td>\n",
       "      <td>Вторичная</td>\n",
       "      <td>3</td>\n",
       "      <td>6</td>\n",
       "      <td>85.0</td>\n",
       "      <td>13.0</td>\n",
       "      <td>51.0</td>\n",
       "      <td>26900000.0</td>\n",
       "      <td>Кирпич</td>\n",
       "      <td>2367743383</td>\n",
       "      <td>3,7</td>\n",
       "      <td>672.0</td>\n",
       "      <td>7</td>\n",
       "      <td>296.0</td>\n",
       "      <td>Площадь Восстания</td>\n",
       "      <td>Центральный</td>\n",
       "    </tr>\n",
       "    <tr>\n",
       "      <th>41414</th>\n",
       "      <td>Квартира</td>\n",
       "      <td>Вторичная</td>\n",
       "      <td>3</td>\n",
       "      <td>16</td>\n",
       "      <td>142.3</td>\n",
       "      <td>23.4</td>\n",
       "      <td>73.3</td>\n",
       "      <td>20900000.0</td>\n",
       "      <td>Монолит</td>\n",
       "      <td>3070010554</td>\n",
       "      <td>3,6</td>\n",
       "      <td>2800.0</td>\n",
       "      <td>16</td>\n",
       "      <td>7.0</td>\n",
       "      <td>Площадь Ленина</td>\n",
       "      <td>Калининский</td>\n",
       "    </tr>\n",
       "    <tr>\n",
       "      <th>41416</th>\n",
       "      <td>Квартира</td>\n",
       "      <td>Вторичная</td>\n",
       "      <td>3</td>\n",
       "      <td>8</td>\n",
       "      <td>110.0</td>\n",
       "      <td>16.3</td>\n",
       "      <td>66.9</td>\n",
       "      <td>25000000.0</td>\n",
       "      <td>Монолит</td>\n",
       "      <td>3070058673</td>\n",
       "      <td>3,8</td>\n",
       "      <td>793.0</td>\n",
       "      <td>12</td>\n",
       "      <td>25.0</td>\n",
       "      <td>Новочеркасская</td>\n",
       "      <td>Красногвардейский</td>\n",
       "    </tr>\n",
       "  </tbody>\n",
       "</table>\n",
       "<p>3701 rows × 16 columns</p>\n",
       "</div>"
      ],
      "text/plain": [
       "      flat_type  object_type rooms floors  square  kitchen_square  \\\n",
       "0      Квартира  Новостройка     4      6   157.0            37.4   \n",
       "11     Квартира  Новостройка     3      1   155.6            17.8   \n",
       "12     Квартира  Новостройка     2      4    78.3            19.4   \n",
       "19     Квартира    Вторичная     3     15   125.0            20.0   \n",
       "20     Квартира    Вторичная     4      8   116.9            28.2   \n",
       "...         ...          ...   ...    ...     ...             ...   \n",
       "41381  Квартира    Вторичная     4      7   144.0             NaN   \n",
       "41400  Квартира    Вторичная     3      6    95.0            21.0   \n",
       "41406  Квартира    Вторичная     3      6    85.0            13.0   \n",
       "41414  Квартира    Вторичная     3     16   142.3            23.4   \n",
       "41416  Квартира    Вторичная     3      8   110.0            16.3   \n",
       "\n",
       "       live_square       price build_matireal  catalog_id district_rating  \\\n",
       "0             73.7  68923000.0        Монолит  1671457770             3,7   \n",
       "11            57.6  32680200.0        Монолит  1712456860             3,3   \n",
       "12            28.9  20038769.0        Монолит  3014861901             3,7   \n",
       "19            70.5  21400000.0        Монолит  2783147725             3,7   \n",
       "20            51.4  35800000.0        Монолит  2853170947             3,3   \n",
       "...            ...         ...            ...         ...             ...   \n",
       "41381          NaN  46000000.0        Монолит   136826036             3,7   \n",
       "41400         50.0  23100000.0        Монолит  2082576377             3,7   \n",
       "41406         51.0  26900000.0         Кирпич  2367743383             3,7   \n",
       "41414         73.3  20900000.0        Монолит  3070010554             3,6   \n",
       "41416         66.9  25000000.0        Монолит  3070058673             3,8   \n",
       "\n",
       "       underground total_floors  days_active       metro_station  \\\n",
       "0            605.0            9        527.0        Чернышевская   \n",
       "11          1000.0            9        514.0  Крестовский остров   \n",
       "12           364.0            8         52.0          Балтийская   \n",
       "19           725.0           24        150.0          Московская   \n",
       "20          1300.0            8        121.0  Крестовский остров   \n",
       "...            ...          ...          ...                 ...   \n",
       "41381       1000.0            8       2243.0       Петроградская   \n",
       "41400       1100.0           11        373.0          Приморская   \n",
       "41406        672.0            7        296.0   Площадь Восстания   \n",
       "41414       2800.0           16          7.0      Площадь Ленина   \n",
       "41416        793.0           12         25.0      Новочеркасская   \n",
       "\n",
       "                district  \n",
       "0            Центральный  \n",
       "11         Петроградский  \n",
       "12        Адмиралтейский  \n",
       "19            Московский  \n",
       "20         Петроградский  \n",
       "...                  ...  \n",
       "41381      Петроградский  \n",
       "41400   Ваcилеостровский  \n",
       "41406        Центральный  \n",
       "41414        Калининский  \n",
       "41416  Красногвардейский  \n",
       "\n",
       "[3701 rows x 16 columns]"
      ]
     },
     "execution_count": 649,
     "metadata": {},
     "output_type": "execute_result"
    }
   ],
   "source": [
    "flats[flats.price>20000000]"
   ]
  },
  {
   "cell_type": "code",
   "execution_count": 650,
   "metadata": {
    "ExecuteTime": {
     "end_time": "2021-02-03T12:04:45.850198Z",
     "start_time": "2021-02-03T12:04:45.676198Z"
    },
    "scrolled": false
   },
   "outputs": [
    {
     "data": {
      "image/png": "[encoded data removed]",
      "text/plain": [
       "<Figure size 1080x432 with 1 Axes>"
      ]
     },
     "metadata": {
      "needs_background": "light"
     },
     "output_type": "display_data"
    }
   ],
   "source": [
    "feature_analyse(flats.price[flats.price<50000000])"
   ]
  },
  {
   "cell_type": "markdown",
   "metadata": {},
   "source": [
    "## build_matireal"
   ]
  },
  {
   "cell_type": "code",
   "execution_count": 651,
   "metadata": {
    "ExecuteTime": {
     "end_time": "2021-02-03T12:04:46.238198Z",
     "start_time": "2021-02-03T12:04:45.851198Z"
    },
    "scrolled": false
   },
   "outputs": [
    {
     "name": "stdout",
     "output_type": "stream",
     "text": [
      "Монолит: 22874 / 52.3%\n",
      "Панель: 3033 / 6.94%\n",
      "Кирпич: 15314 / 35.02%\n",
      "Блоки: 190 / 0.43%\n",
      "Дерево: 5 / 0.01%\n"
     ]
    },
    {
     "data": {
      "image/png": "[encoded data removed]",
      "text/plain": [
       "<Figure size 1080x432 with 1 Axes>"
      ]
     },
     "metadata": {
      "needs_background": "light"
     },
     "output_type": "display_data"
    }
   ],
   "source": [
    "feature_analyse(flats.build_matireal)"
   ]
  },
  {
   "cell_type": "markdown",
   "metadata": {},
   "source": [
    "## catalog_id"
   ]
  },
  {
   "cell_type": "markdown",
   "metadata": {},
   "source": [
    "Данный признак не несет в себе какой либо полезной информации, кроме разве что, в каком порядке обьявления были замещены на сайте. Для оценки того, как долго обьявление висит на сайт у меня есть отдельный признак, поэтому не вижу смысла использовать данный."
   ]
  },
  {
   "cell_type": "code",
   "execution_count": 652,
   "metadata": {
    "ExecuteTime": {
     "end_time": "2021-02-03T12:04:46.246198Z",
     "start_time": "2021-02-03T12:04:46.239198Z"
    }
   },
   "outputs": [],
   "source": [
    "flats.drop(columns=['catalog_id'], inplace=True)"
   ]
  },
  {
   "cell_type": "markdown",
   "metadata": {},
   "source": [
    "## district_rating"
   ]
  },
  {
   "cell_type": "code",
   "execution_count": 653,
   "metadata": {
    "ExecuteTime": {
     "end_time": "2021-02-03T12:04:46.475198Z",
     "start_time": "2021-02-03T12:04:46.247198Z"
    }
   },
   "outputs": [
    {
     "name": "stdout",
     "output_type": "stream",
     "text": [
      "3,7: 16052 / 36.71%\n",
      "4,0: 3782 / 8.65%\n",
      "3,9: 4892 / 11.19%\n",
      "3,6: 2644 / 6.05%\n",
      "3,8: 5551 / 12.69%\n",
      "3,3: 1201 / 2.75%\n",
      "3,2: 2429 / 5.55%\n",
      "4,1: 1137 / 2.6%\n",
      "3,4: 1406 / 3.22%\n",
      "3,5: 2322 / 5.31%\n"
     ]
    },
    {
     "data": {
      "image/png": "[encoded data removed]",
      "text/plain": [
       "<Figure size 1080x432 with 1 Axes>"
      ]
     },
     "metadata": {
      "needs_background": "light"
     },
     "output_type": "display_data"
    }
   ],
   "source": [
    "feature_analyse(flats.district_rating)"
   ]
  },
  {
   "cell_type": "markdown",
   "metadata": {},
   "source": [
    "## underground"
   ]
  },
  {
   "cell_type": "code",
   "execution_count": 654,
   "metadata": {
    "ExecuteTime": {
     "end_time": "2021-02-03T12:04:46.641198Z",
     "start_time": "2021-02-03T12:04:46.476198Z"
    }
   },
   "outputs": [
    {
     "data": {
      "image/png": "[encoded data removed]",
      "text/plain": [
       "<Figure size 1080x432 with 1 Axes>"
      ]
     },
     "metadata": {
      "needs_background": "light"
     },
     "output_type": "display_data"
    }
   ],
   "source": [
    "feature_analyse(flats.underground)"
   ]
  },
  {
   "cell_type": "markdown",
   "metadata": {},
   "source": [
    "Распределение вообще не похоже на нормальное."
   ]
  },
  {
   "cell_type": "markdown",
   "metadata": {},
   "source": [
    "## total_floors"
   ]
  },
  {
   "cell_type": "code",
   "execution_count": 655,
   "metadata": {
    "ExecuteTime": {
     "end_time": "2021-02-03T12:04:47.156198Z",
     "start_time": "2021-02-03T12:04:46.642198Z"
    },
    "scrolled": false
   },
   "outputs": [
    {
     "name": "stdout",
     "output_type": "stream",
     "text": [
      "9: 2639 / 6.03%\n",
      "12: 2794 / 6.39%\n",
      "20: 2027 / 4.64%\n",
      "5: 2635 / 6.03%\n",
      "14: 2277 / 5.21%\n",
      "10: 1455 / 3.33%\n",
      "16: 1492 / 3.41%\n",
      "11: 1124 / 2.57%\n",
      "8: 1781 / 4.07%\n",
      "15: 1732 / 3.96%\n",
      "13: 2975 / 6.8%\n",
      "24: 3183 / 7.28%\n",
      "22: 1047 / 2.39%\n",
      "25: 2759 / 6.31%\n",
      "28: 88 / 0.2%\n",
      "18: 2273 / 5.2%\n",
      "4: 1094 / 2.5%\n",
      "17: 1347 / 3.08%\n",
      "7: 764 / 1.75%\n",
      "19: 1207 / 2.76%\n",
      "21: 663 / 1.52%\n",
      "6: 1145 / 2.62%\n",
      "26: 446 / 1.02%\n",
      "23: 1271 / 2.91%\n",
      "29: 244 / 0.56%\n",
      "27: 544 / 1.24%\n",
      "36: 3 / 0.01%\n",
      "3: 267 / 0.61%\n",
      "2: 98 / 0.22%\n",
      "35: 12 / 0.03%\n",
      "32: 11 / 0.03%\n",
      "34: 2 / 0.0%\n",
      "1: 4 / 0.01%\n",
      "33: 1 / 0.0%\n",
      "30: 10 / 0.02%\n",
      "55: 1 / 0.0%\n",
      "37: 1 / 0.0%\n"
     ]
    },
    {
     "data": {
      "image/png": "[encoded data removed]",
      "text/plain": [
       "<Figure size 1080x432 with 1 Axes>"
      ]
     },
     "metadata": {
      "needs_background": "light"
     },
     "output_type": "display_data"
    }
   ],
   "source": [
    "feature_analyse(flats.total_floors)"
   ]
  },
  {
   "cell_type": "markdown",
   "metadata": {},
   "source": [
    "## days_active"
   ]
  },
  {
   "cell_type": "code",
   "execution_count": 656,
   "metadata": {
    "ExecuteTime": {
     "end_time": "2021-02-03T12:04:47.333198Z",
     "start_time": "2021-02-03T12:04:47.157198Z"
    },
    "scrolled": false
   },
   "outputs": [
    {
     "data": {
      "image/png": "[encoded data removed]",
      "text/plain": [
       "<Figure size 1080x432 with 1 Axes>"
      ]
     },
     "metadata": {
      "needs_background": "light"
     },
     "output_type": "display_data"
    }
   ],
   "source": [
    "feature_analyse(flats.days_active)"
   ]
  },
  {
   "cell_type": "markdown",
   "metadata": {},
   "source": [
    "В целом, если задача состоит в поиске более менее универсального решения (что логично), то от данного признака нет никакой пользы, так-как он имеет какую-либо ценность только для тех обьявлений, которые были собранны с определеного сайта."
   ]
  },
  {
   "cell_type": "code",
   "execution_count": 657,
   "metadata": {
    "ExecuteTime": {
     "end_time": "2021-02-03T12:04:47.342198Z",
     "start_time": "2021-02-03T12:04:47.334198Z"
    }
   },
   "outputs": [],
   "source": [
    "flats.drop(columns=['days_active'], inplace=True)"
   ]
  },
  {
   "cell_type": "markdown",
   "metadata": {},
   "source": [
    "## metro_station"
   ]
  },
  {
   "cell_type": "code",
   "execution_count": 658,
   "metadata": {
    "ExecuteTime": {
     "end_time": "2021-02-03T12:04:48.924198Z",
     "start_time": "2021-02-03T12:04:47.343198Z"
    },
    "scrolled": false
   },
   "outputs": [
    {
     "name": "stdout",
     "output_type": "stream",
     "text": [
      "Чернышевская: 480 / 1.1%\n",
      "Звездная: 2011 / 4.6%\n",
      "Комендантский проспект: 4005 / 9.16%\n",
      "Обухово: 222 / 0.51%\n",
      "Площадь Ленина: 622 / 1.42%\n",
      "Площадь А. Невского: 276 / 0.63%\n",
      "Лесная: 1495 / 3.42%\n",
      "Купчино: 1351 / 3.09%\n",
      "Московские ворота: 523 / 1.2%\n",
      "Старая деревня: 335 / 0.77%\n",
      "Удельная: 537 / 1.23%\n",
      "Крестовский остров: 1140 / 2.61%\n",
      "Балтийская: 465 / 1.06%\n",
      "Академическая: 1631 / 3.73%\n",
      "Елизаровская: 1897 / 4.34%\n",
      "Московская: 1195 / 2.73%\n",
      "Сергиево (Володарская): 794 / 1.82%\n",
      "Озерки: 1009 / 2.31%\n",
      "Сосновая Поляна: 941 / 2.15%\n",
      "Проспект Просвещения: 1320 / 3.02%\n",
      "Парк Победы: 257 / 0.59%\n",
      "Василеостровская: 490 / 1.12%\n",
      "Приморская: 1996 / 4.56%\n",
      "Проспект Ветеранов: 615 / 1.41%\n",
      "Пионерская: 373 / 0.85%\n",
      "Гражданский проспект: 1023 / 2.34%\n",
      "Бухарестская: 319 / 0.73%\n",
      "Фрунзенская: 724 / 1.66%\n",
      "Рыбацкое: 262 / 0.6%\n",
      "Ладожская: 846 / 1.93%\n",
      "Площадь Мужества: 317 / 0.72%\n",
      "Площадь Восстания: 401 / 0.92%\n",
      "Пролетарская: 1609 / 3.68%\n",
      "Волковская: 127 / 0.29%\n",
      "Черная речка: 948 / 2.17%\n",
      "Выборгская: 331 / 0.76%\n",
      "Обводный канал: 390 / 0.89%\n",
      "Парнас: 1937 / 4.43%\n",
      "Нарвская: 239 / 0.55%\n",
      "Беговая: 341 / 0.78%\n",
      "Невский проспект: 51 / 0.12%\n",
      "Улица Дыбенко: 907 / 2.07%\n",
      "Проспект Большевиков: 267 / 0.61%\n",
      "Девяткино: 163 / 0.37%\n",
      "Лиговский проспект: 169 / 0.39%\n",
      "Гостиный двор: 47 / 0.11%\n",
      "Адмиралтейская: 92 / 0.21%\n",
      "Горелово: 289 / 0.66%\n",
      "Электросила: 142 / 0.32%\n",
      "Звенигородская: 104 / 0.24%\n",
      "Петроградская: 373 / 0.85%\n",
      "Новочеркасская: 206 / 0.47%\n",
      "Шувалово: 68 / 0.16%\n",
      "Сенная площадь: 51 / 0.12%\n",
      "Ручьи: 136 / 0.31%\n",
      "Ленинский проспект: 70 / 0.16%\n",
      "Международная: 227 / 0.52%\n",
      "Садовая: 171 / 0.39%\n",
      "Ломоносовская: 215 / 0.49%\n",
      "Пушкинская: 54 / 0.12%\n",
      "Политехническая: 40 / 0.09%\n",
      "Горьковская: 139 / 0.32%\n",
      "Достоевская: 110 / 0.25%\n",
      "Ольгино: 43 / 0.1%\n",
      "Технологический ин-т II: 80 / 0.18%\n",
      "Автово: 224 / 0.51%\n",
      "Чкаловская: 484 / 1.11%\n",
      "Технологический ин-т I: 85 / 0.19%\n",
      "Маяковская: 124 / 0.28%\n",
      "Спортивная: 166 / 0.38%\n",
      "Владимирская: 171 / 0.39%\n",
      "Новокрестовская: 33 / 0.08%\n",
      "Кировский завод: 34 / 0.08%\n",
      "Лигово: 38 / 0.09%\n",
      "Спасская: 13 / 0.03%\n",
      "Шоссейная: 34 / 0.08%\n",
      "Пискарёвка: 2 / 0.0%\n"
     ]
    },
    {
     "data": {
      "image/png": "[encoded data removed]",
      "text/plain": [
       "<Figure size 1080x432 with 1 Axes>"
      ]
     },
     "metadata": {
      "needs_background": "light"
     },
     "output_type": "display_data"
    }
   ],
   "source": [
    "feature_analyse(flats.metro_station)"
   ]
  },
  {
   "cell_type": "markdown",
   "metadata": {},
   "source": [
    "## district"
   ]
  },
  {
   "cell_type": "code",
   "execution_count": 659,
   "metadata": {
    "ExecuteTime": {
     "end_time": "2021-02-03T12:04:49.250198Z",
     "start_time": "2021-02-03T12:04:48.925198Z"
    }
   },
   "outputs": [
    {
     "name": "stdout",
     "output_type": "stream",
     "text": [
      "Центральный: 1921 / 4.39%\n",
      "Московский: 5479 / 12.53%\n",
      "Приморский: 6045 / 13.82%\n",
      "Невский: 5379 / 12.3%\n",
      "Калининский: 3771 / 8.62%\n",
      "Выборгский: 6697 / 15.31%\n",
      "Петроградский: 2335 / 5.34%\n",
      "Адмиралтейский: 1747 / 3.99%\n",
      "Красносельский: 2062 / 4.72%\n",
      "Ваcилеостровский: 2486 / 5.68%\n",
      "Кировский: 1182 / 2.7%\n",
      "Фрунзенский: 1063 / 2.43%\n",
      "Красногвардейский: 1052 / 2.41%\n",
      "Всеволожский: 197 / 0.45%\n"
     ]
    },
    {
     "data": {
      "image/png": "[encoded data removed]",
      "text/plain": [
       "<Figure size 1080x432 with 1 Axes>"
      ]
     },
     "metadata": {
      "needs_background": "light"
     },
     "output_type": "display_data"
    }
   ],
   "source": [
    "feature_analyse(flats.district)"
   ]
  },
  {
   "cell_type": "markdown",
   "metadata": {},
   "source": [
    "# ANALYSE"
   ]
  },
  {
   "cell_type": "markdown",
   "metadata": {},
   "source": [
    "Теперь можно подумать что делать с данными дальше."
   ]
  },
  {
   "cell_type": "code",
   "execution_count": 660,
   "metadata": {
    "ExecuteTime": {
     "end_time": "2021-02-03T12:04:49.254198Z",
     "start_time": "2021-02-03T12:04:49.251198Z"
    }
   },
   "outputs": [],
   "source": [
    "def remove_values(column, value):\n",
    "\n",
    "    for i in flats[column == value].index:\n",
    "        flats.drop(index=[i], inplace=True)"
   ]
  },
  {
   "cell_type": "markdown",
   "metadata": {},
   "source": [
    "Процент квартир с свободной планировкой слишком мал (меньше **1%**) от всего объема данных. Сосредаточусь на обычных кваритрах и студиях."
   ]
  },
  {
   "cell_type": "code",
   "execution_count": 661,
   "metadata": {
    "ExecuteTime": {
     "end_time": "2021-02-03T12:04:49.548198Z",
     "start_time": "2021-02-03T12:04:49.255198Z"
    },
    "scrolled": false
   },
   "outputs": [],
   "source": [
    "remove_values(flats.rooms, 'Своб. планировка')"
   ]
  },
  {
   "cell_type": "code",
   "execution_count": 662,
   "metadata": {
    "ExecuteTime": {
     "end_time": "2021-02-03T12:04:49.556198Z",
     "start_time": "2021-02-03T12:04:49.549198Z"
    }
   },
   "outputs": [
    {
     "data": {
      "text/plain": [
       "Квартира    33379\n",
       "Студия       7979\n",
       "Name: flat_type, dtype: int64"
      ]
     },
     "execution_count": 662,
     "metadata": {},
     "output_type": "execute_result"
    }
   ],
   "source": [
    "flats.flat_type.value_counts()"
   ]
  },
  {
   "cell_type": "markdown",
   "metadata": {},
   "source": [
    "Процент квартир с 6-9 комнатами также очень мал (в сумме меньше **1%**). Избавлюсь от них тоже."
   ]
  },
  {
   "cell_type": "code",
   "execution_count": 663,
   "metadata": {
    "ExecuteTime": {
     "end_time": "2021-02-03T12:04:49.914198Z",
     "start_time": "2021-02-03T12:04:49.557198Z"
    }
   },
   "outputs": [],
   "source": [
    "remove_values(flats.rooms, '7')"
   ]
  },
  {
   "cell_type": "code",
   "execution_count": 664,
   "metadata": {
    "ExecuteTime": {
     "end_time": "2021-02-03T12:04:50.071198Z",
     "start_time": "2021-02-03T12:04:49.915198Z"
    }
   },
   "outputs": [],
   "source": [
    "remove_values(flats.rooms, '8')"
   ]
  },
  {
   "cell_type": "code",
   "execution_count": 665,
   "metadata": {
    "ExecuteTime": {
     "end_time": "2021-02-03T12:04:50.264198Z",
     "start_time": "2021-02-03T12:04:50.072198Z"
    }
   },
   "outputs": [],
   "source": [
    "remove_values(flats.rooms, '9')"
   ]
  },
  {
   "cell_type": "markdown",
   "metadata": {},
   "source": [
    "Объявления с очень большой площадью это либо целые этажы, либо очень дорого элитное жильные, т.е. единичные случаи. Для них сложно подобрать какую-либо закономерность. Сосредоточусь на более приземленных предложениях."
   ]
  },
  {
   "cell_type": "code",
   "execution_count": 666,
   "metadata": {
    "ExecuteTime": {
     "end_time": "2021-02-03T12:04:50.292198Z",
     "start_time": "2021-02-03T12:04:50.265198Z"
    },
    "scrolled": true
   },
   "outputs": [
    {
     "data": {
      "text/html": [
       "<div>\n",
       "<style scoped>\n",
       "    .dataframe tbody tr th:only-of-type {\n",
       "        vertical-align: middle;\n",
       "    }\n",
       "\n",
       "    .dataframe tbody tr th {\n",
       "        vertical-align: top;\n",
       "    }\n",
       "\n",
       "    .dataframe thead th {\n",
       "        text-align: right;\n",
       "    }\n",
       "</style>\n",
       "<table border=\"1\" class=\"dataframe\">\n",
       "  <thead>\n",
       "    <tr style=\"text-align: right;\">\n",
       "      <th></th>\n",
       "      <th>square</th>\n",
       "      <th>kitchen_square</th>\n",
       "      <th>live_square</th>\n",
       "      <th>price</th>\n",
       "      <th>underground</th>\n",
       "    </tr>\n",
       "  </thead>\n",
       "  <tbody>\n",
       "    <tr>\n",
       "      <th>count</th>\n",
       "      <td>38774.000000</td>\n",
       "      <td>32370.000000</td>\n",
       "      <td>32781.000000</td>\n",
       "      <td>3.877400e+04</td>\n",
       "      <td>38774.000000</td>\n",
       "    </tr>\n",
       "    <tr>\n",
       "      <th>mean</th>\n",
       "      <td>50.791120</td>\n",
       "      <td>10.465598</td>\n",
       "      <td>24.040459</td>\n",
       "      <td>8.250435e+06</td>\n",
       "      <td>1876.218910</td>\n",
       "    </tr>\n",
       "    <tr>\n",
       "      <th>std</th>\n",
       "      <td>23.516582</td>\n",
       "      <td>7.775921</td>\n",
       "      <td>19.728307</td>\n",
       "      <td>5.611221e+06</td>\n",
       "      <td>1270.516882</td>\n",
       "    </tr>\n",
       "    <tr>\n",
       "      <th>min</th>\n",
       "      <td>10.000000</td>\n",
       "      <td>0.000000</td>\n",
       "      <td>0.000000</td>\n",
       "      <td>1.107000e+06</td>\n",
       "      <td>0.000000</td>\n",
       "    </tr>\n",
       "    <tr>\n",
       "      <th>25%</th>\n",
       "      <td>33.500000</td>\n",
       "      <td>5.000000</td>\n",
       "      <td>10.000000</td>\n",
       "      <td>4.700000e+06</td>\n",
       "      <td>872.000000</td>\n",
       "    </tr>\n",
       "    <tr>\n",
       "      <th>50%</th>\n",
       "      <td>44.500000</td>\n",
       "      <td>11.000000</td>\n",
       "      <td>21.900000</td>\n",
       "      <td>6.790000e+06</td>\n",
       "      <td>1500.000000</td>\n",
       "    </tr>\n",
       "    <tr>\n",
       "      <th>75%</th>\n",
       "      <td>65.000000</td>\n",
       "      <td>15.500000</td>\n",
       "      <td>37.700000</td>\n",
       "      <td>9.990000e+06</td>\n",
       "      <td>2800.000000</td>\n",
       "    </tr>\n",
       "    <tr>\n",
       "      <th>max</th>\n",
       "      <td>119.900000</td>\n",
       "      <td>69.000000</td>\n",
       "      <td>116.600000</td>\n",
       "      <td>8.223190e+07</td>\n",
       "      <td>5000.000000</td>\n",
       "    </tr>\n",
       "  </tbody>\n",
       "</table>\n",
       "</div>"
      ],
      "text/plain": [
       "             square  kitchen_square   live_square         price   underground\n",
       "count  38774.000000    32370.000000  32781.000000  3.877400e+04  38774.000000\n",
       "mean      50.791120       10.465598     24.040459  8.250435e+06   1876.218910\n",
       "std       23.516582        7.775921     19.728307  5.611221e+06   1270.516882\n",
       "min       10.000000        0.000000      0.000000  1.107000e+06      0.000000\n",
       "25%       33.500000        5.000000     10.000000  4.700000e+06    872.000000\n",
       "50%       44.500000       11.000000     21.900000  6.790000e+06   1500.000000\n",
       "75%       65.000000       15.500000     37.700000  9.990000e+06   2800.000000\n",
       "max      119.900000       69.000000    116.600000  8.223190e+07   5000.000000"
      ]
     },
     "execution_count": 666,
     "metadata": {},
     "output_type": "execute_result"
    }
   ],
   "source": [
    "flats[flats.square<120].describe()"
   ]
  },
  {
   "cell_type": "markdown",
   "metadata": {},
   "source": [
    "Оставлю кваритры до 200 кв.м"
   ]
  },
  {
   "cell_type": "code",
   "execution_count": 667,
   "metadata": {
    "ExecuteTime": {
     "end_time": "2021-02-03T12:04:50.301198Z",
     "start_time": "2021-02-03T12:04:50.293198Z"
    }
   },
   "outputs": [],
   "source": [
    "flats = flats[flats.square <= 200]"
   ]
  },
  {
   "cell_type": "markdown",
   "metadata": {},
   "source": [
    "Жилай площадь и площадь в кухни в целом являются часть все площади квартиры. Логично предположить, что эти признаки будут сильно скоррелированы между собой. Пострю матрицу корреляции для наглядности."
   ]
  },
  {
   "cell_type": "code",
   "execution_count": 668,
   "metadata": {
    "ExecuteTime": {
     "end_time": "2021-02-03T12:04:50.310198Z",
     "start_time": "2021-02-03T12:04:50.302198Z"
    }
   },
   "outputs": [],
   "source": [
    "flats = flats[flats.price < 30000000]"
   ]
  },
  {
   "cell_type": "code",
   "execution_count": 669,
   "metadata": {
    "ExecuteTime": {
     "end_time": "2021-02-03T12:04:50.319198Z",
     "start_time": "2021-02-03T12:04:50.311198Z"
    }
   },
   "outputs": [],
   "source": [
    "square_price_corr = flats[['square', 'kitchen_square', 'live_square', 'price']].corr()"
   ]
  },
  {
   "cell_type": "code",
   "execution_count": 670,
   "metadata": {
    "ExecuteTime": {
     "end_time": "2021-02-03T12:04:50.474198Z",
     "start_time": "2021-02-03T12:04:50.320198Z"
    }
   },
   "outputs": [
    {
     "data": {
      "text/plain": [
       "<matplotlib.axes._subplots.AxesSubplot at 0x47005550>"
      ]
     },
     "execution_count": 670,
     "metadata": {},
     "output_type": "execute_result"
    },
    {
     "data": {
      "image/png": "[encoded data removed]",
      "text/plain": [
       "<Figure size 432x288 with 2 Axes>"
      ]
     },
     "metadata": {
      "needs_background": "light"
     },
     "output_type": "display_data"
    }
   ],
   "source": [
    "sns.heatmap(square_price_corr, annot=True)"
   ]
  },
  {
   "cell_type": "markdown",
   "metadata": {},
   "source": [
    "Оставлю только признак `square`."
   ]
  },
  {
   "cell_type": "code",
   "execution_count": 671,
   "metadata": {
    "ExecuteTime": {
     "end_time": "2021-02-03T12:04:50.482198Z",
     "start_time": "2021-02-03T12:04:50.475198Z"
    }
   },
   "outputs": [],
   "source": [
    "flats.drop(columns=['kitchen_square', 'live_square'], inplace=True)"
   ]
  },
  {
   "cell_type": "markdown",
   "metadata": {},
   "source": [
    "Квартир, которые находятся на 26, 27, 28, 29, 30, 33 очень мало. Это какие-то совсем экзотические, единичные варианты. Избавлюсь от них, чтобы было проще найти закономерности."
   ]
  },
  {
   "cell_type": "code",
   "execution_count": 672,
   "metadata": {
    "ExecuteTime": {
     "end_time": "2021-02-03T12:04:50.847198Z",
     "start_time": "2021-02-03T12:04:50.483198Z"
    }
   },
   "outputs": [],
   "source": [
    "for i in ['26','27','28','29','30','33']:\n",
    "    remove_values(flats.floors, i)"
   ]
  },
  {
   "cell_type": "markdown",
   "metadata": {},
   "source": [
    "Дома из блоков и дерева так же очень мало, так же буду считать их экзотическими вариантами."
   ]
  },
  {
   "cell_type": "code",
   "execution_count": 673,
   "metadata": {
    "ExecuteTime": {
     "end_time": "2021-02-03T12:04:51.640198Z",
     "start_time": "2021-02-03T12:04:50.848198Z"
    }
   },
   "outputs": [],
   "source": [
    "for i in ['Дерево','Блоки']:\n",
    "    remove_values(flats.build_matireal, i)"
   ]
  },
  {
   "cell_type": "markdown",
   "metadata": {},
   "source": [
    "Дома с количеством этажей 1, 2, 28, 30, 32, 33, 34, 35, 36, 37, 55 удаляем по тем же причинам. Избавимся от экзотических вариантов и сократим количество категорий признака."
   ]
  },
  {
   "cell_type": "code",
   "execution_count": 674,
   "metadata": {
    "ExecuteTime": {
     "end_time": "2021-02-03T12:04:52.499198Z",
     "start_time": "2021-02-03T12:04:51.641198Z"
    }
   },
   "outputs": [],
   "source": [
    "for i in ['1', '2', '28', '30', '32', '33', '34', '35', '36', '37', '55']:\n",
    "    remove_values(flats.total_floors, i)"
   ]
  },
  {
   "cell_type": "markdown",
   "metadata": {},
   "source": [
    "Из числовых признаков остались `square` (общая площадь квартиры) и `underground` (удаленность от ближайщей станции метро). Построим для них корреляционному матрицу."
   ]
  },
  {
   "cell_type": "code",
   "execution_count": 675,
   "metadata": {
    "ExecuteTime": {
     "end_time": "2021-02-03T12:04:52.504198Z",
     "start_time": "2021-02-03T12:04:52.500198Z"
    }
   },
   "outputs": [],
   "source": [
    "square_price_corr = flats[['square', 'underground', 'price']].corr()"
   ]
  },
  {
   "cell_type": "code",
   "execution_count": 676,
   "metadata": {
    "ExecuteTime": {
     "end_time": "2021-02-03T12:04:52.629198Z",
     "start_time": "2021-02-03T12:04:52.505198Z"
    }
   },
   "outputs": [
    {
     "data": {
      "text/plain": [
       "<matplotlib.axes._subplots.AxesSubplot at 0x4be75be0>"
      ]
     },
     "execution_count": 676,
     "metadata": {},
     "output_type": "execute_result"
    },
    {
     "data": {
      "image/png": "[encoded data removed]",
      "text/plain": [
       "<Figure size 432x288 with 2 Axes>"
      ]
     },
     "metadata": {
      "needs_background": "light"
     },
     "output_type": "display_data"
    }
   ],
   "source": [
    "sns.heatmap(square_price_corr, annot=True)"
   ]
  },
  {
   "cell_type": "markdown",
   "metadata": {},
   "source": [
    "На основе матрици можно сделать следующие выводы:\n",
    "\n",
    "- `squre` и `price` имеют сильную положительню корреляцию, т.е. чем больше площадь нашей квартиры тем она дороже. Звучит логично.\n",
    "- `underground` и `price` имеют слабую отрицательную корреляцию, т.е. чем дальше квартира от метро тем она дешевле, но это влияет на итоговую цену не так сильно как площадь. Здесь тоже все выглядит логично."
   ]
  },
  {
   "cell_type": "code",
   "execution_count": 677,
   "metadata": {
    "ExecuteTime": {
     "end_time": "2021-02-03T12:04:52.636198Z",
     "start_time": "2021-02-03T12:04:52.630198Z"
    }
   },
   "outputs": [],
   "source": [
    "studio_flats = flats[flats.flat_type == 'Студия']"
   ]
  },
  {
   "cell_type": "code",
   "execution_count": 678,
   "metadata": {
    "ExecuteTime": {
     "end_time": "2021-02-03T12:04:52.652198Z",
     "start_time": "2021-02-03T12:04:52.637198Z"
    }
   },
   "outputs": [],
   "source": [
    "f_flats = flats[flats.flat_type == 'Квартира'] "
   ]
  },
  {
   "cell_type": "code",
   "execution_count": 689,
   "metadata": {
    "ExecuteTime": {
     "end_time": "2021-02-03T12:08:34.527198Z",
     "start_time": "2021-02-03T12:08:33.733198Z"
    }
   },
   "outputs": [
    {
     "data": {
      "text/plain": [
       "<seaborn.axisgrid.JointGrid at 0x4bc92070>"
      ]
     },
     "execution_count": 689,
     "metadata": {},
     "output_type": "execute_result"
    },
    {
     "data": {
      "text/plain": [
       "<Figure size 432x360 with 0 Axes>"
      ]
     },
     "metadata": {},
     "output_type": "display_data"
    },
    {
     "data": {
      "image/png": "[encoded data removed]",
      "text/plain": [
       "<Figure size 432x432 with 3 Axes>"
      ]
     },
     "metadata": {
      "needs_background": "light"
     },
     "output_type": "display_data"
    }
   ],
   "source": [
    "fig = plt.figure(figsize=(6, 5))\n",
    "sns.jointplot(x=studio_flats.square[studio_flats.flat_type == 'Студия'], \n",
    "              y=studio_flats.price, \n",
    "              data=studio_flats,\n",
    "              kind='reg')"
   ]
  },
  {
   "cell_type": "code",
   "execution_count": 690,
   "metadata": {
    "ExecuteTime": {
     "end_time": "2021-02-03T12:08:35.839198Z",
     "start_time": "2021-02-03T12:08:34.564198Z"
    }
   },
   "outputs": [
    {
     "data": {
      "text/plain": [
       "<seaborn.axisgrid.JointGrid at 0x466a3430>"
      ]
     },
     "execution_count": 690,
     "metadata": {},
     "output_type": "execute_result"
    },
    {
     "data": {
      "text/plain": [
       "<Figure size 432x360 with 0 Axes>"
      ]
     },
     "metadata": {},
     "output_type": "display_data"
    },
    {
     "data": {
      "image/png": "[encoded data removed]",
      "text/plain": [
       "<Figure size 432x432 with 3 Axes>"
      ]
     },
     "metadata": {
      "needs_background": "light"
     },
     "output_type": "display_data"
    }
   ],
   "source": [
    "fig = plt.figure(figsize=(6, 5))\n",
    "sns.jointplot(x=f_flats.square[f_flats.flat_type == 'Квартира'], \n",
    "              y=f_flats.price, \n",
    "              data=f_flats,\n",
    "              kind='reg')"
   ]
  },
  {
   "cell_type": "code",
   "execution_count": 691,
   "metadata": {
    "ExecuteTime": {
     "end_time": "2021-02-03T12:08:47.087198Z",
     "start_time": "2021-02-03T12:08:45.154198Z"
    }
   },
   "outputs": [
    {
     "data": {
      "text/plain": [
       "<seaborn.axisgrid.JointGrid at 0x4f36b6d0>"
      ]
     },
     "execution_count": 691,
     "metadata": {},
     "output_type": "execute_result"
    },
    {
     "data": {
      "text/plain": [
       "<Figure size 432x360 with 0 Axes>"
      ]
     },
     "metadata": {},
     "output_type": "display_data"
    },
    {
     "data": {
      "image/png": "[encoded data removed]",
      "text/plain": [
       "<Figure size 432x432 with 3 Axes>"
      ]
     },
     "metadata": {
      "needs_background": "light"
     },
     "output_type": "display_data"
    }
   ],
   "source": [
    "fig = plt.figure(figsize=(6, 5))\n",
    "sns.jointplot(x=flats.square, \n",
    "              y=flats.price, \n",
    "              data=flats,\n",
    "              kind='reg')"
   ]
  },
  {
   "cell_type": "code",
   "execution_count": 681,
   "metadata": {
    "ExecuteTime": {
     "end_time": "2021-02-03T12:04:56.606198Z",
     "start_time": "2021-02-03T12:04:54.696198Z"
    }
   },
   "outputs": [
    {
     "data": {
      "text/plain": [
       "<seaborn.axisgrid.JointGrid at 0x4f8f0040>"
      ]
     },
     "execution_count": 681,
     "metadata": {},
     "output_type": "execute_result"
    },
    {
     "data": {
      "text/plain": [
       "<Figure size 432x360 with 0 Axes>"
      ]
     },
     "metadata": {},
     "output_type": "display_data"
    },
    {
     "data": {
      "image/png": "[encoded data removed]",
      "text/plain": [
       "<Figure size 432x432 with 3 Axes>"
      ]
     },
     "metadata": {
      "needs_background": "light"
     },
     "output_type": "display_data"
    }
   ],
   "source": [
    "fig = plt.figure(figsize=(6, 5))\n",
    "sns.jointplot(x=flats.underground, \n",
    "              y=flats.price, \n",
    "              data=flats,\n",
    "              kind='reg')"
   ]
  },
  {
   "cell_type": "code",
   "execution_count": 687,
   "metadata": {
    "ExecuteTime": {
     "end_time": "2021-02-03T12:07:34.482198Z",
     "start_time": "2021-02-03T12:07:34.466198Z"
    }
   },
   "outputs": [],
   "source": [
    "X = flats['square']\n",
    "y = flats['price']\n",
    "\n",
    "model = sm.OLS(y,X).fit()"
   ]
  },
  {
   "cell_type": "code",
   "execution_count": 688,
   "metadata": {
    "ExecuteTime": {
     "end_time": "2021-02-03T12:07:34.861198Z",
     "start_time": "2021-02-03T12:07:34.837198Z"
    }
   },
   "outputs": [
    {
     "data": {
      "text/html": [
       "<table class=\"simpletable\">\n",
       "<caption>OLS Regression Results</caption>\n",
       "<tr>\n",
       "  <th>Dep. Variable:</th>          <td>price</td>      <th>  R-squared (uncentered):</th>       <td>   0.922</td>  \n",
       "</tr>\n",
       "<tr>\n",
       "  <th>Model:</th>                   <td>OLS</td>       <th>  Adj. R-squared (uncentered):</th>  <td>   0.922</td>  \n",
       "</tr>\n",
       "<tr>\n",
       "  <th>Method:</th>             <td>Least Squares</td>  <th>  F-statistic:       </th>           <td>4.610e+05</td> \n",
       "</tr>\n",
       "<tr>\n",
       "  <th>Date:</th>             <td>Wed, 03 Feb 2021</td> <th>  Prob (F-statistic):</th>            <td>  0.00</td>   \n",
       "</tr>\n",
       "<tr>\n",
       "  <th>Time:</th>                 <td>15:07:34</td>     <th>  Log-Likelihood:    </th>          <td>-6.3223e+05</td>\n",
       "</tr>\n",
       "<tr>\n",
       "  <th>No. Observations:</th>      <td> 38934</td>      <th>  AIC:               </th>           <td>1.264e+06</td> \n",
       "</tr>\n",
       "<tr>\n",
       "  <th>Df Residuals:</th>          <td> 38933</td>      <th>  BIC:               </th>           <td>1.264e+06</td> \n",
       "</tr>\n",
       "<tr>\n",
       "  <th>Df Model:</th>              <td>     1</td>      <th>                     </th>               <td> </td>     \n",
       "</tr>\n",
       "<tr>\n",
       "  <th>Covariance Type:</th>      <td>nonrobust</td>    <th>                     </th>               <td> </td>     \n",
       "</tr>\n",
       "</table>\n",
       "<table class=\"simpletable\">\n",
       "<tr>\n",
       "     <td></td>       <th>coef</th>     <th>std err</th>      <th>t</th>      <th>P>|t|</th>  <th>[0.025</th>    <th>0.975]</th>  \n",
       "</tr>\n",
       "<tr>\n",
       "  <th>square</th> <td> 1.588e+05</td> <td>  233.872</td> <td>  678.978</td> <td> 0.000</td> <td> 1.58e+05</td> <td> 1.59e+05</td>\n",
       "</tr>\n",
       "</table>\n",
       "<table class=\"simpletable\">\n",
       "<tr>\n",
       "  <th>Omnibus:</th>       <td>12675.950</td> <th>  Durbin-Watson:     </th> <td>   1.757</td> \n",
       "</tr>\n",
       "<tr>\n",
       "  <th>Prob(Omnibus):</th>  <td> 0.000</td>   <th>  Jarque-Bera (JB):  </th> <td>70510.100</td>\n",
       "</tr>\n",
       "<tr>\n",
       "  <th>Skew:</th>           <td> 1.462</td>   <th>  Prob(JB):          </th> <td>    0.00</td> \n",
       "</tr>\n",
       "<tr>\n",
       "  <th>Kurtosis:</th>       <td> 8.909</td>   <th>  Cond. No.          </th> <td>    1.00</td> \n",
       "</tr>\n",
       "</table><br/><br/>Warnings:<br/>[1] Standard Errors assume that the covariance matrix of the errors is correctly specified."
      ],
      "text/plain": [
       "<class 'statsmodels.iolib.summary.Summary'>\n",
       "\"\"\"\n",
       "                                 OLS Regression Results                                \n",
       "=======================================================================================\n",
       "Dep. Variable:                  price   R-squared (uncentered):                   0.922\n",
       "Model:                            OLS   Adj. R-squared (uncentered):              0.922\n",
       "Method:                 Least Squares   F-statistic:                          4.610e+05\n",
       "Date:                Wed, 03 Feb 2021   Prob (F-statistic):                        0.00\n",
       "Time:                        15:07:34   Log-Likelihood:                     -6.3223e+05\n",
       "No. Observations:               38934   AIC:                                  1.264e+06\n",
       "Df Residuals:                   38933   BIC:                                  1.264e+06\n",
       "Df Model:                           1                                                  \n",
       "Covariance Type:            nonrobust                                                  \n",
       "==============================================================================\n",
       "                 coef    std err          t      P>|t|      [0.025      0.975]\n",
       "------------------------------------------------------------------------------\n",
       "square      1.588e+05    233.872    678.978      0.000    1.58e+05    1.59e+05\n",
       "==============================================================================\n",
       "Omnibus:                    12675.950   Durbin-Watson:                   1.757\n",
       "Prob(Omnibus):                  0.000   Jarque-Bera (JB):            70510.100\n",
       "Skew:                           1.462   Prob(JB):                         0.00\n",
       "Kurtosis:                       8.909   Cond. No.                         1.00\n",
       "==============================================================================\n",
       "\n",
       "Warnings:\n",
       "[1] Standard Errors assume that the covariance matrix of the errors is correctly specified.\n",
       "\"\"\""
      ]
     },
     "execution_count": 688,
     "metadata": {},
     "output_type": "execute_result"
    }
   ],
   "source": [
    "predictions = model.predict(X)\n",
    "model.summary()"
   ]
  },
  {
   "cell_type": "code",
   "execution_count": 684,
   "metadata": {
    "ExecuteTime": {
     "end_time": "2021-02-03T12:04:56.679198Z",
     "start_time": "2021-02-03T12:04:56.663198Z"
    }
   },
   "outputs": [
    {
     "name": "stdout",
     "output_type": "stream",
     "text": [
      "<class 'pandas.core.frame.DataFrame'>\n",
      "Int64Index: 38934 entries, 1 to 41423\n",
      "Data columns (total 12 columns):\n",
      " #   Column           Non-Null Count  Dtype  \n",
      "---  ------           --------------  -----  \n",
      " 0   flat_type        38934 non-null  object \n",
      " 1   object_type      38934 non-null  object \n",
      " 2   rooms            38934 non-null  object \n",
      " 3   floors           38934 non-null  object \n",
      " 4   square           38934 non-null  float64\n",
      " 5   price            38934 non-null  float64\n",
      " 6   build_matireal   38934 non-null  object \n",
      " 7   district_rating  38934 non-null  object \n",
      " 8   underground      38934 non-null  float64\n",
      " 9   total_floors     38934 non-null  object \n",
      " 10  metro_station    38934 non-null  object \n",
      " 11  district         38934 non-null  object \n",
      "dtypes: float64(3), object(9)\n",
      "memory usage: 3.9+ MB\n"
     ]
    }
   ],
   "source": [
    "flats.info()"
   ]
  },
  {
   "cell_type": "code",
   "execution_count": null,
   "metadata": {},
   "outputs": [],
   "source": []
  }
 ],
 "metadata": {
  "kernelspec": {
   "display_name": "Python 3",
   "language": "python",
   "name": "python3"
  },
  "language_info": {
   "codemirror_mode": {
    "name": "ipython",
    "version": 3
   },
   "file_extension": ".py",
   "mimetype": "text/x-python",
   "name": "python",
   "nbconvert_exporter": "python",
   "pygments_lexer": "ipython3",
   "version": "3.7.7"
  },
  "toc": {
   "base_numbering": 1,
   "nav_menu": {},
   "number_sections": true,
   "sideBar": true,
   "skip_h1_title": false,
   "title_cell": "Table of Contents",
   "title_sidebar": "Contents",
   "toc_cell": false,
   "toc_position": {
    "height": "calc(100% - 180px)",
    "left": "10px",
    "top": "150px",
    "width": "248px"
   },
   "toc_section_display": true,
   "toc_window_display": true
  },
  "varInspector": {
   "cols": {
    "lenName": 16,
    "lenType": 16,
    "lenVar": 40
   },
   "kernels_config": {
    "python": {
     "delete_cmd_postfix": "",
     "delete_cmd_prefix": "del ",
     "library": "var_list.py",
     "varRefreshCmd": "print(var_dic_list())"
    },
    "r": {
     "delete_cmd_postfix": ") ",
     "delete_cmd_prefix": "rm(",
     "library": "var_list.r",
     "varRefreshCmd": "cat(var_dic_list()) "
    }
   },
   "position": {
    "height": "226px",
    "left": "1px",
    "right": "20px",
    "top": "500px",
    "width": "245px"
   },
   "types_to_exclude": [
    "module",
    "function",
    "builtin_function_or_method",
    "instance",
    "_Feature"
   ],
   "window_display": false
  }
 },
 "nbformat": 4,
 "nbformat_minor": 4
}
