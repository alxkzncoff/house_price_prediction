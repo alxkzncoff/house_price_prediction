{
 "cells": [
  {
   "cell_type": "code",
   "execution_count": 33,
   "id": "revised-congress",
   "metadata": {
    "ExecuteTime": {
     "end_time": "2021-05-08T10:45:45.117676Z",
     "start_time": "2021-05-08T10:45:45.077700Z"
    }
   },
   "outputs": [],
   "source": [
    "def train(norm=False):    \n",
    "    \n",
    "    import os\n",
    "    import warnings\n",
    "    import sys\n",
    "\n",
    "    import pandas as pd\n",
    "    import numpy as np\n",
    "    from sklearn.metrics import mean_squared_error, mean_absolute_error, r2_score\n",
    "    from sklearn.model_selection import train_test_split\n",
    "    from sklearn.preprocessing import OneHotEncoder\n",
    "    from sklearn.linear_model import LinearRegression\n",
    "    from urllib.parse import urlparse\n",
    "    import mlflow\n",
    "    import mlflow.sklearn\n",
    "\n",
    "    import logging\n",
    "\n",
    "    logging.basicConfig(level=logging.WARN)\n",
    "    logger = logging.getLogger(__name__)\n",
    "\n",
    "    train_mean = pd.read_csv('../data/train_mean.csv')\n",
    "    test_mean = pd.read_csv('../data/test_mean.csv')\n",
    "\n",
    "    onehot_encoder = OneHotEncoder(sparse=False)\n",
    "\n",
    "    train_ohe = pd.get_dummies(train_mean, \n",
    "                           columns=['flat_type', 'object_type', 'rooms', 'build_matireal',\n",
    "                                    'district_rating','district','underground','eco_rating','clear_rating','gkh_rating',\n",
    "                                    'neighbor_rating','kids_rating','sport_rest_rating','shop_rating',\n",
    "                                    'traffic_rating','secure_rating','life_price_rating','metro_station',\n",
    "                                    'num_of_metro_stations','num_of_kindg','num_of_schools','num_of_poly',\n",
    "                                    'num_of_hospitals','num_of_dentists','num_of_women_cons'])\n",
    "\n",
    "    test_ohe = pd.get_dummies(test_mean, \n",
    "                          columns=['flat_type', 'object_type', 'rooms', 'build_matireal',\n",
    "                                    'district_rating','district','underground','eco_rating','clear_rating','gkh_rating',\n",
    "                                    'neighbor_rating','kids_rating','sport_rest_rating','shop_rating',\n",
    "                                    'traffic_rating','secure_rating','life_price_rating','metro_station',\n",
    "                                    'num_of_metro_stations','num_of_kindg','num_of_schools','num_of_poly',\n",
    "                                    'num_of_hospitals','num_of_dentists','num_of_women_cons'])\n",
    "\n",
    "    def eval_metrics(actual, pred):\n",
    "        rmse = np.sqrt(mean_squared_error(actual, pred))\n",
    "        mae = mean_absolute_error(actual, pred)\n",
    "        r2 = r2_score(actual, pred)\n",
    "        return rmse, mae, r2\n",
    "\n",
    "\n",
    "    warnings.filterwarnings(\"ignore\")\n",
    "    np.random.seed(40)\n",
    "\n",
    "    # Read the wine-quality csv file from the URL\n",
    "    data = train_ohe\n",
    "\n",
    "    # Split the data into training and test sets. (0.75, 0.25) split.\n",
    "    train, test = train_test_split(data)\n",
    "\n",
    "    # The predicted column is \"quality\" which is a scalar from [3, 9]\n",
    "    train_x = train.drop([\"price\", 'page', 'description'], axis=1)\n",
    "    test_x = test.drop([\"price\", 'page', 'description'], axis=1)\n",
    "    train_y = train[[\"price\"]]\n",
    "    test_y = test[[\"price\"]]\n",
    "\n",
    "    #     alpha = float(sys.argv[1]) if len(sys.argv) > 1 else 0.5\n",
    "    #     l1_ratio = float(sys.argv[2]) if len(sys.argv) > 2 else 0.5\n",
    "\n",
    "    with mlflow.start_run():\n",
    "        lr = LinearRegression(normalize=norm)\n",
    "        lr.fit(train_x, train_y)\n",
    "\n",
    "        predicted_qualities = lr.predict(test_x)\n",
    "\n",
    "        (rmse, mae, r2) = eval_metrics(test_y, predicted_qualities)\n",
    "\n",
    "        print(\"Regression model (normalize=%f):\" % (norm))\n",
    "        print(\"  RMSE: %s\" % rmse)\n",
    "        print(\"  MAE: %s\" % mae)\n",
    "        print(\"  R2: %s\" % r2)\n",
    "\n",
    "        mlflow.log_param(\"Normalize\", norm)\n",
    "    #         mlflow.log_param(\"l1_ratio\", l1_ratio)\n",
    "        mlflow.log_metric(\"rmse\", rmse)\n",
    "        mlflow.log_metric(\"r2\", r2)\n",
    "        mlflow.log_metric(\"mae\", mae)\n",
    "\n",
    "        mlflow.sklearn.log_model(lr, \"model\")"
   ]
  },
  {
   "cell_type": "code",
   "execution_count": 34,
   "id": "minimal-tribute",
   "metadata": {
    "ExecuteTime": {
     "end_time": "2021-05-08T10:45:53.087908Z",
     "start_time": "2021-05-08T10:45:47.426836Z"
    }
   },
   "outputs": [
    {
     "name": "stdout",
     "output_type": "stream",
     "text": [
      "Regression model (normalize=0.000000):\n",
      "  RMSE: 39961770.56489456\n",
      "  MAE: 2422790.764969978\n",
      "  R2: 0.05190448486572241\n"
     ]
    }
   ],
   "source": [
    "train(norm=False)"
   ]
  },
  {
   "cell_type": "code",
   "execution_count": 35,
   "id": "qualified-foster",
   "metadata": {
    "ExecuteTime": {
     "end_time": "2021-05-08T10:45:59.323929Z",
     "start_time": "2021-05-08T10:45:53.825631Z"
    }
   },
   "outputs": [
    {
     "name": "stdout",
     "output_type": "stream",
     "text": [
      "Regression model (normalize=1.000000):\n",
      "  RMSE: 2.8588694377626772e+16\n",
      "  MAE: 206865950334750.84\n",
      "  R2: -4.852340760141219e+17\n"
     ]
    }
   ],
   "source": [
    "train(norm=True)"
   ]
  },
  {
   "cell_type": "code",
   "execution_count": 36,
   "id": "unavailable-insight",
   "metadata": {
    "ExecuteTime": {
     "end_time": "2021-05-08T10:50:57.805747Z",
     "start_time": "2021-05-08T10:50:57.726501Z"
    }
   },
   "outputs": [],
   "source": []
  },
  {
   "cell_type": "code",
   "execution_count": null,
   "id": "located-shelter",
   "metadata": {},
   "outputs": [],
   "source": []
  }
 ],
 "metadata": {
  "kernelspec": {
   "display_name": "Python 3",
   "language": "python",
   "name": "python3"
  },
  "language_info": {
   "codemirror_mode": {
    "name": "ipython",
    "version": 3
   },
   "file_extension": ".py",
   "mimetype": "text/x-python",
   "name": "python",
   "nbconvert_exporter": "python",
   "pygments_lexer": "ipython3",
   "version": "3.7.7"
  },
  "toc": {
   "base_numbering": 1,
   "nav_menu": {},
   "number_sections": true,
   "sideBar": true,
   "skip_h1_title": false,
   "title_cell": "Table of Contents",
   "title_sidebar": "Contents",
   "toc_cell": false,
   "toc_position": {
    "height": "calc(100% - 180px)",
    "left": "10px",
    "top": "150px",
    "width": "384px"
   },
   "toc_section_display": true,
   "toc_window_display": true
  },
  "varInspector": {
   "cols": {
    "lenName": 16,
    "lenType": 16,
    "lenVar": 40
   },
   "kernels_config": {
    "python": {
     "delete_cmd_postfix": "",
     "delete_cmd_prefix": "del ",
     "library": "var_list.py",
     "varRefreshCmd": "print(var_dic_list())"
    },
    "r": {
     "delete_cmd_postfix": ") ",
     "delete_cmd_prefix": "rm(",
     "library": "var_list.r",
     "varRefreshCmd": "cat(var_dic_list()) "
    }
   },
   "types_to_exclude": [
    "module",
    "function",
    "builtin_function_or_method",
    "instance",
    "_Feature"
   ],
   "window_display": false
  }
 },
 "nbformat": 4,
 "nbformat_minor": 5
}
