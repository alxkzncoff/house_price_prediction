{
 "cells": [
  {
   "cell_type": "markdown",
   "id": "delayed-driver",
   "metadata": {},
   "source": [
    "# IMPORT"
   ]
  },
  {
   "cell_type": "code",
   "execution_count": 41,
   "id": "material-sixth",
   "metadata": {
    "ExecuteTime": {
     "end_time": "2021-05-30T10:06:21.576986Z",
     "start_time": "2021-05-30T10:06:21.537004Z"
    }
   },
   "outputs": [],
   "source": [
    "import os\n",
    "import warnings\n",
    "import sys\n",
    "\n",
    "import pandas as pd\n",
    "import numpy as np\n",
    "\n",
    "from sklearn.impute import SimpleImputer\n",
    "from sklearn.impute import KNNImputer\n",
    "from sklearn.experimental import enable_iterative_imputer\n",
    "from sklearn.impute import IterativeImputer\n",
    "\n",
    "from sklearn.preprocessing import MinMaxScaler\n",
    "from sklearn.preprocessing import StandardScaler\n",
    "\n",
    "from sklearn.metrics import mean_squared_error, mean_absolute_error, r2_score, mean_absolute_percentage_error\n",
    "from sklearn.model_selection import train_test_split\n",
    "from sklearn.preprocessing import OneHotEncoder\n",
    "from sklearn.linear_model import LinearRegression\n",
    "\n",
    "from urllib.parse import urlparse\n",
    "import mlflow\n",
    "import mlflow.sklearn\n",
    "\n",
    "import logging"
   ]
  },
  {
   "cell_type": "code",
   "execution_count": 42,
   "id": "unlike-subdivision",
   "metadata": {
    "ExecuteTime": {
     "end_time": "2021-05-30T10:06:27.666643Z",
     "start_time": "2021-05-30T10:06:22.593647Z"
    }
   },
   "outputs": [],
   "source": [
    "# train с новыми признаками\n",
    "train = pd.read_csv('../data/train_new_features.csv',\n",
    "                    dtype={'floors': str,\n",
    "                           'total_floors': str})\n",
    "\n",
    "# test с новыми признаками\n",
    "test = pd.read_csv('../data/test_new_features.csv',\n",
    "                    dtype={'floors': str,\n",
    "                           'total_floors': str})"
   ]
  },
  {
   "cell_type": "markdown",
   "id": "neural-prayer",
   "metadata": {},
   "source": [
    "# FILL NaN"
   ]
  },
  {
   "cell_type": "code",
   "execution_count": 43,
   "id": "latest-wealth",
   "metadata": {
    "ExecuteTime": {
     "end_time": "2021-05-30T10:06:30.748248Z",
     "start_time": "2021-05-30T10:06:30.713688Z"
    }
   },
   "outputs": [],
   "source": [
    "def fill_missing_values(data, fill_method='mean'):\n",
    "    \n",
    "    \"\"\" \n",
    "        Заполняет пропуски четырмя способами: mean, median, KNN, MICE. \n",
    "    \n",
    "        data - датафрейм, который нужно обработать.\n",
    "        fill_method - метод заполнения пропусков (mean, median, knn, mice)\n",
    "        \n",
    "        output: data with fiiled NaN's.\n",
    "    \"\"\"\n",
    "    \n",
    "    print('--------------- Fill NaN values ---------------')\n",
    "    print('\\n')\n",
    "    \n",
    "    if fill_method == '  mean':\n",
    "    \n",
    "        # Mean\n",
    "        print('  mean processing...')\n",
    "        df_mean = data.copy()\n",
    "        imp_mean = SimpleImputer(strategy='mean')\n",
    "        y_mean = np.round(imp_mean.fit_transform(df_mean[['kitchen_square', 'live_square']]), 1)\n",
    "        df_mean['kitchen_square'] = pd.DataFrame(y_mean)[0]\n",
    "        df_mean['live_square'] = pd.DataFrame(y_mean)[1]\n",
    "        print('  Done.')\n",
    "        \n",
    "        return df_mean\n",
    "\n",
    "    elif fill_method == '  median':\n",
    "        \n",
    "        # Median\n",
    "        print('median processing...')\n",
    "        df_median = data.copy()\n",
    "        imp_median = SimpleImputer(strategy='median')\n",
    "        y_median = np.round(imp_median.fit_transform(df_median[['kitchen_square', 'live_square']]), 1)\n",
    "        df_median['kitchen_square'] = pd.DataFrame(y_median)[0]\n",
    "        df_median['live_square'] = pd.DataFrame(y_median)[1]\n",
    "        print('  Done.')\n",
    "        \n",
    "        return df_median\n",
    "    \n",
    "    elif fill_method == '  knn':\n",
    "\n",
    "        # KNN\n",
    "        print('  KNN processing...')\n",
    "        df_knn = data.copy()\n",
    "        x_knn = df_knn[['square', 'kitchen_square', 'live_square']]\n",
    "        imp_knn = KNNImputer(n_neighbors=5)\n",
    "        imp_knn.fit(x_knn)\n",
    "        x_knn = np.round(imp_knn.transform(x_knn), 1)\n",
    "        y_knn = pd.DataFrame(x_knn)\n",
    "        df_knn['kitchen_square'] = y_knn[1]\n",
    "        df_knn['live_square'] = y_knn[2]\n",
    "        print('  Done.')\n",
    "        \n",
    "        return df_knn\n",
    "    \n",
    "    elif fill_method == '  mice':\n",
    "\n",
    "        # MICE\n",
    "        print('  MICE processing...')\n",
    "        df_mice = data.copy()\n",
    "        x_mice = df_mice[['square', 'kitchen_square', 'live_square']]\n",
    "        mice_imp = IterativeImputer(max_iter=10, random_state=42)\n",
    "        mice_imp.fit(x_mice)\n",
    "        x_mice = np.round(mice_imp.transform(x_mice), 1)\n",
    "        y_mice = pd.DataFrame(x_mice)\n",
    "        df_mice['kitchen_square'] = y_mice[1]\n",
    "        df_mice['live_square'] = y_mice[2]\n",
    "        print('  Done.')\n",
    "        \n",
    "        return df_mice"
   ]
  },
  {
   "cell_type": "code",
   "execution_count": 47,
   "id": "upper-opposition",
   "metadata": {
    "ExecuteTime": {
     "end_time": "2021-05-30T10:08:02.167053Z",
     "start_time": "2021-05-30T10:08:02.155505Z"
    }
   },
   "outputs": [],
   "source": [
    "def eval_metrics(actual, pred):\n",
    "    rmse = np.sqrt(mean_squared_error(actual, pred))\n",
    "    mae = mean_absolute_error(actual, pred)\n",
    "    r2 = r2_score(actual, pred)\n",
    "    mape = mean_absolute_percentage_error(actual, pred)\n",
    "    return rmse, mae, r2, mape"
   ]
  },
  {
   "cell_type": "code",
   "execution_count": 55,
   "id": "revised-congress",
   "metadata": {
    "ExecuteTime": {
     "end_time": "2021-05-30T10:13:24.933364Z",
     "start_time": "2021-05-30T10:13:24.906430Z"
    }
   },
   "outputs": [],
   "source": [
    "def mlflow_sklearn_reg(data, fill_method = 'mean', normalization = False):\n",
    "    \n",
    "    df = data.copy()\n",
    "\n",
    "    logging.basicConfig(level=logging.WARN)\n",
    "    logger = logging.getLogger(__name__)\n",
    "    \n",
    "    # Fill NaN\n",
    "    df_filled = fill_missing_values(df, fill_method = fill_method)\n",
    "    \n",
    "    onehot_encoder = OneHotEncoder(sparse=False)\n",
    "\n",
    "    df_ohe = pd.get_dummies(df_filled, \n",
    "                            columns=['flat_type', 'object_type', 'rooms', 'build_matireal',\n",
    "                                    'district_rating','district','underground','eco_rating','clear_rating','gkh_rating',\n",
    "                                    'neighbor_rating','kids_rating','sport_rest_rating','shop_rating',\n",
    "                                    'traffic_rating','secure_rating','life_price_rating','metro_station',\n",
    "                                    'num_of_metro_stations','num_of_kindg','num_of_schools','num_of_poly',\n",
    "                                    'num_of_hospitals','num_of_dentists','num_of_women_cons'])\n",
    "    \n",
    "    # Normalization\n",
    "    if normalization == True:\n",
    "        MMS = MinMaxScaler()\n",
    "        MMS.fit(df_ohe[['square', 'kitchen_square', 'live_square', 'price']])\n",
    "        df_ohe[['square', 'kitchen_square', 'live_square', 'price']] = MMS.transform(df_ohe[['square', 'kitchen_square', 'live_square', 'price']])\n",
    "\n",
    "\n",
    "    warnings.filterwarnings(\"ignore\")\n",
    "    np.random.seed(40)\n",
    "\n",
    "    # Split the data into training and test sets. (0.75, 0.25) split.\n",
    "    train, test = train_test_split(df_ohe)\n",
    "\n",
    "    # The predicted column is \"quality\" which is a scalar from [3, 9]\n",
    "    train_x = train.drop([\"price\", 'page', 'description'], axis=1)\n",
    "    test_x = test.drop([\"price\", 'page', 'description'], axis=1)\n",
    "    train_y = train[[\"price\"]]\n",
    "    test_y = test[[\"price\"]]\n",
    "\n",
    "    with mlflow.start_run():\n",
    "        lr = LinearRegression()\n",
    "        lr.fit(train_x, train_y)\n",
    "\n",
    "        predicted_qualities = lr.predict(test_x)\n",
    "        \n",
    "        if normalization == True:\n",
    "            (rmse, mae, r2, mape) = eval_metrics(np.expm1(test_y), np.expm1(predicted_qualities)\n",
    "        else:\n",
    "            (rmse, mae, r2, mape) = eval_metrics(test_y, predicted_qualities)\n",
    "            \n",
    "        print('\\n')\n",
    "        print('--------------- Training ---------------')\n",
    "        print('\\n')\n",
    "        print(\"  RMSE: %s\" % rmse)\n",
    "        print(\"  MAE: %s\" % mae)\n",
    "        print(\"  R2: %s\" % r2)\n",
    "        print(\"  MAPE: %s\" % mape)\n",
    "        \n",
    "        metrics = {'RMSE': rmse, 'MAE': mae, 'R2': r2, 'MAPE': mape}\n",
    "        params = {\"Fill NaN method\": fill_method, 'Normalization': normalization}\n",
    "        \n",
    "        mlflow.log_params(params)\n",
    "        mlflow.log_metrics(metrics)\n",
    "\n",
    "        mlflow.sklearn.log_model(lr, \"model\")"
   ]
  },
  {
   "cell_type": "markdown",
   "id": "sorted-alliance",
   "metadata": {},
   "source": [
    "# TESTS"
   ]
  },
  {
   "cell_type": "code",
   "execution_count": 56,
   "id": "minimal-tribute",
   "metadata": {
    "ExecuteTime": {
     "end_time": "2021-05-30T10:13:29.920931Z",
     "start_time": "2021-05-30T10:13:26.822878Z"
    }
   },
   "outputs": [
    {
     "name": "stdout",
     "output_type": "stream",
     "text": [
      "--------------- Fill NaN values ---------------\n",
      "mean processing...\n",
      "Done.\n",
      "\n",
      "\n",
      "--------------- Training ---------------\n",
      "\n",
      "\n",
      "  RMSE: 39961812.32373111\n",
      "  MAE: 2422797.1729404386\n",
      "  R2: 0.05190250340265001\n",
      "  MAPE: 0.2226219716846474\n"
     ]
    }
   ],
   "source": [
    "mlflow_sklearn_reg(train, 'mean')"
   ]
  },
  {
   "cell_type": "code",
   "execution_count": 57,
   "id": "focused-disaster",
   "metadata": {
    "ExecuteTime": {
     "end_time": "2021-05-30T10:13:35.722373Z",
     "start_time": "2021-05-30T10:13:32.606980Z"
    },
    "scrolled": true
   },
   "outputs": [
    {
     "name": "stdout",
     "output_type": "stream",
     "text": [
      "--------------- Fill NaN values ---------------\n",
      "mean processing...\n",
      "Done.\n",
      "\n",
      "\n",
      "--------------- Training ---------------\n",
      "\n",
      "\n",
      "  RMSE: 39961812.32373056\n",
      "  MAE: 2422797.1729396917\n",
      "  R2: 0.05190250340267599\n",
      "  MAPE: 0.2226219716845226\n"
     ]
    }
   ],
   "source": [
    "mlflow_sklearn_reg(train, 'mean', True)"
   ]
  },
  {
   "cell_type": "code",
   "execution_count": 58,
   "id": "qualified-foster",
   "metadata": {
    "ExecuteTime": {
     "end_time": "2021-05-30T10:15:40.477626Z",
     "start_time": "2021-05-30T10:15:37.546767Z"
    }
   },
   "outputs": [
    {
     "name": "stdout",
     "output_type": "stream",
     "text": [
      "--------------- Fill NaN values ---------------\n",
      "median processing...\n",
      "Done.\n",
      "\n",
      "\n",
      "--------------- Training ---------------\n",
      "\n",
      "\n",
      "  RMSE: 39964455.422399044\n",
      "  MAE: 2422077.312322646\n",
      "  R2: 0.051777083760446985\n",
      "  MAPE: 0.22224425116766455\n"
     ]
    }
   ],
   "source": [
    "mlflow_sklearn_reg(train, 'median')"
   ]
  },
  {
   "cell_type": "code",
   "execution_count": 59,
   "id": "light-profession",
   "metadata": {
    "ExecuteTime": {
     "end_time": "2021-05-30T10:15:43.830680Z",
     "start_time": "2021-05-30T10:15:41.128055Z"
    }
   },
   "outputs": [
    {
     "name": "stdout",
     "output_type": "stream",
     "text": [
      "--------------- Fill NaN values ---------------\n",
      "median processing...\n",
      "Done.\n",
      "\n",
      "\n",
      "--------------- Training ---------------\n",
      "\n",
      "\n",
      "  RMSE: 39964455.422399014\n",
      "  MAE: 2422077.3123226482\n",
      "  R2: 0.05177708376044832\n",
      "  MAPE: 0.22224425116767674\n"
     ]
    }
   ],
   "source": [
    "mlflow_sklearn_reg(train, 'median', True)"
   ]
  },
  {
   "cell_type": "code",
   "execution_count": 60,
   "id": "unavailable-insight",
   "metadata": {
    "ExecuteTime": {
     "end_time": "2021-05-30T10:19:24.987550Z",
     "start_time": "2021-05-30T10:15:44.445587Z"
    }
   },
   "outputs": [
    {
     "name": "stdout",
     "output_type": "stream",
     "text": [
      "--------------- Fill NaN values ---------------\n",
      "KNN processing...\n",
      "Done.\n",
      "\n",
      "\n",
      "--------------- Training ---------------\n",
      "\n",
      "\n",
      "  RMSE: 40012138.60288686\n",
      "  MAE: 2473446.8296664166\n",
      "  R2: 0.049513008974006456\n",
      "  MAPE: 0.22980487769683852\n"
     ]
    }
   ],
   "source": [
    "mlflow_sklearn_reg(train, 'knn')"
   ]
  },
  {
   "cell_type": "code",
   "execution_count": 61,
   "id": "governmental-guide",
   "metadata": {
    "ExecuteTime": {
     "end_time": "2021-05-30T10:22:47.345867Z",
     "start_time": "2021-05-30T10:19:28.815434Z"
    }
   },
   "outputs": [
    {
     "name": "stdout",
     "output_type": "stream",
     "text": [
      "--------------- Fill NaN values ---------------\n",
      "KNN processing...\n",
      "Done.\n",
      "\n",
      "\n",
      "--------------- Training ---------------\n",
      "\n",
      "\n",
      "  RMSE: 40012138.60288638\n",
      "  MAE: 2473446.829665861\n",
      "  R2: 0.04951300897402944\n",
      "  MAPE: 0.22980487769675095\n"
     ]
    }
   ],
   "source": [
    "mlflow_sklearn_reg(train, 'knn', True)"
   ]
  },
  {
   "cell_type": "code",
   "execution_count": 62,
   "id": "located-shelter",
   "metadata": {
    "ExecuteTime": {
     "end_time": "2021-05-30T10:22:51.975653Z",
     "start_time": "2021-05-30T10:22:48.788468Z"
    }
   },
   "outputs": [
    {
     "name": "stdout",
     "output_type": "stream",
     "text": [
      "--------------- Fill NaN values ---------------\n",
      "MICE processing...\n",
      "Done.\n",
      "\n",
      "\n",
      "--------------- Training ---------------\n",
      "\n",
      "\n",
      "  RMSE: 39930781.28446545\n",
      "  MAE: 2437017.324384338\n",
      "  R2: 0.05337435996719486\n",
      "  MAPE: 0.22522010786948213\n"
     ]
    }
   ],
   "source": [
    "mlflow_sklearn_reg(train, 'mice')"
   ]
  },
  {
   "cell_type": "code",
   "execution_count": 63,
   "id": "worse-redhead",
   "metadata": {
    "ExecuteTime": {
     "end_time": "2021-05-30T10:22:55.781728Z",
     "start_time": "2021-05-30T10:22:52.592831Z"
    }
   },
   "outputs": [
    {
     "name": "stdout",
     "output_type": "stream",
     "text": [
      "--------------- Fill NaN values ---------------\n",
      "MICE processing...\n",
      "Done.\n",
      "\n",
      "\n",
      "--------------- Training ---------------\n",
      "\n",
      "\n",
      "  RMSE: 39930781.28446485\n",
      "  MAE: 2437017.3243835866\n",
      "  R2: 0.053374359967223284\n",
      "  MAPE: 0.22522010786935204\n"
     ]
    }
   ],
   "source": [
    "mlflow_sklearn_reg(train, 'mice', True)"
   ]
  },
  {
   "cell_type": "code",
   "execution_count": null,
   "id": "concerned-copying",
   "metadata": {},
   "outputs": [],
   "source": []
  }
 ],
 "metadata": {
  "kernelspec": {
   "display_name": "Python 3",
   "language": "python",
   "name": "python3"
  },
  "language_info": {
   "codemirror_mode": {
    "name": "ipython",
    "version": 3
   },
   "file_extension": ".py",
   "mimetype": "text/x-python",
   "name": "python",
   "nbconvert_exporter": "python",
   "pygments_lexer": "ipython3",
   "version": "3.7.7"
  },
  "toc": {
   "base_numbering": 1,
   "nav_menu": {},
   "number_sections": true,
   "sideBar": true,
   "skip_h1_title": false,
   "title_cell": "Table of Contents",
   "title_sidebar": "Contents",
   "toc_cell": false,
   "toc_position": {
    "height": "calc(100% - 180px)",
    "left": "10px",
    "top": "150px",
    "width": "384px"
   },
   "toc_section_display": true,
   "toc_window_display": true
  },
  "varInspector": {
   "cols": {
    "lenName": 16,
    "lenType": 16,
    "lenVar": 40
   },
   "kernels_config": {
    "python": {
     "delete_cmd_postfix": "",
     "delete_cmd_prefix": "del ",
     "library": "var_list.py",
     "varRefreshCmd": "print(var_dic_list())"
    },
    "r": {
     "delete_cmd_postfix": ") ",
     "delete_cmd_prefix": "rm(",
     "library": "var_list.r",
     "varRefreshCmd": "cat(var_dic_list()) "
    }
   },
   "types_to_exclude": [
    "module",
    "function",
    "builtin_function_or_method",
    "instance",
    "_Feature"
   ],
   "window_display": false
  }
 },
 "nbformat": 4,
 "nbformat_minor": 5
}
