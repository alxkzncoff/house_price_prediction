{
 "cells": [
  {
   "cell_type": "markdown",
   "id": "blocked-variable",
   "metadata": {},
   "source": [
    "# IMPORT"
   ]
  },
  {
   "cell_type": "code",
   "execution_count": 272,
   "id": "cognitive-citation",
   "metadata": {
    "ExecuteTime": {
     "end_time": "2021-06-20T10:08:43.934566Z",
     "start_time": "2021-06-20T10:08:43.912424Z"
    }
   },
   "outputs": [],
   "source": [
    "import pandas as pd\n",
    "import numpy as np\n",
    "\n",
    "from sklearn.impute import SimpleImputer\n",
    "from sklearn.impute import KNNImputer\n",
    "from sklearn.experimental import enable_iterative_imputer\n",
    "from sklearn.impute import IterativeImputer\n",
    "\n",
    "from sklearn.preprocessing import MinMaxScaler\n",
    "from sklearn.preprocessing import StandardScaler\n",
    "\n",
    "from sklearn.metrics import mean_squared_error, mean_absolute_error, r2_score, mean_absolute_percentage_error\n",
    "from sklearn.model_selection import train_test_split\n",
    "from sklearn.preprocessing import OneHotEncoder\n",
    "from sklearn.linear_model import LinearRegression\n",
    "from sklearn.linear_model import Ridge\n",
    "from joblib import dump\n",
    "\n",
    "import neptune.new as neptune\n",
    "import optuna\n",
    "import neptune.new.integrations.optuna as optuna_utils"
   ]
  },
  {
   "cell_type": "code",
   "execution_count": 263,
   "id": "measured-determination",
   "metadata": {
    "ExecuteTime": {
     "end_time": "2021-06-16T19:28:23.270394Z",
     "start_time": "2021-06-16T19:28:18.771906Z"
    }
   },
   "outputs": [],
   "source": [
    "# train с новыми признаками\n",
    "train = pd.read_csv('../data/train_new_features.csv',\n",
    "                    dtype={'floors': str,\n",
    "                           'total_floors': str})\n",
    "\n",
    "# test с новыми признаками\n",
    "test = pd.read_csv('../data/test_new_features.csv',\n",
    "                    dtype={'floors': str,\n",
    "                           'total_floors': str})"
   ]
  },
  {
   "cell_type": "markdown",
   "id": "pretty-spring",
   "metadata": {},
   "source": [
    "# Sklearn Linear Regression"
   ]
  },
  {
   "cell_type": "code",
   "execution_count": 221,
   "id": "completed-aruba",
   "metadata": {
    "ExecuteTime": {
     "end_time": "2021-06-16T18:44:53.415362Z",
     "start_time": "2021-06-16T18:44:53.374004Z"
    }
   },
   "outputs": [],
   "source": [
    "def fill_missing_values(data, fill_method='mean'):\n",
    "    \n",
    "    \"\"\" \n",
    "        Заполняет пропуски четырмя способами: mean, median, KNN, MICE. \n",
    "    \n",
    "        data - датафрейм, который нужно обработать.\n",
    "        fill_method - метод заполнения пропусков (mean, median, knn, mice)\n",
    "        \n",
    "        output: data with fiiled NaN's.\n",
    "    \"\"\"\n",
    "    \n",
    "    print(f'Fill method: {fill_method}')\n",
    "    \n",
    "    if fill_method == 'mean':\n",
    "    \n",
    "        # Mean\n",
    "        df_mean = data.copy()\n",
    "        imp_mean = SimpleImputer(strategy='mean')\n",
    "        y_mean = np.round(imp_mean.fit_transform(df_mean[['kitchen_square', 'live_square']]), 1)\n",
    "        df_mean['kitchen_square'] = pd.DataFrame(y_mean)[0]\n",
    "        df_mean['live_square'] = pd.DataFrame(y_mean)[1]\n",
    "        \n",
    "        return df_mean\n",
    "\n",
    "    elif fill_method == 'median':\n",
    "        \n",
    "        # Median\n",
    "        df_median = data.copy()\n",
    "        imp_median = SimpleImputer(strategy='median')\n",
    "        y_median = np.round(imp_median.fit_transform(df_median[['kitchen_square', 'live_square']]), 1)\n",
    "        df_median['kitchen_square'] = pd.DataFrame(y_median)[0]\n",
    "        df_median['live_square'] = pd.DataFrame(y_median)[1]\n",
    "        \n",
    "        return df_median\n",
    "    \n",
    "    elif fill_method == 'knn':\n",
    "\n",
    "        # KNN\n",
    "        df_knn = data.copy()\n",
    "        x_knn = df_knn[['square', 'kitchen_square', 'live_square']]\n",
    "        imp_knn = KNNImputer(n_neighbors=5)\n",
    "        imp_knn.fit(x_knn)\n",
    "        x_knn = np.round(imp_knn.transform(x_knn), 1)\n",
    "        y_knn = pd.DataFrame(x_knn)\n",
    "        df_knn['kitchen_square'] = y_knn[1]\n",
    "        df_knn['live_square'] = y_knn[2]\n",
    "        \n",
    "        return df_knn\n",
    "    \n",
    "    elif fill_method == 'mice':\n",
    "\n",
    "        # MICE\n",
    "        df_mice = data.copy()\n",
    "        x_mice = df_mice[['square', 'kitchen_square', 'live_square']]\n",
    "        mice_imp = IterativeImputer(max_iter=10, random_state=42)\n",
    "        mice_imp.fit(x_mice)\n",
    "        x_mice = np.round(mice_imp.transform(x_mice), 1)\n",
    "        y_mice = pd.DataFrame(x_mice)\n",
    "        df_mice['kitchen_square'] = y_mice[1]\n",
    "        df_mice['live_square'] = y_mice[2]\n",
    "        \n",
    "        return df_mice"
   ]
  },
  {
   "cell_type": "code",
   "execution_count": 115,
   "id": "senior-general",
   "metadata": {
    "ExecuteTime": {
     "end_time": "2021-06-14T13:07:11.942000Z",
     "start_time": "2021-06-14T13:07:11.933834Z"
    }
   },
   "outputs": [],
   "source": [
    "def eval_metrics(actual, pred):\n",
    "    rmse = np.sqrt(mean_squared_error(actual, pred))\n",
    "    mae = mean_absolute_error(actual, pred)\n",
    "    r2 = r2_score(actual, pred)\n",
    "    mape = mean_absolute_percentage_error(actual, pred)\n",
    "    return rmse, mae, r2, mape"
   ]
  },
  {
   "cell_type": "code",
   "execution_count": 259,
   "id": "about-communication",
   "metadata": {
    "ExecuteTime": {
     "end_time": "2021-06-16T19:25:31.422053Z",
     "start_time": "2021-06-16T19:25:31.398714Z"
    }
   },
   "outputs": [],
   "source": [
    "def nt_sklearn_lr(data, fill_method, squares, norm=False):\n",
    "    \n",
    "    df = data.copy()\n",
    "    df.reset_index(inplace=True)\n",
    "    \n",
    "    run = neptune.init(project='alxkzncoff/flats',\n",
    "                       api_token='eyJhcGlfYWRkcmVzcyI6Imh0dHBzOi8vYXBwLm5lcHR1bmUuYWkiLCJhcGlfdXJsIjoiaHR0cHM6Ly9hcHAubmVwdHVuZS5haSIsImFwaV9rZXkiOiI5ZmI4NDE1Ny03YzcyLTQwOTQtOTUwMi1kODlkYWMwY2YwOGQifQ==',\n",
    "                       name = 'sklearn_regression')\n",
    "\n",
    "    # Fill NaN\n",
    "    df_filled = fill_missing_values(df, fill_method)\n",
    "\n",
    "    # Dummies\n",
    "    df_dummies = pd.get_dummies(df_filled, \n",
    "                                columns=['flat_type', 'object_type', 'rooms', 'build_matireal',\n",
    "                                        'district_rating','district','underground','eco_rating','clear_rating','gkh_rating',\n",
    "                                        'neighbor_rating','kids_rating','sport_rest_rating','shop_rating',\n",
    "                                        'traffic_rating','secure_rating','life_price_rating','metro_station',\n",
    "                                        'num_of_metro_stations','num_of_kindg','num_of_schools','num_of_poly',\n",
    "                                        'num_of_hospitals','num_of_dentists','num_of_women_cons'])\n",
    "\n",
    "    X = df_dummies.drop(['page', 'description', 'price'], axis=1)\n",
    "    y = df_dummies['price']\n",
    "    \n",
    "    # Normalization\n",
    "    print(f'Normalization: {norm}')\n",
    "    if norm == True:\n",
    "        MMS = MinMaxScaler()\n",
    "        X[['square', 'kitchen_square', 'live_square']] = MMS.fit_transform(X[['square', 'kitchen_square', 'live_square']])\n",
    "        \n",
    "    X_train, X_test, y_train, y_test = train_test_split(X, y, test_size=0.25, shuffle=True, random_state=42)\n",
    "    \n",
    "    lr = LinearRegression()\n",
    "    lr.fit(X_train, y_train)\n",
    "\n",
    "    predict = lr.predict(X_test)\n",
    "    (rmse, mae, r2, mape) = eval_metrics(y_test, predict)\n",
    "\n",
    "    run[\"sys/tags\"].add(['sklearn_LinearReg'])\n",
    "    run['sk_LinearRegression/parameters'] = {'fill method': fill_method, \n",
    "                                             'normalization': norm,\n",
    "                                             'squares': squares}\n",
    "    run['sk_LinearRegression/rmse'] = np.round(rmse, 2)\n",
    "    run['sk_LinearRegression/mae'] = np.round(mae, 2)\n",
    "    run['sk_LinearRegression/r2'] = np.round(r2, 2)\n",
    "    run['sk_LinearRegression/mape'] = np.round(mape, 2)\n",
    "    run[\"sk_LinearRegression/model\"].upload('sklearn_linear_regression_model.pkl')\n",
    "\n",
    "    print(f'RMSE: {np.round(rmse, 2)} | MAE: {np.round(mae, 2)} | R2: {np.round(r2, 2)} | MAPE: {np.round(mape, 2)}')\n",
    "\n",
    "    dump(lr, 'sklearn_linear_regression_model.pkl')"
   ]
  },
  {
   "cell_type": "markdown",
   "id": "pleasant-liberty",
   "metadata": {},
   "source": [
    "## All sqaures"
   ]
  },
  {
   "cell_type": "code",
   "execution_count": 230,
   "id": "persistent-catalog",
   "metadata": {
    "ExecuteTime": {
     "end_time": "2021-06-16T19:10:31.173893Z",
     "start_time": "2021-06-16T19:02:36.871815Z"
    },
    "scrolled": false
   },
   "outputs": [
    {
     "name": "stdout",
     "output_type": "stream",
     "text": [
      "https://app.neptune.ai/alxkzncoff/flats/e/FLAT-82\n",
      "Fill method: mean\n",
      "Normalization: False\n",
      "RMSE: 7687833758158.7 | MAE: 55631077471.68 | R2: -35309877014.65 | MAPE: 20992.18\n",
      "https://app.neptune.ai/alxkzncoff/flats/e/FLAT-83\n",
      "Fill method: median\n",
      "Normalization: False\n",
      "RMSE: 77896723456625.16 | MAE: 563658074162.18 | R2: -3625155320395.92 | MAPE: 212700.48\n",
      "https://app.neptune.ai/alxkzncoff/flats/e/FLAT-84\n",
      "Fill method: knn\n",
      "Normalization: False\n",
      "RMSE: 7169733012219.74 | MAE: 51882154915.75 | R2: -30711017468.21 | MAPE: 19577.48\n",
      "https://app.neptune.ai/alxkzncoff/flats/e/FLAT-85\n",
      "Fill method: mice\n",
      "Normalization: False\n",
      "RMSE: 56437329289101.72 | MAE: 408379312044.4 | R2: -1902922695367.01 | MAPE: 154104.71\n",
      "https://app.neptune.ai/alxkzncoff/flats/e/FLAT-86\n",
      "Fill method: mean\n",
      "Normalization: True\n",
      "RMSE: 40057076.88 | MAE: 2408590.74 | R2: 0.04 | MAPE: 0.23\n",
      "https://app.neptune.ai/alxkzncoff/flats/e/FLAT-87\n",
      "Fill method: median\n",
      "Normalization: True\n",
      "RMSE: 40059699.21 | MAE: 2409448.87 | R2: 0.04 | MAPE: 0.23\n",
      "https://app.neptune.ai/alxkzncoff/flats/e/FLAT-88\n",
      "Fill method: knn\n",
      "Normalization: True\n",
      "RMSE: 40099537.65 | MAE: 2429607.31 | R2: 0.04 | MAPE: 0.23\n",
      "https://app.neptune.ai/alxkzncoff/flats/e/FLAT-89\n",
      "Fill method: mice\n",
      "Normalization: True\n",
      "RMSE: 40133634.72 | MAE: 2438892.81 | R2: 0.04 | MAPE: 0.23\n"
     ]
    }
   ],
   "source": [
    "for norm in [False, True]:\n",
    "    for fill_method in ['mean', 'median', 'knn', 'mice']:\n",
    "        nt_sklearn_lr(train, fill_method, 'all', norm)"
   ]
  },
  {
   "cell_type": "markdown",
   "id": "turned-bouquet",
   "metadata": {},
   "source": [
    "## < 400 m2"
   ]
  },
  {
   "cell_type": "code",
   "execution_count": 264,
   "id": "addressed-crest",
   "metadata": {
    "ExecuteTime": {
     "end_time": "2021-06-16T19:28:32.879298Z",
     "start_time": "2021-06-16T19:28:32.819827Z"
    }
   },
   "outputs": [],
   "source": [
    "train_400m = train[(train['square']<400) & (train['price']<100000000)]"
   ]
  },
  {
   "cell_type": "code",
   "execution_count": 265,
   "id": "continuous-logistics",
   "metadata": {
    "ExecuteTime": {
     "end_time": "2021-06-16T19:37:03.165338Z",
     "start_time": "2021-06-16T19:28:46.169175Z"
    }
   },
   "outputs": [
    {
     "name": "stdout",
     "output_type": "stream",
     "text": [
      "https://app.neptune.ai/alxkzncoff/flats/e/FLAT-105\n",
      "Fill method: mean\n",
      "Normalization: False\n",
      "RMSE: 3662937.59 | MAE: 1817266.4 | R2: 0.84 | MAPE: 0.19\n",
      "https://app.neptune.ai/alxkzncoff/flats/e/FLAT-106\n",
      "Fill method: median\n",
      "Normalization: False\n",
      "RMSE: 3663345.16 | MAE: 1818886.62 | R2: 0.84 | MAPE: 0.19\n",
      "https://app.neptune.ai/alxkzncoff/flats/e/FLAT-107\n",
      "Fill method: knn\n",
      "Normalization: False\n",
      "RMSE: 3662809.55 | MAE: 1815584.71 | R2: 0.84 | MAPE: 0.19\n",
      "https://app.neptune.ai/alxkzncoff/flats/e/FLAT-108\n",
      "Fill method: mice\n",
      "Normalization: False\n",
      "RMSE: 3676481.13 | MAE: 1819995.51 | R2: 0.83 | MAPE: 0.19\n",
      "https://app.neptune.ai/alxkzncoff/flats/e/FLAT-109\n",
      "Fill method: mean\n",
      "Normalization: True\n",
      "RMSE: 3662937.59 | MAE: 1817266.4 | R2: 0.84 | MAPE: 0.19\n",
      "https://app.neptune.ai/alxkzncoff/flats/e/FLAT-110\n",
      "Fill method: median\n",
      "Normalization: True\n",
      "RMSE: 3663345.16 | MAE: 1818886.62 | R2: 0.84 | MAPE: 0.19\n",
      "https://app.neptune.ai/alxkzncoff/flats/e/FLAT-111\n",
      "Fill method: knn\n",
      "Normalization: True\n",
      "RMSE: 3662809.55 | MAE: 1815584.71 | R2: 0.84 | MAPE: 0.19\n",
      "https://app.neptune.ai/alxkzncoff/flats/e/FLAT-112\n",
      "Fill method: mice\n",
      "Normalization: True\n",
      "RMSE: 3676481.13 | MAE: 1819995.51 | R2: 0.83 | MAPE: 0.19\n"
     ]
    }
   ],
   "source": [
    "for norm in [False, True]:\n",
    "    for fill_method in ['mean', 'median', 'knn', 'mice']:\n",
    "        nt_sklearn_lr(train_400m, fill_method, '<400 m2', norm)"
   ]
  },
  {
   "cell_type": "markdown",
   "id": "express-consensus",
   "metadata": {},
   "source": [
    "## <130 m2"
   ]
  },
  {
   "cell_type": "code",
   "execution_count": 266,
   "id": "composed-keyboard",
   "metadata": {
    "ExecuteTime": {
     "end_time": "2021-06-20T09:29:24.708183Z",
     "start_time": "2021-06-20T09:29:24.612246Z"
    }
   },
   "outputs": [],
   "source": [
    "train_130m = train[(train['square']<131) & (train['price']<100000000)]"
   ]
  },
  {
   "cell_type": "code",
   "execution_count": 267,
   "id": "excellent-deployment",
   "metadata": {
    "ExecuteTime": {
     "end_time": "2021-06-20T09:38:29.139812Z",
     "start_time": "2021-06-20T09:30:08.525325Z"
    }
   },
   "outputs": [
    {
     "name": "stdout",
     "output_type": "stream",
     "text": [
      "https://app.neptune.ai/alxkzncoff/flats/e/FLAT-113\n",
      "Fill method: mean\n",
      "Normalization: False\n",
      "RMSE: 2496131.99 | MAE: 1392750.16 | R2: 0.83 | MAPE: 0.17\n",
      "https://app.neptune.ai/alxkzncoff/flats/e/FLAT-114\n",
      "Fill method: median\n",
      "Normalization: False\n",
      "RMSE: 2496811.17 | MAE: 1393428.18 | R2: 0.83 | MAPE: 0.17\n",
      "https://app.neptune.ai/alxkzncoff/flats/e/FLAT-115\n",
      "Fill method: knn\n",
      "Normalization: False\n",
      "RMSE: 2490684.24 | MAE: 1389889.09 | R2: 0.83 | MAPE: 0.17\n",
      "https://app.neptune.ai/alxkzncoff/flats/e/FLAT-116\n",
      "Fill method: mice\n"
     ]
    },
    {
     "name": "stderr",
     "output_type": "stream",
     "text": [
      "C:\\Users\\mi\\Anaconda3\\lib\\site-packages\\sklearn\\impute\\_iterative.py:686: ConvergenceWarning: [IterativeImputer] Early stopping criterion not reached.\n",
      "  \" reached.\", ConvergenceWarning)\n"
     ]
    },
    {
     "name": "stdout",
     "output_type": "stream",
     "text": [
      "Normalization: False\n",
      "RMSE: 2503514.23 | MAE: 1394653.41 | R2: 0.83 | MAPE: 0.17\n",
      "https://app.neptune.ai/alxkzncoff/flats/e/FLAT-117\n",
      "Fill method: mean\n",
      "Normalization: True\n",
      "RMSE: 2496131.99 | MAE: 1392750.16 | R2: 0.83 | MAPE: 0.17\n",
      "https://app.neptune.ai/alxkzncoff/flats/e/FLAT-118\n",
      "Fill method: median\n",
      "Normalization: True\n",
      "RMSE: 2496811.17 | MAE: 1393428.18 | R2: 0.83 | MAPE: 0.17\n",
      "https://app.neptune.ai/alxkzncoff/flats/e/FLAT-119\n",
      "Fill method: knn\n",
      "Normalization: True\n",
      "RMSE: 2490684.24 | MAE: 1389889.09 | R2: 0.83 | MAPE: 0.17\n",
      "https://app.neptune.ai/alxkzncoff/flats/e/FLAT-120\n",
      "Fill method: mice\n"
     ]
    },
    {
     "name": "stderr",
     "output_type": "stream",
     "text": [
      "C:\\Users\\mi\\Anaconda3\\lib\\site-packages\\sklearn\\impute\\_iterative.py:686: ConvergenceWarning: [IterativeImputer] Early stopping criterion not reached.\n",
      "  \" reached.\", ConvergenceWarning)\n"
     ]
    },
    {
     "name": "stdout",
     "output_type": "stream",
     "text": [
      "Normalization: True\n",
      "RMSE: 2503514.23 | MAE: 1394653.41 | R2: 0.83 | MAPE: 0.17\n"
     ]
    }
   ],
   "source": [
    "for norm in [False, True]:\n",
    "    for fill_method in ['mean', 'median', 'knn', 'mice']:\n",
    "        nt_sklearn_lr(train_130m, fill_method, '<130 m2', norm)"
   ]
  },
  {
   "cell_type": "markdown",
   "id": "joint-stack",
   "metadata": {},
   "source": [
    "# Sklearn Ridge"
   ]
  },
  {
   "cell_type": "code",
   "execution_count": 282,
   "id": "labeled-moldova",
   "metadata": {
    "ExecuteTime": {
     "end_time": "2021-06-20T16:31:50.221309Z",
     "start_time": "2021-06-20T16:27:45.140490Z"
    }
   },
   "outputs": [
    {
     "name": "stdout",
     "output_type": "stream",
     "text": [
      "Fill method: knn\n"
     ]
    }
   ],
   "source": [
    "train_knn = fill_missing_values(train, 'knn')"
   ]
  },
  {
   "cell_type": "code",
   "execution_count": 283,
   "id": "conservative-share",
   "metadata": {
    "ExecuteTime": {
     "end_time": "2021-06-20T16:37:31.300203Z",
     "start_time": "2021-06-20T16:37:27.645406Z"
    }
   },
   "outputs": [],
   "source": [
    "train_knn.to_csv('../data/train_knn', index=False)"
   ]
  },
  {
   "cell_type": "code",
   "execution_count": null,
   "id": "dependent-quebec",
   "metadata": {},
   "outputs": [],
   "source": [
    "def nt_sklearn_ridge(data, fill_method, squares, norm=False):\n",
    "    \n",
    "    df = data.copy()\n",
    "    df.reset_index(inplace=True)\n",
    "    \n",
    "    run = neptune.init(project='alxkzncoff/flats',\n",
    "                       api_token='eyJhcGlfYWRkcmVzcyI6Imh0dHBzOi8vYXBwLm5lcHR1bmUuYWkiLCJhcGlfdXJsIjoiaHR0cHM6Ly9hcHAubmVwdHVuZS5haSIsImFwaV9rZXkiOiI5ZmI4NDE1Ny03YzcyLTQwOTQtOTUwMi1kODlkYWMwY2YwOGQifQ==',\n",
    "                       name = 'sklearn_regression')\n",
    "\n",
    "    # Fill NaN\n",
    "    df_filled = fill_missing_values(df, fill_method)\n",
    "\n",
    "    # Dummies\n",
    "    df_dummies = pd.get_dummies(df_filled, \n",
    "                                columns=['flat_type', 'object_type', 'rooms', 'build_matireal',\n",
    "                                        'district_rating','district','underground','eco_rating','clear_rating','gkh_rating',\n",
    "                                        'neighbor_rating','kids_rating','sport_rest_rating','shop_rating',\n",
    "                                        'traffic_rating','secure_rating','life_price_rating','metro_station',\n",
    "                                        'num_of_metro_stations','num_of_kindg','num_of_schools','num_of_poly',\n",
    "                                        'num_of_hospitals','num_of_dentists','num_of_women_cons'])\n",
    "\n",
    "    X = df_dummies.drop(['page', 'description', 'price'], axis=1)\n",
    "    y = df_dummies['price']\n",
    "    \n",
    "    # Normalization\n",
    "    print(f'Normalization: {norm}')\n",
    "    if norm == True:\n",
    "        MMS = MinMaxScaler()\n",
    "        X[['square', 'kitchen_square', 'live_square']] = MMS.fit_transform(X[['square', 'kitchen_square', 'live_square']])\n",
    "        \n",
    "    X_train, X_test, y_train, y_test = train_test_split(X, y, test_size=0.25, shuffle=True, random_state=42)\n",
    "    \n",
    "    rd = Ridge(alpha=1.0)\n",
    "    rd.fit(X_train, y_train)\n",
    "\n",
    "    predict = rd.predict(X_test)\n",
    "    (rmse, mae, r2, mape) = eval_metrics(y_test, predict)\n",
    "\n",
    "    run[\"sys/tags\"].add(['sklearn_LinearReg'])\n",
    "    run['sk_LinearRegression/parameters'] = {'fill method': fill_method, \n",
    "                                             'normalization': norm,\n",
    "                                             'squares': squares}\n",
    "    run['sk_LinearRegression/rmse'] = np.round(rmse, 2)\n",
    "    run['sk_LinearRegression/mae'] = np.round(mae, 2)\n",
    "    run['sk_LinearRegression/r2'] = np.round(r2, 2)\n",
    "    run['sk_LinearRegression/mape'] = np.round(mape, 2)\n",
    "    run[\"sk_LinearRegression/model\"].upload('sklearn_linear_regression_model.pkl')\n",
    "\n",
    "    print(f'RMSE: {np.round(rmse, 2)} | MAE: {np.round(mae, 2)} | R2: {np.round(r2, 2)} | MAPE: {np.round(mape, 2)}')\n",
    "\n",
    "    dump(lr, 'sklearn_linear_regression_model.pkl')"
   ]
  },
  {
   "cell_type": "code",
   "execution_count": 284,
   "id": "accepting-hepatitis",
   "metadata": {
    "ExecuteTime": {
     "end_time": "2021-06-20T16:39:59.731876Z",
     "start_time": "2021-06-20T16:38:18.075675Z"
    }
   },
   "outputs": [
    {
     "name": "stderr",
     "output_type": "stream",
     "text": [
      "\u001b[32m[I 2021-06-20 19:38:18,105]\u001b[0m A new study created in memory with name: no-name-56d2915f-f256-4c76-9065-dcae28ca38c8\u001b[0m\n",
      "\u001b[32m[I 2021-06-20 19:38:24,030]\u001b[0m Trial 0 finished with value: 0.2284226887126013 and parameters: {'alpha': 0.42710692713631815}. Best is trial 0 with value: 0.2284226887126013.\u001b[0m\n",
      "\u001b[32m[I 2021-06-20 19:38:28,854]\u001b[0m Trial 1 finished with value: 0.2284653956649313 and parameters: {'alpha': 0.21158442893373963}. Best is trial 0 with value: 0.2284226887126013.\u001b[0m\n",
      "\u001b[32m[I 2021-06-20 19:38:33,880]\u001b[0m Trial 2 finished with value: 0.2284261754037365 and parameters: {'alpha': 0.4093918790298692}. Best is trial 0 with value: 0.2284226887126013.\u001b[0m\n",
      "\u001b[32m[I 2021-06-20 19:38:39,021]\u001b[0m Trial 3 finished with value: 0.22813863595918915 and parameters: {'alpha': 1.9889319182804694}. Best is trial 3 with value: 0.22813863595918915.\u001b[0m\n",
      "\u001b[32m[I 2021-06-20 19:38:44,150]\u001b[0m Trial 4 finished with value: 0.2281524641604035 and parameters: {'alpha': 1.908496675696861}. Best is trial 3 with value: 0.22813863595918915.\u001b[0m\n",
      "\u001b[32m[I 2021-06-20 19:38:49,509]\u001b[0m Trial 5 finished with value: 0.22813822891422422 and parameters: {'alpha': 1.9913053975441544}. Best is trial 5 with value: 0.22813822891422422.\u001b[0m\n",
      "\u001b[32m[I 2021-06-20 19:38:54,404]\u001b[0m Trial 6 finished with value: 0.22839575482132546 and parameters: {'alpha': 0.5652235330351136}. Best is trial 5 with value: 0.22813822891422422.\u001b[0m\n",
      "\u001b[32m[I 2021-06-20 19:38:59,938]\u001b[0m Trial 7 finished with value: 0.22839920086269277 and parameters: {'alpha': 0.5474573329679606}. Best is trial 5 with value: 0.22813822891422422.\u001b[0m\n",
      "\u001b[32m[I 2021-06-20 19:39:05,363]\u001b[0m Trial 8 finished with value: 0.2283386777678052 and parameters: {'alpha': 0.8657482643178871}. Best is trial 5 with value: 0.22813822891422422.\u001b[0m\n",
      "\u001b[32m[I 2021-06-20 19:39:10,671]\u001b[0m Trial 9 finished with value: 0.22836654745735172 and parameters: {'alpha': 0.7167237593982971}. Best is trial 5 with value: 0.22813822891422422.\u001b[0m\n",
      "\u001b[32m[I 2021-06-20 19:39:15,823]\u001b[0m Trial 10 finished with value: 0.2282388393948446 and parameters: {'alpha': 1.4155205570064218}. Best is trial 5 with value: 0.22813822891422422.\u001b[0m\n",
      "\u001b[32m[I 2021-06-20 19:39:20,772]\u001b[0m Trial 11 finished with value: 0.22813824763322235 and parameters: {'alpha': 1.991196239782086}. Best is trial 5 with value: 0.22813822891422422.\u001b[0m\n",
      "\u001b[32m[I 2021-06-20 19:39:25,465]\u001b[0m Trial 12 finished with value: 0.22821091839833454 and parameters: {'alpha': 1.5731488002488763}. Best is trial 5 with value: 0.22813822891422422.\u001b[0m\n",
      "\u001b[32m[I 2021-06-20 19:39:30,318]\u001b[0m Trial 13 finished with value: 0.22820369536064392 and parameters: {'alpha': 1.6141938993764648}. Best is trial 5 with value: 0.22813822891422422.\u001b[0m\n",
      "\u001b[32m[I 2021-06-20 19:39:35,124]\u001b[0m Trial 14 finished with value: 0.22826543874527364 and parameters: {'alpha': 1.2669287179462367}. Best is trial 5 with value: 0.22813822891422422.\u001b[0m\n",
      "\u001b[32m[I 2021-06-20 19:39:40,141]\u001b[0m Trial 15 finished with value: 0.2281710353778709 and parameters: {'alpha': 1.8011285516814166}. Best is trial 5 with value: 0.22813822891422422.\u001b[0m\n",
      "\u001b[32m[I 2021-06-20 19:39:45,114]\u001b[0m Trial 16 finished with value: 0.22826157761531152 and parameters: {'alpha': 1.28840306778551}. Best is trial 5 with value: 0.22813822891422422.\u001b[0m\n",
      "\u001b[32m[I 2021-06-20 19:39:49,904]\u001b[0m Trial 17 finished with value: 0.22830052828810354 and parameters: {'alpha': 1.0732244830456024}. Best is trial 5 with value: 0.22813822891422422.\u001b[0m\n",
      "\u001b[32m[I 2021-06-20 19:39:54,867]\u001b[0m Trial 18 finished with value: 0.2281818222771663 and parameters: {'alpha': 1.7391388817195468}. Best is trial 5 with value: 0.22813822891422422.\u001b[0m\n",
      "\u001b[32m[I 2021-06-20 19:39:59,705]\u001b[0m Trial 19 finished with value: 0.22813852892194272 and parameters: {'alpha': 1.9895560203158404}. Best is trial 5 with value: 0.22813822891422422.\u001b[0m\n"
     ]
    }
   ],
   "source": [
    "def objective(trial):\n",
    "    # hyperparameter setting\n",
    "    alpha = trial.suggest_uniform('alpha', 0.0, 2.0)\n",
    "    \n",
    "    # data loading and train-test split\n",
    "    \n",
    "    train = pd.read_csv('../data/train_knn.csv',\n",
    "                    dtype={'floors': str,\n",
    "                           'total_floors': str})\n",
    "    \n",
    "    # Dummies\n",
    "    df_dummies = pd.get_dummies(train, \n",
    "                                columns=['flat_type', 'object_type', 'rooms', 'build_matireal',\n",
    "                                        'district_rating','district','underground','eco_rating','clear_rating','gkh_rating',\n",
    "                                        'neighbor_rating','kids_rating','sport_rest_rating','shop_rating',\n",
    "                                        'traffic_rating','secure_rating','life_price_rating','metro_station',\n",
    "                                        'num_of_metro_stations','num_of_kindg','num_of_schools','num_of_poly',\n",
    "                                        'num_of_hospitals','num_of_dentists','num_of_women_cons'])\n",
    "    \n",
    "    X = df_dummies.drop(['page', 'description', 'price'], axis=1)\n",
    "    y = df_dummies['price']\n",
    "    \n",
    "    X_train, X_test, y_train, y_test = train_test_split(X, y, test_size=0.25, shuffle=True, random_state=42)\n",
    "    \n",
    "    # model training and evaluation\n",
    "    model = Ridge(alpha=alpha)\n",
    "    model.fit(X_train, y_train)\n",
    "    y_pred = model.predict(X_test)\n",
    "    error = mean_absolute_percentage_error(y_test, y_pred)\n",
    "\n",
    "    # output: evaluation score\n",
    "    return error\n",
    "\n",
    "study = optuna.create_study(direction='minimize')\n",
    "study.optimize(objective, n_trials=20)"
   ]
  },
  {
   "cell_type": "code",
   "execution_count": null,
   "id": "expensive-period",
   "metadata": {},
   "outputs": [],
   "source": []
  }
 ],
 "metadata": {
  "kernelspec": {
   "display_name": "Python 3",
   "language": "python",
   "name": "python3"
  },
  "language_info": {
   "codemirror_mode": {
    "name": "ipython",
    "version": 3
   },
   "file_extension": ".py",
   "mimetype": "text/x-python",
   "name": "python",
   "nbconvert_exporter": "python",
   "pygments_lexer": "ipython3",
   "version": "3.7.7"
  },
  "neptune": {
   "notebookId": "944d4e63-aee6-400e-a69e-3bd911ffc02a",
   "projectVersion": 2
  },
  "toc": {
   "base_numbering": 1,
   "nav_menu": {},
   "number_sections": true,
   "sideBar": true,
   "skip_h1_title": false,
   "title_cell": "Table of Contents",
   "title_sidebar": "Contents",
   "toc_cell": false,
   "toc_position": {
    "height": "calc(100% - 180px)",
    "left": "10px",
    "top": "150px",
    "width": "230.391px"
   },
   "toc_section_display": true,
   "toc_window_display": true
  },
  "varInspector": {
   "cols": {
    "lenName": 16,
    "lenType": 16,
    "lenVar": 40
   },
   "kernels_config": {
    "python": {
     "delete_cmd_postfix": "",
     "delete_cmd_prefix": "del ",
     "library": "var_list.py",
     "varRefreshCmd": "print(var_dic_list())"
    },
    "r": {
     "delete_cmd_postfix": ") ",
     "delete_cmd_prefix": "rm(",
     "library": "var_list.r",
     "varRefreshCmd": "cat(var_dic_list()) "
    }
   },
   "types_to_exclude": [
    "module",
    "function",
    "builtin_function_or_method",
    "instance",
    "_Feature"
   ],
   "window_display": false
  }
 },
 "nbformat": 4,
 "nbformat_minor": 5
}
