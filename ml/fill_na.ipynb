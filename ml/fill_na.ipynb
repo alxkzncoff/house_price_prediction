{
 "cells": [
  {
   "cell_type": "markdown",
   "id": "intended-retro",
   "metadata": {},
   "source": [
    "# IMPORT"
   ]
  },
  {
   "cell_type": "code",
   "execution_count": 125,
   "id": "premier-california",
   "metadata": {
    "ExecuteTime": {
     "end_time": "2021-05-07T09:49:57.240581Z",
     "start_time": "2021-05-07T09:49:57.225137Z"
    }
   },
   "outputs": [],
   "source": [
    "import pandas as pd\n",
    "import numpy as np\n",
    "\n",
    "from sklearn.impute import SimpleImputer\n",
    "from sklearn.impute import KNNImputer\n",
    "from sklearn.experimental import enable_iterative_imputer\n",
    "from sklearn.impute import IterativeImputer"
   ]
  },
  {
   "cell_type": "markdown",
   "id": "fallen-compiler",
   "metadata": {},
   "source": [
    "# PREPARATION"
   ]
  },
  {
   "cell_type": "code",
   "execution_count": 126,
   "id": "faced-likelihood",
   "metadata": {
    "ExecuteTime": {
     "end_time": "2021-05-07T09:50:03.057288Z",
     "start_time": "2021-05-07T09:49:58.680628Z"
    }
   },
   "outputs": [],
   "source": [
    "# train с новыми признаками\n",
    "train = pd.read_csv('../data/train_new_features.csv',\n",
    "                    dtype={'floors': str,\n",
    "                           'total_floors': str})\n",
    "\n",
    "# test с новыми признаками\n",
    "test = pd.read_csv('../data/test_new_features.csv',\n",
    "                    dtype={'floors': str,\n",
    "                           'total_floors': str})"
   ]
  },
  {
   "cell_type": "code",
   "execution_count": 127,
   "id": "manufactured-survey",
   "metadata": {
    "ExecuteTime": {
     "end_time": "2021-05-07T09:50:04.672894Z",
     "start_time": "2021-05-07T09:50:04.524554Z"
    }
   },
   "outputs": [
    {
     "name": "stdout",
     "output_type": "stream",
     "text": [
      "<class 'pandas.core.frame.DataFrame'>\n",
      "RangeIndex: 76393 entries, 0 to 76392\n",
      "Data columns (total 33 columns):\n",
      " #   Column                 Non-Null Count  Dtype  \n",
      "---  ------                 --------------  -----  \n",
      " 0   page                   76393 non-null  object \n",
      " 1   description            76393 non-null  object \n",
      " 2   flat_type              76393 non-null  object \n",
      " 3   object_type            76393 non-null  object \n",
      " 4   rooms                  76393 non-null  object \n",
      " 5   floors                 76393 non-null  object \n",
      " 6   square                 76393 non-null  float64\n",
      " 7   kitchen_square         40537 non-null  float64\n",
      " 8   live_square            44509 non-null  float64\n",
      " 9   price                  76393 non-null  float64\n",
      " 10  build_matireal         76393 non-null  object \n",
      " 11  district_rating        76393 non-null  object \n",
      " 12  district               76393 non-null  object \n",
      " 13  underground            76393 non-null  object \n",
      " 14  eco_rating             76393 non-null  object \n",
      " 15  clear_rating           76393 non-null  object \n",
      " 16  gkh_rating             76393 non-null  object \n",
      " 17  neighbor_rating        76393 non-null  object \n",
      " 18  kids_rating            76393 non-null  object \n",
      " 19  sport_rest_rating      76393 non-null  object \n",
      " 20  shop_rating            76393 non-null  object \n",
      " 21  traffic_rating         76393 non-null  object \n",
      " 22  secure_rating          76393 non-null  object \n",
      " 23  life_price_rating      76393 non-null  object \n",
      " 24  total_floors           76393 non-null  object \n",
      " 25  metro_station          76393 non-null  object \n",
      " 26  num_of_metro_stations  76393 non-null  object \n",
      " 27  num_of_kindg           76393 non-null  object \n",
      " 28  num_of_schools         76393 non-null  object \n",
      " 29  num_of_poly            76393 non-null  object \n",
      " 30  num_of_hospitals       76393 non-null  object \n",
      " 31  num_of_dentists        76393 non-null  object \n",
      " 32  num_of_women_cons      76393 non-null  object \n",
      "dtypes: float64(4), object(29)\n",
      "memory usage: 19.2+ MB\n"
     ]
    }
   ],
   "source": [
    "train.info()"
   ]
  },
  {
   "cell_type": "code",
   "execution_count": 128,
   "id": "hazardous-violence",
   "metadata": {
    "ExecuteTime": {
     "end_time": "2021-05-07T09:50:06.264472Z",
     "start_time": "2021-05-07T09:50:06.195123Z"
    }
   },
   "outputs": [
    {
     "name": "stdout",
     "output_type": "stream",
     "text": [
      "<class 'pandas.core.frame.DataFrame'>\n",
      "RangeIndex: 32738 entries, 0 to 32737\n",
      "Data columns (total 33 columns):\n",
      " #   Column                 Non-Null Count  Dtype  \n",
      "---  ------                 --------------  -----  \n",
      " 0   page                   32738 non-null  object \n",
      " 1   description            32738 non-null  object \n",
      " 2   flat_type              32738 non-null  object \n",
      " 3   object_type            32738 non-null  object \n",
      " 4   rooms                  32738 non-null  object \n",
      " 5   floors                 32738 non-null  object \n",
      " 6   square                 32738 non-null  float64\n",
      " 7   kitchen_square         17338 non-null  float64\n",
      " 8   live_square            18980 non-null  float64\n",
      " 9   price                  32738 non-null  float64\n",
      " 10  build_matireal         32738 non-null  object \n",
      " 11  district_rating        32738 non-null  object \n",
      " 12  district               32738 non-null  object \n",
      " 13  underground            32738 non-null  object \n",
      " 14  eco_rating             32738 non-null  object \n",
      " 15  clear_rating           32738 non-null  object \n",
      " 16  gkh_rating             32738 non-null  object \n",
      " 17  neighbor_rating        32738 non-null  object \n",
      " 18  kids_rating            32738 non-null  object \n",
      " 19  sport_rest_rating      32738 non-null  object \n",
      " 20  shop_rating            32738 non-null  object \n",
      " 21  traffic_rating         32738 non-null  object \n",
      " 22  secure_rating          32738 non-null  object \n",
      " 23  life_price_rating      32738 non-null  object \n",
      " 24  total_floors           32738 non-null  object \n",
      " 25  metro_station          32738 non-null  object \n",
      " 26  num_of_metro_stations  32738 non-null  object \n",
      " 27  num_of_kindg           32738 non-null  object \n",
      " 28  num_of_schools         32738 non-null  object \n",
      " 29  num_of_poly            32738 non-null  object \n",
      " 30  num_of_hospitals       32738 non-null  object \n",
      " 31  num_of_dentists        32738 non-null  object \n",
      " 32  num_of_women_cons      32738 non-null  object \n",
      "dtypes: float64(4), object(29)\n",
      "memory usage: 8.2+ MB\n"
     ]
    }
   ],
   "source": [
    "test.info()"
   ]
  },
  {
   "cell_type": "code",
   "execution_count": 129,
   "id": "difficult-north",
   "metadata": {
    "ExecuteTime": {
     "end_time": "2021-05-07T09:50:07.737897Z",
     "start_time": "2021-05-07T09:50:07.638497Z"
    }
   },
   "outputs": [],
   "source": [
    "train['sample'] = 1 # тренировочные\n",
    "test['sample'] = 0 # тестовые\n",
    "\n",
    "df = train.append(test, sort=False).reset_index(drop=True)"
   ]
  },
  {
   "cell_type": "markdown",
   "id": "aggregate-reception",
   "metadata": {},
   "source": [
    "# Fill NaN"
   ]
  },
  {
   "cell_type": "markdown",
   "id": "signed-policy",
   "metadata": {},
   "source": [
    "**Методы заполнения пропусков:**\n",
    "\n",
    "1. Mean\n",
    "2. Median\n",
    "3. KNN\n",
    "4. MICE"
   ]
  },
  {
   "cell_type": "code",
   "execution_count": 130,
   "id": "sustained-loading",
   "metadata": {
    "ExecuteTime": {
     "end_time": "2021-05-07T09:50:09.078524Z",
     "start_time": "2021-05-07T09:50:09.070290Z"
    }
   },
   "outputs": [],
   "source": [
    "def split_df(df):\n",
    "    \n",
    "    \"\"\" Разбивает датафрейм на тренировчный и тестовый. \"\"\"\n",
    "    \n",
    "    df_temp = df.copy()\n",
    "    \n",
    "    # Train\n",
    "    train = df_temp[df_temp['sample']==1].copy()\n",
    "    train.drop(columns=['sample'], inplace=True)\n",
    "    \n",
    "    # Test\n",
    "    test = df_temp[df_temp['sample']==0].copy()\n",
    "    test.drop(columns=['sample'], inplace=True)\n",
    "    \n",
    "    return train, test"
   ]
  },
  {
   "cell_type": "code",
   "execution_count": 131,
   "id": "understood-romance",
   "metadata": {
    "ExecuteTime": {
     "end_time": "2021-05-07T09:50:10.454326Z",
     "start_time": "2021-05-07T09:50:10.438783Z"
    }
   },
   "outputs": [],
   "source": [
    "def fill_missing_values(train_data, test_data):\n",
    "    \n",
    "    \"\"\" \n",
    "        Заполняет пропуски четырмя способами: mean, median, KNN, MICE. \n",
    "    \n",
    "        input: train data, test data.\n",
    "        \n",
    "        output: train_mean, train_median, train_knn, train_mice, \n",
    "                test_mean, test_median, test_knn, test_mice.\n",
    "    \"\"\"\n",
    "    \n",
    "    # concat data\n",
    "    train_data['sample'] = 1 # тренировочные\n",
    "    test_data['sample'] = 0 # тестовые\n",
    "\n",
    "    df = train_data.append(test_data, sort=False).reset_index(drop=True)\n",
    "    \n",
    "    # Mean\n",
    "    print('mean processing...')\n",
    "    df_mean = df.copy()\n",
    "    imp_mean = SimpleImputer(strategy='mean')\n",
    "    y_mean = np.round(imp_mean.fit_transform(df_mean[['kitchen_square', 'live_square']]), 1)\n",
    "    df_mean['kitchen_square'] = pd.DataFrame(y_mean)[0]\n",
    "    df_mean['live_square'] = pd.DataFrame(y_mean)[1]\n",
    "    \n",
    "    # Median\n",
    "    print('median processing...')\n",
    "    df_median = df.copy()\n",
    "    imp_median = SimpleImputer(strategy='median')\n",
    "    y_median = np.round(imp_median.fit_transform(df_median[['kitchen_square', 'live_square']]), 1)\n",
    "    df_median['kitchen_square'] = pd.DataFrame(y_median)[0]\n",
    "    df_median['live_square'] = pd.DataFrame(y_median)[1]\n",
    "    \n",
    "    # KNN\n",
    "    print('KNN processing...')\n",
    "    df_knn = df.copy()\n",
    "    x_knn = df_knn[['square', 'kitchen_square', 'live_square']]\n",
    "    imp_knn = KNNImputer(n_neighbors=5)\n",
    "    imp_knn.fit(x_knn)\n",
    "    x_knn = np.round(imp_knn.transform(x_knn), 1)\n",
    "    y_knn = pd.DataFrame(x_knn)\n",
    "    df_knn['kitchen_square'] = y_knn[1]\n",
    "    df_knn['live_square'] = y_knn[2]\n",
    "    \n",
    "    # MICE\n",
    "    print('MICE processing...')\n",
    "    df_mice = df.copy()\n",
    "    x_mice = df_mice[['square', 'kitchen_square', 'live_square']]\n",
    "    mice_imp = IterativeImputer(max_iter=10, random_state=42)\n",
    "    mice_imp.fit(x_mice)\n",
    "    x_mice = np.round(mice_imp.transform(x_mice), 1)\n",
    "    y_mice = pd.DataFrame(x_mice)\n",
    "    df_mice['kitchen_square'] = y_mice[1]\n",
    "    df_mice['live_square'] = y_mice[2]\n",
    "    \n",
    "    # Export Data\n",
    "    \n",
    "    train_mean, test_mean = split_df(df_mean)\n",
    "    train_median, test_median = split_df(df_median)\n",
    "    train_knn, test_knn = split_df(df_knn)\n",
    "    train_mice, test_mice = split_df(df_mice)\n",
    "    print('Done.')\n",
    "    \n",
    "    return train_mean, train_median, train_knn, train_mice, test_mean, test_median, test_knn, test_mice"
   ]
  },
  {
   "cell_type": "code",
   "execution_count": 132,
   "id": "informed-sender",
   "metadata": {
    "ExecuteTime": {
     "end_time": "2021-05-07T09:57:36.218081Z",
     "start_time": "2021-05-07T09:50:11.885231Z"
    }
   },
   "outputs": [
    {
     "name": "stdout",
     "output_type": "stream",
     "text": [
      "mean processing...\n",
      "median processing...\n",
      "KNN processing...\n",
      "MICE processing...\n",
      "Done.\n"
     ]
    }
   ],
   "source": [
    "(train_mean, train_median, train_knn, train_mice, \n",
    " test_mean, test_median, test_knn, test_mice) = fill_missing_values(train, test)"
   ]
  },
  {
   "cell_type": "markdown",
   "id": "brilliant-traveler",
   "metadata": {},
   "source": [
    "# EXPORT DATA"
   ]
  },
  {
   "cell_type": "code",
   "execution_count": 136,
   "id": "rational-decrease",
   "metadata": {
    "ExecuteTime": {
     "end_time": "2021-05-07T10:08:09.123962Z",
     "start_time": "2021-05-07T10:07:52.834046Z"
    }
   },
   "outputs": [],
   "source": [
    "train_mean.to_csv('../data/train_mean.csv', index=False)\n",
    "train_median.to_csv('../data/train_median.csv', index=False) \n",
    "train_knn.to_csv('../data/train_knn.csv', index=False) \n",
    "train_mice.to_csv('../data/train_mice.csv', index=False) \n",
    "test_mean.to_csv('../data/test_mean.csv', index=False) \n",
    "test_median.to_csv('../data/test_median.csv', index=False) \n",
    "test_knn.to_csv('../data/test_knn.csv', index=False) \n",
    "test_mice.to_csv('../data/test_mice.csv', index=False)"
   ]
  }
 ],
 "metadata": {
  "kernelspec": {
   "display_name": "Python 3",
   "language": "python",
   "name": "python3"
  },
  "language_info": {
   "codemirror_mode": {
    "name": "ipython",
    "version": 3
   },
   "file_extension": ".py",
   "mimetype": "text/x-python",
   "name": "python",
   "nbconvert_exporter": "python",
   "pygments_lexer": "ipython3",
   "version": "3.7.7"
  },
  "toc": {
   "base_numbering": 1,
   "nav_menu": {},
   "number_sections": true,
   "sideBar": true,
   "skip_h1_title": false,
   "title_cell": "Table of Contents",
   "title_sidebar": "Contents",
   "toc_cell": false,
   "toc_position": {},
   "toc_section_display": true,
   "toc_window_display": true
  },
  "varInspector": {
   "cols": {
    "lenName": 16,
    "lenType": 16,
    "lenVar": 40
   },
   "kernels_config": {
    "python": {
     "delete_cmd_postfix": "",
     "delete_cmd_prefix": "del ",
     "library": "var_list.py",
     "varRefreshCmd": "print(var_dic_list())"
    },
    "r": {
     "delete_cmd_postfix": ") ",
     "delete_cmd_prefix": "rm(",
     "library": "var_list.r",
     "varRefreshCmd": "cat(var_dic_list()) "
    }
   },
   "position": {
    "height": "516px",
    "left": "1586px",
    "right": "20px",
    "top": "120px",
    "width": "314px"
   },
   "types_to_exclude": [
    "module",
    "function",
    "builtin_function_or_method",
    "instance",
    "_Feature"
   ],
   "window_display": true
  }
 },
 "nbformat": 4,
 "nbformat_minor": 5
}
