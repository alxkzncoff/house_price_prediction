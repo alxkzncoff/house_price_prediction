{
 "cells": [
  {
   "cell_type": "markdown",
   "id": "intended-retro",
   "metadata": {},
   "source": [
    "# IMPORT"
   ]
  },
  {
   "cell_type": "code",
   "execution_count": 32,
   "id": "premier-california",
   "metadata": {
    "ExecuteTime": {
     "end_time": "2021-04-26T08:59:15.254614Z",
     "start_time": "2021-04-26T08:59:13.672114Z"
    }
   },
   "outputs": [],
   "source": [
    "import pandas as pd\n",
    "import numpy as np\n",
    "\n",
    "from sklearn.impute import KNNImputer"
   ]
  },
  {
   "cell_type": "markdown",
   "id": "fallen-compiler",
   "metadata": {},
   "source": [
    "# PREPARATION"
   ]
  },
  {
   "cell_type": "code",
   "execution_count": 8,
   "id": "faced-likelihood",
   "metadata": {
    "ExecuteTime": {
     "end_time": "2021-04-26T08:05:03.767681Z",
     "start_time": "2021-04-26T08:04:59.623133Z"
    }
   },
   "outputs": [],
   "source": [
    "# train с новыми признаками\n",
    "train = pd.read_csv('../data/train_new_features.csv',\n",
    "                    dtype={'floors': str,\n",
    "                           'total_floors': str})\n",
    "\n",
    "# test с новыми признаками\n",
    "test = pd.read_csv('../data/test_new_features.csv',\n",
    "                    dtype={'floors': str,\n",
    "                           'total_floors': str})"
   ]
  },
  {
   "cell_type": "code",
   "execution_count": 10,
   "id": "manufactured-survey",
   "metadata": {
    "ExecuteTime": {
     "end_time": "2021-04-26T08:12:49.804929Z",
     "start_time": "2021-04-26T08:12:49.686889Z"
    }
   },
   "outputs": [
    {
     "name": "stdout",
     "output_type": "stream",
     "text": [
      "<class 'pandas.core.frame.DataFrame'>\n",
      "RangeIndex: 76393 entries, 0 to 76392\n",
      "Data columns (total 33 columns):\n",
      " #   Column                 Non-Null Count  Dtype  \n",
      "---  ------                 --------------  -----  \n",
      " 0   page                   76393 non-null  object \n",
      " 1   description            76393 non-null  object \n",
      " 2   flat_type              76393 non-null  object \n",
      " 3   object_type            76393 non-null  object \n",
      " 4   rooms                  76393 non-null  object \n",
      " 5   floors                 76393 non-null  object \n",
      " 6   square                 76393 non-null  float64\n",
      " 7   kitchen_square         40537 non-null  float64\n",
      " 8   live_square            44509 non-null  float64\n",
      " 9   price                  76393 non-null  float64\n",
      " 10  build_matireal         76393 non-null  object \n",
      " 11  district_rating        76393 non-null  object \n",
      " 12  district               76393 non-null  object \n",
      " 13  underground            76393 non-null  object \n",
      " 14  eco_rating             76393 non-null  object \n",
      " 15  clear_rating           76393 non-null  object \n",
      " 16  gkh_rating             76393 non-null  object \n",
      " 17  neighbor_rating        76393 non-null  object \n",
      " 18  kids_rating            76393 non-null  object \n",
      " 19  sport_rest_rating      76393 non-null  object \n",
      " 20  shop_rating            76393 non-null  object \n",
      " 21  traffic_rating         76393 non-null  object \n",
      " 22  secure_rating          76393 non-null  object \n",
      " 23  life_price_rating      76393 non-null  object \n",
      " 24  total_floors           76393 non-null  object \n",
      " 25  metro_station          76393 non-null  object \n",
      " 26  num_of_metro_stations  76393 non-null  object \n",
      " 27  num_of_kindg           76393 non-null  object \n",
      " 28  num_of_schools         76393 non-null  object \n",
      " 29  num_of_poly            76393 non-null  object \n",
      " 30  num_of_hospitals       76393 non-null  object \n",
      " 31  num_of_dentists        76393 non-null  object \n",
      " 32  num_of_women_cons      76393 non-null  object \n",
      "dtypes: float64(4), object(29)\n",
      "memory usage: 19.2+ MB\n"
     ]
    }
   ],
   "source": [
    "train.info()"
   ]
  },
  {
   "cell_type": "code",
   "execution_count": 11,
   "id": "hazardous-violence",
   "metadata": {
    "ExecuteTime": {
     "end_time": "2021-04-26T08:12:51.148172Z",
     "start_time": "2021-04-26T08:12:51.084027Z"
    }
   },
   "outputs": [
    {
     "name": "stdout",
     "output_type": "stream",
     "text": [
      "<class 'pandas.core.frame.DataFrame'>\n",
      "RangeIndex: 32738 entries, 0 to 32737\n",
      "Data columns (total 33 columns):\n",
      " #   Column                 Non-Null Count  Dtype  \n",
      "---  ------                 --------------  -----  \n",
      " 0   page                   32738 non-null  object \n",
      " 1   description            32738 non-null  object \n",
      " 2   flat_type              32738 non-null  object \n",
      " 3   object_type            32738 non-null  object \n",
      " 4   rooms                  32738 non-null  object \n",
      " 5   floors                 32738 non-null  object \n",
      " 6   square                 32738 non-null  float64\n",
      " 7   kitchen_square         17338 non-null  float64\n",
      " 8   live_square            18980 non-null  float64\n",
      " 9   price                  32738 non-null  float64\n",
      " 10  build_matireal         32738 non-null  object \n",
      " 11  district_rating        32738 non-null  object \n",
      " 12  district               32738 non-null  object \n",
      " 13  underground            32738 non-null  object \n",
      " 14  eco_rating             32738 non-null  object \n",
      " 15  clear_rating           32738 non-null  object \n",
      " 16  gkh_rating             32738 non-null  object \n",
      " 17  neighbor_rating        32738 non-null  object \n",
      " 18  kids_rating            32738 non-null  object \n",
      " 19  sport_rest_rating      32738 non-null  object \n",
      " 20  shop_rating            32738 non-null  object \n",
      " 21  traffic_rating         32738 non-null  object \n",
      " 22  secure_rating          32738 non-null  object \n",
      " 23  life_price_rating      32738 non-null  object \n",
      " 24  total_floors           32738 non-null  object \n",
      " 25  metro_station          32738 non-null  object \n",
      " 26  num_of_metro_stations  32738 non-null  object \n",
      " 27  num_of_kindg           32738 non-null  object \n",
      " 28  num_of_schools         32738 non-null  object \n",
      " 29  num_of_poly            32738 non-null  object \n",
      " 30  num_of_hospitals       32738 non-null  object \n",
      " 31  num_of_dentists        32738 non-null  object \n",
      " 32  num_of_women_cons      32738 non-null  object \n",
      "dtypes: float64(4), object(29)\n",
      "memory usage: 8.2+ MB\n"
     ]
    }
   ],
   "source": [
    "test.info()"
   ]
  },
  {
   "cell_type": "code",
   "execution_count": 12,
   "id": "difficult-north",
   "metadata": {
    "ExecuteTime": {
     "end_time": "2021-04-26T08:16:03.514575Z",
     "start_time": "2021-04-26T08:16:03.390586Z"
    }
   },
   "outputs": [],
   "source": [
    "train['sample'] = 1 # тренировочные\n",
    "test['sample'] = 0 # тестовые\n",
    "\n",
    "df = train.append(test, sort=False).reset_index(drop=True)"
   ]
  },
  {
   "cell_type": "markdown",
   "id": "aggregate-reception",
   "metadata": {},
   "source": [
    "# Fill NaN"
   ]
  },
  {
   "cell_type": "markdown",
   "id": "signed-policy",
   "metadata": {},
   "source": [
    "**Методы заполнения пропусков:**\n",
    "\n",
    "1. Mean\n",
    "2. Median\n",
    "3. KNN"
   ]
  },
  {
   "cell_type": "markdown",
   "id": "competitive-negotiation",
   "metadata": {},
   "source": [
    "## Mean"
   ]
  },
  {
   "cell_type": "code",
   "execution_count": 22,
   "id": "recorded-attendance",
   "metadata": {
    "ExecuteTime": {
     "end_time": "2021-04-26T08:42:14.443755Z",
     "start_time": "2021-04-26T08:42:14.418588Z"
    }
   },
   "outputs": [],
   "source": [
    "kitchen_square_mean_value = np.round(df['kitchen_square'].mean(), 1)\n",
    "live_square_mean_value = np.round(df['live_square'].mean(), 1)"
   ]
  },
  {
   "cell_type": "code",
   "execution_count": 23,
   "id": "periodic-lambda",
   "metadata": {
    "ExecuteTime": {
     "end_time": "2021-04-26T08:42:55.283723Z",
     "start_time": "2021-04-26T08:42:55.243686Z"
    }
   },
   "outputs": [],
   "source": [
    "df_mean = df.copy()"
   ]
  },
  {
   "cell_type": "code",
   "execution_count": 24,
   "id": "vocational-official",
   "metadata": {
    "ExecuteTime": {
     "end_time": "2021-04-26T08:43:17.330711Z",
     "start_time": "2021-04-26T08:43:17.302564Z"
    }
   },
   "outputs": [],
   "source": [
    "df_mean['kitchen_square'].fillna(kitchen_square_mean_value, inplace=True)"
   ]
  },
  {
   "cell_type": "code",
   "execution_count": 25,
   "id": "broad-saying",
   "metadata": {
    "ExecuteTime": {
     "end_time": "2021-04-26T08:43:28.622019Z",
     "start_time": "2021-04-26T08:43:28.592468Z"
    }
   },
   "outputs": [],
   "source": [
    "df_mean['live_square'].fillna(live_square_mean_value, inplace=True)"
   ]
  },
  {
   "cell_type": "markdown",
   "id": "apart-guess",
   "metadata": {},
   "source": [
    "## Median"
   ]
  },
  {
   "cell_type": "code",
   "execution_count": 28,
   "id": "understood-integration",
   "metadata": {
    "ExecuteTime": {
     "end_time": "2021-04-26T08:44:13.253090Z",
     "start_time": "2021-04-26T08:44:13.230468Z"
    }
   },
   "outputs": [],
   "source": [
    "kitchen_square_median_value = np.round(df['kitchen_square'].median(), 1)\n",
    "live_square_median_value = np.round(df['live_square'].median(), 1)"
   ]
  },
  {
   "cell_type": "code",
   "execution_count": 29,
   "id": "promising-effects",
   "metadata": {
    "ExecuteTime": {
     "end_time": "2021-04-26T08:44:20.113168Z",
     "start_time": "2021-04-26T08:44:20.086104Z"
    }
   },
   "outputs": [],
   "source": [
    "df_median = df.copy()"
   ]
  },
  {
   "cell_type": "code",
   "execution_count": 30,
   "id": "vulnerable-circumstances",
   "metadata": {
    "ExecuteTime": {
     "end_time": "2021-04-26T08:44:40.145479Z",
     "start_time": "2021-04-26T08:44:40.123960Z"
    }
   },
   "outputs": [],
   "source": [
    "df_median['kitchen_square'].fillna(kitchen_square_mean_value, inplace=True)"
   ]
  },
  {
   "cell_type": "code",
   "execution_count": 31,
   "id": "nervous-empty",
   "metadata": {
    "ExecuteTime": {
     "end_time": "2021-04-26T08:44:40.728379Z",
     "start_time": "2021-04-26T08:44:40.706822Z"
    }
   },
   "outputs": [],
   "source": [
    "df_median['live_square'].fillna(live_square_mean_value, inplace=True)"
   ]
  },
  {
   "cell_type": "markdown",
   "id": "sustainable-capture",
   "metadata": {},
   "source": [
    "## KNN"
   ]
  },
  {
   "cell_type": "code",
   "execution_count": 70,
   "id": "seventh-arabic",
   "metadata": {
    "ExecuteTime": {
     "end_time": "2021-04-26T09:21:18.350044Z",
     "start_time": "2021-04-26T09:21:18.293859Z"
    }
   },
   "outputs": [],
   "source": [
    "df_knn_x = df.copy()"
   ]
  },
  {
   "cell_type": "code",
   "execution_count": 58,
   "id": "normal-jason",
   "metadata": {
    "ExecuteTime": {
     "end_time": "2021-04-26T09:17:44.527033Z",
     "start_time": "2021-04-26T09:17:44.441572Z"
    }
   },
   "outputs": [],
   "source": [
    "x = df[['square', 'kitchen_square', 'live_square', 'price']]"
   ]
  },
  {
   "cell_type": "code",
   "execution_count": 59,
   "id": "tired-rwanda",
   "metadata": {
    "ExecuteTime": {
     "end_time": "2021-04-26T09:17:47.038000Z",
     "start_time": "2021-04-26T09:17:47.011419Z"
    }
   },
   "outputs": [
    {
     "data": {
      "text/html": [
       "<div>\n",
       "<style scoped>\n",
       "    .dataframe tbody tr th:only-of-type {\n",
       "        vertical-align: middle;\n",
       "    }\n",
       "\n",
       "    .dataframe tbody tr th {\n",
       "        vertical-align: top;\n",
       "    }\n",
       "\n",
       "    .dataframe thead th {\n",
       "        text-align: right;\n",
       "    }\n",
       "</style>\n",
       "<table border=\"1\" class=\"dataframe\">\n",
       "  <thead>\n",
       "    <tr style=\"text-align: right;\">\n",
       "      <th></th>\n",
       "      <th>square</th>\n",
       "      <th>kitchen_square</th>\n",
       "      <th>live_square</th>\n",
       "      <th>price</th>\n",
       "    </tr>\n",
       "  </thead>\n",
       "  <tbody>\n",
       "    <tr>\n",
       "      <th>0</th>\n",
       "      <td>40.3</td>\n",
       "      <td>15.8</td>\n",
       "      <td>11.5</td>\n",
       "      <td>6213000.0</td>\n",
       "    </tr>\n",
       "    <tr>\n",
       "      <th>1</th>\n",
       "      <td>19.9</td>\n",
       "      <td>NaN</td>\n",
       "      <td>NaN</td>\n",
       "      <td>3100000.0</td>\n",
       "    </tr>\n",
       "    <tr>\n",
       "      <th>2</th>\n",
       "      <td>47.5</td>\n",
       "      <td>NaN</td>\n",
       "      <td>NaN</td>\n",
       "      <td>8930000.0</td>\n",
       "    </tr>\n",
       "    <tr>\n",
       "      <th>3</th>\n",
       "      <td>58.1</td>\n",
       "      <td>17.6</td>\n",
       "      <td>26.4</td>\n",
       "      <td>9121700.0</td>\n",
       "    </tr>\n",
       "    <tr>\n",
       "      <th>4</th>\n",
       "      <td>121.0</td>\n",
       "      <td>24.2</td>\n",
       "      <td>61.5</td>\n",
       "      <td>20520000.0</td>\n",
       "    </tr>\n",
       "    <tr>\n",
       "      <th>...</th>\n",
       "      <td>...</td>\n",
       "      <td>...</td>\n",
       "      <td>...</td>\n",
       "      <td>...</td>\n",
       "    </tr>\n",
       "    <tr>\n",
       "      <th>109126</th>\n",
       "      <td>80.4</td>\n",
       "      <td>NaN</td>\n",
       "      <td>NaN</td>\n",
       "      <td>10671700.0</td>\n",
       "    </tr>\n",
       "    <tr>\n",
       "      <th>109127</th>\n",
       "      <td>29.2</td>\n",
       "      <td>NaN</td>\n",
       "      <td>29.2</td>\n",
       "      <td>3704925.0</td>\n",
       "    </tr>\n",
       "    <tr>\n",
       "      <th>109128</th>\n",
       "      <td>72.2</td>\n",
       "      <td>10.9</td>\n",
       "      <td>47.2</td>\n",
       "      <td>9500000.0</td>\n",
       "    </tr>\n",
       "    <tr>\n",
       "      <th>109129</th>\n",
       "      <td>18.4</td>\n",
       "      <td>NaN</td>\n",
       "      <td>NaN</td>\n",
       "      <td>3399000.0</td>\n",
       "    </tr>\n",
       "    <tr>\n",
       "      <th>109130</th>\n",
       "      <td>50.0</td>\n",
       "      <td>NaN</td>\n",
       "      <td>NaN</td>\n",
       "      <td>4280000.0</td>\n",
       "    </tr>\n",
       "  </tbody>\n",
       "</table>\n",
       "<p>109131 rows × 4 columns</p>\n",
       "</div>"
      ],
      "text/plain": [
       "        square  kitchen_square  live_square       price\n",
       "0         40.3            15.8         11.5   6213000.0\n",
       "1         19.9             NaN          NaN   3100000.0\n",
       "2         47.5             NaN          NaN   8930000.0\n",
       "3         58.1            17.6         26.4   9121700.0\n",
       "4        121.0            24.2         61.5  20520000.0\n",
       "...        ...             ...          ...         ...\n",
       "109126    80.4             NaN          NaN  10671700.0\n",
       "109127    29.2             NaN         29.2   3704925.0\n",
       "109128    72.2            10.9         47.2   9500000.0\n",
       "109129    18.4             NaN          NaN   3399000.0\n",
       "109130    50.0             NaN          NaN   4280000.0\n",
       "\n",
       "[109131 rows x 4 columns]"
      ]
     },
     "execution_count": 59,
     "metadata": {},
     "output_type": "execute_result"
    }
   ],
   "source": [
    "x"
   ]
  },
  {
   "cell_type": "code",
   "execution_count": 37,
   "id": "educational-segment",
   "metadata": {
    "ExecuteTime": {
     "end_time": "2021-04-26T09:03:13.439121Z",
     "start_time": "2021-04-26T09:03:13.416466Z"
    }
   },
   "outputs": [],
   "source": [
    "imputer = KNNImputer(n_neighbors=5)"
   ]
  },
  {
   "cell_type": "code",
   "execution_count": 41,
   "id": "macro-output",
   "metadata": {
    "ExecuteTime": {
     "end_time": "2021-04-26T09:04:51.267339Z",
     "start_time": "2021-04-26T09:04:51.230448Z"
    }
   },
   "outputs": [
    {
     "data": {
      "text/plain": [
       "KNNImputer()"
      ]
     },
     "execution_count": 41,
     "metadata": {},
     "output_type": "execute_result"
    }
   ],
   "source": [
    "imputer.fit(df_knn[['square', 'kitchen_square', 'live_square', 'price']])"
   ]
  },
  {
   "cell_type": "code",
   "execution_count": 43,
   "id": "viral-analysis",
   "metadata": {
    "ExecuteTime": {
     "end_time": "2021-04-26T09:12:53.071817Z",
     "start_time": "2021-04-26T09:06:04.548686Z"
    }
   },
   "outputs": [],
   "source": [
    "df_knn = imputer.transform(df_knn[['square', 'kitchen_square', 'live_square', 'price']])"
   ]
  },
  {
   "cell_type": "code",
   "execution_count": 61,
   "id": "stretch-recorder",
   "metadata": {
    "ExecuteTime": {
     "end_time": "2021-04-26T09:19:25.557610Z",
     "start_time": "2021-04-26T09:19:25.538280Z"
    }
   },
   "outputs": [],
   "source": [
    "y = pd.DataFrame(df_knn)"
   ]
  },
  {
   "cell_type": "code",
   "execution_count": 64,
   "id": "incident-belle",
   "metadata": {
    "ExecuteTime": {
     "end_time": "2021-04-26T09:19:50.631253Z",
     "start_time": "2021-04-26T09:19:50.599240Z"
    }
   },
   "outputs": [
    {
     "data": {
      "text/html": [
       "<div>\n",
       "<style scoped>\n",
       "    .dataframe tbody tr th:only-of-type {\n",
       "        vertical-align: middle;\n",
       "    }\n",
       "\n",
       "    .dataframe tbody tr th {\n",
       "        vertical-align: top;\n",
       "    }\n",
       "\n",
       "    .dataframe thead th {\n",
       "        text-align: right;\n",
       "    }\n",
       "</style>\n",
       "<table border=\"1\" class=\"dataframe\">\n",
       "  <thead>\n",
       "    <tr style=\"text-align: right;\">\n",
       "      <th></th>\n",
       "      <th>0</th>\n",
       "      <th>1</th>\n",
       "      <th>2</th>\n",
       "      <th>3</th>\n",
       "    </tr>\n",
       "  </thead>\n",
       "  <tbody>\n",
       "    <tr>\n",
       "      <th>0</th>\n",
       "      <td>40.3</td>\n",
       "      <td>15.80</td>\n",
       "      <td>11.50</td>\n",
       "      <td>6213000.0</td>\n",
       "    </tr>\n",
       "    <tr>\n",
       "      <th>1</th>\n",
       "      <td>19.9</td>\n",
       "      <td>2.62</td>\n",
       "      <td>13.16</td>\n",
       "      <td>3100000.0</td>\n",
       "    </tr>\n",
       "    <tr>\n",
       "      <th>2</th>\n",
       "      <td>47.5</td>\n",
       "      <td>15.02</td>\n",
       "      <td>35.42</td>\n",
       "      <td>8930000.0</td>\n",
       "    </tr>\n",
       "    <tr>\n",
       "      <th>3</th>\n",
       "      <td>58.1</td>\n",
       "      <td>17.60</td>\n",
       "      <td>26.40</td>\n",
       "      <td>9121700.0</td>\n",
       "    </tr>\n",
       "    <tr>\n",
       "      <th>4</th>\n",
       "      <td>121.0</td>\n",
       "      <td>24.20</td>\n",
       "      <td>61.50</td>\n",
       "      <td>20520000.0</td>\n",
       "    </tr>\n",
       "    <tr>\n",
       "      <th>...</th>\n",
       "      <td>...</td>\n",
       "      <td>...</td>\n",
       "      <td>...</td>\n",
       "      <td>...</td>\n",
       "    </tr>\n",
       "    <tr>\n",
       "      <th>109126</th>\n",
       "      <td>80.4</td>\n",
       "      <td>12.48</td>\n",
       "      <td>49.10</td>\n",
       "      <td>10671700.0</td>\n",
       "    </tr>\n",
       "    <tr>\n",
       "      <th>109127</th>\n",
       "      <td>29.2</td>\n",
       "      <td>7.00</td>\n",
       "      <td>29.20</td>\n",
       "      <td>3704925.0</td>\n",
       "    </tr>\n",
       "    <tr>\n",
       "      <th>109128</th>\n",
       "      <td>72.2</td>\n",
       "      <td>10.90</td>\n",
       "      <td>47.20</td>\n",
       "      <td>9500000.0</td>\n",
       "    </tr>\n",
       "    <tr>\n",
       "      <th>109129</th>\n",
       "      <td>18.4</td>\n",
       "      <td>7.60</td>\n",
       "      <td>13.74</td>\n",
       "      <td>3399000.0</td>\n",
       "    </tr>\n",
       "    <tr>\n",
       "      <th>109130</th>\n",
       "      <td>50.0</td>\n",
       "      <td>6.96</td>\n",
       "      <td>21.38</td>\n",
       "      <td>4280000.0</td>\n",
       "    </tr>\n",
       "  </tbody>\n",
       "</table>\n",
       "<p>109131 rows × 4 columns</p>\n",
       "</div>"
      ],
      "text/plain": [
       "            0      1      2           3\n",
       "0        40.3  15.80  11.50   6213000.0\n",
       "1        19.9   2.62  13.16   3100000.0\n",
       "2        47.5  15.02  35.42   8930000.0\n",
       "3        58.1  17.60  26.40   9121700.0\n",
       "4       121.0  24.20  61.50  20520000.0\n",
       "...       ...    ...    ...         ...\n",
       "109126   80.4  12.48  49.10  10671700.0\n",
       "109127   29.2   7.00  29.20   3704925.0\n",
       "109128   72.2  10.90  47.20   9500000.0\n",
       "109129   18.4   7.60  13.74   3399000.0\n",
       "109130   50.0   6.96  21.38   4280000.0\n",
       "\n",
       "[109131 rows x 4 columns]"
      ]
     },
     "execution_count": 64,
     "metadata": {},
     "output_type": "execute_result"
    }
   ],
   "source": [
    "y"
   ]
  },
  {
   "cell_type": "code",
   "execution_count": 71,
   "id": "colored-progress",
   "metadata": {
    "ExecuteTime": {
     "end_time": "2021-04-26T09:21:21.537351Z",
     "start_time": "2021-04-26T09:21:21.525765Z"
    }
   },
   "outputs": [],
   "source": [
    "df_knn_x['kitchen_square'] = y[1]\n",
    "df_knn_x['live_square'] = y[2]"
   ]
  },
  {
   "cell_type": "code",
   "execution_count": 72,
   "id": "ultimate-costa",
   "metadata": {
    "ExecuteTime": {
     "end_time": "2021-04-26T09:21:23.725545Z",
     "start_time": "2021-04-26T09:21:23.587715Z"
    }
   },
   "outputs": [
    {
     "data": {
      "text/html": [
       "<div>\n",
       "<style scoped>\n",
       "    .dataframe tbody tr th:only-of-type {\n",
       "        vertical-align: middle;\n",
       "    }\n",
       "\n",
       "    .dataframe tbody tr th {\n",
       "        vertical-align: top;\n",
       "    }\n",
       "\n",
       "    .dataframe thead th {\n",
       "        text-align: right;\n",
       "    }\n",
       "</style>\n",
       "<table border=\"1\" class=\"dataframe\">\n",
       "  <thead>\n",
       "    <tr style=\"text-align: right;\">\n",
       "      <th></th>\n",
       "      <th>page</th>\n",
       "      <th>description</th>\n",
       "      <th>flat_type</th>\n",
       "      <th>object_type</th>\n",
       "      <th>rooms</th>\n",
       "      <th>floors</th>\n",
       "      <th>square</th>\n",
       "      <th>kitchen_square</th>\n",
       "      <th>live_square</th>\n",
       "      <th>price</th>\n",
       "      <th>...</th>\n",
       "      <th>total_floors</th>\n",
       "      <th>metro_station</th>\n",
       "      <th>num_of_metro_stations</th>\n",
       "      <th>num_of_kindg</th>\n",
       "      <th>num_of_schools</th>\n",
       "      <th>num_of_poly</th>\n",
       "      <th>num_of_hospitals</th>\n",
       "      <th>num_of_dentists</th>\n",
       "      <th>num_of_women_cons</th>\n",
       "      <th>sample</th>\n",
       "    </tr>\n",
       "  </thead>\n",
       "  <tbody>\n",
       "    <tr>\n",
       "      <th>0</th>\n",
       "      <td>https://www.domofond.ru/1-komnatnaya-kvartira-...</td>\n",
       "      <td>Жилой квартал «Цивилизация» – проект комплексн...</td>\n",
       "      <td>Квартира</td>\n",
       "      <td>Новостройка</td>\n",
       "      <td>1</td>\n",
       "      <td>2</td>\n",
       "      <td>40.3</td>\n",
       "      <td>15.80</td>\n",
       "      <td>11.50</td>\n",
       "      <td>6213000.0</td>\n",
       "      <td>...</td>\n",
       "      <td>26</td>\n",
       "      <td>Улица Дыбенко</td>\n",
       "      <td>7</td>\n",
       "      <td>132</td>\n",
       "      <td>58</td>\n",
       "      <td>23</td>\n",
       "      <td>1</td>\n",
       "      <td>3</td>\n",
       "      <td>6</td>\n",
       "      <td>1</td>\n",
       "    </tr>\n",
       "    <tr>\n",
       "      <th>1</th>\n",
       "      <td>https://www.domofond.ru/kvartira-na-prodazhu-s...</td>\n",
       "      <td>🔑🔔 Продается студия в 10 минутах от метро Звен...</td>\n",
       "      <td>Студия</td>\n",
       "      <td>Вторичная</td>\n",
       "      <td>1</td>\n",
       "      <td>2</td>\n",
       "      <td>19.9</td>\n",
       "      <td>2.62</td>\n",
       "      <td>13.16</td>\n",
       "      <td>3100000.0</td>\n",
       "      <td>...</td>\n",
       "      <td>5</td>\n",
       "      <td>Звенигородская</td>\n",
       "      <td>9</td>\n",
       "      <td>73</td>\n",
       "      <td>46</td>\n",
       "      <td>12</td>\n",
       "      <td>6</td>\n",
       "      <td>5</td>\n",
       "      <td>4</td>\n",
       "      <td>1</td>\n",
       "    </tr>\n",
       "    <tr>\n",
       "      <th>2</th>\n",
       "      <td>https://www.domofond.ru/1-komnatnaya-kvartira-...</td>\n",
       "      <td>ddrtrtrtrtrty,Организуем показы объектов в люб...</td>\n",
       "      <td>Квартира</td>\n",
       "      <td>Новостройка</td>\n",
       "      <td>1</td>\n",
       "      <td>11</td>\n",
       "      <td>47.5</td>\n",
       "      <td>15.02</td>\n",
       "      <td>35.42</td>\n",
       "      <td>8930000.0</td>\n",
       "      <td>...</td>\n",
       "      <td>23</td>\n",
       "      <td>Елизаровская</td>\n",
       "      <td>7</td>\n",
       "      <td>132</td>\n",
       "      <td>58</td>\n",
       "      <td>23</td>\n",
       "      <td>1</td>\n",
       "      <td>3</td>\n",
       "      <td>6</td>\n",
       "      <td>1</td>\n",
       "    </tr>\n",
       "    <tr>\n",
       "      <th>3</th>\n",
       "      <td>https://www.domofond.ru/2-komnatnaya-kvartira-...</td>\n",
       "      <td>2 комнатная квартира (№ 253), общей площадью 5...</td>\n",
       "      <td>Квартира</td>\n",
       "      <td>Новостройка</td>\n",
       "      <td>2</td>\n",
       "      <td>12</td>\n",
       "      <td>58.1</td>\n",
       "      <td>17.60</td>\n",
       "      <td>26.40</td>\n",
       "      <td>9121700.0</td>\n",
       "      <td>...</td>\n",
       "      <td>26</td>\n",
       "      <td>Улица Дыбенко</td>\n",
       "      <td>7</td>\n",
       "      <td>132</td>\n",
       "      <td>58</td>\n",
       "      <td>23</td>\n",
       "      <td>1</td>\n",
       "      <td>3</td>\n",
       "      <td>6</td>\n",
       "      <td>1</td>\n",
       "    </tr>\n",
       "    <tr>\n",
       "      <th>4</th>\n",
       "      <td>https://www.domofond.ru/5-komnatnaya-kvartira-...</td>\n",
       "      <td>Клубный дом на 102 квартиры высотой 19 этажей....</td>\n",
       "      <td>Квартира</td>\n",
       "      <td>Новостройка</td>\n",
       "      <td>5</td>\n",
       "      <td>11</td>\n",
       "      <td>121.0</td>\n",
       "      <td>24.20</td>\n",
       "      <td>61.50</td>\n",
       "      <td>20520000.0</td>\n",
       "      <td>...</td>\n",
       "      <td>19</td>\n",
       "      <td>Пионерская</td>\n",
       "      <td>5</td>\n",
       "      <td>130</td>\n",
       "      <td>68</td>\n",
       "      <td>24</td>\n",
       "      <td>1</td>\n",
       "      <td>2</td>\n",
       "      <td>8</td>\n",
       "      <td>1</td>\n",
       "    </tr>\n",
       "    <tr>\n",
       "      <th>...</th>\n",
       "      <td>...</td>\n",
       "      <td>...</td>\n",
       "      <td>...</td>\n",
       "      <td>...</td>\n",
       "      <td>...</td>\n",
       "      <td>...</td>\n",
       "      <td>...</td>\n",
       "      <td>...</td>\n",
       "      <td>...</td>\n",
       "      <td>...</td>\n",
       "      <td>...</td>\n",
       "      <td>...</td>\n",
       "      <td>...</td>\n",
       "      <td>...</td>\n",
       "      <td>...</td>\n",
       "      <td>...</td>\n",
       "      <td>...</td>\n",
       "      <td>...</td>\n",
       "      <td>...</td>\n",
       "      <td>...</td>\n",
       "      <td>...</td>\n",
       "    </tr>\n",
       "    <tr>\n",
       "      <th>109126</th>\n",
       "      <td>https://www.domofond.ru/3-komnatnaya-kvartira-...</td>\n",
       "      <td>Организуем показы объектов в любом формате (он...</td>\n",
       "      <td>Квартира</td>\n",
       "      <td>Новостройка</td>\n",
       "      <td>3</td>\n",
       "      <td>12</td>\n",
       "      <td>80.4</td>\n",
       "      <td>12.48</td>\n",
       "      <td>49.10</td>\n",
       "      <td>10671700.0</td>\n",
       "      <td>...</td>\n",
       "      <td>22</td>\n",
       "      <td>Ладожская</td>\n",
       "      <td>2</td>\n",
       "      <td>88</td>\n",
       "      <td>54</td>\n",
       "      <td>16</td>\n",
       "      <td>2</td>\n",
       "      <td>2</td>\n",
       "      <td>4</td>\n",
       "      <td>0</td>\n",
       "    </tr>\n",
       "    <tr>\n",
       "      <th>109127</th>\n",
       "      <td>https://www.domofond.ru/kvartira-na-prodazhu-s...</td>\n",
       "      <td>Продаётся квартира-студия в жилом комплексе Pa...</td>\n",
       "      <td>Студия</td>\n",
       "      <td>Новостройка</td>\n",
       "      <td>1</td>\n",
       "      <td>13</td>\n",
       "      <td>29.2</td>\n",
       "      <td>7.00</td>\n",
       "      <td>29.20</td>\n",
       "      <td>3704925.0</td>\n",
       "      <td>...</td>\n",
       "      <td>16</td>\n",
       "      <td>Парнас</td>\n",
       "      <td>6</td>\n",
       "      <td>136</td>\n",
       "      <td>73</td>\n",
       "      <td>27</td>\n",
       "      <td>7</td>\n",
       "      <td>4</td>\n",
       "      <td>5</td>\n",
       "      <td>0</td>\n",
       "    </tr>\n",
       "    <tr>\n",
       "      <th>109128</th>\n",
       "      <td>https://www.domofond.ru/3-komnatnaya-kvartira-...</td>\n",
       "      <td>В продаже уютная, светлая 3-х комнатная кварти...</td>\n",
       "      <td>Квартира</td>\n",
       "      <td>Вторичная</td>\n",
       "      <td>3</td>\n",
       "      <td>2</td>\n",
       "      <td>72.2</td>\n",
       "      <td>10.90</td>\n",
       "      <td>47.20</td>\n",
       "      <td>9500000.0</td>\n",
       "      <td>...</td>\n",
       "      <td>9</td>\n",
       "      <td>Академическая</td>\n",
       "      <td>5</td>\n",
       "      <td>113</td>\n",
       "      <td>61</td>\n",
       "      <td>24</td>\n",
       "      <td>3</td>\n",
       "      <td>3</td>\n",
       "      <td>4</td>\n",
       "      <td>0</td>\n",
       "    </tr>\n",
       "    <tr>\n",
       "      <th>109129</th>\n",
       "      <td>https://www.domofond.ru/kvartira-na-prodazhu-s...</td>\n",
       "      <td>Продается студия площадью 18.40 кв. метров ,на...</td>\n",
       "      <td>Студия</td>\n",
       "      <td>Новостройка</td>\n",
       "      <td>1</td>\n",
       "      <td>13</td>\n",
       "      <td>18.4</td>\n",
       "      <td>7.60</td>\n",
       "      <td>13.74</td>\n",
       "      <td>3399000.0</td>\n",
       "      <td>...</td>\n",
       "      <td>13</td>\n",
       "      <td>Черная речка</td>\n",
       "      <td>5</td>\n",
       "      <td>130</td>\n",
       "      <td>68</td>\n",
       "      <td>24</td>\n",
       "      <td>1</td>\n",
       "      <td>2</td>\n",
       "      <td>8</td>\n",
       "      <td>0</td>\n",
       "    </tr>\n",
       "    <tr>\n",
       "      <th>109130</th>\n",
       "      <td>https://www.domofond.ru/2-komnatnaya-kvartira-...</td>\n",
       "      <td>Продается квартира в новостройке по переуступк...</td>\n",
       "      <td>Квартира</td>\n",
       "      <td>Новостройка</td>\n",
       "      <td>2</td>\n",
       "      <td>10</td>\n",
       "      <td>50.0</td>\n",
       "      <td>6.96</td>\n",
       "      <td>21.38</td>\n",
       "      <td>4280000.0</td>\n",
       "      <td>...</td>\n",
       "      <td>21</td>\n",
       "      <td>Гражданский проспект</td>\n",
       "      <td>5</td>\n",
       "      <td>113</td>\n",
       "      <td>61</td>\n",
       "      <td>24</td>\n",
       "      <td>3</td>\n",
       "      <td>3</td>\n",
       "      <td>4</td>\n",
       "      <td>0</td>\n",
       "    </tr>\n",
       "  </tbody>\n",
       "</table>\n",
       "<p>109131 rows × 34 columns</p>\n",
       "</div>"
      ],
      "text/plain": [
       "                                                     page  \\\n",
       "0       https://www.domofond.ru/1-komnatnaya-kvartira-...   \n",
       "1       https://www.domofond.ru/kvartira-na-prodazhu-s...   \n",
       "2       https://www.domofond.ru/1-komnatnaya-kvartira-...   \n",
       "3       https://www.domofond.ru/2-komnatnaya-kvartira-...   \n",
       "4       https://www.domofond.ru/5-komnatnaya-kvartira-...   \n",
       "...                                                   ...   \n",
       "109126  https://www.domofond.ru/3-komnatnaya-kvartira-...   \n",
       "109127  https://www.domofond.ru/kvartira-na-prodazhu-s...   \n",
       "109128  https://www.domofond.ru/3-komnatnaya-kvartira-...   \n",
       "109129  https://www.domofond.ru/kvartira-na-prodazhu-s...   \n",
       "109130  https://www.domofond.ru/2-komnatnaya-kvartira-...   \n",
       "\n",
       "                                              description flat_type  \\\n",
       "0       Жилой квартал «Цивилизация» – проект комплексн...  Квартира   \n",
       "1       🔑🔔 Продается студия в 10 минутах от метро Звен...    Студия   \n",
       "2       ddrtrtrtrtrty,Организуем показы объектов в люб...  Квартира   \n",
       "3       2 комнатная квартира (№ 253), общей площадью 5...  Квартира   \n",
       "4       Клубный дом на 102 квартиры высотой 19 этажей....  Квартира   \n",
       "...                                                   ...       ...   \n",
       "109126  Организуем показы объектов в любом формате (он...  Квартира   \n",
       "109127  Продаётся квартира-студия в жилом комплексе Pa...    Студия   \n",
       "109128  В продаже уютная, светлая 3-х комнатная кварти...  Квартира   \n",
       "109129  Продается студия площадью 18.40 кв. метров ,на...    Студия   \n",
       "109130  Продается квартира в новостройке по переуступк...  Квартира   \n",
       "\n",
       "        object_type rooms floors  square  kitchen_square  live_square  \\\n",
       "0       Новостройка     1      2    40.3           15.80        11.50   \n",
       "1         Вторичная     1      2    19.9            2.62        13.16   \n",
       "2       Новостройка     1     11    47.5           15.02        35.42   \n",
       "3       Новостройка     2     12    58.1           17.60        26.40   \n",
       "4       Новостройка     5     11   121.0           24.20        61.50   \n",
       "...             ...   ...    ...     ...             ...          ...   \n",
       "109126  Новостройка     3     12    80.4           12.48        49.10   \n",
       "109127  Новостройка     1     13    29.2            7.00        29.20   \n",
       "109128    Вторичная     3      2    72.2           10.90        47.20   \n",
       "109129  Новостройка     1     13    18.4            7.60        13.74   \n",
       "109130  Новостройка     2     10    50.0            6.96        21.38   \n",
       "\n",
       "             price  ... total_floors         metro_station  \\\n",
       "0        6213000.0  ...           26         Улица Дыбенко   \n",
       "1        3100000.0  ...            5        Звенигородская   \n",
       "2        8930000.0  ...           23          Елизаровская   \n",
       "3        9121700.0  ...           26         Улица Дыбенко   \n",
       "4       20520000.0  ...           19            Пионерская   \n",
       "...            ...  ...          ...                   ...   \n",
       "109126  10671700.0  ...           22             Ладожская   \n",
       "109127   3704925.0  ...           16                Парнас   \n",
       "109128   9500000.0  ...            9         Академическая   \n",
       "109129   3399000.0  ...           13          Черная речка   \n",
       "109130   4280000.0  ...           21  Гражданский проспект   \n",
       "\n",
       "       num_of_metro_stations num_of_kindg num_of_schools num_of_poly  \\\n",
       "0                          7          132             58          23   \n",
       "1                          9           73             46          12   \n",
       "2                          7          132             58          23   \n",
       "3                          7          132             58          23   \n",
       "4                          5          130             68          24   \n",
       "...                      ...          ...            ...         ...   \n",
       "109126                     2           88             54          16   \n",
       "109127                     6          136             73          27   \n",
       "109128                     5          113             61          24   \n",
       "109129                     5          130             68          24   \n",
       "109130                     5          113             61          24   \n",
       "\n",
       "       num_of_hospitals num_of_dentists num_of_women_cons sample  \n",
       "0                     1               3                 6      1  \n",
       "1                     6               5                 4      1  \n",
       "2                     1               3                 6      1  \n",
       "3                     1               3                 6      1  \n",
       "4                     1               2                 8      1  \n",
       "...                 ...             ...               ...    ...  \n",
       "109126                2               2                 4      0  \n",
       "109127                7               4                 5      0  \n",
       "109128                3               3                 4      0  \n",
       "109129                1               2                 8      0  \n",
       "109130                3               3                 4      0  \n",
       "\n",
       "[109131 rows x 34 columns]"
      ]
     },
     "execution_count": 72,
     "metadata": {},
     "output_type": "execute_result"
    }
   ],
   "source": [
    "df_knn_x"
   ]
  },
  {
   "cell_type": "code",
   "execution_count": null,
   "id": "joined-college",
   "metadata": {},
   "outputs": [],
   "source": []
  }
 ],
 "metadata": {
  "kernelspec": {
   "display_name": "Python 3",
   "language": "python",
   "name": "python3"
  },
  "language_info": {
   "codemirror_mode": {
    "name": "ipython",
    "version": 3
   },
   "file_extension": ".py",
   "mimetype": "text/x-python",
   "name": "python",
   "nbconvert_exporter": "python",
   "pygments_lexer": "ipython3",
   "version": "3.7.7"
  },
  "toc": {
   "base_numbering": 1,
   "nav_menu": {},
   "number_sections": true,
   "sideBar": true,
   "skip_h1_title": false,
   "title_cell": "Table of Contents",
   "title_sidebar": "Contents",
   "toc_cell": false,
   "toc_position": {},
   "toc_section_display": true,
   "toc_window_display": true
  },
  "varInspector": {
   "cols": {
    "lenName": 16,
    "lenType": 16,
    "lenVar": 40
   },
   "kernels_config": {
    "python": {
     "delete_cmd_postfix": "",
     "delete_cmd_prefix": "del ",
     "library": "var_list.py",
     "varRefreshCmd": "print(var_dic_list())"
    },
    "r": {
     "delete_cmd_postfix": ") ",
     "delete_cmd_prefix": "rm(",
     "library": "var_list.r",
     "varRefreshCmd": "cat(var_dic_list()) "
    }
   },
   "position": {
    "height": "516px",
    "left": "1586px",
    "right": "20px",
    "top": "120px",
    "width": "314px"
   },
   "types_to_exclude": [
    "module",
    "function",
    "builtin_function_or_method",
    "instance",
    "_Feature"
   ],
   "window_display": true
  }
 },
 "nbformat": 4,
 "nbformat_minor": 5
}
