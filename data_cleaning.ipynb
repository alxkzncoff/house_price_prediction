{
 "cells": [
  {
   "cell_type": "markdown",
   "metadata": {},
   "source": [
    "# DATA CLEANING"
   ]
  },
  {
   "cell_type": "markdown",
   "metadata": {},
   "source": [
    "## IMPORT"
   ]
  },
  {
   "cell_type": "code",
   "execution_count": 677,
   "metadata": {},
   "outputs": [],
   "source": [
    "import pandas as pd\n",
    "import numpy as np\n",
    "import matplotlib.pyplot as plt\n",
    "import seaborn as sns"
   ]
  },
  {
   "cell_type": "markdown",
   "metadata": {},
   "source": [
    "## DEFINE"
   ]
  },
  {
   "cell_type": "markdown",
   "metadata": {},
   "source": [
    "## DATA OVERVIEWE"
   ]
  },
  {
   "cell_type": "code",
   "execution_count": 678,
   "metadata": {},
   "outputs": [],
   "source": [
    "data = pd.read_csv('data/domofond.csv')"
   ]
  },
  {
   "cell_type": "code",
   "execution_count": 679,
   "metadata": {
    "scrolled": false
   },
   "outputs": [
    {
     "data": {
      "text/html": [
       "<div>\n",
       "<style scoped>\n",
       "    .dataframe tbody tr th:only-of-type {\n",
       "        vertical-align: middle;\n",
       "    }\n",
       "\n",
       "    .dataframe tbody tr th {\n",
       "        vertical-align: top;\n",
       "    }\n",
       "\n",
       "    .dataframe thead th {\n",
       "        text-align: right;\n",
       "    }\n",
       "</style>\n",
       "<table border=\"1\" class=\"dataframe\">\n",
       "  <thead>\n",
       "    <tr style=\"text-align: right;\">\n",
       "      <th></th>\n",
       "      <th>page</th>\n",
       "      <th>flat_type</th>\n",
       "      <th>object_type</th>\n",
       "      <th>rooms</th>\n",
       "      <th>floors</th>\n",
       "      <th>square</th>\n",
       "      <th>kitchen_square</th>\n",
       "      <th>live_square</th>\n",
       "      <th>price</th>\n",
       "      <th>price_per_m</th>\n",
       "      <th>build_matireal</th>\n",
       "      <th>public_date</th>\n",
       "      <th>update_date</th>\n",
       "      <th>catalog_id</th>\n",
       "      <th>district_rating</th>\n",
       "      <th>underground</th>\n",
       "    </tr>\n",
       "  </thead>\n",
       "  <tbody>\n",
       "    <tr>\n",
       "      <th>0</th>\n",
       "      <td>https://www.domofond.ru/4-komnatnaya-kvartira-...</td>\n",
       "      <td>&lt;span&gt;Квартира&lt;/span&gt;</td>\n",
       "      <td>&lt;span&gt;Новостройка&lt;/span&gt;</td>\n",
       "      <td>&lt;span&gt;4&lt;/span&gt;</td>\n",
       "      <td>&lt;span&gt;6/9&lt;/span&gt;</td>\n",
       "      <td>&lt;span&gt;157 м²&lt;/span&gt;</td>\n",
       "      <td>&lt;span&gt;37.4 м²&lt;/span&gt;</td>\n",
       "      <td>&lt;span&gt;73.7 м²&lt;/span&gt;</td>\n",
       "      <td>&lt;span&gt;68 923 000 ₽&lt;/span&gt;</td>\n",
       "      <td>&lt;span&gt;439 000 ₽&lt;/span&gt;</td>\n",
       "      <td>&lt;span&gt;Монолит&lt;/span&gt;</td>\n",
       "      <td>&lt;span&gt;1/8/2019&lt;/span&gt;</td>\n",
       "      <td>&lt;span&gt;9/1/2021&lt;/span&gt;</td>\n",
       "      <td>&lt;span&gt;1671457770&lt;/span&gt;</td>\n",
       "      <td>3,7</td>\n",
       "      <td>Чернышевская 605 м,Чернышевская 605 м</td>\n",
       "    </tr>\n",
       "    <tr>\n",
       "      <th>1</th>\n",
       "      <td>https://www.domofond.ru/2-komnatnaya-kvartira-...</td>\n",
       "      <td>&lt;span&gt;Квартира&lt;/span&gt;</td>\n",
       "      <td>&lt;span&gt;Новостройка&lt;/span&gt;</td>\n",
       "      <td>&lt;span&gt;2&lt;/span&gt;</td>\n",
       "      <td>&lt;span&gt;11/12&lt;/span&gt;</td>\n",
       "      <td>&lt;span&gt;57.6 м²&lt;/span&gt;</td>\n",
       "      <td>&lt;span&gt;&lt;/span&gt;</td>\n",
       "      <td>&lt;span&gt;40.6 м²&lt;/span&gt;</td>\n",
       "      <td>&lt;span&gt;12 729 600 ₽&lt;/span&gt;</td>\n",
       "      <td>&lt;span&gt;221 000 ₽&lt;/span&gt;</td>\n",
       "      <td>&lt;span&gt;Монолит&lt;/span&gt;</td>\n",
       "      <td>&lt;span&gt;12/9/2020&lt;/span&gt;</td>\n",
       "      <td>&lt;span&gt;9/1/2021&lt;/span&gt;</td>\n",
       "      <td>&lt;span&gt;2857061520&lt;/span&gt;</td>\n",
       "      <td>4,0</td>\n",
       "      <td>Звездная 1.0 км,Звездная 1.0 км</td>\n",
       "    </tr>\n",
       "    <tr>\n",
       "      <th>2</th>\n",
       "      <td>https://www.domofond.ru/1-komnatnaya-kvartira-...</td>\n",
       "      <td>&lt;span&gt;Квартира&lt;/span&gt;</td>\n",
       "      <td>&lt;span&gt;Новостройка&lt;/span&gt;</td>\n",
       "      <td>&lt;span&gt;1&lt;/span&gt;</td>\n",
       "      <td>&lt;span&gt;18/20&lt;/span&gt;</td>\n",
       "      <td>&lt;span&gt;48.8 м²&lt;/span&gt;</td>\n",
       "      <td>&lt;span&gt;&lt;/span&gt;</td>\n",
       "      <td>&lt;span&gt;&lt;/span&gt;</td>\n",
       "      <td>&lt;span&gt;8 600 012 ₽&lt;/span&gt;</td>\n",
       "      <td>&lt;span&gt;176 230 ₽&lt;/span&gt;</td>\n",
       "      <td>&lt;span&gt;Монолит&lt;/span&gt;</td>\n",
       "      <td>&lt;span&gt;1/2/2020&lt;/span&gt;</td>\n",
       "      <td>&lt;span&gt;9/1/2021&lt;/span&gt;</td>\n",
       "      <td>&lt;span&gt;2269289168&lt;/span&gt;</td>\n",
       "      <td>3,9</td>\n",
       "      <td>Комендантский проспект 3.6 км,Комендантский пр...</td>\n",
       "    </tr>\n",
       "    <tr>\n",
       "      <th>3</th>\n",
       "      <td>https://www.domofond.ru/3-komnatnaya-kvartira-...</td>\n",
       "      <td>&lt;span&gt;Квартира&lt;/span&gt;</td>\n",
       "      <td>&lt;span&gt;Вторичная&lt;/span&gt;</td>\n",
       "      <td>&lt;span&gt;3&lt;/span&gt;</td>\n",
       "      <td>&lt;span&gt;1/5&lt;/span&gt;</td>\n",
       "      <td>&lt;span&gt;62.2 м²&lt;/span&gt;</td>\n",
       "      <td>&lt;span&gt;8 м²&lt;/span&gt;</td>\n",
       "      <td>&lt;span&gt;43.5 м²&lt;/span&gt;</td>\n",
       "      <td>&lt;span&gt;4 700 000 ₽&lt;/span&gt;</td>\n",
       "      <td>&lt;span&gt;75 563 ₽&lt;/span&gt;</td>\n",
       "      <td>&lt;span&gt;Панель&lt;/span&gt;</td>\n",
       "      <td>&lt;span&gt;10/9/2020&lt;/span&gt;</td>\n",
       "      <td>&lt;span&gt;9/1/2021&lt;/span&gt;</td>\n",
       "      <td>&lt;span&gt;2852613956&lt;/span&gt;</td>\n",
       "      <td>3,6</td>\n",
       "      <td>Обухово 1.0 км,Обухово 1.0 км</td>\n",
       "    </tr>\n",
       "    <tr>\n",
       "      <th>4</th>\n",
       "      <td>https://www.domofond.ru/1-komnatnaya-kvartira-...</td>\n",
       "      <td>&lt;span&gt;Квартира&lt;/span&gt;</td>\n",
       "      <td>&lt;span&gt;Вторичная&lt;/span&gt;</td>\n",
       "      <td>&lt;span&gt;1&lt;/span&gt;</td>\n",
       "      <td>&lt;span&gt;10/14&lt;/span&gt;</td>\n",
       "      <td>&lt;span&gt;50.5 м²&lt;/span&gt;</td>\n",
       "      <td>&lt;span&gt;15.2 м²&lt;/span&gt;</td>\n",
       "      <td>&lt;span&gt;19.1 м²&lt;/span&gt;</td>\n",
       "      <td>&lt;span&gt;12 500 000 ₽&lt;/span&gt;</td>\n",
       "      <td>&lt;span&gt;247 525 ₽&lt;/span&gt;</td>\n",
       "      <td>&lt;span&gt;Монолит&lt;/span&gt;</td>\n",
       "      <td>&lt;span&gt;5/11/2020&lt;/span&gt;</td>\n",
       "      <td>&lt;span&gt;9/1/2021&lt;/span&gt;</td>\n",
       "      <td>&lt;span&gt;2983774635&lt;/span&gt;</td>\n",
       "      <td>3,8</td>\n",
       "      <td>Площадь Ленина 2.8 км,Площадь Ленина 2.8 км</td>\n",
       "    </tr>\n",
       "    <tr>\n",
       "      <th>5</th>\n",
       "      <td>https://www.domofond.ru/1-komnatnaya-kvartira-...</td>\n",
       "      <td>&lt;span&gt;Квартира&lt;/span&gt;</td>\n",
       "      <td>&lt;span&gt;Вторичная&lt;/span&gt;</td>\n",
       "      <td>&lt;span&gt;1&lt;/span&gt;</td>\n",
       "      <td>&lt;span&gt;6/10&lt;/span&gt;</td>\n",
       "      <td>&lt;span&gt;50 м²&lt;/span&gt;</td>\n",
       "      <td>&lt;span&gt;23.1 м²&lt;/span&gt;</td>\n",
       "      <td>&lt;span&gt;9.6 м²&lt;/span&gt;</td>\n",
       "      <td>&lt;span&gt;14 100 000 ₽&lt;/span&gt;</td>\n",
       "      <td>&lt;span&gt;282 000 ₽&lt;/span&gt;</td>\n",
       "      <td>&lt;span&gt;Монолит&lt;/span&gt;</td>\n",
       "      <td>&lt;span&gt;10/11/2020&lt;/span&gt;</td>\n",
       "      <td>&lt;span&gt;9/1/2021&lt;/span&gt;</td>\n",
       "      <td>&lt;span&gt;2995697558&lt;/span&gt;</td>\n",
       "      <td>3,7</td>\n",
       "      <td>Площадь А. Невского II 797 м,Площадь А. Невско...</td>\n",
       "    </tr>\n",
       "    <tr>\n",
       "      <th>6</th>\n",
       "      <td>https://www.domofond.ru/2-komnatnaya-kvartira-...</td>\n",
       "      <td>&lt;span&gt;Квартира&lt;/span&gt;</td>\n",
       "      <td>&lt;span&gt;Вторичная&lt;/span&gt;</td>\n",
       "      <td>&lt;span&gt;2&lt;/span&gt;</td>\n",
       "      <td>&lt;span&gt;4/5&lt;/span&gt;</td>\n",
       "      <td>&lt;span&gt;81 м²&lt;/span&gt;</td>\n",
       "      <td>&lt;span&gt;14.1 м²&lt;/span&gt;</td>\n",
       "      <td>&lt;span&gt;52.3 м²&lt;/span&gt;</td>\n",
       "      <td>&lt;span&gt;9 900 000 ₽&lt;/span&gt;</td>\n",
       "      <td>&lt;span&gt;122 222 ₽&lt;/span&gt;</td>\n",
       "      <td>&lt;span&gt;Кирпич&lt;/span&gt;</td>\n",
       "      <td>&lt;span&gt;10/11/2020&lt;/span&gt;</td>\n",
       "      <td>&lt;span&gt;9/1/2021&lt;/span&gt;</td>\n",
       "      <td>&lt;span&gt;2995696729&lt;/span&gt;</td>\n",
       "      <td>3,6</td>\n",
       "      <td>Лесная 261 м,Лесная 261 м</td>\n",
       "    </tr>\n",
       "    <tr>\n",
       "      <th>7</th>\n",
       "      <td>https://www.domofond.ru/kvartira-na-prodazhu-s...</td>\n",
       "      <td>&lt;span&gt;Квартира&lt;/span&gt;</td>\n",
       "      <td>&lt;span&gt;Вторичная&lt;/span&gt;</td>\n",
       "      <td>&lt;span&gt;Студия&lt;/span&gt;</td>\n",
       "      <td>&lt;span&gt;9/16&lt;/span&gt;</td>\n",
       "      <td>&lt;span&gt;17.8 м²&lt;/span&gt;</td>\n",
       "      <td>&lt;span&gt;&lt;/span&gt;</td>\n",
       "      <td>&lt;span&gt;13.6 м²&lt;/span&gt;</td>\n",
       "      <td>&lt;span&gt;2 740 000 ₽&lt;/span&gt;</td>\n",
       "      <td>&lt;span&gt;153 933 ₽&lt;/span&gt;</td>\n",
       "      <td>&lt;span&gt;Кирпич&lt;/span&gt;</td>\n",
       "      <td>&lt;span&gt;11/9/2020&lt;/span&gt;</td>\n",
       "      <td>&lt;span&gt;9/1/2021&lt;/span&gt;</td>\n",
       "      <td>&lt;span&gt;2855474979&lt;/span&gt;</td>\n",
       "      <td>3,6</td>\n",
       "      <td>Купчино 2.0 км,Купчино 2.0 км</td>\n",
       "    </tr>\n",
       "    <tr>\n",
       "      <th>8</th>\n",
       "      <td>https://www.domofond.ru/1-komnatnaya-kvartira-...</td>\n",
       "      <td>&lt;span&gt;Квартира&lt;/span&gt;</td>\n",
       "      <td>&lt;span&gt;Вторичная&lt;/span&gt;</td>\n",
       "      <td>&lt;span&gt;1&lt;/span&gt;</td>\n",
       "      <td>&lt;span&gt;7/12&lt;/span&gt;</td>\n",
       "      <td>&lt;span&gt;40 м²&lt;/span&gt;</td>\n",
       "      <td>&lt;span&gt;16 м²&lt;/span&gt;</td>\n",
       "      <td>&lt;span&gt;12.4 м²&lt;/span&gt;</td>\n",
       "      <td>&lt;span&gt;9 500 000 ₽&lt;/span&gt;</td>\n",
       "      <td>&lt;span&gt;237 500 ₽&lt;/span&gt;</td>\n",
       "      <td>&lt;span&gt;Монолит&lt;/span&gt;</td>\n",
       "      <td>&lt;span&gt;9/1/2021&lt;/span&gt;</td>\n",
       "      <td>&lt;span&gt;9/1/2021&lt;/span&gt;</td>\n",
       "      <td>&lt;span&gt;3138966389&lt;/span&gt;</td>\n",
       "      <td>3,7</td>\n",
       "      <td>Московские ворота 926 м,Московские ворота 926 м</td>\n",
       "    </tr>\n",
       "    <tr>\n",
       "      <th>9</th>\n",
       "      <td>https://www.domofond.ru/kvartira-na-prodazhu-s...</td>\n",
       "      <td>&lt;span&gt;Квартира&lt;/span&gt;</td>\n",
       "      <td>&lt;span&gt;Новостройка&lt;/span&gt;</td>\n",
       "      <td>&lt;span&gt;Студия&lt;/span&gt;</td>\n",
       "      <td>&lt;span&gt;9/11&lt;/span&gt;</td>\n",
       "      <td>&lt;span&gt;21.6 м²&lt;/span&gt;</td>\n",
       "      <td>&lt;span&gt;&lt;/span&gt;</td>\n",
       "      <td>&lt;span&gt;15.5 м²&lt;/span&gt;</td>\n",
       "      <td>&lt;span&gt;4 550 000 ₽&lt;/span&gt;</td>\n",
       "      <td>&lt;span&gt;210 648 ₽&lt;/span&gt;</td>\n",
       "      <td>&lt;span&gt;Монолит&lt;/span&gt;</td>\n",
       "      <td>&lt;span&gt;9/1/2021&lt;/span&gt;</td>\n",
       "      <td>&lt;span&gt;9/1/2021&lt;/span&gt;</td>\n",
       "      <td>&lt;span&gt;3138937331&lt;/span&gt;</td>\n",
       "      <td>3,8</td>\n",
       "      <td>Старая деревня 575 м,Старая деревня 575 м</td>\n",
       "    </tr>\n",
       "  </tbody>\n",
       "</table>\n",
       "</div>"
      ],
      "text/plain": [
       "                                                page              flat_type  \\\n",
       "0  https://www.domofond.ru/4-komnatnaya-kvartira-...  <span>Квартира</span>   \n",
       "1  https://www.domofond.ru/2-komnatnaya-kvartira-...  <span>Квартира</span>   \n",
       "2  https://www.domofond.ru/1-komnatnaya-kvartira-...  <span>Квартира</span>   \n",
       "3  https://www.domofond.ru/3-komnatnaya-kvartira-...  <span>Квартира</span>   \n",
       "4  https://www.domofond.ru/1-komnatnaya-kvartira-...  <span>Квартира</span>   \n",
       "5  https://www.domofond.ru/1-komnatnaya-kvartira-...  <span>Квартира</span>   \n",
       "6  https://www.domofond.ru/2-komnatnaya-kvartira-...  <span>Квартира</span>   \n",
       "7  https://www.domofond.ru/kvartira-na-prodazhu-s...  <span>Квартира</span>   \n",
       "8  https://www.domofond.ru/1-komnatnaya-kvartira-...  <span>Квартира</span>   \n",
       "9  https://www.domofond.ru/kvartira-na-prodazhu-s...  <span>Квартира</span>   \n",
       "\n",
       "                object_type                rooms              floors  \\\n",
       "0  <span>Новостройка</span>       <span>4</span>    <span>6/9</span>   \n",
       "1  <span>Новостройка</span>       <span>2</span>  <span>11/12</span>   \n",
       "2  <span>Новостройка</span>       <span>1</span>  <span>18/20</span>   \n",
       "3    <span>Вторичная</span>       <span>3</span>    <span>1/5</span>   \n",
       "4    <span>Вторичная</span>       <span>1</span>  <span>10/14</span>   \n",
       "5    <span>Вторичная</span>       <span>1</span>   <span>6/10</span>   \n",
       "6    <span>Вторичная</span>       <span>2</span>    <span>4/5</span>   \n",
       "7    <span>Вторичная</span>  <span>Студия</span>   <span>9/16</span>   \n",
       "8    <span>Вторичная</span>       <span>1</span>   <span>7/12</span>   \n",
       "9  <span>Новостройка</span>  <span>Студия</span>   <span>9/11</span>   \n",
       "\n",
       "                 square        kitchen_square           live_square  \\\n",
       "0   <span>157 м²</span>  <span>37.4 м²</span>  <span>73.7 м²</span>   \n",
       "1  <span>57.6 м²</span>         <span></span>  <span>40.6 м²</span>   \n",
       "2  <span>48.8 м²</span>         <span></span>         <span></span>   \n",
       "3  <span>62.2 м²</span>     <span>8 м²</span>  <span>43.5 м²</span>   \n",
       "4  <span>50.5 м²</span>  <span>15.2 м²</span>  <span>19.1 м²</span>   \n",
       "5    <span>50 м²</span>  <span>23.1 м²</span>   <span>9.6 м²</span>   \n",
       "6    <span>81 м²</span>  <span>14.1 м²</span>  <span>52.3 м²</span>   \n",
       "7  <span>17.8 м²</span>         <span></span>  <span>13.6 м²</span>   \n",
       "8    <span>40 м²</span>    <span>16 м²</span>  <span>12.4 м²</span>   \n",
       "9  <span>21.6 м²</span>         <span></span>  <span>15.5 м²</span>   \n",
       "\n",
       "                       price             price_per_m        build_matireal  \\\n",
       "0  <span>68 923 000 ₽</span>  <span>439 000 ₽</span>  <span>Монолит</span>   \n",
       "1  <span>12 729 600 ₽</span>  <span>221 000 ₽</span>  <span>Монолит</span>   \n",
       "2   <span>8 600 012 ₽</span>  <span>176 230 ₽</span>  <span>Монолит</span>   \n",
       "3   <span>4 700 000 ₽</span>   <span>75 563 ₽</span>   <span>Панель</span>   \n",
       "4  <span>12 500 000 ₽</span>  <span>247 525 ₽</span>  <span>Монолит</span>   \n",
       "5  <span>14 100 000 ₽</span>  <span>282 000 ₽</span>  <span>Монолит</span>   \n",
       "6   <span>9 900 000 ₽</span>  <span>122 222 ₽</span>   <span>Кирпич</span>   \n",
       "7   <span>2 740 000 ₽</span>  <span>153 933 ₽</span>   <span>Кирпич</span>   \n",
       "8   <span>9 500 000 ₽</span>  <span>237 500 ₽</span>  <span>Монолит</span>   \n",
       "9   <span>4 550 000 ₽</span>  <span>210 648 ₽</span>  <span>Монолит</span>   \n",
       "\n",
       "               public_date            update_date               catalog_id  \\\n",
       "0    <span>1/8/2019</span>  <span>9/1/2021</span>  <span>1671457770</span>   \n",
       "1   <span>12/9/2020</span>  <span>9/1/2021</span>  <span>2857061520</span>   \n",
       "2    <span>1/2/2020</span>  <span>9/1/2021</span>  <span>2269289168</span>   \n",
       "3   <span>10/9/2020</span>  <span>9/1/2021</span>  <span>2852613956</span>   \n",
       "4   <span>5/11/2020</span>  <span>9/1/2021</span>  <span>2983774635</span>   \n",
       "5  <span>10/11/2020</span>  <span>9/1/2021</span>  <span>2995697558</span>   \n",
       "6  <span>10/11/2020</span>  <span>9/1/2021</span>  <span>2995696729</span>   \n",
       "7   <span>11/9/2020</span>  <span>9/1/2021</span>  <span>2855474979</span>   \n",
       "8    <span>9/1/2021</span>  <span>9/1/2021</span>  <span>3138966389</span>   \n",
       "9    <span>9/1/2021</span>  <span>9/1/2021</span>  <span>3138937331</span>   \n",
       "\n",
       "  district_rating                                        underground  \n",
       "0             3,7              Чернышевская 605 м,Чернышевская 605 м  \n",
       "1             4,0                    Звездная 1.0 км,Звездная 1.0 км  \n",
       "2             3,9  Комендантский проспект 3.6 км,Комендантский пр...  \n",
       "3             3,6                      Обухово 1.0 км,Обухово 1.0 км  \n",
       "4             3,8        Площадь Ленина 2.8 км,Площадь Ленина 2.8 км  \n",
       "5             3,7  Площадь А. Невского II 797 м,Площадь А. Невско...  \n",
       "6             3,6                          Лесная 261 м,Лесная 261 м  \n",
       "7             3,6                      Купчино 2.0 км,Купчино 2.0 км  \n",
       "8             3,7    Московские ворота 926 м,Московские ворота 926 м  \n",
       "9             3,8          Старая деревня 575 м,Старая деревня 575 м  "
      ]
     },
     "execution_count": 679,
     "metadata": {},
     "output_type": "execute_result"
    }
   ],
   "source": [
    "data.head(10)"
   ]
  },
  {
   "cell_type": "code",
   "execution_count": 680,
   "metadata": {
    "scrolled": false
   },
   "outputs": [
    {
     "name": "stdout",
     "output_type": "stream",
     "text": [
      "<class 'pandas.core.frame.DataFrame'>\n",
      "RangeIndex: 43732 entries, 0 to 43731\n",
      "Data columns (total 16 columns):\n",
      " #   Column           Non-Null Count  Dtype \n",
      "---  ------           --------------  ----- \n",
      " 0   page             43732 non-null  object\n",
      " 1   flat_type        43732 non-null  object\n",
      " 2   object_type      43732 non-null  object\n",
      " 3   rooms            43732 non-null  object\n",
      " 4   floors           43732 non-null  object\n",
      " 5   square           43732 non-null  object\n",
      " 6   kitchen_square   43732 non-null  object\n",
      " 7   live_square      43732 non-null  object\n",
      " 8   price            43732 non-null  object\n",
      " 9   price_per_m      43732 non-null  object\n",
      " 10  build_matireal   43732 non-null  object\n",
      " 11  public_date      43732 non-null  object\n",
      " 12  update_date      43732 non-null  object\n",
      " 13  catalog_id       43732 non-null  object\n",
      " 14  district_rating  43732 non-null  object\n",
      " 15  underground      41424 non-null  object\n",
      "dtypes: object(16)\n",
      "memory usage: 5.3+ MB\n"
     ]
    }
   ],
   "source": [
    "data.info()"
   ]
  },
  {
   "cell_type": "markdown",
   "metadata": {},
   "source": [
    "Удаляем html теги `<span>` и `</span>` из таблицы."
   ]
  },
  {
   "cell_type": "code",
   "execution_count": 681,
   "metadata": {},
   "outputs": [],
   "source": [
    "for column in data.columns[1:-2]:\n",
    "    data[column] = data[column].apply(lambda x: x.split('<span>')[1].split('</span>')[0])"
   ]
  },
  {
   "cell_type": "markdown",
   "metadata": {},
   "source": [
    "### page"
   ]
  },
  {
   "cell_type": "markdown",
   "metadata": {},
   "source": [
    "В этой колонке находятся ссылки на объявления. Пока оставлю, могу пригодится при обработки остальных колонок. Удалю в конце."
   ]
  },
  {
   "cell_type": "markdown",
   "metadata": {},
   "source": [
    "### flat_type"
   ]
  },
  {
   "cell_type": "code",
   "execution_count": 682,
   "metadata": {},
   "outputs": [
    {
     "data": {
      "text/plain": [
       "Квартира    43732\n",
       "Name: flat_type, dtype: int64"
      ]
     },
     "execution_count": 682,
     "metadata": {},
     "output_type": "execute_result"
    }
   ],
   "source": [
    "data.flat_type.value_counts()"
   ]
  },
  {
   "cell_type": "markdown",
   "metadata": {},
   "source": [
    "Перенесем информацию из колонки **rooms** в эту колонку, для тех записей у которых в колонке **rooms** указана **студия**."
   ]
  },
  {
   "cell_type": "markdown",
   "metadata": {},
   "source": [
    "*UPDATE*\n",
    "После изучения колонки **rooms** добавил в условие **Своб. планировка**"
   ]
  },
  {
   "cell_type": "code",
   "execution_count": 683,
   "metadata": {},
   "outputs": [],
   "source": [
    "data.flat_type = data.rooms.apply(lambda x: 'Студия' if x=='Студия' else \\\n",
    "                                  ('Своб. планировка' if x=='Своб. планировка' else 'Квартира'))"
   ]
  },
  {
   "cell_type": "code",
   "execution_count": 684,
   "metadata": {},
   "outputs": [
    {
     "data": {
      "text/plain": [
       "Квартира            35417\n",
       "Студия               8252\n",
       "Своб. планировка       63\n",
       "Name: flat_type, dtype: int64"
      ]
     },
     "execution_count": 684,
     "metadata": {},
     "output_type": "execute_result"
    }
   ],
   "source": [
    "data.flat_type.value_counts()"
   ]
  },
  {
   "cell_type": "markdown",
   "metadata": {},
   "source": [
    "### object_type"
   ]
  },
  {
   "cell_type": "code",
   "execution_count": 685,
   "metadata": {},
   "outputs": [
    {
     "data": {
      "text/plain": [
       "Новостройка    29318\n",
       "Вторичная      14414\n",
       "Name: object_type, dtype: int64"
      ]
     },
     "execution_count": 685,
     "metadata": {},
     "output_type": "execute_result"
    }
   ],
   "source": [
    "data.object_type.value_counts()"
   ]
  },
  {
   "cell_type": "markdown",
   "metadata": {},
   "source": [
    "### rooms"
   ]
  },
  {
   "cell_type": "code",
   "execution_count": 686,
   "metadata": {},
   "outputs": [
    {
     "data": {
      "text/plain": [
       "1                   12697\n",
       "2                   11851\n",
       "3                    8461\n",
       "Студия               8252\n",
       "4                    1717\n",
       "5                     547\n",
       "7                      71\n",
       "Своб. планировка       63\n",
       "8                      33\n",
       "&gt; 9                 22\n",
       "9                      18\n",
       "Name: rooms, dtype: int64"
      ]
     },
     "execution_count": 686,
     "metadata": {},
     "output_type": "execute_result"
    }
   ],
   "source": [
    "data.rooms.value_counts()"
   ]
  },
  {
   "cell_type": "code",
   "execution_count": 687,
   "metadata": {},
   "outputs": [
    {
     "data": {
      "text/plain": [
       "'https://www.domofond.ru/kvartira-na-prodazhu-sankt_peterburg-2924987247'"
      ]
     },
     "execution_count": 687,
     "metadata": {},
     "output_type": "execute_result"
    }
   ],
   "source": [
    "data['page'][data['rooms']=='&gt; 9'].iloc[0]"
   ]
  },
  {
   "cell_type": "markdown",
   "metadata": {},
   "source": [
    "Судя по объвялению это продается целый этаж (возможно бывшое общежитие или отель)."
   ]
  },
  {
   "cell_type": "code",
   "execution_count": 688,
   "metadata": {},
   "outputs": [
    {
     "data": {
      "text/plain": [
       "'https://www.domofond.ru/kvartira-na-prodazhu-sankt_peterburg-3063799222'"
      ]
     },
     "execution_count": 688,
     "metadata": {},
     "output_type": "execute_result"
    }
   ],
   "source": [
    "data['page'][data['rooms']=='Своб. планировка'].iloc[0]"
   ]
  },
  {
   "cell_type": "markdown",
   "metadata": {},
   "source": [
    "Добавил условие в обработку колонки **flat_type**"
   ]
  },
  {
   "cell_type": "code",
   "execution_count": 689,
   "metadata": {},
   "outputs": [],
   "source": [
    "data.rooms = data.rooms.apply(lambda x: '9' if x=='&gt; 9' else x)"
   ]
  },
  {
   "cell_type": "code",
   "execution_count": 690,
   "metadata": {},
   "outputs": [
    {
     "data": {
      "text/plain": [
       "1                   12697\n",
       "2                   11851\n",
       "3                    8461\n",
       "Студия               8252\n",
       "4                    1717\n",
       "5                     547\n",
       "7                      71\n",
       "Своб. планировка       63\n",
       "9                      40\n",
       "8                      33\n",
       "Name: rooms, dtype: int64"
      ]
     },
     "execution_count": 690,
     "metadata": {},
     "output_type": "execute_result"
    }
   ],
   "source": [
    "data.rooms.value_counts()"
   ]
  },
  {
   "cell_type": "markdown",
   "metadata": {},
   "source": [
    "Изменим **Студия** на 1 комнату."
   ]
  },
  {
   "cell_type": "code",
   "execution_count": 691,
   "metadata": {},
   "outputs": [],
   "source": [
    "data.rooms = data.rooms.apply(lambda x: '1' if x=='Студия' else x)"
   ]
  },
  {
   "cell_type": "code",
   "execution_count": 692,
   "metadata": {},
   "outputs": [
    {
     "data": {
      "text/plain": [
       "1                   20949\n",
       "2                   11851\n",
       "3                    8461\n",
       "4                    1717\n",
       "5                     547\n",
       "7                      71\n",
       "Своб. планировка       63\n",
       "9                      40\n",
       "8                      33\n",
       "Name: rooms, dtype: int64"
      ]
     },
     "execution_count": 692,
     "metadata": {},
     "output_type": "execute_result"
    }
   ],
   "source": [
    "data.rooms.value_counts()"
   ]
  },
  {
   "cell_type": "markdown",
   "metadata": {},
   "source": [
    "### floors"
   ]
  },
  {
   "cell_type": "code",
   "execution_count": 693,
   "metadata": {
    "scrolled": false
   },
   "outputs": [
    {
     "data": {
      "text/plain": [
       "2/5      900\n",
       "1/5      726\n",
       "5/5      719\n",
       "3/5      638\n",
       "4/5      520\n",
       "        ... \n",
       "25/32      1\n",
       "22/35      1\n",
       "12/29      1\n",
       "15/28      1\n",
       "25/35      1\n",
       "Name: floors, Length: 468, dtype: int64"
      ]
     },
     "execution_count": 693,
     "metadata": {},
     "output_type": "execute_result"
    }
   ],
   "source": [
    "data.floors.value_counts()"
   ]
  },
  {
   "cell_type": "markdown",
   "metadata": {},
   "source": [
    "Добавим новый признак **total_floors**. Общее количество этажей в доме."
   ]
  },
  {
   "cell_type": "code",
   "execution_count": 694,
   "metadata": {},
   "outputs": [],
   "source": [
    "data['total_floors'] = '0'"
   ]
  },
  {
   "cell_type": "code",
   "execution_count": 695,
   "metadata": {},
   "outputs": [],
   "source": [
    "data['total_floors'] = data.floors.apply(lambda x: x.split('/')[1])"
   ]
  },
  {
   "cell_type": "markdown",
   "metadata": {},
   "source": [
    "Убирем из колонки **floors** общее количество этажей в доме."
   ]
  },
  {
   "cell_type": "code",
   "execution_count": 696,
   "metadata": {},
   "outputs": [],
   "source": [
    "data.floors = data.floors.apply(lambda x: x.split('/')[0])"
   ]
  },
  {
   "cell_type": "code",
   "execution_count": 697,
   "metadata": {},
   "outputs": [
    {
     "data": {
      "text/plain": [
       "2     5362\n",
       "3     4131\n",
       "5     3820\n",
       "4     3682\n",
       "1     3105\n",
       "7     2626\n",
       "6     2625\n",
       "8     2382\n",
       "9     1998\n",
       "10    1980\n",
       "11    1709\n",
       "12    1579\n",
       "13    1287\n",
       "14    1163\n",
       "15     975\n",
       "16     857\n",
       "17     822\n",
       "18     719\n",
       "19     605\n",
       "20     575\n",
       "22     413\n",
       "21     388\n",
       "23     369\n",
       "24     330\n",
       "25     148\n",
       "26      34\n",
       "27      28\n",
       "28      12\n",
       "29       5\n",
       "33       2\n",
       "30       1\n",
       "Name: floors, dtype: int64"
      ]
     },
     "execution_count": 697,
     "metadata": {},
     "output_type": "execute_result"
    }
   ],
   "source": [
    "data.floors.value_counts()"
   ]
  },
  {
   "cell_type": "markdown",
   "metadata": {},
   "source": [
    "### square"
   ]
  },
  {
   "cell_type": "code",
   "execution_count": 698,
   "metadata": {},
   "outputs": [
    {
     "data": {
      "text/plain": [
       "38 м²       430\n",
       "26 м²       423\n",
       "22.1 м²     418\n",
       "40 м²       409\n",
       "35 м²       405\n",
       "           ... \n",
       "245 м²        1\n",
       "344.7 м²      1\n",
       "168.4 м²      1\n",
       "223.9 м²      1\n",
       "360 м²        1\n",
       "Name: square, Length: 1910, dtype: int64"
      ]
     },
     "execution_count": 698,
     "metadata": {},
     "output_type": "execute_result"
    }
   ],
   "source": [
    "data.square.value_counts()"
   ]
  },
  {
   "cell_type": "markdown",
   "metadata": {},
   "source": [
    "Убирем квадратные метры и изменим тип данных на `float`."
   ]
  },
  {
   "cell_type": "code",
   "execution_count": 699,
   "metadata": {},
   "outputs": [],
   "source": [
    "data.square = data.square.apply(lambda x: float(x.split(' ')[0]))"
   ]
  },
  {
   "cell_type": "markdown",
   "metadata": {},
   "source": [
    "### kitchen_square"
   ]
  },
  {
   "cell_type": "code",
   "execution_count": 700,
   "metadata": {},
   "outputs": [
    {
     "data": {
      "text/plain": [
       "           13755\n",
       "10 м²       1116\n",
       "5 м²        1022\n",
       "12 м²        745\n",
       "11 м²        719\n",
       "           ...  \n",
       "88.6 м²        1\n",
       "60.9 м²        1\n",
       "62 м²          1\n",
       "61.6 м²        1\n",
       "95.8 м²        1\n",
       "Name: kitchen_square, Length: 547, dtype: int64"
      ]
     },
     "execution_count": 700,
     "metadata": {},
     "output_type": "execute_result"
    }
   ],
   "source": [
    "data.kitchen_square.value_counts()"
   ]
  },
  {
   "cell_type": "markdown",
   "metadata": {},
   "source": [
    "Сначала нужно разобраться с пропусками. Данные могут отсутствовать потому, что это студия или свободная планировка. Для студий можно поставить значение **0**. Для свободной планировки так делать нежелательно. Также данные могут отсутствовать просто потому, что продавец их не указал."
   ]
  },
  {
   "cell_type": "code",
   "execution_count": 701,
   "metadata": {},
   "outputs": [
    {
     "data": {
      "text/plain": [
       "           13755\n",
       "10 м²       1116\n",
       "5 м²        1022\n",
       "12 м²        745\n",
       "11 м²        719\n",
       "           ...  \n",
       "88.6 м²        1\n",
       "60.9 м²        1\n",
       "62 м²          1\n",
       "61.6 м²        1\n",
       "95.8 м²        1\n",
       "Name: kitchen_square, Length: 547, dtype: int64"
      ]
     },
     "execution_count": 701,
     "metadata": {},
     "output_type": "execute_result"
    }
   ],
   "source": [
    "data.kitchen_square.value_counts()"
   ]
  },
  {
   "cell_type": "code",
   "execution_count": 702,
   "metadata": {
    "scrolled": true
   },
   "outputs": [],
   "source": [
    "# Поставим для студий значение 0.\n",
    "def add_missing_square(df):\n",
    "    # df - передаем пару колонок (например data[['flat_type','kitchen_square'])\n",
    "    \n",
    "    # Создаем пустой список\n",
    "    new_row = []\n",
    "    \n",
    "    # Проходим с помощью цикла по всем значениям из колонок flat_type и kitchen_square.\n",
    "    # Если значение в колонке flat_type - Студия, то заносим в новый список значение 0.\n",
    "    # Если любое другое значение, то заносим в новый список прежнее значение из колонки kitchen_square\n",
    "    for row in df.values:\n",
    "        if row[0] == 'Студия':\n",
    "            new_row.append('0 м²') # оставил м², чтобы было проще потом привести данные к одному типу\n",
    "        else:\n",
    "            new_row.append(row[1])\n",
    "    \n",
    "    # Преобразуем список в NumPy array\n",
    "    new_row = np.array(new_row)\n",
    "    \n",
    "    return new_row"
   ]
  },
  {
   "cell_type": "code",
   "execution_count": 703,
   "metadata": {
    "scrolled": true
   },
   "outputs": [],
   "source": [
    "data.kitchen_square = add_missing_square(data[['flat_type','kitchen_square']])"
   ]
  },
  {
   "cell_type": "markdown",
   "metadata": {},
   "source": [
    "Для оставшихся квартир и свободных планировок поставим значение `None`."
   ]
  },
  {
   "cell_type": "code",
   "execution_count": 704,
   "metadata": {},
   "outputs": [],
   "source": [
    "data.kitchen_square = data.kitchen_square.apply(lambda x: None if x=='' else x)"
   ]
  },
  {
   "cell_type": "code",
   "execution_count": 705,
   "metadata": {},
   "outputs": [],
   "source": [
    "data.kitchen_square = data.kitchen_square.apply(lambda x: None if x==None else float(x[:-3])) "
   ]
  },
  {
   "cell_type": "markdown",
   "metadata": {},
   "source": [
    "### live_square"
   ]
  },
  {
   "cell_type": "code",
   "execution_count": 706,
   "metadata": {
    "scrolled": false
   },
   "outputs": [
    {
     "data": {
      "text/plain": [
       "            10735\n",
       "18 м²         632\n",
       "17 м²         585\n",
       "15 м²         557\n",
       "16 м²         523\n",
       "            ...  \n",
       "115.4 м²        1\n",
       "167 м²          1\n",
       "152.6 м²        1\n",
       "113.5 м²        1\n",
       "113.7 м²        1\n",
       "Name: live_square, Length: 1214, dtype: int64"
      ]
     },
     "execution_count": 706,
     "metadata": {},
     "output_type": "execute_result"
    }
   ],
   "source": [
    "data.live_square.value_counts()"
   ]
  },
  {
   "cell_type": "markdown",
   "metadata": {},
   "source": [
    "Делаем все тоже самое, что делали с колонкой **kitchen_square**"
   ]
  },
  {
   "cell_type": "code",
   "execution_count": 707,
   "metadata": {},
   "outputs": [],
   "source": [
    "data.live_square = add_missing_square(data[['flat_type','live_square']])"
   ]
  },
  {
   "cell_type": "code",
   "execution_count": 708,
   "metadata": {},
   "outputs": [],
   "source": [
    "data.live_square = data.live_square.apply(lambda x: None if x=='' else x)"
   ]
  },
  {
   "cell_type": "code",
   "execution_count": 709,
   "metadata": {},
   "outputs": [],
   "source": [
    "data.live_square = data.live_square.apply(lambda x: None if x==None else float(x[:-3])) "
   ]
  },
  {
   "cell_type": "markdown",
   "metadata": {},
   "source": [
    "### price"
   ]
  },
  {
   "cell_type": "code",
   "execution_count": 710,
   "metadata": {},
   "outputs": [
    {
     "data": {
      "text/plain": [
       "6 500 000 ₽     215\n",
       "5 500 000 ₽     209\n",
       "7 500 000 ₽     206\n",
       "4 500 000 ₽     166\n",
       "5 800 000 ₽     162\n",
       "               ... \n",
       "8 720 826 ₽       1\n",
       "36 142 000 ₽      1\n",
       "3 635 580 ₽       1\n",
       "7 877 500 ₽       1\n",
       "7 879 077 ₽       1\n",
       "Name: price, Length: 17622, dtype: int64"
      ]
     },
     "execution_count": 710,
     "metadata": {},
     "output_type": "execute_result"
    }
   ],
   "source": [
    "data.price.value_counts()"
   ]
  },
  {
   "cell_type": "markdown",
   "metadata": {},
   "source": [
    "Избавимся от символа **₽** и приведем данные к числовому типу."
   ]
  },
  {
   "cell_type": "code",
   "execution_count": 711,
   "metadata": {},
   "outputs": [],
   "source": [
    "data.price = data.price.apply(lambda x: float(x.replace(' ','')[:-1]))"
   ]
  },
  {
   "cell_type": "markdown",
   "metadata": {},
   "source": [
    "### price_per_m"
   ]
  },
  {
   "cell_type": "markdown",
   "metadata": {},
   "source": [
    "В данном проекте **prcie** наш таргет. Признак **price_per_m** коррелирует с коэффициентом 1. Предсказывать оба значения не вижу смысла, поэтому просто удалю признак **price_per_m**."
   ]
  },
  {
   "cell_type": "code",
   "execution_count": 712,
   "metadata": {},
   "outputs": [],
   "source": [
    "data.drop(['price_per_m'], axis=1, inplace=True)"
   ]
  },
  {
   "cell_type": "markdown",
   "metadata": {},
   "source": [
    "### build_matireal"
   ]
  },
  {
   "cell_type": "code",
   "execution_count": 713,
   "metadata": {},
   "outputs": [
    {
     "data": {
      "text/plain": [
       "Монолит    23736\n",
       "Кирпич     16348\n",
       "Панель      3410\n",
       "Блоки        221\n",
       "Дерево        17\n",
       "Name: build_matireal, dtype: int64"
      ]
     },
     "execution_count": 713,
     "metadata": {},
     "output_type": "execute_result"
    }
   ],
   "source": [
    "data.build_matireal.value_counts()"
   ]
  },
  {
   "cell_type": "markdown",
   "metadata": {},
   "source": [
    "Все хорошо, оставляем как есть."
   ]
  },
  {
   "cell_type": "markdown",
   "metadata": {},
   "source": [
    "### public_date, update_date"
   ]
  },
  {
   "cell_type": "markdown",
   "metadata": {},
   "source": [
    "Рассмотрю оба признака сразу.\n",
    "\n",
    "**public_date**\t- дата размещения объявления.\n",
    "\n",
    "**update_date** - дата последнего обновления объявления.\n",
    "\n",
    "Заменю два признака одним. Рассчитаю сколько дней висит объявление."
   ]
  },
  {
   "cell_type": "code",
   "execution_count": 714,
   "metadata": {},
   "outputs": [],
   "source": [
    "data.public_date = pd.to_datetime(data.public_date, dayfirst=True)\n",
    "data.update_date = pd.to_datetime(data.update_date, dayfirst=True)"
   ]
  },
  {
   "cell_type": "code",
   "execution_count": 715,
   "metadata": {},
   "outputs": [
    {
     "data": {
      "text/plain": [
       "0       2019-08-01\n",
       "1       2020-09-12\n",
       "2       2020-02-01\n",
       "3       2020-09-10\n",
       "4       2020-11-05\n",
       "           ...    \n",
       "43727   2020-12-12\n",
       "43728   2020-12-11\n",
       "43729   2020-11-11\n",
       "43730   2020-12-12\n",
       "43731   2020-10-06\n",
       "Name: public_date, Length: 43732, dtype: datetime64[ns]"
      ]
     },
     "execution_count": 715,
     "metadata": {},
     "output_type": "execute_result"
    }
   ],
   "source": [
    "data.public_date"
   ]
  },
  {
   "cell_type": "code",
   "execution_count": 716,
   "metadata": {},
   "outputs": [],
   "source": [
    "data['days_active'] = data['update_date'] - data['public_date']"
   ]
  },
  {
   "cell_type": "markdown",
   "metadata": {},
   "source": [
    "Удаляем оба признака."
   ]
  },
  {
   "cell_type": "code",
   "execution_count": 717,
   "metadata": {},
   "outputs": [],
   "source": [
    "data.drop(['public_date', 'update_date'], axis=1, inplace=True)"
   ]
  },
  {
   "cell_type": "markdown",
   "metadata": {},
   "source": [
    "### build_matireal"
   ]
  },
  {
   "cell_type": "code",
   "execution_count": 718,
   "metadata": {},
   "outputs": [
    {
     "data": {
      "text/plain": [
       "Монолит    23736\n",
       "Кирпич     16348\n",
       "Панель      3410\n",
       "Блоки        221\n",
       "Дерево        17\n",
       "Name: build_matireal, dtype: int64"
      ]
     },
     "execution_count": 718,
     "metadata": {},
     "output_type": "execute_result"
    }
   ],
   "source": [
    "data.build_matireal.value_counts()"
   ]
  },
  {
   "cell_type": "markdown",
   "metadata": {},
   "source": [
    "Все хорошо, оставляю как есть."
   ]
  },
  {
   "cell_type": "markdown",
   "metadata": {},
   "source": [
    "### catalog_id"
   ]
  },
  {
   "cell_type": "markdown",
   "metadata": {},
   "source": [
    "Уникальный номер объявления. Пока оставлю. Поэксперементирую с этим признаком при построении модели."
   ]
  },
  {
   "cell_type": "markdown",
   "metadata": {},
   "source": [
    "### district_rating"
   ]
  },
  {
   "cell_type": "code",
   "execution_count": 719,
   "metadata": {},
   "outputs": [
    {
     "data": {
      "text/plain": [
       "3,7    16928\n",
       "3,8     6216\n",
       "3,9     4894\n",
       "4,0     4088\n",
       "3,2     2825\n",
       "3,6     2652\n",
       "3,5     2384\n",
       "3,4     1406\n",
       "3,3     1202\n",
       "4,1     1137\n",
       "Name: district_rating, dtype: int64"
      ]
     },
     "execution_count": 719,
     "metadata": {},
     "output_type": "execute_result"
    }
   ],
   "source": [
    "data.district_rating.value_counts()"
   ]
  },
  {
   "cell_type": "markdown",
   "metadata": {},
   "source": [
    "Значений не так много. Оставлю признак категориальным."
   ]
  },
  {
   "cell_type": "markdown",
   "metadata": {},
   "source": [
    "### underground"
   ]
  },
  {
   "cell_type": "code",
   "execution_count": 720,
   "metadata": {},
   "outputs": [
    {
     "data": {
      "text/plain": [
       "Пролетарская 2.5 км,Пролетарская 2.5 км                        834\n",
       "Звездная 2.1 км,Звездная 2.1 км                                822\n",
       "Парнас 699 м,Парнас 699 м                                      747\n",
       "Академическая 3.3 км,Академическая 3.3 км                      673\n",
       "Комендантский проспект 4.0 км,Комендантский проспект 4.0 км    661\n",
       "                                                              ... \n",
       "Московская 47 м,Московская 47 м                                  1\n",
       "Проспект Ветеранов 447 м,Проспект Ветеранов 447 м                1\n",
       "Невский проспект 634 м,Невский проспект 634 м                    1\n",
       "Василеостровская 965 м,Василеостровская 965 м                    1\n",
       "Проспект Просвещения 464 м,Проспект Просвещения 464 м            1\n",
       "Name: underground, Length: 5631, dtype: int64"
      ]
     },
     "execution_count": 720,
     "metadata": {},
     "output_type": "execute_result"
    }
   ],
   "source": [
    "data.underground.value_counts()"
   ]
  },
  {
   "cell_type": "markdown",
   "metadata": {},
   "source": [
    "Сначала избавлю от повторов в строке."
   ]
  },
  {
   "cell_type": "code",
   "execution_count": 721,
   "metadata": {},
   "outputs": [
    {
     "data": {
      "text/plain": [
       "'Чернышевская 605 м'"
      ]
     },
     "execution_count": 721,
     "metadata": {},
     "output_type": "execute_result"
    }
   ],
   "source": [
    "data.underground.iloc[0].split(',')[0]"
   ]
  },
  {
   "cell_type": "code",
   "execution_count": 722,
   "metadata": {},
   "outputs": [],
   "source": [
    "data.underground = data.underground.apply(lambda x: x.split(',')[0] if type(x)==str else x)"
   ]
  },
  {
   "cell_type": "code",
   "execution_count": 723,
   "metadata": {},
   "outputs": [
    {
     "data": {
      "text/plain": [
       "0                   Чернышевская 605 м\n",
       "1                      Звездная 1.0 км\n",
       "2        Комендантский проспект 3.6 км\n",
       "3                       Обухово 1.0 км\n",
       "4                Площадь Ленина 2.8 км\n",
       "                     ...              \n",
       "43727                              NaN\n",
       "43728            Площадь Ленина 3.6 км\n",
       "43729         Лиговский проспект 877 м\n",
       "43730           Сосновая Поляна 4.8 км\n",
       "43731          Московские ворота 712 м\n",
       "Name: underground, Length: 43732, dtype: object"
      ]
     },
     "execution_count": 723,
     "metadata": {},
     "output_type": "execute_result"
    }
   ],
   "source": [
    "data.underground"
   ]
  },
  {
   "cell_type": "markdown",
   "metadata": {},
   "source": [
    "Признак содержит информацию о ближайшей станции метро или ж/д станции, если квартира находится в лен. области."
   ]
  },
  {
   "cell_type": "markdown",
   "metadata": {},
   "source": [
    "Убирем станции и переведем километры в метры."
   ]
  },
  {
   "cell_type": "code",
   "execution_count": 728,
   "metadata": {},
   "outputs": [],
   "source": [
    "data.underground = data.underground.apply(lambda x: float(x.split()[-2]) if type(x)==str and x.split()[-1]=='м' else \\\n",
    "                                         (float(x.split()[-2])*1000 if type(x)==str and x.split()[-1]=='км' else x))"
   ]
  },
  {
   "cell_type": "markdown",
   "metadata": {},
   "source": [
    "### total_floors"
   ]
  },
  {
   "cell_type": "code",
   "execution_count": 732,
   "metadata": {},
   "outputs": [
    {
     "data": {
      "text/plain": [
       "5     3503\n",
       "24    3184\n",
       "13    2976\n",
       "9     2892\n",
       "12    2848\n",
       "25    2778\n",
       "14    2281\n",
       "18    2273\n",
       "20    2029\n",
       "8     1846\n",
       "15    1736\n",
       "10    1569\n",
       "4     1563\n",
       "16    1496\n",
       "17    1356\n",
       "23    1275\n",
       "11    1267\n",
       "6     1230\n",
       "19    1212\n",
       "22    1049\n",
       "7      790\n",
       "21     667\n",
       "27     544\n",
       "26     446\n",
       "3      409\n",
       "29     244\n",
       "2      132\n",
       "28      89\n",
       "35      12\n",
       "32      11\n",
       "30      10\n",
       "1        7\n",
       "36       3\n",
       "34       2\n",
       "33       1\n",
       "55       1\n",
       "37       1\n",
       "Name: total_floors, dtype: int64"
      ]
     },
     "execution_count": 732,
     "metadata": {},
     "output_type": "execute_result"
    }
   ],
   "source": [
    "data.total_floors.value_counts()"
   ]
  },
  {
   "cell_type": "markdown",
   "metadata": {},
   "source": [
    "Все хорошо, оставляем как есть."
   ]
  },
  {
   "cell_type": "markdown",
   "metadata": {},
   "source": [
    "### days_active"
   ]
  },
  {
   "cell_type": "code",
   "execution_count": 734,
   "metadata": {},
   "outputs": [
    {
     "data": {
      "text/plain": [
       "0 days       6875\n",
       "30 days      1926\n",
       "1 days        799\n",
       "60 days       683\n",
       "31 days       669\n",
       "             ... \n",
       "1122 days       1\n",
       "1402 days       1\n",
       "936 days        1\n",
       "2158 days       1\n",
       "630 days        1\n",
       "Name: days_active, Length: 1202, dtype: int64"
      ]
     },
     "execution_count": 734,
     "metadata": {},
     "output_type": "execute_result"
    }
   ],
   "source": [
    "data.days_active.value_counts()"
   ]
  },
  {
   "cell_type": "markdown",
   "metadata": {},
   "source": [
    "Избавимся от days."
   ]
  },
  {
   "cell_type": "code",
   "execution_count": 739,
   "metadata": {},
   "outputs": [],
   "source": [
    "data.days_active = data.days_active.apply(lambda x: float(str(x).split()[0]))"
   ]
  },
  {
   "cell_type": "markdown",
   "metadata": {},
   "source": [
    "## CLEARED DATA"
   ]
  },
  {
   "cell_type": "code",
   "execution_count": 745,
   "metadata": {},
   "outputs": [
    {
     "data": {
      "text/html": [
       "<div>\n",
       "<style scoped>\n",
       "    .dataframe tbody tr th:only-of-type {\n",
       "        vertical-align: middle;\n",
       "    }\n",
       "\n",
       "    .dataframe tbody tr th {\n",
       "        vertical-align: top;\n",
       "    }\n",
       "\n",
       "    .dataframe thead th {\n",
       "        text-align: right;\n",
       "    }\n",
       "</style>\n",
       "<table border=\"1\" class=\"dataframe\">\n",
       "  <thead>\n",
       "    <tr style=\"text-align: right;\">\n",
       "      <th></th>\n",
       "      <th>page</th>\n",
       "      <th>flat_type</th>\n",
       "      <th>object_type</th>\n",
       "      <th>rooms</th>\n",
       "      <th>floors</th>\n",
       "      <th>square</th>\n",
       "      <th>kitchen_square</th>\n",
       "      <th>live_square</th>\n",
       "      <th>price</th>\n",
       "      <th>build_matireal</th>\n",
       "      <th>catalog_id</th>\n",
       "      <th>district_rating</th>\n",
       "      <th>underground</th>\n",
       "      <th>total_floors</th>\n",
       "      <th>days_active</th>\n",
       "    </tr>\n",
       "  </thead>\n",
       "  <tbody>\n",
       "    <tr>\n",
       "      <th>0</th>\n",
       "      <td>https://www.domofond.ru/4-komnatnaya-kvartira-...</td>\n",
       "      <td>Квартира</td>\n",
       "      <td>Новостройка</td>\n",
       "      <td>4</td>\n",
       "      <td>6</td>\n",
       "      <td>157.0</td>\n",
       "      <td>37.4</td>\n",
       "      <td>73.7</td>\n",
       "      <td>68923000.0</td>\n",
       "      <td>Монолит</td>\n",
       "      <td>1671457770</td>\n",
       "      <td>3,7</td>\n",
       "      <td>605.0</td>\n",
       "      <td>9</td>\n",
       "      <td>527.0</td>\n",
       "    </tr>\n",
       "    <tr>\n",
       "      <th>1</th>\n",
       "      <td>https://www.domofond.ru/2-komnatnaya-kvartira-...</td>\n",
       "      <td>Квартира</td>\n",
       "      <td>Новостройка</td>\n",
       "      <td>2</td>\n",
       "      <td>11</td>\n",
       "      <td>57.6</td>\n",
       "      <td>NaN</td>\n",
       "      <td>40.6</td>\n",
       "      <td>12729600.0</td>\n",
       "      <td>Монолит</td>\n",
       "      <td>2857061520</td>\n",
       "      <td>4,0</td>\n",
       "      <td>1000.0</td>\n",
       "      <td>12</td>\n",
       "      <td>119.0</td>\n",
       "    </tr>\n",
       "    <tr>\n",
       "      <th>2</th>\n",
       "      <td>https://www.domofond.ru/1-komnatnaya-kvartira-...</td>\n",
       "      <td>Квартира</td>\n",
       "      <td>Новостройка</td>\n",
       "      <td>1</td>\n",
       "      <td>18</td>\n",
       "      <td>48.8</td>\n",
       "      <td>NaN</td>\n",
       "      <td>NaN</td>\n",
       "      <td>8600012.0</td>\n",
       "      <td>Монолит</td>\n",
       "      <td>2269289168</td>\n",
       "      <td>3,9</td>\n",
       "      <td>3600.0</td>\n",
       "      <td>20</td>\n",
       "      <td>343.0</td>\n",
       "    </tr>\n",
       "    <tr>\n",
       "      <th>3</th>\n",
       "      <td>https://www.domofond.ru/3-komnatnaya-kvartira-...</td>\n",
       "      <td>Квартира</td>\n",
       "      <td>Вторичная</td>\n",
       "      <td>3</td>\n",
       "      <td>1</td>\n",
       "      <td>62.2</td>\n",
       "      <td>8.0</td>\n",
       "      <td>43.5</td>\n",
       "      <td>4700000.0</td>\n",
       "      <td>Панель</td>\n",
       "      <td>2852613956</td>\n",
       "      <td>3,6</td>\n",
       "      <td>1000.0</td>\n",
       "      <td>5</td>\n",
       "      <td>121.0</td>\n",
       "    </tr>\n",
       "    <tr>\n",
       "      <th>4</th>\n",
       "      <td>https://www.domofond.ru/1-komnatnaya-kvartira-...</td>\n",
       "      <td>Квартира</td>\n",
       "      <td>Вторичная</td>\n",
       "      <td>1</td>\n",
       "      <td>10</td>\n",
       "      <td>50.5</td>\n",
       "      <td>15.2</td>\n",
       "      <td>19.1</td>\n",
       "      <td>12500000.0</td>\n",
       "      <td>Монолит</td>\n",
       "      <td>2983774635</td>\n",
       "      <td>3,8</td>\n",
       "      <td>2800.0</td>\n",
       "      <td>14</td>\n",
       "      <td>65.0</td>\n",
       "    </tr>\n",
       "    <tr>\n",
       "      <th>...</th>\n",
       "      <td>...</td>\n",
       "      <td>...</td>\n",
       "      <td>...</td>\n",
       "      <td>...</td>\n",
       "      <td>...</td>\n",
       "      <td>...</td>\n",
       "      <td>...</td>\n",
       "      <td>...</td>\n",
       "      <td>...</td>\n",
       "      <td>...</td>\n",
       "      <td>...</td>\n",
       "      <td>...</td>\n",
       "      <td>...</td>\n",
       "      <td>...</td>\n",
       "      <td>...</td>\n",
       "    </tr>\n",
       "    <tr>\n",
       "      <th>43727</th>\n",
       "      <td>https://www.domofond.ru/2-komnatnaya-kvartira-...</td>\n",
       "      <td>Квартира</td>\n",
       "      <td>Вторичная</td>\n",
       "      <td>2</td>\n",
       "      <td>3</td>\n",
       "      <td>45.0</td>\n",
       "      <td>8.0</td>\n",
       "      <td>28.0</td>\n",
       "      <td>4300000.0</td>\n",
       "      <td>Кирпич</td>\n",
       "      <td>3070022846</td>\n",
       "      <td>3,7</td>\n",
       "      <td>NaN</td>\n",
       "      <td>9</td>\n",
       "      <td>22.0</td>\n",
       "    </tr>\n",
       "    <tr>\n",
       "      <th>43728</th>\n",
       "      <td>https://www.domofond.ru/3-komnatnaya-kvartira-...</td>\n",
       "      <td>Квартира</td>\n",
       "      <td>Вторичная</td>\n",
       "      <td>3</td>\n",
       "      <td>14</td>\n",
       "      <td>87.5</td>\n",
       "      <td>15.2</td>\n",
       "      <td>46.4</td>\n",
       "      <td>13505000.0</td>\n",
       "      <td>Монолит</td>\n",
       "      <td>3068198766</td>\n",
       "      <td>3,7</td>\n",
       "      <td>3600.0</td>\n",
       "      <td>17</td>\n",
       "      <td>0.0</td>\n",
       "    </tr>\n",
       "    <tr>\n",
       "      <th>43729</th>\n",
       "      <td>https://www.domofond.ru/1-komnatnaya-kvartira-...</td>\n",
       "      <td>Квартира</td>\n",
       "      <td>Вторичная</td>\n",
       "      <td>1</td>\n",
       "      <td>5</td>\n",
       "      <td>43.6</td>\n",
       "      <td>10.0</td>\n",
       "      <td>18.5</td>\n",
       "      <td>10990000.0</td>\n",
       "      <td>Монолит</td>\n",
       "      <td>2998569324</td>\n",
       "      <td>3,7</td>\n",
       "      <td>877.0</td>\n",
       "      <td>12</td>\n",
       "      <td>54.0</td>\n",
       "    </tr>\n",
       "    <tr>\n",
       "      <th>43730</th>\n",
       "      <td>https://www.domofond.ru/2-komnatnaya-kvartira-...</td>\n",
       "      <td>Квартира</td>\n",
       "      <td>Вторичная</td>\n",
       "      <td>2</td>\n",
       "      <td>18</td>\n",
       "      <td>66.0</td>\n",
       "      <td>11.0</td>\n",
       "      <td>35.0</td>\n",
       "      <td>7500000.0</td>\n",
       "      <td>Монолит</td>\n",
       "      <td>3070138034</td>\n",
       "      <td>3,8</td>\n",
       "      <td>4800.0</td>\n",
       "      <td>19</td>\n",
       "      <td>0.0</td>\n",
       "    </tr>\n",
       "    <tr>\n",
       "      <th>43731</th>\n",
       "      <td>https://www.domofond.ru/2-komnatnaya-kvartira-...</td>\n",
       "      <td>Квартира</td>\n",
       "      <td>Новостройка</td>\n",
       "      <td>2</td>\n",
       "      <td>2</td>\n",
       "      <td>61.7</td>\n",
       "      <td>10.3</td>\n",
       "      <td>32.5</td>\n",
       "      <td>10805225.0</td>\n",
       "      <td>Монолит</td>\n",
       "      <td>2910718912</td>\n",
       "      <td>4,0</td>\n",
       "      <td>712.0</td>\n",
       "      <td>8</td>\n",
       "      <td>57.0</td>\n",
       "    </tr>\n",
       "  </tbody>\n",
       "</table>\n",
       "<p>43732 rows × 15 columns</p>\n",
       "</div>"
      ],
      "text/plain": [
       "                                                    page flat_type  \\\n",
       "0      https://www.domofond.ru/4-komnatnaya-kvartira-...  Квартира   \n",
       "1      https://www.domofond.ru/2-komnatnaya-kvartira-...  Квартира   \n",
       "2      https://www.domofond.ru/1-komnatnaya-kvartira-...  Квартира   \n",
       "3      https://www.domofond.ru/3-komnatnaya-kvartira-...  Квартира   \n",
       "4      https://www.domofond.ru/1-komnatnaya-kvartira-...  Квартира   \n",
       "...                                                  ...       ...   \n",
       "43727  https://www.domofond.ru/2-komnatnaya-kvartira-...  Квартира   \n",
       "43728  https://www.domofond.ru/3-komnatnaya-kvartira-...  Квартира   \n",
       "43729  https://www.domofond.ru/1-komnatnaya-kvartira-...  Квартира   \n",
       "43730  https://www.domofond.ru/2-komnatnaya-kvartira-...  Квартира   \n",
       "43731  https://www.domofond.ru/2-komnatnaya-kvartira-...  Квартира   \n",
       "\n",
       "       object_type rooms floors  square  kitchen_square  live_square  \\\n",
       "0      Новостройка     4      6   157.0            37.4         73.7   \n",
       "1      Новостройка     2     11    57.6             NaN         40.6   \n",
       "2      Новостройка     1     18    48.8             NaN          NaN   \n",
       "3        Вторичная     3      1    62.2             8.0         43.5   \n",
       "4        Вторичная     1     10    50.5            15.2         19.1   \n",
       "...            ...   ...    ...     ...             ...          ...   \n",
       "43727    Вторичная     2      3    45.0             8.0         28.0   \n",
       "43728    Вторичная     3     14    87.5            15.2         46.4   \n",
       "43729    Вторичная     1      5    43.6            10.0         18.5   \n",
       "43730    Вторичная     2     18    66.0            11.0         35.0   \n",
       "43731  Новостройка     2      2    61.7            10.3         32.5   \n",
       "\n",
       "            price build_matireal  catalog_id district_rating  underground  \\\n",
       "0      68923000.0        Монолит  1671457770             3,7        605.0   \n",
       "1      12729600.0        Монолит  2857061520             4,0       1000.0   \n",
       "2       8600012.0        Монолит  2269289168             3,9       3600.0   \n",
       "3       4700000.0         Панель  2852613956             3,6       1000.0   \n",
       "4      12500000.0        Монолит  2983774635             3,8       2800.0   \n",
       "...           ...            ...         ...             ...          ...   \n",
       "43727   4300000.0         Кирпич  3070022846             3,7          NaN   \n",
       "43728  13505000.0        Монолит  3068198766             3,7       3600.0   \n",
       "43729  10990000.0        Монолит  2998569324             3,7        877.0   \n",
       "43730   7500000.0        Монолит  3070138034             3,8       4800.0   \n",
       "43731  10805225.0        Монолит  2910718912             4,0        712.0   \n",
       "\n",
       "      total_floors  days_active  \n",
       "0                9        527.0  \n",
       "1               12        119.0  \n",
       "2               20        343.0  \n",
       "3                5        121.0  \n",
       "4               14         65.0  \n",
       "...            ...          ...  \n",
       "43727            9         22.0  \n",
       "43728           17          0.0  \n",
       "43729           12         54.0  \n",
       "43730           19          0.0  \n",
       "43731            8         57.0  \n",
       "\n",
       "[43732 rows x 15 columns]"
      ]
     },
     "execution_count": 745,
     "metadata": {},
     "output_type": "execute_result"
    }
   ],
   "source": [
    "data"
   ]
  },
  {
   "cell_type": "code",
   "execution_count": 746,
   "metadata": {},
   "outputs": [
    {
     "name": "stdout",
     "output_type": "stream",
     "text": [
      "<class 'pandas.core.frame.DataFrame'>\n",
      "RangeIndex: 43732 entries, 0 to 43731\n",
      "Data columns (total 15 columns):\n",
      " #   Column           Non-Null Count  Dtype  \n",
      "---  ------           --------------  -----  \n",
      " 0   page             43732 non-null  object \n",
      " 1   flat_type        43732 non-null  object \n",
      " 2   object_type      43732 non-null  object \n",
      " 3   rooms            43732 non-null  object \n",
      " 4   floors           43732 non-null  object \n",
      " 5   square           43732 non-null  float64\n",
      " 6   kitchen_square   36669 non-null  float64\n",
      " 7   live_square      36879 non-null  float64\n",
      " 8   price            43732 non-null  float64\n",
      " 9   build_matireal   43732 non-null  object \n",
      " 10  catalog_id       43732 non-null  object \n",
      " 11  district_rating  43732 non-null  object \n",
      " 12  underground      41424 non-null  float64\n",
      " 13  total_floors     43732 non-null  object \n",
      " 14  days_active      43732 non-null  float64\n",
      "dtypes: float64(6), object(9)\n",
      "memory usage: 5.0+ MB\n"
     ]
    }
   ],
   "source": [
    "data.info()"
   ]
  },
  {
   "cell_type": "code",
   "execution_count": 748,
   "metadata": {},
   "outputs": [],
   "source": [
    "data.to_csv('data/flats.csv', index=False)"
   ]
  }
 ],
 "metadata": {
  "kernelspec": {
   "display_name": "Python 3",
   "language": "python",
   "name": "python3"
  },
  "language_info": {
   "codemirror_mode": {
    "name": "ipython",
    "version": 3
   },
   "file_extension": ".py",
   "mimetype": "text/x-python",
   "name": "python",
   "nbconvert_exporter": "python",
   "pygments_lexer": "ipython3",
   "version": "3.7.7"
  }
 },
 "nbformat": 4,
 "nbformat_minor": 4
}
